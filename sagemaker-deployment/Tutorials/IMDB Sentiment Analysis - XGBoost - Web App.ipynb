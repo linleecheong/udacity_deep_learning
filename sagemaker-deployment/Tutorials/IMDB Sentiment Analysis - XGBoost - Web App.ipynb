{
 "cells": [
  {
   "cell_type": "markdown",
   "metadata": {},
   "source": [
    "# Sentiment Analysis Web App\n",
    "\n",
    "_Deep Learning Nanodegree Program | Deployment_\n",
    "\n",
    "---\n",
    "\n",
    "In this notebook we will use Amazon's SageMaker service to construct a random tree model to predict the sentiment of a movie review. In addition, we will deploy this model to an endpoint and construct a very simple web app which will interact with our model's deployed endpoint.\n",
    "\n",
    "## General Outline\n",
    "\n",
    "Typically, when using a notebook instance with SageMaker, you will proceed through the following steps. Of course, not every step will need to be done with each project. Also, there is quite a lot of room for variation in many of the steps, as you will see throughout these lessons.\n",
    "\n",
    "1. Download or otherwise retrieve the data.\n",
    "2. Process / Prepare the data.\n",
    "3. Upload the processed data to S3.\n",
    "4. Train a chosen model.\n",
    "5. Test the trained model (typically using a batch transform job).\n",
    "6. Deploy the trained model.\n",
    "7. Use the deployed model.\n",
    "\n",
    "In this notebook we will progress through each of the steps above. We will also see that the final step, using the deployed model, can be quite challenging."
   ]
  },
  {
   "cell_type": "markdown",
   "metadata": {},
   "source": [
    "## Step 1: Downloading the data\n",
    "\n",
    "The dataset we are going to use is very popular among researchers in Natural Language Processing, usually referred to as the [IMDb dataset](http://ai.stanford.edu/~amaas/data/sentiment/). It consists of movie reviews from the website [imdb.com](http://www.imdb.com/), each labeled as either '**pos**itive', if the reviewer enjoyed the film, or '**neg**ative' otherwise.\n",
    "\n",
    "> Maas, Andrew L., et al. [Learning Word Vectors for Sentiment Analysis](http://ai.stanford.edu/~amaas/data/sentiment/). In _Proceedings of the 49th Annual Meeting of the Association for Computational Linguistics: Human Language Technologies_. Association for Computational Linguistics, 2011.\n",
    "\n",
    "We begin by using some Jupyter Notebook magic to download and extract the dataset."
   ]
  },
  {
   "cell_type": "code",
   "execution_count": 1,
   "metadata": {},
   "outputs": [
    {
     "name": "stdout",
     "output_type": "stream",
     "text": [
      "mkdir: cannot create directory ‘../data’: File exists\n",
      "--2019-06-11 18:00:31--  http://ai.stanford.edu/~amaas/data/sentiment/aclImdb_v1.tar.gz\n",
      "Resolving ai.stanford.edu (ai.stanford.edu)... 171.64.68.10\n",
      "Connecting to ai.stanford.edu (ai.stanford.edu)|171.64.68.10|:80... connected.\n",
      "HTTP request sent, awaiting response... 200 OK\n",
      "Length: 84125825 (80M) [application/x-gzip]\n",
      "Saving to: ‘../data/aclImdb_v1.tar.gz’\n",
      "\n",
      "../data/aclImdb_v1. 100%[===================>]  80.23M  33.3MB/s    in 2.4s    \n",
      "\n",
      "2019-06-11 18:00:33 (33.3 MB/s) - ‘../data/aclImdb_v1.tar.gz’ saved [84125825/84125825]\n",
      "\n"
     ]
    }
   ],
   "source": [
    "%mkdir ../data\n",
    "!wget -O ../data/aclImdb_v1.tar.gz http://ai.stanford.edu/~amaas/data/sentiment/aclImdb_v1.tar.gz\n",
    "!tar -zxf ../data/aclImdb_v1.tar.gz -C ../data"
   ]
  },
  {
   "cell_type": "markdown",
   "metadata": {},
   "source": [
    "## Step 2: Preparing and Processing the data\n",
    "\n",
    "The data we have downloaded is split into various files, each of which contains a single review. It will be much easier going forward if we combine these individual files into two large files, one for training and one for testing."
   ]
  },
  {
   "cell_type": "code",
   "execution_count": 2,
   "metadata": {},
   "outputs": [],
   "source": [
    "import os\n",
    "import glob\n",
    "\n",
    "def read_imdb_data(data_dir='../data/aclImdb'):\n",
    "    data = {}\n",
    "    labels = {}\n",
    "    \n",
    "    for data_type in ['train', 'test']:\n",
    "        data[data_type] = {}\n",
    "        labels[data_type] = {}\n",
    "        \n",
    "        for sentiment in ['pos', 'neg']:\n",
    "            data[data_type][sentiment] = []\n",
    "            labels[data_type][sentiment] = []\n",
    "            \n",
    "            path = os.path.join(data_dir, data_type, sentiment, '*.txt')\n",
    "            files = glob.glob(path)\n",
    "            \n",
    "            for f in files:\n",
    "                with open(f) as review:\n",
    "                    data[data_type][sentiment].append(review.read())\n",
    "                    # Here we represent a positive review by '1' and a negative review by '0'\n",
    "                    labels[data_type][sentiment].append(1 if sentiment == 'pos' else 0)\n",
    "                    \n",
    "            assert len(data[data_type][sentiment]) == len(labels[data_type][sentiment]), \\\n",
    "                    \"{}/{} data size does not match labels size\".format(data_type, sentiment)\n",
    "                \n",
    "    return data, labels"
   ]
  },
  {
   "cell_type": "code",
   "execution_count": 3,
   "metadata": {},
   "outputs": [
    {
     "name": "stdout",
     "output_type": "stream",
     "text": [
      "IMDB reviews: train = 12500 pos / 12500 neg, test = 12500 pos / 12500 neg\n"
     ]
    }
   ],
   "source": [
    "data, labels = read_imdb_data()\n",
    "print(\"IMDB reviews: train = {} pos / {} neg, test = {} pos / {} neg\".format(\n",
    "            len(data['train']['pos']), len(data['train']['neg']),\n",
    "            len(data['test']['pos']), len(data['test']['neg'])))"
   ]
  },
  {
   "cell_type": "code",
   "execution_count": 4,
   "metadata": {},
   "outputs": [],
   "source": [
    "from sklearn.utils import shuffle\n",
    "\n",
    "def prepare_imdb_data(data, labels):\n",
    "    \"\"\"Prepare training and test sets from IMDb movie reviews.\"\"\"\n",
    "    \n",
    "    #Combine positive and negative reviews and labels\n",
    "    data_train = data['train']['pos'] + data['train']['neg']\n",
    "    data_test = data['test']['pos'] + data['test']['neg']\n",
    "    labels_train = labels['train']['pos'] + labels['train']['neg']\n",
    "    labels_test = labels['test']['pos'] + labels['test']['neg']\n",
    "    \n",
    "    #Shuffle reviews and corresponding labels within training and test sets\n",
    "    data_train, labels_train = shuffle(data_train, labels_train)\n",
    "    data_test, labels_test = shuffle(data_test, labels_test)\n",
    "    \n",
    "    # Return a unified training data, test data, training labels, test labets\n",
    "    return data_train, data_test, labels_train, labels_test"
   ]
  },
  {
   "cell_type": "code",
   "execution_count": 5,
   "metadata": {},
   "outputs": [
    {
     "name": "stdout",
     "output_type": "stream",
     "text": [
      "IMDb reviews (combined): train = 25000, test = 25000\n"
     ]
    }
   ],
   "source": [
    "train_X, test_X, train_y, test_y = prepare_imdb_data(data, labels)\n",
    "print(\"IMDb reviews (combined): train = {}, test = {}\".format(len(train_X), len(test_X)))"
   ]
  },
  {
   "cell_type": "code",
   "execution_count": 6,
   "metadata": {},
   "outputs": [
    {
     "data": {
      "text/plain": [
       "\"I've found the movie offensive for Americans which lost somebody in the towers, for American people in general. Pretending to be an homage to horrible facts happened last years, each director takes the opportunity to polemize with old facts (which have none to do with a terrorist attack), or criticize American's political behaviour, or compare different political situation as they have in own country having this nothing to do or to share with the atrocity of September 11. Shame on them.\""
      ]
     },
     "execution_count": 6,
     "metadata": {},
     "output_type": "execute_result"
    }
   ],
   "source": [
    "train_X[100]"
   ]
  },
  {
   "cell_type": "markdown",
   "metadata": {},
   "source": [
    "## Processing the data\n",
    "\n",
    "Now that we have our training and testing datasets merged and ready to use, we need to start processing the raw data into something that will be useable by our machine learning algorithm. To begin with, we remove any html formatting and any non-alpha numeric characters that may appear in the reviews. We will do this in a very simplistic way using Python's regular expression module. We will discuss the reason for this rather simplistic pre-processing later on."
   ]
  },
  {
   "cell_type": "code",
   "execution_count": 7,
   "metadata": {},
   "outputs": [],
   "source": [
    "import re\n",
    "\n",
    "REPLACE_NO_SPACE = re.compile(\"(\\.)|(\\;)|(\\:)|(\\!)|(\\')|(\\?)|(\\,)|(\\\")|(\\()|(\\))|(\\[)|(\\])\")\n",
    "REPLACE_WITH_SPACE = re.compile(\"(<br\\s*/><br\\s*/>)|(\\-)|(\\/)\")\n",
    "\n",
    "def review_to_words(review):\n",
    "    words = REPLACE_NO_SPACE.sub(\"\", review.lower())\n",
    "    words = REPLACE_WITH_SPACE.sub(\" \", words)\n",
    "    return words"
   ]
  },
  {
   "cell_type": "code",
   "execution_count": 8,
   "metadata": {},
   "outputs": [
    {
     "data": {
      "text/plain": [
       "'ive found the movie offensive for americans which lost somebody in the towers for american people in general pretending to be an homage to horrible facts happened last years each director takes the opportunity to polemize with old facts which have none to do with a terrorist attack or criticize americans political behaviour or compare different political situation as they have in own country having this nothing to do or to share with the atrocity of september 11 shame on them'"
      ]
     },
     "execution_count": 8,
     "metadata": {},
     "output_type": "execute_result"
    }
   ],
   "source": [
    "review_to_words(train_X[100])"
   ]
  },
  {
   "cell_type": "code",
   "execution_count": 9,
   "metadata": {},
   "outputs": [],
   "source": [
    "import pickle\n",
    "\n",
    "cache_dir = os.path.join(\"../cache\", \"sentiment_web_app\")  # where to store cache files\n",
    "os.makedirs(cache_dir, exist_ok=True)  # ensure cache directory exists\n",
    "\n",
    "def preprocess_data(data_train, data_test, labels_train, labels_test,\n",
    "                    cache_dir=cache_dir, cache_file=\"preprocessed_data.pkl\"):\n",
    "    \"\"\"Convert each review to words; read from cache if available.\"\"\"\n",
    "\n",
    "    # If cache_file is not None, try to read from it first\n",
    "    cache_data = None\n",
    "    if cache_file is not None:\n",
    "        try:\n",
    "            with open(os.path.join(cache_dir, cache_file), \"rb\") as f:\n",
    "                cache_data = pickle.load(f)\n",
    "            print(\"Read preprocessed data from cache file:\", cache_file)\n",
    "        except:\n",
    "            pass  # unable to read from cache, but that's okay\n",
    "    \n",
    "    # If cache is missing, then do the heavy lifting\n",
    "    if cache_data is None:\n",
    "        # Preprocess training and test data to obtain words for each review\n",
    "        #words_train = list(map(review_to_words, data_train))\n",
    "        #words_test = list(map(review_to_words, data_test))\n",
    "        words_train = [review_to_words(review) for review in data_train]\n",
    "        words_test = [review_to_words(review) for review in data_test]\n",
    "        \n",
    "        # Write to cache file for future runs\n",
    "        if cache_file is not None:\n",
    "            cache_data = dict(words_train=words_train, words_test=words_test,\n",
    "                              labels_train=labels_train, labels_test=labels_test)\n",
    "            with open(os.path.join(cache_dir, cache_file), \"wb\") as f:\n",
    "                pickle.dump(cache_data, f)\n",
    "            print(\"Wrote preprocessed data to cache file:\", cache_file)\n",
    "    else:\n",
    "        # Unpack data loaded from cache file\n",
    "        words_train, words_test, labels_train, labels_test = (cache_data['words_train'],\n",
    "                cache_data['words_test'], cache_data['labels_train'], cache_data['labels_test'])\n",
    "    \n",
    "    return words_train, words_test, labels_train, labels_test"
   ]
  },
  {
   "cell_type": "code",
   "execution_count": 10,
   "metadata": {},
   "outputs": [
    {
     "name": "stdout",
     "output_type": "stream",
     "text": [
      "Read preprocessed data from cache file: preprocessed_data.pkl\n"
     ]
    }
   ],
   "source": [
    "# Preprocess data\n",
    "train_X, test_X, train_y, test_y = preprocess_data(train_X, test_X, train_y, test_y)"
   ]
  },
  {
   "cell_type": "markdown",
   "metadata": {},
   "source": [
    "### Extract Bag-of-Words features\n",
    "\n",
    "For the model we will be implementing, rather than using the reviews directly, we are going to transform each review into a Bag-of-Words feature representation. Keep in mind that 'in the wild' we will only have access to the training set so our transformer can only use the training set to construct a representation."
   ]
  },
  {
   "cell_type": "code",
   "execution_count": 11,
   "metadata": {},
   "outputs": [],
   "source": [
    "import numpy as np\n",
    "from sklearn.feature_extraction.text import CountVectorizer\n",
    "from sklearn.externals import joblib\n",
    "# joblib is an enhanced version of pickle that is more efficient for storing NumPy arrays\n",
    "\n",
    "def extract_BoW_features(words_train, words_test, vocabulary_size=5000,\n",
    "                         cache_dir=cache_dir, cache_file=\"bow_features.pkl\"):\n",
    "    \"\"\"Extract Bag-of-Words for a given set of documents, already preprocessed into words.\"\"\"\n",
    "    \n",
    "    # If cache_file is not None, try to read from it first\n",
    "    cache_data = None\n",
    "    if cache_file is not None:\n",
    "        try:\n",
    "            with open(os.path.join(cache_dir, cache_file), \"rb\") as f:\n",
    "                cache_data = joblib.load(f)\n",
    "            print(\"Read features from cache file:\", cache_file)\n",
    "        except:\n",
    "            pass  # unable to read from cache, but that's okay\n",
    "    \n",
    "    # If cache is missing, then do the heavy lifting\n",
    "    if cache_data is None:\n",
    "        # Fit a vectorizer to training documents and use it to transform them\n",
    "        # NOTE: Training documents have already been preprocessed and tokenized into words;\n",
    "        #       pass in dummy functions to skip those steps, e.g. preprocessor=lambda x: x\n",
    "        vectorizer = CountVectorizer(max_features=vocabulary_size)\n",
    "        features_train = vectorizer.fit_transform(words_train).toarray()\n",
    "\n",
    "        # Apply the same vectorizer to transform the test documents (ignore unknown words)\n",
    "        features_test = vectorizer.transform(words_test).toarray()\n",
    "        \n",
    "        # NOTE: Remember to convert the features using .toarray() for a compact representation\n",
    "        \n",
    "        # Write to cache file for future runs (store vocabulary as well)\n",
    "        if cache_file is not None:\n",
    "            vocabulary = vectorizer.vocabulary_\n",
    "            cache_data = dict(features_train=features_train, features_test=features_test,\n",
    "                             vocabulary=vocabulary)\n",
    "            with open(os.path.join(cache_dir, cache_file), \"wb\") as f:\n",
    "                joblib.dump(cache_data, f)\n",
    "            print(\"Wrote features to cache file:\", cache_file)\n",
    "    else:\n",
    "        # Unpack data loaded from cache file\n",
    "        features_train, features_test, vocabulary = (cache_data['features_train'],\n",
    "                cache_data['features_test'], cache_data['vocabulary'])\n",
    "    \n",
    "    # Return both the extracted features as well as the vocabulary\n",
    "    return features_train, features_test, vocabulary"
   ]
  },
  {
   "cell_type": "code",
   "execution_count": 12,
   "metadata": {},
   "outputs": [
    {
     "name": "stdout",
     "output_type": "stream",
     "text": [
      "Read features from cache file: bow_features.pkl\n"
     ]
    }
   ],
   "source": [
    "# Extract Bag of Words features for both training and test datasets\n",
    "train_X, test_X, vocabulary = extract_BoW_features(train_X, test_X)"
   ]
  },
  {
   "cell_type": "code",
   "execution_count": 13,
   "metadata": {},
   "outputs": [
    {
     "data": {
      "text/plain": [
       "5000"
      ]
     },
     "execution_count": 13,
     "metadata": {},
     "output_type": "execute_result"
    }
   ],
   "source": [
    "len(train_X[100])"
   ]
  },
  {
   "cell_type": "markdown",
   "metadata": {},
   "source": [
    "## Step 3: Upload data to S3\n",
    "\n",
    "Now that we have created the feature representation of our training (and testing) data, it is time to start setting up and using the XGBoost classifier provided by SageMaker.\n",
    "\n",
    "### Writing the datasets\n",
    "\n",
    "The XGBoost classifier that we will be using requires the dataset to be written to a file and stored using Amazon S3. To do this, we will start by splitting the training dataset into two parts, the data we will train the model with and a validation set. Then, we will write those datasets to a file locally and then upload the files to S3. In addition, we will write the test set to a file and upload that file to S3. This is so that we can use SageMakers Batch Transform functionality to test our model once we've fit it."
   ]
  },
  {
   "cell_type": "code",
   "execution_count": 14,
   "metadata": {},
   "outputs": [],
   "source": [
    "import pandas as pd\n",
    "\n",
    "# Earlier we shuffled the training dataset so to make things simple we can just assign\n",
    "# the first 10 000 reviews to the validation set and use the remaining reviews for training.\n",
    "val_X = pd.DataFrame(train_X[:10000])\n",
    "train_X = pd.DataFrame(train_X[10000:])\n",
    "\n",
    "val_y = pd.DataFrame(train_y[:10000])\n",
    "train_y = pd.DataFrame(train_y[10000:])"
   ]
  },
  {
   "cell_type": "markdown",
   "metadata": {},
   "source": [
    "The documentation for the XGBoost algorithm in SageMaker requires that the training and validation datasets should contain no headers or index and that the label should occur first for each sample.\n",
    "\n",
    "For more information about this and other algorithms, the SageMaker developer documentation can be found on __[Amazon's website.](https://docs.aws.amazon.com/sagemaker/latest/dg/)__"
   ]
  },
  {
   "cell_type": "code",
   "execution_count": 15,
   "metadata": {},
   "outputs": [],
   "source": [
    "# First we make sure that the local directory in which we'd like to store the training and validation csv files exists.\n",
    "data_dir = '../data/sentiment_web_app'\n",
    "if not os.path.exists(data_dir):\n",
    "    os.makedirs(data_dir)"
   ]
  },
  {
   "cell_type": "code",
   "execution_count": 16,
   "metadata": {},
   "outputs": [],
   "source": [
    "pd.DataFrame(test_X).to_csv(os.path.join(data_dir, 'test.csv'), header=False, index=False)\n",
    "\n",
    "pd.concat([val_y, val_X], axis=1).to_csv(os.path.join(data_dir, 'validation.csv'), header=False, index=False)\n",
    "pd.concat([train_y, train_X], axis=1).to_csv(os.path.join(data_dir, 'train.csv'), header=False, index=False)"
   ]
  },
  {
   "cell_type": "code",
   "execution_count": 17,
   "metadata": {},
   "outputs": [],
   "source": [
    "# To save a bit of memory we can set text_X, train_X, val_X, train_y and val_y to None.\n",
    "\n",
    "test_X = train_X = val_X = train_y = val_y = None"
   ]
  },
  {
   "cell_type": "markdown",
   "metadata": {},
   "source": [
    "### Uploading Training / Validation files to S3\n",
    "\n",
    "Amazon's S3 service allows us to store files that can be accessed by both the built-in training models such as the XGBoost model we will be using as well as custom models such as the one we will see a little later.\n",
    "\n",
    "For this and most other tasks we will be doing using SageMaker, there are two methods we could use. The first is to use the low level functionality of SageMaker which requires knowing each of the objects involved in the SageMaker environment. The second is to use the high level functionality in which certain choices have been made on the user's behalf. The low level approach benefits from allowing the user a great deal of flexibility while the high level approach makes development much quicker. For our purposes we will opt to use the high level approach although using the low-level approach is certainly an option.\n",
    "\n",
    "Recall the method `upload_data()` which is a member of the object representing our current SageMaker session. What this method does is upload the data to the default bucket (which is created if it does not exist) into the path described by the key_prefix variable. To see this for yourself, once you have uploaded the data files, go to the S3 console and look to see where the files have been uploaded.\n",
    "\n",
    "For additional resources, see the __[SageMaker API documentation](http://sagemaker.readthedocs.io/en/latest/)__ and in addition the __[SageMaker Developer Guide.](https://docs.aws.amazon.com/sagemaker/latest/dg/)__"
   ]
  },
  {
   "cell_type": "code",
   "execution_count": 18,
   "metadata": {},
   "outputs": [],
   "source": [
    "import sagemaker\n",
    "\n",
    "session = sagemaker.Session() # Store the current SageMaker session\n",
    "\n",
    "# S3 prefix (which folder will we use)\n",
    "prefix = 'sentiment-web-app'\n",
    "\n",
    "test_location = session.upload_data(os.path.join(data_dir, 'test.csv'), key_prefix=prefix)\n",
    "val_location = session.upload_data(os.path.join(data_dir, 'validation.csv'), key_prefix=prefix)\n",
    "train_location = session.upload_data(os.path.join(data_dir, 'train.csv'), key_prefix=prefix)"
   ]
  },
  {
   "cell_type": "markdown",
   "metadata": {},
   "source": [
    "## Step 4: Creating the XGBoost model\n",
    "\n",
    "Now that the data has been uploaded it is time to create the XGBoost model. To begin with, we need to do some setup. At this point it is worth discussing what a model is in SageMaker. It is easiest to think of a model of comprising three different objects in the SageMaker ecosystem, which interact with one another.\n",
    "\n",
    "- Model Artifacts\n",
    "- Training Code (Container)\n",
    "- Inference Code (Container)\n",
    "\n",
    "The Model Artifacts are what you might think of as the actual model itself. For example, if you were building a neural network, the model artifacts would be the weights of the various layers. In our case, for an XGBoost model, the artifacts are the actual trees that are created during training.\n",
    "\n",
    "The other two objects, the training code and the inference code are then used to manipulate the training artifacts. More precisely, the training code uses the training data that is provided and creates the model artifacts, while the inference code uses the model artifacts to make predictions on new data.\n",
    "\n",
    "The way that SageMaker runs the training and inference code is by making use of Docker containers. For now, think of a container as being a way of packaging code up so that dependencies aren't an issue."
   ]
  },
  {
   "cell_type": "code",
   "execution_count": 19,
   "metadata": {},
   "outputs": [],
   "source": [
    "from sagemaker import get_execution_role\n",
    "\n",
    "# Our current execution role is required when creating the model as the training\n",
    "# and inference code will need to access the model artifacts.\n",
    "role = get_execution_role()"
   ]
  },
  {
   "cell_type": "code",
   "execution_count": 20,
   "metadata": {},
   "outputs": [],
   "source": [
    "# We need to retrieve the location of the container which is provided by Amazon for using XGBoost.\n",
    "# As a matter of convenience, the training and inference code both use the same container.\n",
    "from sagemaker.amazon.amazon_estimator import get_image_uri\n",
    "\n",
    "container = get_image_uri(session.boto_region_name, 'xgboost')"
   ]
  },
  {
   "cell_type": "code",
   "execution_count": 21,
   "metadata": {},
   "outputs": [],
   "source": [
    "# First we create a SageMaker estimator object for our model.\n",
    "xgb = sagemaker.estimator.Estimator(container, # The location of the container we wish to use\n",
    "                                    role,                                    # What is our current IAM Role\n",
    "                                    train_instance_count=1,                  # How many compute instances\n",
    "                                    train_instance_type='ml.m4.xlarge',      # What kind of compute instances\n",
    "                                    output_path='s3://{}/{}/output'.format(session.default_bucket(), prefix),\n",
    "                                    sagemaker_session=session)\n",
    "\n",
    "# And then set the algorithm specific parameters.\n",
    "xgb.set_hyperparameters(max_depth=5,\n",
    "                        eta=0.2,\n",
    "                        gamma=4,\n",
    "                        min_child_weight=6,\n",
    "                        subsample=0.8,\n",
    "                        silent=0,\n",
    "                        objective='binary:logistic',\n",
    "                        early_stopping_rounds=10,\n",
    "                        num_round=500)"
   ]
  },
  {
   "cell_type": "markdown",
   "metadata": {},
   "source": [
    "### Fit the XGBoost model\n",
    "\n",
    "Now that our model has been set up we simply need to attach the training and validation datasets and then ask SageMaker to set up the computation."
   ]
  },
  {
   "cell_type": "code",
   "execution_count": 22,
   "metadata": {},
   "outputs": [],
   "source": [
    "s3_input_train = sagemaker.s3_input(s3_data=train_location, content_type='csv')\n",
    "s3_input_validation = sagemaker.s3_input(s3_data=val_location, content_type='csv')"
   ]
  },
  {
   "cell_type": "code",
   "execution_count": 23,
   "metadata": {},
   "outputs": [
    {
     "name": "stdout",
     "output_type": "stream",
     "text": [
      "2019-06-11 18:06:44 Starting - Starting the training job...\n",
      "2019-06-11 18:06:45 Starting - Launching requested ML instances......\n",
      "2019-06-11 18:07:47 Starting - Preparing the instances for training......\n",
      "2019-06-11 18:08:59 Downloading - Downloading input data...\n",
      "2019-06-11 18:09:20 Training - Downloading the training image.\n",
      "\u001b[31mArguments: train\u001b[0m\n",
      "\u001b[31m[2019-06-11:18:09:41:INFO] Running standalone xgboost training.\u001b[0m\n",
      "\u001b[31m[2019-06-11:18:09:41:INFO] File size need to be processed in the node: 238.5mb. Available memory size in the node: 8449.0mb\u001b[0m\n",
      "\u001b[31m[2019-06-11:18:09:41:INFO] Determined delimiter of CSV input is ','\u001b[0m\n",
      "\u001b[31m[18:09:41] S3DistributionType set as FullyReplicated\u001b[0m\n",
      "\u001b[31m[18:09:43] 15000x5000 matrix with 75000000 entries loaded from /opt/ml/input/data/train?format=csv&label_column=0&delimiter=,\u001b[0m\n",
      "\u001b[31m[2019-06-11:18:09:43:INFO] Determined delimiter of CSV input is ','\u001b[0m\n",
      "\u001b[31m[18:09:43] S3DistributionType set as FullyReplicated\u001b[0m\n",
      "\u001b[31m[18:09:44] 10000x5000 matrix with 50000000 entries loaded from /opt/ml/input/data/validation?format=csv&label_column=0&delimiter=,\u001b[0m\n",
      "\u001b[31m[18:09:47] src/tree/updater_prune.cc:74: tree pruning end, 1 roots, 46 extra nodes, 8 pruned nodes, max_depth=5\u001b[0m\n",
      "\u001b[31m[0]#011train-error:0.3056#011validation-error:0.3078\u001b[0m\n",
      "\u001b[31mMultiple eval metrics have been passed: 'validation-error' will be used for early stopping.\n",
      "\u001b[0m\n",
      "\u001b[31mWill train until validation-error hasn't improved in 10 rounds.\u001b[0m\n",
      "\u001b[31m[18:09:49] src/tree/updater_prune.cc:74: tree pruning end, 1 roots, 44 extra nodes, 6 pruned nodes, max_depth=5\u001b[0m\n",
      "\u001b[31m[1]#011train-error:0.286267#011validation-error:0.2964\u001b[0m\n",
      "\u001b[31m[18:09:50] src/tree/updater_prune.cc:74: tree pruning end, 1 roots, 34 extra nodes, 6 pruned nodes, max_depth=5\u001b[0m\n",
      "\u001b[31m[2]#011train-error:0.278267#011validation-error:0.2867\u001b[0m\n",
      "\u001b[31m[18:09:52] src/tree/updater_prune.cc:74: tree pruning end, 1 roots, 36 extra nodes, 8 pruned nodes, max_depth=5\u001b[0m\n",
      "\u001b[31m[3]#011train-error:0.265133#011validation-error:0.2762\u001b[0m\n",
      "\u001b[31m[18:09:53] src/tree/updater_prune.cc:74: tree pruning end, 1 roots, 30 extra nodes, 6 pruned nodes, max_depth=5\u001b[0m\n",
      "\u001b[31m[4]#011train-error:0.265133#011validation-error:0.2755\u001b[0m\n",
      "\u001b[31m[18:09:54] src/tree/updater_prune.cc:74: tree pruning end, 1 roots, 32 extra nodes, 12 pruned nodes, max_depth=5\u001b[0m\n",
      "\u001b[31m[5]#011train-error:0.258467#011validation-error:0.2736\u001b[0m\n",
      "\u001b[31m[18:09:55] src/tree/updater_prune.cc:74: tree pruning end, 1 roots, 36 extra nodes, 4 pruned nodes, max_depth=5\u001b[0m\n",
      "\u001b[31m[6]#011train-error:0.248467#011validation-error:0.2654\u001b[0m\n",
      "\u001b[31m[18:09:57] src/tree/updater_prune.cc:74: tree pruning end, 1 roots, 42 extra nodes, 2 pruned nodes, max_depth=5\u001b[0m\n",
      "\u001b[31m[7]#011train-error:0.240467#011validation-error:0.2605\u001b[0m\n",
      "\u001b[31m[18:09:58] src/tree/updater_prune.cc:74: tree pruning end, 1 roots, 40 extra nodes, 0 pruned nodes, max_depth=5\u001b[0m\n",
      "\u001b[31m[8]#011train-error:0.231533#011validation-error:0.2516\u001b[0m\n",
      "\u001b[31m[18:09:59] src/tree/updater_prune.cc:74: tree pruning end, 1 roots, 30 extra nodes, 8 pruned nodes, max_depth=5\u001b[0m\n",
      "\u001b[31m[9]#011train-error:0.225067#011validation-error:0.2427\u001b[0m\n",
      "\u001b[31m[18:10:00] src/tree/updater_prune.cc:74: tree pruning end, 1 roots, 34 extra nodes, 2 pruned nodes, max_depth=5\u001b[0m\n",
      "\u001b[31m[10]#011train-error:0.219533#011validation-error:0.2367\u001b[0m\n",
      "\u001b[31m[18:10:02] src/tree/updater_prune.cc:74: tree pruning end, 1 roots, 22 extra nodes, 12 pruned nodes, max_depth=5\u001b[0m\n",
      "\u001b[31m[11]#011train-error:0.214933#011validation-error:0.2338\u001b[0m\n",
      "\n",
      "2019-06-11 18:09:51 Training - Training image download completed. Training in progress.\u001b[31m[18:10:03] src/tree/updater_prune.cc:74: tree pruning end, 1 roots, 26 extra nodes, 12 pruned nodes, max_depth=5\u001b[0m\n",
      "\u001b[31m[12]#011train-error:0.2118#011validation-error:0.2313\u001b[0m\n",
      "\u001b[31m[18:10:04] src/tree/updater_prune.cc:74: tree pruning end, 1 roots, 40 extra nodes, 4 pruned nodes, max_depth=5\u001b[0m\n",
      "\u001b[31m[13]#011train-error:0.205733#011validation-error:0.2275\u001b[0m\n",
      "\u001b[31m[18:10:05] src/tree/updater_prune.cc:74: tree pruning end, 1 roots, 32 extra nodes, 10 pruned nodes, max_depth=5\u001b[0m\n",
      "\u001b[31m[14]#011train-error:0.2046#011validation-error:0.2242\u001b[0m\n",
      "\u001b[31m[18:10:07] src/tree/updater_prune.cc:74: tree pruning end, 1 roots, 16 extra nodes, 14 pruned nodes, max_depth=5\u001b[0m\n",
      "\u001b[31m[15]#011train-error:0.202#011validation-error:0.2213\u001b[0m\n",
      "\u001b[31m[18:10:08] src/tree/updater_prune.cc:74: tree pruning end, 1 roots, 26 extra nodes, 6 pruned nodes, max_depth=5\u001b[0m\n",
      "\u001b[31m[16]#011train-error:0.198#011validation-error:0.2181\u001b[0m\n",
      "\u001b[31m[18:10:09] src/tree/updater_prune.cc:74: tree pruning end, 1 roots, 34 extra nodes, 2 pruned nodes, max_depth=5\u001b[0m\n",
      "\u001b[31m[17]#011train-error:0.1944#011validation-error:0.2173\u001b[0m\n",
      "\u001b[31m[18:10:10] src/tree/updater_prune.cc:74: tree pruning end, 1 roots, 38 extra nodes, 4 pruned nodes, max_depth=5\u001b[0m\n",
      "\u001b[31m[18]#011train-error:0.190733#011validation-error:0.2169\u001b[0m\n",
      "\u001b[31m[18:10:12] src/tree/updater_prune.cc:74: tree pruning end, 1 roots, 18 extra nodes, 12 pruned nodes, max_depth=5\u001b[0m\n",
      "\u001b[31m[19]#011train-error:0.187733#011validation-error:0.2121\u001b[0m\n",
      "\u001b[31m[18:10:13] src/tree/updater_prune.cc:74: tree pruning end, 1 roots, 42 extra nodes, 4 pruned nodes, max_depth=5\u001b[0m\n",
      "\u001b[31m[20]#011train-error:0.1858#011validation-error:0.2112\u001b[0m\n",
      "\u001b[31m[18:10:14] src/tree/updater_prune.cc:74: tree pruning end, 1 roots, 36 extra nodes, 10 pruned nodes, max_depth=5\u001b[0m\n",
      "\u001b[31m[21]#011train-error:0.180533#011validation-error:0.2085\u001b[0m\n",
      "\u001b[31m[18:10:16] src/tree/updater_prune.cc:74: tree pruning end, 1 roots, 24 extra nodes, 8 pruned nodes, max_depth=5\u001b[0m\n",
      "\u001b[31m[22]#011train-error:0.1802#011validation-error:0.2045\u001b[0m\n",
      "\u001b[31m[18:10:17] src/tree/updater_prune.cc:74: tree pruning end, 1 roots, 30 extra nodes, 18 pruned nodes, max_depth=5\u001b[0m\n",
      "\u001b[31m[23]#011train-error:0.177533#011validation-error:0.204\u001b[0m\n",
      "\u001b[31m[18:10:18] src/tree/updater_prune.cc:74: tree pruning end, 1 roots, 28 extra nodes, 12 pruned nodes, max_depth=5\u001b[0m\n",
      "\u001b[31m[24]#011train-error:0.174267#011validation-error:0.2011\u001b[0m\n",
      "\u001b[31m[18:10:19] src/tree/updater_prune.cc:74: tree pruning end, 1 roots, 16 extra nodes, 16 pruned nodes, max_depth=5\u001b[0m\n",
      "\u001b[31m[25]#011train-error:0.173333#011validation-error:0.1986\u001b[0m\n",
      "\u001b[31m[18:10:21] src/tree/updater_prune.cc:74: tree pruning end, 1 roots, 30 extra nodes, 4 pruned nodes, max_depth=5\u001b[0m\n",
      "\u001b[31m[26]#011train-error:0.171333#011validation-error:0.1982\u001b[0m\n",
      "\u001b[31m[18:10:22] src/tree/updater_prune.cc:74: tree pruning end, 1 roots, 16 extra nodes, 6 pruned nodes, max_depth=5\u001b[0m\n",
      "\u001b[31m[27]#011train-error:0.168733#011validation-error:0.1967\u001b[0m\n",
      "\u001b[31m[18:10:23] src/tree/updater_prune.cc:74: tree pruning end, 1 roots, 24 extra nodes, 8 pruned nodes, max_depth=5\u001b[0m\n",
      "\u001b[31m[28]#011train-error:0.167133#011validation-error:0.1955\u001b[0m\n",
      "\u001b[31m[18:10:24] src/tree/updater_prune.cc:74: tree pruning end, 1 roots, 30 extra nodes, 8 pruned nodes, max_depth=5\u001b[0m\n",
      "\u001b[31m[29]#011train-error:0.165333#011validation-error:0.1939\u001b[0m\n",
      "\u001b[31m[18:10:26] src/tree/updater_prune.cc:74: tree pruning end, 1 roots, 26 extra nodes, 4 pruned nodes, max_depth=5\u001b[0m\n",
      "\u001b[31m[30]#011train-error:0.164533#011validation-error:0.1932\u001b[0m\n",
      "\u001b[31m[18:10:27] src/tree/updater_prune.cc:74: tree pruning end, 1 roots, 24 extra nodes, 6 pruned nodes, max_depth=5\u001b[0m\n",
      "\u001b[31m[31]#011train-error:0.163133#011validation-error:0.1921\u001b[0m\n",
      "\u001b[31m[18:10:28] src/tree/updater_prune.cc:74: tree pruning end, 1 roots, 28 extra nodes, 12 pruned nodes, max_depth=5\u001b[0m\n",
      "\u001b[31m[32]#011train-error:0.161733#011validation-error:0.1905\u001b[0m\n",
      "\u001b[31m[18:10:30] src/tree/updater_prune.cc:74: tree pruning end, 1 roots, 32 extra nodes, 14 pruned nodes, max_depth=5\u001b[0m\n",
      "\u001b[31m[33]#011train-error:0.161067#011validation-error:0.1888\u001b[0m\n",
      "\u001b[31m[18:10:31] src/tree/updater_prune.cc:74: tree pruning end, 1 roots, 26 extra nodes, 14 pruned nodes, max_depth=5\u001b[0m\n",
      "\u001b[31m[34]#011train-error:0.159467#011validation-error:0.1891\u001b[0m\n",
      "\u001b[31m[18:10:32] src/tree/updater_prune.cc:74: tree pruning end, 1 roots, 22 extra nodes, 2 pruned nodes, max_depth=5\u001b[0m\n",
      "\u001b[31m[35]#011train-error:0.1592#011validation-error:0.1874\u001b[0m\n",
      "\u001b[31m[18:10:33] src/tree/updater_prune.cc:74: tree pruning end, 1 roots, 26 extra nodes, 12 pruned nodes, max_depth=5\u001b[0m\n",
      "\u001b[31m[36]#011train-error:0.1586#011validation-error:0.1866\u001b[0m\n",
      "\u001b[31m[18:10:35] src/tree/updater_prune.cc:74: tree pruning end, 1 roots, 26 extra nodes, 8 pruned nodes, max_depth=5\u001b[0m\n",
      "\u001b[31m[37]#011train-error:0.157067#011validation-error:0.1856\u001b[0m\n",
      "\u001b[31m[18:10:36] src/tree/updater_prune.cc:74: tree pruning end, 1 roots, 22 extra nodes, 8 pruned nodes, max_depth=5\u001b[0m\n",
      "\u001b[31m[38]#011train-error:0.154533#011validation-error:0.1843\u001b[0m\n",
      "\u001b[31m[18:10:37] src/tree/updater_prune.cc:74: tree pruning end, 1 roots, 32 extra nodes, 6 pruned nodes, max_depth=5\u001b[0m\n",
      "\u001b[31m[39]#011train-error:0.152533#011validation-error:0.1864\u001b[0m\n"
     ]
    },
    {
     "name": "stdout",
     "output_type": "stream",
     "text": [
      "\u001b[31m[18:10:38] src/tree/updater_prune.cc:74: tree pruning end, 1 roots, 16 extra nodes, 6 pruned nodes, max_depth=5\u001b[0m\n",
      "\u001b[31m[40]#011train-error:0.1524#011validation-error:0.1844\u001b[0m\n",
      "\u001b[31m[18:10:40] src/tree/updater_prune.cc:74: tree pruning end, 1 roots, 20 extra nodes, 6 pruned nodes, max_depth=5\u001b[0m\n",
      "\u001b[31m[41]#011train-error:0.151667#011validation-error:0.1825\u001b[0m\n",
      "\u001b[31m[18:10:41] src/tree/updater_prune.cc:74: tree pruning end, 1 roots, 26 extra nodes, 12 pruned nodes, max_depth=5\u001b[0m\n",
      "\u001b[31m[42]#011train-error:0.1492#011validation-error:0.1802\u001b[0m\n",
      "\u001b[31m[18:10:42] src/tree/updater_prune.cc:74: tree pruning end, 1 roots, 24 extra nodes, 6 pruned nodes, max_depth=5\u001b[0m\n",
      "\u001b[31m[43]#011train-error:0.1486#011validation-error:0.1805\u001b[0m\n",
      "\u001b[31m[18:10:43] src/tree/updater_prune.cc:74: tree pruning end, 1 roots, 26 extra nodes, 6 pruned nodes, max_depth=5\u001b[0m\n",
      "\u001b[31m[44]#011train-error:0.1474#011validation-error:0.1794\u001b[0m\n",
      "\u001b[31m[18:10:45] src/tree/updater_prune.cc:74: tree pruning end, 1 roots, 20 extra nodes, 8 pruned nodes, max_depth=5\u001b[0m\n",
      "\u001b[31m[45]#011train-error:0.145933#011validation-error:0.1794\u001b[0m\n",
      "\u001b[31m[18:10:46] src/tree/updater_prune.cc:74: tree pruning end, 1 roots, 24 extra nodes, 8 pruned nodes, max_depth=5\u001b[0m\n",
      "\u001b[31m[46]#011train-error:0.145333#011validation-error:0.1796\u001b[0m\n",
      "\u001b[31m[18:10:47] src/tree/updater_prune.cc:74: tree pruning end, 1 roots, 14 extra nodes, 6 pruned nodes, max_depth=5\u001b[0m\n",
      "\u001b[31m[47]#011train-error:0.144733#011validation-error:0.1809\u001b[0m\n",
      "\u001b[31m[18:10:48] src/tree/updater_prune.cc:74: tree pruning end, 1 roots, 18 extra nodes, 16 pruned nodes, max_depth=5\u001b[0m\n",
      "\u001b[31m[48]#011train-error:0.1424#011validation-error:0.1789\u001b[0m\n",
      "\u001b[31m[18:10:50] src/tree/updater_prune.cc:74: tree pruning end, 1 roots, 24 extra nodes, 6 pruned nodes, max_depth=5\u001b[0m\n",
      "\u001b[31m[49]#011train-error:0.140933#011validation-error:0.1782\u001b[0m\n",
      "\u001b[31m[18:10:51] src/tree/updater_prune.cc:74: tree pruning end, 1 roots, 20 extra nodes, 8 pruned nodes, max_depth=5\u001b[0m\n",
      "\u001b[31m[50]#011train-error:0.140267#011validation-error:0.1785\u001b[0m\n",
      "\u001b[31m[18:10:52] src/tree/updater_prune.cc:74: tree pruning end, 1 roots, 30 extra nodes, 4 pruned nodes, max_depth=5\u001b[0m\n",
      "\u001b[31m[51]#011train-error:0.139533#011validation-error:0.1754\u001b[0m\n",
      "\u001b[31m[18:10:53] src/tree/updater_prune.cc:74: tree pruning end, 1 roots, 24 extra nodes, 4 pruned nodes, max_depth=5\u001b[0m\n",
      "\u001b[31m[52]#011train-error:0.1374#011validation-error:0.1755\u001b[0m\n",
      "\u001b[31m[18:10:55] src/tree/updater_prune.cc:74: tree pruning end, 1 roots, 22 extra nodes, 8 pruned nodes, max_depth=5\u001b[0m\n",
      "\u001b[31m[53]#011train-error:0.136667#011validation-error:0.1746\u001b[0m\n",
      "\u001b[31m[18:10:56] src/tree/updater_prune.cc:74: tree pruning end, 1 roots, 30 extra nodes, 8 pruned nodes, max_depth=5\u001b[0m\n",
      "\u001b[31m[54]#011train-error:0.1358#011validation-error:0.1735\u001b[0m\n",
      "\u001b[31m[18:10:57] src/tree/updater_prune.cc:74: tree pruning end, 1 roots, 24 extra nodes, 10 pruned nodes, max_depth=5\u001b[0m\n",
      "\u001b[31m[55]#011train-error:0.133867#011validation-error:0.1728\u001b[0m\n",
      "\u001b[31m[18:10:58] src/tree/updater_prune.cc:74: tree pruning end, 1 roots, 18 extra nodes, 2 pruned nodes, max_depth=5\u001b[0m\n",
      "\u001b[31m[56]#011train-error:0.1334#011validation-error:0.1717\u001b[0m\n",
      "\u001b[31m[18:11:00] src/tree/updater_prune.cc:74: tree pruning end, 1 roots, 14 extra nodes, 2 pruned nodes, max_depth=5\u001b[0m\n",
      "\u001b[31m[57]#011train-error:0.132267#011validation-error:0.1712\u001b[0m\n",
      "\u001b[31m[18:11:01] src/tree/updater_prune.cc:74: tree pruning end, 1 roots, 22 extra nodes, 8 pruned nodes, max_depth=5\u001b[0m\n",
      "\u001b[31m[58]#011train-error:0.131333#011validation-error:0.1711\u001b[0m\n",
      "\u001b[31m[18:11:02] src/tree/updater_prune.cc:74: tree pruning end, 1 roots, 12 extra nodes, 6 pruned nodes, max_depth=5\u001b[0m\n",
      "\u001b[31m[59]#011train-error:0.130467#011validation-error:0.1709\u001b[0m\n",
      "\u001b[31m[18:11:03] src/tree/updater_prune.cc:74: tree pruning end, 1 roots, 28 extra nodes, 10 pruned nodes, max_depth=5\u001b[0m\n",
      "\u001b[31m[60]#011train-error:0.1296#011validation-error:0.1705\u001b[0m\n",
      "\u001b[31m[18:11:05] src/tree/updater_prune.cc:74: tree pruning end, 1 roots, 24 extra nodes, 10 pruned nodes, max_depth=5\u001b[0m\n",
      "\u001b[31m[61]#011train-error:0.127933#011validation-error:0.1688\u001b[0m\n",
      "\u001b[31m[18:11:06] src/tree/updater_prune.cc:74: tree pruning end, 1 roots, 18 extra nodes, 8 pruned nodes, max_depth=5\u001b[0m\n",
      "\u001b[31m[62]#011train-error:0.127533#011validation-error:0.1684\u001b[0m\n",
      "\u001b[31m[18:11:07] src/tree/updater_prune.cc:74: tree pruning end, 1 roots, 18 extra nodes, 8 pruned nodes, max_depth=5\u001b[0m\n",
      "\u001b[31m[63]#011train-error:0.125933#011validation-error:0.1676\u001b[0m\n",
      "\u001b[31m[18:11:08] src/tree/updater_prune.cc:74: tree pruning end, 1 roots, 40 extra nodes, 4 pruned nodes, max_depth=5\u001b[0m\n",
      "\u001b[31m[64]#011train-error:0.124933#011validation-error:0.1669\u001b[0m\n",
      "\u001b[31m[18:11:10] src/tree/updater_prune.cc:74: tree pruning end, 1 roots, 26 extra nodes, 12 pruned nodes, max_depth=5\u001b[0m\n",
      "\u001b[31m[65]#011train-error:0.124267#011validation-error:0.1651\u001b[0m\n",
      "\u001b[31m[18:11:11] src/tree/updater_prune.cc:74: tree pruning end, 1 roots, 16 extra nodes, 10 pruned nodes, max_depth=5\u001b[0m\n",
      "\u001b[31m[66]#011train-error:0.122867#011validation-error:0.1637\u001b[0m\n",
      "\u001b[31m[18:11:12] src/tree/updater_prune.cc:74: tree pruning end, 1 roots, 14 extra nodes, 10 pruned nodes, max_depth=5\u001b[0m\n",
      "\u001b[31m[67]#011train-error:0.1228#011validation-error:0.164\u001b[0m\n",
      "\u001b[31m[18:11:13] src/tree/updater_prune.cc:74: tree pruning end, 1 roots, 16 extra nodes, 14 pruned nodes, max_depth=5\u001b[0m\n",
      "\u001b[31m[68]#011train-error:0.122533#011validation-error:0.1628\u001b[0m\n",
      "\u001b[31m[18:11:15] src/tree/updater_prune.cc:74: tree pruning end, 1 roots, 14 extra nodes, 6 pruned nodes, max_depth=5\u001b[0m\n",
      "\u001b[31m[69]#011train-error:0.1222#011validation-error:0.1629\u001b[0m\n",
      "\u001b[31m[18:11:16] src/tree/updater_prune.cc:74: tree pruning end, 1 roots, 16 extra nodes, 10 pruned nodes, max_depth=5\u001b[0m\n",
      "\u001b[31m[70]#011train-error:0.121533#011validation-error:0.1628\u001b[0m\n",
      "\u001b[31m[18:11:17] src/tree/updater_prune.cc:74: tree pruning end, 1 roots, 22 extra nodes, 0 pruned nodes, max_depth=5\u001b[0m\n",
      "\u001b[31m[71]#011train-error:0.121067#011validation-error:0.1628\u001b[0m\n",
      "\u001b[31m[18:11:18] src/tree/updater_prune.cc:74: tree pruning end, 1 roots, 26 extra nodes, 8 pruned nodes, max_depth=5\u001b[0m\n",
      "\u001b[31m[72]#011train-error:0.119467#011validation-error:0.1622\u001b[0m\n",
      "\u001b[31m[18:11:20] src/tree/updater_prune.cc:74: tree pruning end, 1 roots, 14 extra nodes, 6 pruned nodes, max_depth=5\u001b[0m\n",
      "\u001b[31m[73]#011train-error:0.1192#011validation-error:0.1622\u001b[0m\n",
      "\u001b[31m[18:11:21] src/tree/updater_prune.cc:74: tree pruning end, 1 roots, 16 extra nodes, 2 pruned nodes, max_depth=5\u001b[0m\n",
      "\u001b[31m[74]#011train-error:0.117933#011validation-error:0.1607\u001b[0m\n",
      "\u001b[31m[18:11:22] src/tree/updater_prune.cc:74: tree pruning end, 1 roots, 16 extra nodes, 16 pruned nodes, max_depth=5\u001b[0m\n",
      "\u001b[31m[75]#011train-error:0.1172#011validation-error:0.1604\u001b[0m\n",
      "\u001b[31m[18:11:23] src/tree/updater_prune.cc:74: tree pruning end, 1 roots, 22 extra nodes, 12 pruned nodes, max_depth=5\u001b[0m\n",
      "\u001b[31m[76]#011train-error:0.116733#011validation-error:0.1596\u001b[0m\n",
      "\u001b[31m[18:11:25] src/tree/updater_prune.cc:74: tree pruning end, 1 roots, 18 extra nodes, 6 pruned nodes, max_depth=5\u001b[0m\n",
      "\u001b[31m[77]#011train-error:0.115733#011validation-error:0.1595\u001b[0m\n",
      "\u001b[31m[18:11:26] src/tree/updater_prune.cc:74: tree pruning end, 1 roots, 22 extra nodes, 10 pruned nodes, max_depth=5\u001b[0m\n",
      "\u001b[31m[78]#011train-error:0.114933#011validation-error:0.1595\u001b[0m\n",
      "\u001b[31m[18:11:27] src/tree/updater_prune.cc:74: tree pruning end, 1 roots, 14 extra nodes, 0 pruned nodes, max_depth=5\u001b[0m\n",
      "\u001b[31m[79]#011train-error:0.115133#011validation-error:0.159\u001b[0m\n",
      "\u001b[31m[18:11:28] src/tree/updater_prune.cc:74: tree pruning end, 1 roots, 12 extra nodes, 4 pruned nodes, max_depth=5\u001b[0m\n",
      "\u001b[31m[80]#011train-error:0.114733#011validation-error:0.1587\u001b[0m\n",
      "\u001b[31m[18:11:30] src/tree/updater_prune.cc:74: tree pruning end, 1 roots, 24 extra nodes, 10 pruned nodes, max_depth=5\u001b[0m\n",
      "\u001b[31m[81]#011train-error:0.114267#011validation-error:0.1592\u001b[0m\n",
      "\u001b[31m[18:11:31] src/tree/updater_prune.cc:74: tree pruning end, 1 roots, 36 extra nodes, 16 pruned nodes, max_depth=5\u001b[0m\n",
      "\u001b[31m[82]#011train-error:0.112867#011validation-error:0.157\u001b[0m\n",
      "\u001b[31m[18:11:32] src/tree/updater_prune.cc:74: tree pruning end, 1 roots, 26 extra nodes, 6 pruned nodes, max_depth=5\u001b[0m\n",
      "\u001b[31m[83]#011train-error:0.111867#011validation-error:0.1562\u001b[0m\n",
      "\u001b[31m[18:11:33] src/tree/updater_prune.cc:74: tree pruning end, 1 roots, 14 extra nodes, 4 pruned nodes, max_depth=5\u001b[0m\n",
      "\u001b[31m[84]#011train-error:0.111933#011validation-error:0.1565\u001b[0m\n",
      "\u001b[31m[18:11:35] src/tree/updater_prune.cc:74: tree pruning end, 1 roots, 10 extra nodes, 16 pruned nodes, max_depth=5\u001b[0m\n",
      "\u001b[31m[85]#011train-error:0.1116#011validation-error:0.1558\u001b[0m\n",
      "\u001b[31m[18:11:36] src/tree/updater_prune.cc:74: tree pruning end, 1 roots, 18 extra nodes, 4 pruned nodes, max_depth=5\u001b[0m\n",
      "\u001b[31m[86]#011train-error:0.109867#011validation-error:0.1557\u001b[0m\n",
      "\u001b[31m[18:11:37] src/tree/updater_prune.cc:74: tree pruning end, 1 roots, 26 extra nodes, 8 pruned nodes, max_depth=5\u001b[0m\n",
      "\u001b[31m[87]#011train-error:0.11#011validation-error:0.1566\u001b[0m\n"
     ]
    },
    {
     "name": "stdout",
     "output_type": "stream",
     "text": [
      "\u001b[31m[18:11:38] src/tree/updater_prune.cc:74: tree pruning end, 1 roots, 16 extra nodes, 6 pruned nodes, max_depth=5\u001b[0m\n",
      "\u001b[31m[88]#011train-error:0.109#011validation-error:0.1566\u001b[0m\n",
      "\u001b[31m[18:11:40] src/tree/updater_prune.cc:74: tree pruning end, 1 roots, 14 extra nodes, 4 pruned nodes, max_depth=5\u001b[0m\n",
      "\u001b[31m[89]#011train-error:0.107667#011validation-error:0.156\u001b[0m\n",
      "\u001b[31m[18:11:41] src/tree/updater_prune.cc:74: tree pruning end, 1 roots, 28 extra nodes, 6 pruned nodes, max_depth=5\u001b[0m\n",
      "\u001b[31m[90]#011train-error:0.1068#011validation-error:0.1568\u001b[0m\n",
      "\u001b[31m[18:11:42] src/tree/updater_prune.cc:74: tree pruning end, 1 roots, 12 extra nodes, 8 pruned nodes, max_depth=5\u001b[0m\n",
      "\u001b[31m[91]#011train-error:0.1072#011validation-error:0.1564\u001b[0m\n",
      "\u001b[31m[18:11:43] src/tree/updater_prune.cc:74: tree pruning end, 1 roots, 26 extra nodes, 10 pruned nodes, max_depth=5\u001b[0m\n",
      "\u001b[31m[92]#011train-error:0.1064#011validation-error:0.1559\u001b[0m\n",
      "\u001b[31m[18:11:45] src/tree/updater_prune.cc:74: tree pruning end, 1 roots, 18 extra nodes, 4 pruned nodes, max_depth=5\u001b[0m\n",
      "\u001b[31m[93]#011train-error:0.106267#011validation-error:0.1548\u001b[0m\n",
      "\u001b[31m[18:11:46] src/tree/updater_prune.cc:74: tree pruning end, 1 roots, 16 extra nodes, 12 pruned nodes, max_depth=5\u001b[0m\n",
      "\u001b[31m[94]#011train-error:0.1058#011validation-error:0.1562\u001b[0m\n",
      "\u001b[31m[18:11:47] src/tree/updater_prune.cc:74: tree pruning end, 1 roots, 22 extra nodes, 18 pruned nodes, max_depth=5\u001b[0m\n",
      "\u001b[31m[95]#011train-error:0.105333#011validation-error:0.1569\u001b[0m\n",
      "\u001b[31m[18:11:48] src/tree/updater_prune.cc:74: tree pruning end, 1 roots, 22 extra nodes, 12 pruned nodes, max_depth=5\u001b[0m\n",
      "\u001b[31m[96]#011train-error:0.105267#011validation-error:0.1562\u001b[0m\n",
      "\u001b[31m[18:11:50] src/tree/updater_prune.cc:74: tree pruning end, 1 roots, 18 extra nodes, 10 pruned nodes, max_depth=5\u001b[0m\n",
      "\u001b[31m[97]#011train-error:0.104533#011validation-error:0.1567\u001b[0m\n",
      "\u001b[31m[18:11:51] src/tree/updater_prune.cc:74: tree pruning end, 1 roots, 10 extra nodes, 8 pruned nodes, max_depth=5\u001b[0m\n",
      "\u001b[31m[98]#011train-error:0.103867#011validation-error:0.1562\u001b[0m\n",
      "\u001b[31m[18:11:52] src/tree/updater_prune.cc:74: tree pruning end, 1 roots, 30 extra nodes, 10 pruned nodes, max_depth=5\u001b[0m\n",
      "\u001b[31m[99]#011train-error:0.103667#011validation-error:0.1554\u001b[0m\n",
      "\u001b[31m[18:11:53] src/tree/updater_prune.cc:74: tree pruning end, 1 roots, 20 extra nodes, 10 pruned nodes, max_depth=5\u001b[0m\n",
      "\u001b[31m[100]#011train-error:0.103467#011validation-error:0.1548\u001b[0m\n",
      "\u001b[31m[18:11:55] src/tree/updater_prune.cc:74: tree pruning end, 1 roots, 18 extra nodes, 16 pruned nodes, max_depth=5\u001b[0m\n",
      "\u001b[31m[101]#011train-error:0.103267#011validation-error:0.1547\u001b[0m\n",
      "\u001b[31m[18:11:56] src/tree/updater_prune.cc:74: tree pruning end, 1 roots, 14 extra nodes, 6 pruned nodes, max_depth=5\u001b[0m\n",
      "\u001b[31m[102]#011train-error:0.103333#011validation-error:0.155\u001b[0m\n",
      "\u001b[31m[18:11:57] src/tree/updater_prune.cc:74: tree pruning end, 1 roots, 12 extra nodes, 14 pruned nodes, max_depth=5\u001b[0m\n",
      "\u001b[31m[103]#011train-error:0.1028#011validation-error:0.1554\u001b[0m\n",
      "\u001b[31m[18:11:58] src/tree/updater_prune.cc:74: tree pruning end, 1 roots, 14 extra nodes, 8 pruned nodes, max_depth=5\u001b[0m\n",
      "\u001b[31m[104]#011train-error:0.102733#011validation-error:0.1554\u001b[0m\n",
      "\u001b[31m[18:12:00] src/tree/updater_prune.cc:74: tree pruning end, 1 roots, 20 extra nodes, 10 pruned nodes, max_depth=5\u001b[0m\n",
      "\u001b[31m[105]#011train-error:0.1018#011validation-error:0.1551\u001b[0m\n",
      "\u001b[31m[18:12:01] src/tree/updater_prune.cc:74: tree pruning end, 1 roots, 30 extra nodes, 2 pruned nodes, max_depth=5\u001b[0m\n",
      "\u001b[31m[106]#011train-error:0.101533#011validation-error:0.1544\u001b[0m\n",
      "\u001b[31m[18:12:02] src/tree/updater_prune.cc:74: tree pruning end, 1 roots, 14 extra nodes, 18 pruned nodes, max_depth=5\u001b[0m\n",
      "\u001b[31m[107]#011train-error:0.100933#011validation-error:0.1536\u001b[0m\n",
      "\u001b[31m[18:12:03] src/tree/updater_prune.cc:74: tree pruning end, 1 roots, 24 extra nodes, 12 pruned nodes, max_depth=5\u001b[0m\n",
      "\u001b[31m[108]#011train-error:0.1#011validation-error:0.1533\u001b[0m\n",
      "\u001b[31m[18:12:05] src/tree/updater_prune.cc:74: tree pruning end, 1 roots, 10 extra nodes, 16 pruned nodes, max_depth=5\u001b[0m\n",
      "\u001b[31m[109]#011train-error:0.100067#011validation-error:0.1531\u001b[0m\n",
      "\u001b[31m[18:12:06] src/tree/updater_prune.cc:74: tree pruning end, 1 roots, 10 extra nodes, 6 pruned nodes, max_depth=5\u001b[0m\n",
      "\u001b[31m[110]#011train-error:0.098867#011validation-error:0.1531\u001b[0m\n",
      "\u001b[31m[18:12:07] src/tree/updater_prune.cc:74: tree pruning end, 1 roots, 10 extra nodes, 6 pruned nodes, max_depth=5\u001b[0m\n",
      "\u001b[31m[111]#011train-error:0.099133#011validation-error:0.153\u001b[0m\n",
      "\u001b[31m[18:12:08] src/tree/updater_prune.cc:74: tree pruning end, 1 roots, 16 extra nodes, 4 pruned nodes, max_depth=5\u001b[0m\n",
      "\u001b[31m[112]#011train-error:0.098733#011validation-error:0.1527\u001b[0m\n",
      "\u001b[31m[18:12:10] src/tree/updater_prune.cc:74: tree pruning end, 1 roots, 16 extra nodes, 4 pruned nodes, max_depth=5\u001b[0m\n",
      "\u001b[31m[113]#011train-error:0.0992#011validation-error:0.1531\u001b[0m\n",
      "\u001b[31m[18:12:11] src/tree/updater_prune.cc:74: tree pruning end, 1 roots, 20 extra nodes, 12 pruned nodes, max_depth=5\u001b[0m\n",
      "\u001b[31m[114]#011train-error:0.0982#011validation-error:0.1534\u001b[0m\n",
      "\u001b[31m[18:12:12] src/tree/updater_prune.cc:74: tree pruning end, 1 roots, 22 extra nodes, 8 pruned nodes, max_depth=5\u001b[0m\n",
      "\u001b[31m[115]#011train-error:0.097467#011validation-error:0.152\u001b[0m\n",
      "\u001b[31m[18:12:13] src/tree/updater_prune.cc:74: tree pruning end, 1 roots, 16 extra nodes, 8 pruned nodes, max_depth=5\u001b[0m\n",
      "\u001b[31m[116]#011train-error:0.096867#011validation-error:0.1517\u001b[0m\n",
      "\u001b[31m[18:12:15] src/tree/updater_prune.cc:74: tree pruning end, 1 roots, 12 extra nodes, 4 pruned nodes, max_depth=5\u001b[0m\n",
      "\u001b[31m[117]#011train-error:0.096133#011validation-error:0.1515\u001b[0m\n",
      "\u001b[31m[18:12:16] src/tree/updater_prune.cc:74: tree pruning end, 1 roots, 30 extra nodes, 10 pruned nodes, max_depth=5\u001b[0m\n",
      "\u001b[31m[118]#011train-error:0.095733#011validation-error:0.1516\u001b[0m\n",
      "\u001b[31m[18:12:17] src/tree/updater_prune.cc:74: tree pruning end, 1 roots, 32 extra nodes, 12 pruned nodes, max_depth=5\u001b[0m\n",
      "\u001b[31m[119]#011train-error:0.095133#011validation-error:0.1512\u001b[0m\n",
      "\u001b[31m[18:12:18] src/tree/updater_prune.cc:74: tree pruning end, 1 roots, 10 extra nodes, 8 pruned nodes, max_depth=5\u001b[0m\n",
      "\u001b[31m[120]#011train-error:0.094733#011validation-error:0.1512\u001b[0m\n",
      "\u001b[31m[18:12:20] src/tree/updater_prune.cc:74: tree pruning end, 1 roots, 14 extra nodes, 8 pruned nodes, max_depth=5\u001b[0m\n",
      "\u001b[31m[121]#011train-error:0.095#011validation-error:0.1507\u001b[0m\n",
      "\u001b[31m[18:12:21] src/tree/updater_prune.cc:74: tree pruning end, 1 roots, 22 extra nodes, 8 pruned nodes, max_depth=5\u001b[0m\n",
      "\u001b[31m[122]#011train-error:0.0938#011validation-error:0.1507\u001b[0m\n",
      "\u001b[31m[18:12:22] src/tree/updater_prune.cc:74: tree pruning end, 1 roots, 16 extra nodes, 6 pruned nodes, max_depth=5\u001b[0m\n",
      "\u001b[31m[123]#011train-error:0.0936#011validation-error:0.1503\u001b[0m\n",
      "\u001b[31m[18:12:23] src/tree/updater_prune.cc:74: tree pruning end, 1 roots, 24 extra nodes, 6 pruned nodes, max_depth=5\u001b[0m\n",
      "\u001b[31m[124]#011train-error:0.093133#011validation-error:0.1488\u001b[0m\n",
      "\u001b[31m[18:12:25] src/tree/updater_prune.cc:74: tree pruning end, 1 roots, 14 extra nodes, 4 pruned nodes, max_depth=5\u001b[0m\n",
      "\u001b[31m[125]#011train-error:0.0926#011validation-error:0.1483\u001b[0m\n",
      "\u001b[31m[18:12:26] src/tree/updater_prune.cc:74: tree pruning end, 1 roots, 16 extra nodes, 12 pruned nodes, max_depth=5\u001b[0m\n",
      "\u001b[31m[126]#011train-error:0.092667#011validation-error:0.1478\u001b[0m\n",
      "\u001b[31m[18:12:27] src/tree/updater_prune.cc:74: tree pruning end, 1 roots, 10 extra nodes, 2 pruned nodes, max_depth=5\u001b[0m\n",
      "\u001b[31m[127]#011train-error:0.092267#011validation-error:0.1477\u001b[0m\n",
      "\u001b[31m[18:12:28] src/tree/updater_prune.cc:74: tree pruning end, 1 roots, 14 extra nodes, 10 pruned nodes, max_depth=5\u001b[0m\n",
      "\u001b[31m[128]#011train-error:0.092#011validation-error:0.1475\u001b[0m\n",
      "\u001b[31m[18:12:30] src/tree/updater_prune.cc:74: tree pruning end, 1 roots, 22 extra nodes, 4 pruned nodes, max_depth=5\u001b[0m\n",
      "\u001b[31m[129]#011train-error:0.091733#011validation-error:0.148\u001b[0m\n",
      "\u001b[31m[18:12:31] src/tree/updater_prune.cc:74: tree pruning end, 1 roots, 14 extra nodes, 4 pruned nodes, max_depth=5\u001b[0m\n",
      "\u001b[31m[130]#011train-error:0.091867#011validation-error:0.1483\u001b[0m\n",
      "\u001b[31m[18:12:32] src/tree/updater_prune.cc:74: tree pruning end, 1 roots, 14 extra nodes, 6 pruned nodes, max_depth=5\u001b[0m\n",
      "\u001b[31m[131]#011train-error:0.091867#011validation-error:0.1479\u001b[0m\n",
      "\u001b[31m[18:12:33] src/tree/updater_prune.cc:74: tree pruning end, 1 roots, 28 extra nodes, 6 pruned nodes, max_depth=5\u001b[0m\n",
      "\u001b[31m[132]#011train-error:0.090067#011validation-error:0.1469\u001b[0m\n",
      "\u001b[31m[18:12:35] src/tree/updater_prune.cc:74: tree pruning end, 1 roots, 10 extra nodes, 4 pruned nodes, max_depth=5\u001b[0m\n",
      "\u001b[31m[133]#011train-error:0.09#011validation-error:0.1463\u001b[0m\n",
      "\u001b[31m[18:12:36] src/tree/updater_prune.cc:74: tree pruning end, 1 roots, 12 extra nodes, 12 pruned nodes, max_depth=5\u001b[0m\n",
      "\u001b[31m[134]#011train-error:0.0894#011validation-error:0.1458\u001b[0m\n",
      "\u001b[31m[18:12:37] src/tree/updater_prune.cc:74: tree pruning end, 1 roots, 34 extra nodes, 8 pruned nodes, max_depth=5\u001b[0m\n",
      "\u001b[31m[135]#011train-error:0.088067#011validation-error:0.1444\u001b[0m\n"
     ]
    },
    {
     "name": "stdout",
     "output_type": "stream",
     "text": [
      "\u001b[31m[18:12:38] src/tree/updater_prune.cc:74: tree pruning end, 1 roots, 18 extra nodes, 18 pruned nodes, max_depth=5\u001b[0m\n",
      "\u001b[31m[136]#011train-error:0.0878#011validation-error:0.1442\u001b[0m\n",
      "\u001b[31m[18:12:40] src/tree/updater_prune.cc:74: tree pruning end, 1 roots, 14 extra nodes, 4 pruned nodes, max_depth=5\u001b[0m\n",
      "\u001b[31m[137]#011train-error:0.0876#011validation-error:0.1443\u001b[0m\n",
      "\u001b[31m[18:12:41] src/tree/updater_prune.cc:74: tree pruning end, 1 roots, 12 extra nodes, 12 pruned nodes, max_depth=5\u001b[0m\n",
      "\u001b[31m[138]#011train-error:0.087467#011validation-error:0.1442\u001b[0m\n",
      "\u001b[31m[18:12:42] src/tree/updater_prune.cc:74: tree pruning end, 1 roots, 12 extra nodes, 2 pruned nodes, max_depth=5\u001b[0m\n",
      "\u001b[31m[139]#011train-error:0.087533#011validation-error:0.1441\u001b[0m\n",
      "\u001b[31m[18:12:43] src/tree/updater_prune.cc:74: tree pruning end, 1 roots, 10 extra nodes, 0 pruned nodes, max_depth=5\u001b[0m\n",
      "\u001b[31m[140]#011train-error:0.086933#011validation-error:0.1442\u001b[0m\n",
      "\u001b[31m[18:12:45] src/tree/updater_prune.cc:74: tree pruning end, 1 roots, 28 extra nodes, 10 pruned nodes, max_depth=5\u001b[0m\n",
      "\u001b[31m[141]#011train-error:0.0866#011validation-error:0.1448\u001b[0m\n",
      "\u001b[31m[18:12:46] src/tree/updater_prune.cc:74: tree pruning end, 1 roots, 12 extra nodes, 14 pruned nodes, max_depth=5\u001b[0m\n",
      "\u001b[31m[142]#011train-error:0.0868#011validation-error:0.1444\u001b[0m\n",
      "\u001b[31m[18:12:47] src/tree/updater_prune.cc:74: tree pruning end, 1 roots, 10 extra nodes, 6 pruned nodes, max_depth=5\u001b[0m\n",
      "\u001b[31m[143]#011train-error:0.0868#011validation-error:0.1444\u001b[0m\n",
      "\u001b[31m[18:12:48] src/tree/updater_prune.cc:74: tree pruning end, 1 roots, 12 extra nodes, 6 pruned nodes, max_depth=5\u001b[0m\n",
      "\u001b[31m[144]#011train-error:0.086267#011validation-error:0.1442\u001b[0m\n",
      "\u001b[31m[18:12:50] src/tree/updater_prune.cc:74: tree pruning end, 1 roots, 12 extra nodes, 12 pruned nodes, max_depth=5\u001b[0m\n",
      "\u001b[31m[145]#011train-error:0.086#011validation-error:0.1441\u001b[0m\n",
      "\u001b[31m[18:12:51] src/tree/updater_prune.cc:74: tree pruning end, 1 roots, 10 extra nodes, 2 pruned nodes, max_depth=5\u001b[0m\n",
      "\u001b[31m[146]#011train-error:0.086#011validation-error:0.1437\u001b[0m\n",
      "\u001b[31m[18:12:52] src/tree/updater_prune.cc:74: tree pruning end, 1 roots, 24 extra nodes, 8 pruned nodes, max_depth=5\u001b[0m\n",
      "\u001b[31m[147]#011train-error:0.085667#011validation-error:0.1429\u001b[0m\n",
      "\u001b[31m[18:12:53] src/tree/updater_prune.cc:74: tree pruning end, 1 roots, 24 extra nodes, 4 pruned nodes, max_depth=5\u001b[0m\n",
      "\u001b[31m[148]#011train-error:0.085#011validation-error:0.1431\u001b[0m\n",
      "\u001b[31m[18:12:55] src/tree/updater_prune.cc:74: tree pruning end, 1 roots, 12 extra nodes, 14 pruned nodes, max_depth=5\u001b[0m\n",
      "\u001b[31m[149]#011train-error:0.0846#011validation-error:0.143\u001b[0m\n",
      "\u001b[31m[18:12:56] src/tree/updater_prune.cc:74: tree pruning end, 1 roots, 14 extra nodes, 4 pruned nodes, max_depth=5\u001b[0m\n",
      "\u001b[31m[150]#011train-error:0.084867#011validation-error:0.1422\u001b[0m\n",
      "\u001b[31m[18:12:57] src/tree/updater_prune.cc:74: tree pruning end, 1 roots, 12 extra nodes, 8 pruned nodes, max_depth=5\u001b[0m\n",
      "\u001b[31m[151]#011train-error:0.0842#011validation-error:0.1417\u001b[0m\n",
      "\u001b[31m[18:12:59] src/tree/updater_prune.cc:74: tree pruning end, 1 roots, 10 extra nodes, 4 pruned nodes, max_depth=5\u001b[0m\n",
      "\u001b[31m[152]#011train-error:0.084133#011validation-error:0.1423\u001b[0m\n",
      "\u001b[31m[18:13:00] src/tree/updater_prune.cc:74: tree pruning end, 1 roots, 16 extra nodes, 16 pruned nodes, max_depth=5\u001b[0m\n",
      "\u001b[31m[153]#011train-error:0.0844#011validation-error:0.1421\u001b[0m\n",
      "\u001b[31m[18:13:01] src/tree/updater_prune.cc:74: tree pruning end, 1 roots, 18 extra nodes, 10 pruned nodes, max_depth=5\u001b[0m\n",
      "\u001b[31m[154]#011train-error:0.084267#011validation-error:0.1415\u001b[0m\n",
      "\u001b[31m[18:13:02] src/tree/updater_prune.cc:74: tree pruning end, 1 roots, 10 extra nodes, 10 pruned nodes, max_depth=5\u001b[0m\n",
      "\u001b[31m[155]#011train-error:0.083867#011validation-error:0.1417\u001b[0m\n",
      "\u001b[31m[18:13:04] src/tree/updater_prune.cc:74: tree pruning end, 1 roots, 12 extra nodes, 6 pruned nodes, max_depth=5\u001b[0m\n",
      "\u001b[31m[156]#011train-error:0.0836#011validation-error:0.1418\u001b[0m\n",
      "\u001b[31m[18:13:05] src/tree/updater_prune.cc:74: tree pruning end, 1 roots, 16 extra nodes, 10 pruned nodes, max_depth=5\u001b[0m\n",
      "\u001b[31m[157]#011train-error:0.083733#011validation-error:0.1417\u001b[0m\n",
      "\u001b[31m[18:13:06] src/tree/updater_prune.cc:74: tree pruning end, 1 roots, 16 extra nodes, 8 pruned nodes, max_depth=5\u001b[0m\n",
      "\u001b[31m[158]#011train-error:0.0826#011validation-error:0.1422\u001b[0m\n",
      "\u001b[31m[18:13:07] src/tree/updater_prune.cc:74: tree pruning end, 1 roots, 30 extra nodes, 12 pruned nodes, max_depth=5\u001b[0m\n",
      "\u001b[31m[159]#011train-error:0.081267#011validation-error:0.1418\u001b[0m\n",
      "\n",
      "2019-06-11 18:13:19 Uploading - Uploading generated training model\u001b[31m[18:13:09] src/tree/updater_prune.cc:74: tree pruning end, 1 roots, 12 extra nodes, 6 pruned nodes, max_depth=5\u001b[0m\n",
      "\u001b[31m[160]#011train-error:0.081133#011validation-error:0.1416\u001b[0m\n",
      "\u001b[31m[18:13:10] src/tree/updater_prune.cc:74: tree pruning end, 1 roots, 16 extra nodes, 6 pruned nodes, max_depth=5\u001b[0m\n",
      "\u001b[31m[161]#011train-error:0.080467#011validation-error:0.1426\u001b[0m\n",
      "\u001b[31m[18:13:11] src/tree/updater_prune.cc:74: tree pruning end, 1 roots, 14 extra nodes, 2 pruned nodes, max_depth=5\u001b[0m\n",
      "\u001b[31m[162]#011train-error:0.080333#011validation-error:0.1422\u001b[0m\n",
      "\u001b[31m[18:13:12] src/tree/updater_prune.cc:74: tree pruning end, 1 roots, 10 extra nodes, 12 pruned nodes, max_depth=5\u001b[0m\n",
      "\u001b[31m[163]#011train-error:0.08#011validation-error:0.1424\u001b[0m\n",
      "\u001b[31m[18:13:14] src/tree/updater_prune.cc:74: tree pruning end, 1 roots, 20 extra nodes, 4 pruned nodes, max_depth=5\u001b[0m\n",
      "\u001b[31m[164]#011train-error:0.079933#011validation-error:0.1434\u001b[0m\n",
      "\u001b[31mStopping. Best iteration:\u001b[0m\n",
      "\u001b[31m[154]#011train-error:0.084267#011validation-error:0.1415\n",
      "\u001b[0m\n",
      "\n",
      "2019-06-11 18:13:26 Completed - Training job completed\n",
      "Billable seconds: 267\n"
     ]
    }
   ],
   "source": [
    "xgb.fit({'train': s3_input_train, 'validation': s3_input_validation})"
   ]
  },
  {
   "cell_type": "markdown",
   "metadata": {},
   "source": [
    "## Step 5: Testing the model\n",
    "\n",
    "Now that we've fit our XGBoost model, it's time to see how well it performs. To do this we will use SageMakers Batch Transform functionality. Batch Transform is a convenient way to perform inference on a large dataset in a way that is not realtime. That is, we don't necessarily need to use our model's results immediately and instead we can perform inference on a large number of samples. An example of this in industry might be performing an end of month report. This method of inference can also be useful to us as it means that we can perform inference on our entire test set. \n",
    "\n",
    "To perform a Batch Transformation we need to first create a transformer objects from our trained estimator object."
   ]
  },
  {
   "cell_type": "code",
   "execution_count": 24,
   "metadata": {},
   "outputs": [],
   "source": [
    "xgb_transformer = xgb.transformer(instance_count = 1, instance_type = 'ml.m4.xlarge')"
   ]
  },
  {
   "cell_type": "markdown",
   "metadata": {},
   "source": [
    "Next we actually perform the transform job. When doing so we need to make sure to specify the type of data we are sending so that it is serialized correctly in the background. In our case we are providing our model with csv data so we specify `text/csv`. Also, if the test data that we have provided is too large to process all at once then we need to specify how the data file should be split up. Since each line is a single entry in our data set we tell SageMaker that it can split the input on each line."
   ]
  },
  {
   "cell_type": "code",
   "execution_count": 25,
   "metadata": {},
   "outputs": [],
   "source": [
    "xgb_transformer.transform(test_location, content_type='text/csv', split_type='Line')"
   ]
  },
  {
   "cell_type": "markdown",
   "metadata": {},
   "source": [
    "Currently the transform job is running but it is doing so in the background. Since we wish to wait until the transform job is done and we would like a bit of feedback we can run the `wait()` method."
   ]
  },
  {
   "cell_type": "code",
   "execution_count": 26,
   "metadata": {},
   "outputs": [
    {
     "name": "stdout",
     "output_type": "stream",
     "text": [
      ".................................................!\n"
     ]
    }
   ],
   "source": [
    "xgb_transformer.wait()"
   ]
  },
  {
   "cell_type": "markdown",
   "metadata": {},
   "source": [
    "Now the transform job has executed and the result, the estimated sentiment of each review, has been saved on S3. Since we would rather work on this file locally we can perform a bit of notebook magic to copy the file to the `data_dir`."
   ]
  },
  {
   "cell_type": "code",
   "execution_count": 27,
   "metadata": {},
   "outputs": [
    {
     "name": "stdout",
     "output_type": "stream",
     "text": [
      "Completed 256.0 KiB/369.8 KiB (3.9 MiB/s) with 1 file(s) remaining\r",
      "Completed 369.8 KiB/369.8 KiB (5.6 MiB/s) with 1 file(s) remaining\r",
      "download: s3://sagemaker-us-west-2-550802670303/xgboost-2019-06-11-18-14-04-561/test.csv.out to ../data/sentiment_web_app/test.csv.out\r\n"
     ]
    }
   ],
   "source": [
    "!aws s3 cp --recursive $xgb_transformer.output_path $data_dir"
   ]
  },
  {
   "cell_type": "markdown",
   "metadata": {},
   "source": [
    "The last step is now to read in the output from our model, convert the output to something a little more usable, in this case we want the sentiment to be either `1` (positive) or `0` (negative), and then compare to the ground truth labels."
   ]
  },
  {
   "cell_type": "code",
   "execution_count": 28,
   "metadata": {},
   "outputs": [],
   "source": [
    "predictions = pd.read_csv(os.path.join(data_dir, 'test.csv.out'), header=None)\n",
    "predictions = [round(num) for num in predictions.squeeze().values]"
   ]
  },
  {
   "cell_type": "code",
   "execution_count": 29,
   "metadata": {},
   "outputs": [
    {
     "data": {
      "text/plain": [
       "0.85604"
      ]
     },
     "execution_count": 29,
     "metadata": {},
     "output_type": "execute_result"
    }
   ],
   "source": [
    "from sklearn.metrics import accuracy_score\n",
    "accuracy_score(test_y, predictions)"
   ]
  },
  {
   "cell_type": "markdown",
   "metadata": {},
   "source": [
    "## Step 6: Deploying the model\n",
    "\n",
    "Once we construct and fit our model, SageMaker stores the resulting model artifacts and we can use those to deploy an endpoint (inference code). To see this, look in the SageMaker console and you should see that a model has been created along with a link to the S3 location where the model artifacts have been stored.\n",
    "\n",
    "Deploying an endpoint is a lot like training the model with a few important differences. The first is that a deployed model doesn't change the model artifacts, so as you send it various testing instances the model won't change. Another difference is that since we aren't performing a fixed computation, as we were in the training step or while performing a batch transform, the compute instance that gets started stays running until we tell it to stop. This is important to note as if we forget and leave it running we will be charged the entire time.\n",
    "\n",
    "In other words **If you are no longer using a deployed endpoint, shut it down!**"
   ]
  },
  {
   "cell_type": "code",
   "execution_count": 30,
   "metadata": {},
   "outputs": [
    {
     "name": "stdout",
     "output_type": "stream",
     "text": [
      "---------------------------------------------------------------------------------------------------!"
     ]
    }
   ],
   "source": [
    "xgb_predictor = xgb.deploy(initial_instance_count = 1, instance_type = 'ml.m4.xlarge')"
   ]
  },
  {
   "cell_type": "markdown",
   "metadata": {},
   "source": [
    "### Testing the model (again)\n",
    "\n",
    "Now that we have deployed our endpoint, we can send the testing data to it and get back the inference results. We already did this earlier using the batch transform functionality of SageMaker, however, we will test our model again using the newly deployed endpoint so that we can make sure that it works properly and to get a bit of a feel for how the endpoint works.\n",
    "\n",
    "When using the created endpoint it is important to know that we are limited in the amount of information we can send in each call so we need to break the testing data up into chunks and then send each chunk. Also, we need to serialize our data before we send it to the endpoint to ensure that our data is transmitted properly. Fortunately, SageMaker can do the serialization part for us provided we tell it the format of our data."
   ]
  },
  {
   "cell_type": "code",
   "execution_count": 31,
   "metadata": {},
   "outputs": [],
   "source": [
    "from sagemaker.predictor import csv_serializer\n",
    "\n",
    "# We need to tell the endpoint what format the data we are sending is in so that SageMaker can perform the serialization.\n",
    "xgb_predictor.content_type = 'text/csv'\n",
    "xgb_predictor.serializer = csv_serializer"
   ]
  },
  {
   "cell_type": "code",
   "execution_count": 32,
   "metadata": {},
   "outputs": [],
   "source": [
    "# We split the data into chunks and send each chunk seperately, accumulating the results.\n",
    "\n",
    "def predict(data, rows=512):\n",
    "    split_array = np.array_split(data, int(data.shape[0] / float(rows) + 1))\n",
    "    predictions = ''\n",
    "    for array in split_array:\n",
    "        predictions = ','.join([predictions, xgb_predictor.predict(array).decode('utf-8')])\n",
    "    \n",
    "    return np.fromstring(predictions[1:], sep=',')"
   ]
  },
  {
   "cell_type": "code",
   "execution_count": 33,
   "metadata": {},
   "outputs": [],
   "source": [
    "test_X = pd.read_csv(os.path.join(data_dir, 'test.csv'), header=None).values\n",
    "\n",
    "predictions = predict(test_X)\n",
    "predictions = [round(num) for num in predictions]"
   ]
  },
  {
   "cell_type": "markdown",
   "metadata": {},
   "source": [
    "Lastly, we check to see what the accuracy of our model is."
   ]
  },
  {
   "cell_type": "code",
   "execution_count": 34,
   "metadata": {},
   "outputs": [
    {
     "data": {
      "text/plain": [
       "0.85604"
      ]
     },
     "execution_count": 34,
     "metadata": {},
     "output_type": "execute_result"
    }
   ],
   "source": [
    "from sklearn.metrics import accuracy_score\n",
    "accuracy_score(test_y, predictions)"
   ]
  },
  {
   "cell_type": "markdown",
   "metadata": {},
   "source": [
    "And the results here should agree with the model testing that we did earlier using the batch transform job.\n",
    "\n",
    "### Cleaning up\n",
    "\n",
    "Now that we've determined that deploying our model works as expected, we are going to shut it down. Remember that the longer the endpoint is left running, the greater the cost and since we have a bit more work to do before we are able to use our endpoint with our simple web app, we should shut everything down."
   ]
  },
  {
   "cell_type": "code",
   "execution_count": 35,
   "metadata": {},
   "outputs": [],
   "source": [
    "xgb_predictor.delete_endpoint()"
   ]
  },
  {
   "cell_type": "markdown",
   "metadata": {},
   "source": [
    "## Step 7: Putting our model to work\n",
    "\n",
    "As we've mentioned a few times now, our goal is to have our model deployed and then access it using a very simple web app. The intent is for this web app to take some user submitted data (a review), send it off to our endpoint (the model) and then display the result.\n",
    "\n",
    "However, there is a small catch. Currently the only way we can access the endpoint to send it data is using the SageMaker API. We can, if we wish, expose the actual URL that our model's endpoint is receiving data from, however, if we just send it data ourselves we will not get anything in return. This is because the endpoint created by SageMaker requires the entity accessing it have the correct permissions. So, we would need to somehow authenticate our web app with AWS.\n",
    "\n",
    "Having a website that authenticates to AWS seems a bit beyond the scope of this lesson so we will opt for an alternative approach. Namely, we will create a new endpoint which does not require authentication and which acts as a proxy for the SageMaker endpoint.\n",
    "\n",
    "As an additional constraint, we will try to avoid doing any data processing in the web app itself. Remember that when we constructed and tested our model we started with a movie review, then we simplified it by removing any html formatting and punctuation, then we constructed a bag of words embedding and the resulting vector is what we sent to our model. All of this needs to be done to our user input as well.\n",
    "\n",
    "Fortunately we can do all of this data processing in the backend, using Amazon's Lambda service.\n",
    "\n",
    "<img src=\"Web App Diagram.svg\">\n",
    "\n",
    "The diagram above gives an overview of how the various services will work together. On the far right is the model which we trained above and which will be deployed using SageMaker. On the far left is our web app that collects a user's movie review, sends it off and expects a positive or negative sentiment in return.\n",
    "\n",
    "In the middle is where some of the magic happens. We will construct a Lambda function, which you can think of as a straightforward Python function that can be executed whenever a specified event occurs. This Python function will do the data processing we need to perform on a user submitted review. In addition, we will give this function permission to send and recieve data from a SageMaker endpoint.\n",
    "\n",
    "Lastly, the method we will use to execute the Lambda function is a new endpoint that we will create using API Gateway. This endpoint will be a url that listens for data to be sent to it. Once it gets some data it will pass that data on to the Lambda function and then return whatever the Lambda function returns. Essentially it will act as an interface that lets our web app communicate with the Lambda function.\n",
    "\n",
    "### Processing a single review\n",
    "\n",
    "For now, suppose we are given a movie review by our user in the form of a string, like so:"
   ]
  },
  {
   "cell_type": "code",
   "execution_count": 36,
   "metadata": {},
   "outputs": [],
   "source": [
    "test_review = \"Nothing but a disgusting materialistic pageant of glistening abed remote control greed zombies, totally devoid of any heart or heat. A romantic comedy that has zero romantic chemestry and zero laughs!\""
   ]
  },
  {
   "cell_type": "markdown",
   "metadata": {},
   "source": [
    "How do we go from this string to the bag of words feature vector that is expected by our model?\n",
    "\n",
    "If we recall at the beginning of this notebook, the first step is to remove any unnecessary characters using the `review_to_words` method. Remember that we intentionally did this in a very simplistic way. This is because we are going to have to copy this method to our (eventual) Lambda function (we will go into more detail later) and this means it needs to be rather simplistic."
   ]
  },
  {
   "cell_type": "code",
   "execution_count": 37,
   "metadata": {},
   "outputs": [
    {
     "name": "stdout",
     "output_type": "stream",
     "text": [
      "nothing but a disgusting materialistic pageant of glistening abed remote control greed zombies totally devoid of any heart or heat a romantic comedy that has zero romantic chemestry and zero laughs\n"
     ]
    }
   ],
   "source": [
    "test_words = review_to_words(test_review)\n",
    "print(test_words)"
   ]
  },
  {
   "cell_type": "markdown",
   "metadata": {},
   "source": [
    "Next, we need to construct a bag of words embedding of the `test_words` string. To do this, remember that a bag of words embedding uses a `vocabulary` consisting of the most frequently appearing words in a set of documents. Then, for each word in the vocabulary we record the number of times that word appears in `test_words`. We constructed the `vocabulary` earlier using the training set for our problem so encoding `test_words` is relatively straightforward."
   ]
  },
  {
   "cell_type": "code",
   "execution_count": 38,
   "metadata": {},
   "outputs": [],
   "source": [
    "def bow_encoding(words, vocabulary):\n",
    "    bow = [0] * len(vocabulary) # Start by setting the count for each word in the vocabulary to zero.\n",
    "    for word in words.split():  # For each word in the string\n",
    "        if word in vocabulary:  # If the word is one that occurs in the vocabulary, increase its count.\n",
    "            bow[vocabulary[word]] += 1\n",
    "    return bow"
   ]
  },
  {
   "cell_type": "code",
   "execution_count": 39,
   "metadata": {},
   "outputs": [
    {
     "name": "stdout",
     "output_type": "stream",
     "text": [
      "[0, 0, 0, 0, 0, 0, 0, 0, 0, 0, 0, 0, 0, 0, 0, 0, 0, 0, 0, 0, 0, 0, 0, 0, 0, 0, 0, 0, 0, 0, 0, 0, 0, 0, 0, 0, 0, 0, 0, 0, 0, 0, 0, 0, 0, 0, 0, 0, 0, 0, 0, 0, 0, 0, 0, 0, 0, 0, 0, 0, 0, 0, 0, 0, 0, 0, 0, 0, 0, 0, 0, 0, 0, 0, 0, 0, 0, 0, 0, 0, 0, 0, 0, 0, 0, 0, 0, 0, 0, 0, 0, 0, 0, 0, 0, 0, 0, 0, 0, 0, 0, 0, 0, 0, 0, 0, 0, 0, 0, 0, 0, 0, 0, 0, 0, 0, 0, 0, 0, 0, 0, 0, 0, 0, 0, 0, 0, 0, 0, 0, 0, 0, 0, 0, 0, 0, 0, 0, 0, 0, 0, 0, 0, 0, 0, 0, 0, 0, 0, 0, 0, 0, 0, 0, 0, 0, 0, 0, 0, 0, 0, 0, 0, 0, 0, 0, 0, 0, 0, 0, 0, 0, 0, 0, 0, 0, 0, 0, 0, 0, 0, 0, 0, 0, 0, 0, 0, 0, 0, 0, 0, 0, 0, 0, 0, 0, 0, 0, 0, 0, 0, 0, 0, 0, 0, 0, 0, 0, 0, 0, 0, 0, 0, 0, 0, 0, 0, 0, 0, 0, 0, 0, 0, 0, 0, 0, 1, 0, 0, 0, 0, 0, 0, 0, 0, 0, 0, 0, 0, 0, 0, 0, 0, 0, 0, 0, 0, 0, 0, 0, 0, 0, 0, 0, 0, 0, 1, 0, 0, 0, 0, 0, 0, 0, 0, 0, 0, 0, 0, 0, 0, 0, 0, 0, 0, 0, 0, 0, 0, 0, 0, 0, 0, 0, 0, 0, 0, 0, 0, 0, 0, 0, 0, 0, 0, 0, 0, 0, 0, 0, 0, 0, 0, 0, 0, 0, 0, 0, 0, 0, 0, 0, 0, 0, 0, 0, 0, 0, 0, 0, 0, 0, 0, 0, 0, 0, 0, 0, 0, 0, 0, 0, 0, 0, 0, 0, 0, 0, 0, 0, 0, 0, 0, 0, 0, 0, 0, 0, 0, 0, 0, 0, 0, 0, 0, 0, 0, 0, 0, 0, 0, 0, 0, 0, 0, 0, 0, 0, 0, 0, 0, 0, 0, 0, 0, 0, 0, 0, 0, 0, 0, 0, 0, 0, 0, 0, 0, 0, 0, 0, 0, 0, 0, 0, 0, 0, 0, 0, 0, 0, 0, 0, 0, 0, 0, 0, 0, 0, 0, 0, 0, 0, 0, 0, 0, 0, 0, 0, 0, 0, 0, 0, 0, 0, 0, 0, 0, 0, 0, 0, 0, 0, 0, 0, 0, 0, 0, 0, 0, 0, 0, 0, 0, 0, 0, 0, 0, 0, 0, 0, 0, 0, 0, 0, 0, 0, 0, 0, 0, 0, 0, 0, 0, 0, 0, 0, 0, 0, 0, 0, 0, 0, 0, 0, 0, 0, 0, 0, 0, 0, 0, 0, 0, 0, 0, 0, 0, 0, 0, 0, 0, 0, 0, 0, 0, 0, 0, 0, 0, 0, 0, 0, 0, 0, 0, 0, 0, 0, 0, 0, 0, 0, 0, 0, 0, 0, 0, 0, 0, 0, 0, 0, 0, 0, 0, 0, 0, 0, 0, 0, 0, 0, 0, 0, 0, 0, 0, 0, 0, 0, 0, 0, 0, 0, 0, 0, 0, 0, 0, 0, 0, 0, 0, 0, 0, 0, 0, 0, 0, 0, 0, 0, 0, 0, 0, 0, 0, 0, 0, 0, 0, 0, 0, 0, 0, 0, 0, 0, 0, 0, 0, 0, 0, 0, 0, 0, 0, 0, 0, 0, 0, 0, 0, 0, 0, 0, 0, 0, 0, 0, 0, 0, 0, 0, 0, 0, 0, 0, 0, 0, 0, 0, 0, 0, 0, 0, 0, 0, 0, 0, 0, 0, 0, 0, 0, 0, 0, 0, 0, 0, 0, 0, 0, 0, 0, 0, 1, 0, 0, 0, 0, 0, 0, 0, 0, 0, 0, 0, 0, 0, 0, 0, 0, 0, 0, 0, 0, 0, 0, 0, 0, 0, 0, 0, 0, 0, 0, 0, 0, 0, 0, 0, 0, 0, 0, 0, 0, 0, 0, 0, 0, 0, 0, 0, 0, 0, 0, 0, 0, 0, 0, 0, 0, 0, 0, 0, 0, 0, 0, 0, 0, 0, 0, 0, 0, 0, 0, 0, 0, 0, 0, 0, 0, 0, 0, 0, 0, 0, 0, 0, 0, 0, 0, 0, 0, 0, 0, 0, 0, 0, 0, 0, 0, 0, 0, 0, 0, 0, 0, 0, 0, 0, 0, 0, 0, 0, 0, 0, 0, 0, 0, 0, 0, 0, 0, 0, 0, 0, 0, 0, 0, 0, 0, 0, 0, 0, 0, 0, 0, 0, 0, 0, 0, 0, 0, 0, 0, 0, 0, 0, 0, 0, 0, 0, 0, 0, 0, 0, 0, 0, 0, 0, 0, 0, 0, 0, 0, 0, 0, 0, 0, 0, 0, 0, 0, 0, 0, 0, 0, 0, 0, 0, 0, 0, 0, 0, 0, 0, 0, 0, 0, 0, 0, 0, 0, 0, 0, 0, 0, 0, 0, 0, 0, 0, 0, 0, 0, 0, 0, 0, 0, 0, 0, 0, 0, 0, 0, 0, 0, 0, 0, 0, 0, 0, 0, 0, 0, 0, 0, 0, 0, 0, 0, 0, 0, 0, 0, 0, 0, 0, 0, 0, 0, 0, 0, 0, 0, 0, 0, 0, 0, 0, 0, 0, 0, 0, 0, 0, 0, 0, 1, 0, 0, 0, 0, 0, 0, 0, 0, 0, 0, 0, 0, 0, 0, 0, 0, 0, 0, 0, 0, 0, 0, 0, 0, 0, 0, 0, 0, 0, 0, 0, 0, 0, 0, 0, 0, 0, 0, 0, 0, 0, 0, 0, 0, 0, 0, 0, 0, 0, 0, 0, 0, 0, 0, 0, 0, 0, 0, 0, 0, 0, 0, 0, 0, 0, 0, 0, 0, 0, 0, 0, 0, 0, 0, 0, 0, 0, 0, 0, 0, 0, 0, 0, 0, 0, 0, 1, 0, 0, 0, 0, 0, 0, 0, 0, 0, 0, 0, 0, 0, 0, 0, 0, 0, 0, 0, 0, 0, 0, 0, 0, 0, 0, 0, 0, 0, 0, 0, 0, 0, 0, 0, 0, 0, 0, 0, 0, 0, 0, 0, 0, 0, 0, 0, 0, 0, 0, 0, 0, 0, 0, 0, 0, 0, 0, 0, 0, 0, 0, 0, 0, 0, 0, 0, 0, 0, 0, 0, 0, 0, 0, 0, 0, 0, 0, 0, 0, 0, 0, 0, 0, 0, 0, 0, 0, 0, 0, 0, 0, 0, 0, 0, 0, 0, 0, 0, 0, 0, 0, 0, 0, 0, 0, 0, 0, 0, 0, 0, 0, 0, 0, 0, 0, 0, 0, 0, 0, 0, 0, 0, 0, 0, 0, 0, 0, 0, 0, 0, 0, 0, 0, 0, 0, 0, 0, 0, 0, 0, 0, 0, 0, 0, 0, 0, 0, 0, 0, 0, 0, 0, 0, 0, 0, 0, 0, 0, 0, 0, 0, 0, 0, 0, 0, 0, 0, 0, 0, 0, 0, 0, 0, 0, 0, 0, 0, 0, 0, 0, 0, 0, 0, 0, 0, 0, 0, 0, 0, 0, 0, 0, 0, 0, 0, 0, 0, 0, 0, 0, 0, 0, 0, 0, 0, 0, 0, 0, 0, 0, 0, 0, 0, 0, 0, 0, 0, 0, 0, 0, 0, 0, 0, 0, 0, 0, 0, 0, 0, 0, 0, 0, 0, 0, 0, 0, 0, 0, 0, 0, 0, 0, 0, 0, 0, 0, 0, 0, 0, 0, 0, 1, 0, 0, 0, 0, 0, 0, 0, 0, 0, 0, 0, 0, 0, 0, 0, 0, 0, 0, 0, 0, 0, 0, 0, 0, 0, 0, 0, 0, 0, 0, 0, 0, 0, 0, 0, 0, 0, 0, 0, 0, 0, 0, 0, 0, 0, 0, 0, 0, 0, 0, 0, 0, 0, 0, 0, 1, 0, 0, 0, 0, 0, 0, 0, 0, 0, 0, 0, 0, 0, 0, 0, 0, 0, 0, 0, 0, 0, 0, 0, 0, 0, 0, 0, 0, 0, 0, 0, 0, 0, 0, 0, 0, 0, 0, 0, 0, 0, 0, 0, 0, 0, 0, 0, 0, 0, 0, 0, 0, 0, 0, 0, 0, 0, 0, 0, 0, 0, 0, 0, 0, 0, 0, 0, 0, 0, 0, 0, 0, 0, 0, 0, 0, 0, 0, 0, 0, 0, 0, 0, 0, 0, 0, 0, 0, 0, 0, 0, 0, 0, 0, 0, 0, 0, 0, 0, 0, 0, 0, 0, 0, 0, 0, 0, 0, 0, 0, 0, 0, 0, 0, 0, 0, 0, 0, 0, 0, 0, 0, 0, 0, 0, 0, 0, 0, 0, 0, 0, 0, 0, 0, 0, 0, 0, 0, 0, 0, 0, 0, 0, 0, 0, 0, 0, 0, 0, 0, 0, 0, 0, 0, 0, 0, 0, 0, 0, 0, 0, 0, 0, 0, 0, 0, 0, 0, 0, 0, 0, 0, 0, 0, 0, 0, 0, 0, 0, 0, 0, 0, 0, 0, 0, 0, 0, 0, 0, 0, 0, 0, 0, 0, 0, 0, 0, 0, 0, 0, 0, 0, 0, 0, 0, 0, 0, 0, 0, 0, 0, 0, 0, 0, 0, 0, 0, 0, 0, 0, 0, 0, 0, 0, 0, 0, 0, 0, 0, 0, 0, 0, 0, 0, 0, 0, 0, 0, 0, 0, 0, 0, 0, 0, 0, 0, 0, 0, 0, 0, 0, 0, 0, 0, 0, 0, 0, 0, 0, 0, 0, 0, 0, 0, 0, 0, 0, 0, 0, 0, 0, 0, 0, 0, 0, 0, 0, 0, 0, 0, 0, 0, 0, 0, 0, 0, 0, 0, 0, 0, 0, 0, 0, 0, 0, 0, 0, 0, 0, 0, 0, 0, 0, 0, 0, 0, 0, 0, 0, 0, 0, 0, 0, 0, 0, 0, 0, 0, 0, 0, 0, 0, 0, 0, 0, 0, 0, 0, 0, 0, 0, 0, 0, 0, 0, 0, 0, 0, 0, 0, 0, 0, 0, 0, 0, 0, 0, 0, 0, 0, 0, 0, 0, 0, 0, 0, 0, 0, 0, 0, 0, 0, 0, 0, 0, 0, 0, 0, 0, 0, 0, 0, 0, 0, 0, 0, 0, 0, 0, 0, 0, 0, 0, 0, 0, 0, 0, 0, 0, 0, 0, 0, 0, 0, 0, 0, 0, 0, 0, 0, 0, 0, 0, 0, 0, 0, 0, 0, 0, 0, 0, 0, 0, 0, 0, 0, 0, 0, 0, 0, 0, 0, 0, 0, 0, 0, 0, 0, 0, 0, 0, 0, 0, 0, 0, 0, 0, 0, 0, 0, 0, 0, 0, 0, 0, 0, 0, 0, 0, 0, 0, 0, 0, 0, 0, 0, 0, 0, 0, 0, 0, 0, 0, 0, 0, 0, 0, 0, 0, 0, 0, 0, 0, 0, 0, 0, 0, 0, 0, 0, 0, 0, 0, 0, 0, 0, 0, 0, 0, 0, 0, 0, 0, 0, 0, 0, 0, 0, 0, 0, 0, 0, 0, 0, 0, 0, 0, 0, 0, 0, 0, 0, 0, 0, 0, 0, 0, 0, 0, 0, 0, 0, 0, 0, 0, 0, 0, 0, 0, 0, 0, 0, 0, 0, 0, 0, 0, 0, 0, 0, 0, 0, 0, 0, 0, 0, 0, 0, 0, 0, 0, 0, 0, 0, 0, 0, 0, 0, 0, 0, 0, 0, 0, 0, 0, 0, 0, 0, 0, 0, 0, 0, 0, 0, 0, 0, 0, 0, 0, 0, 0, 0, 0, 0, 0, 0, 0, 0, 0, 0, 0, 0, 0, 0, 0, 0, 0, 0, 0, 0, 0, 0, 0, 0, 0, 0, 0, 0, 0, 0, 0, 0, 0, 0, 0, 0, 0, 0, 0, 0, 0, 0, 0, 0, 0, 0, 0, 0, 0, 0, 0, 0, 0, 0, 0, 0, 0, 0, 0, 0, 0, 0, 0, 0, 0, 0, 0, 0, 0, 0, 0, 0, 0, 0, 0, 0, 0, 0, 0, 0, 0, 0, 0, 0, 0, 0, 0, 0, 0, 0, 0, 0, 0, 0, 0, 0, 0, 0, 0, 0, 0, 1, 0, 0, 0, 0, 0, 0, 0, 0, 0, 0, 0, 0, 0, 0, 0, 0, 0, 0, 0, 0, 0, 0, 0, 0, 0, 0, 0, 0, 0, 0, 0, 0, 0, 0, 0, 0, 0, 0, 0, 0, 0, 0, 0, 0, 0, 0, 0, 0, 0, 0, 0, 0, 0, 0, 0, 0, 0, 0, 0, 0, 0, 0, 0, 0, 0, 0, 0, 0, 0, 0, 0, 0, 0, 0, 1, 0, 0, 0, 0, 0, 0, 0, 0, 0, 0, 0, 0, 0, 0, 0, 0, 0, 0, 0, 0, 1, 0, 0, 1, 0, 0, 0, 0, 0, 0, 0, 0, 0, 0, 0, 0, 0, 0, 0, 0, 0, 0, 0, 0, 0, 0, 0, 0, 0, 0, 0, 0, 0, 0, 0, 0, 0, 0, 0, 0, 0, 0, 0, 0, 0, 0, 0, 0, 0, 0, 0, 0, 0, 0, 0, 0, 0, 0, 0, 0, 0, 0, 0, 0, 0, 0, 0, 0, 0, 0, 0, 0, 0, 0, 0, 0, 0, 0, 0, 0, 0, 0, 0, 0, 0, 0, 0, 0, 0, 0, 0, 0, 0, 0, 0, 0, 0, 0, 0, 0, 0, 0, 0, 0, 0, 0, 0, 0, 0, 0, 0, 0, 0, 0, 0, 0, 0, 0, 0, 0, 0, 0, 0, 0, 0, 0, 0, 0, 0, 0, 0, 0, 0, 0, 0, 0, 0, 0, 0, 0, 0, 0, 0, 0, 0, 0, 0, 0, 0, 0, 0, 0, 0, 0, 0, 0, 0, 0, 0, 0, 0, 0, 0, 0, 0, 0, 0, 0, 0, 0, 0, 0, 0, 0, 0, 0, 0, 0, 0, 0, 0, 0, 0, 0, 0, 0, 0, 0, 0, 0, 0, 0, 0, 0, 0, 0, 0, 0, 0, 0, 0, 0, 0, 0, 0, 0, 0, 0, 0, 0, 0, 0, 0, 0, 0, 0, 0, 0, 0, 0, 0, 0, 0, 0, 0, 0, 0, 0, 0, 0, 0, 0, 0, 0, 0, 0, 0, 0, 0, 0, 0, 0, 0, 0, 0, 0, 0, 0, 0, 0, 0, 0, 0, 0, 0, 0, 0, 0, 0, 0, 0, 0, 0, 0, 0, 0, 0, 0, 0, 0, 0, 0, 0, 0, 0, 0, 0, 0, 0, 0, 0, 0, 0, 0, 0, 0, 0, 0, 0, 0, 0, 0, 0, 0, 0, 0, 0, 0, 0, 0, 0, 0, 0, 0, 0, 0, 0, 0, 0, 0, 0, 0, 0, 0, 0, 0, 0, 0, 0, 0, 0, 0, 0, 0, 0, 0, 0, 0, 0, 0, 0, 0, 0, 0, 0, 0, 0, 0, 0, 0, 0, 0, 0, 0, 0, 0, 0, 0, 0, 0, 0, 0, 0, 0, 0, 0, 0, 0, 0, 0, 0, 0, 0, 0, 0, 0, 0, 0, 0, 0, 0, 0, 0, 0, 0, 0, 0, 0, 0, 0, 0, 0, 0, 0, 0, 0, 0, 0, 0, 0, 0, 0, 0, 0, 0, 0, 0, 0, 0, 0, 0, 0, 0, 0, 0, 0, 0, 0, 0, 0, 0, 0, 0, 0, 0, 0, 0, 0, 0, 0, 0, 0, 0, 0, 0, 0, 0, 0, 0, 0, 0, 0, 0, 0, 0, 0, 0, 0, 0, 0, 0, 0, 0, 0, 0, 0, 0, 0, 0, 0, 0, 0, 0, 0, 0, 0, 0, 0, 0, 0, 0, 0, 0, 0, 0, 0, 0, 0, 0, 0, 1, 0, 0, 0, 0, 0, 0, 0, 0, 0, 0, 0, 0, 0, 0, 0, 0, 0, 0, 0, 0, 0, 0, 0, 0, 0, 0, 0, 0, 0, 0, 0, 0, 0, 0, 0, 0, 0, 0, 0, 0, 0, 0, 0, 0, 0, 0, 0, 0, 0, 0, 0, 0, 0, 0, 0, 0, 0, 0, 0, 0, 0, 0, 0, 0, 0, 0, 0, 0, 0, 0, 0, 0, 0, 0, 0, 0, 0, 0, 0, 0, 0, 0, 0, 0, 0, 0, 0, 0, 0, 0, 0, 0, 0, 0, 0, 0, 0, 0, 0, 0, 0, 0, 0, 0, 0, 0, 0, 0, 0, 0, 0, 0, 0, 0, 0, 0, 0, 0, 0, 0, 0, 0, 0, 0, 0, 0, 0, 0, 0, 0, 0, 0, 0, 0, 0, 0, 0, 0, 0, 0, 0, 0, 0, 0, 0, 0, 0, 0, 0, 0, 0, 0, 0, 0, 0, 0, 0, 0, 0, 0, 0, 0, 0, 0, 0, 0, 0, 0, 0, 0, 0, 0, 0, 0, 0, 0, 0, 0, 0, 0, 0, 0, 0, 0, 0, 0, 0, 0, 0, 0, 0, 0, 0, 0, 0, 0, 0, 0, 0, 0, 0, 0, 0, 0, 0, 0, 0, 0, 0, 0, 0, 0, 0, 0, 0, 0, 0, 0, 0, 0, 0, 0, 0, 0, 0, 0, 0, 0, 0, 0, 0, 0, 0, 0, 0, 0, 0, 0, 0, 0, 0, 0, 0, 0, 0, 0, 0, 0, 0, 0, 0, 0, 0, 0, 0, 0, 0, 0, 0, 0, 0, 0, 0, 0, 0, 0, 0, 0, 0, 0, 0, 0, 0, 0, 0, 0, 0, 0, 0, 0, 0, 0, 0, 0, 0, 0, 0, 0, 0, 0, 0, 0, 0, 0, 0, 0, 0, 0, 0, 0, 0, 0, 0, 0, 0, 0, 0, 0, 0, 0, 0, 0, 0, 0, 0, 0, 0, 0, 0, 0, 0, 0, 0, 0, 0, 0, 0, 0, 0, 0, 0, 0, 0, 0, 0, 0, 0, 0, 0, 0, 0, 0, 0, 0, 0, 0, 0, 0, 0, 0, 0, 0, 0, 0, 0, 0, 0, 0, 0, 0, 0, 0, 0, 0, 0, 0, 0, 0, 0, 0, 0, 0, 0, 0, 0, 0, 0, 0, 0, 0, 0, 0, 0, 0, 0, 0, 0, 0, 0, 0, 0, 0, 0, 0, 0, 0, 0, 0, 0, 0, 0, 0, 0, 0, 0, 0, 0, 0, 0, 0, 0, 0, 0, 0, 0, 0, 0, 0, 0, 0, 0, 0, 0, 0, 0, 0, 0, 0, 0, 0, 0, 0, 0, 0, 0, 0, 0, 0, 0, 0, 0, 0, 0, 0, 0, 0, 0, 0, 0, 0, 0, 0, 0, 0, 0, 0, 0, 0, 0, 0, 0, 0, 0, 0, 0, 0, 0, 0, 0, 0, 0, 0, 0, 0, 0, 0, 0, 0, 0, 0, 0, 0, 0, 0, 0, 0, 0, 0, 0, 0, 0, 0, 0, 0, 0, 0, 0, 0, 0, 0, 0, 0, 0, 0, 0, 0, 0, 0, 0, 0, 0, 0, 1, 0, 0, 0, 0, 0, 0, 0, 0, 0, 0, 0, 0, 0, 0, 0, 0, 0, 0, 0, 0, 0, 0, 0, 0, 0, 0, 0, 0, 0, 0, 0, 0, 0, 0, 0, 2, 0, 0, 0, 0, 0, 0, 0, 0, 0, 0, 0, 0, 0, 0, 0, 0, 0, 0, 0, 0, 0, 0, 0, 0, 0, 0, 0, 0, 0, 0, 0, 0, 0, 0, 0, 0, 0, 0, 0, 0, 1, 0, 0, 0, 0, 0, 0, 0, 0, 0, 0, 0, 0, 0, 0, 0, 0, 0, 0, 0, 0, 0, 0, 0, 0, 0, 0, 0, 0, 0, 0, 0, 0, 0, 0, 0, 0, 0, 0, 0, 0, 0, 0, 0, 0, 0, 0, 0, 0, 0, 0, 0, 0, 0, 0, 0, 0, 0, 0, 0, 0, 0, 0, 0, 0, 0, 0, 0, 0, 0, 0, 0, 0, 0, 0, 0, 0, 0, 0, 0, 0, 0, 0, 0, 0, 0, 0, 0, 0, 0, 0, 0, 0, 0, 0, 0, 0, 0, 0, 0, 0, 0, 0, 0, 0, 0, 0, 0, 0, 0, 0, 0, 0, 0, 0, 0, 0, 0, 0, 0, 0, 0, 0, 0, 0, 0, 0, 0, 0, 0, 0, 0, 0, 0, 0, 0, 0, 0, 0, 0, 0, 0, 0, 0, 0, 0, 0, 0, 0, 0, 0, 0, 0, 0, 0, 0, 0, 0, 0, 0, 0, 0, 0, 0, 0, 0, 0, 0, 0, 0, 0, 0, 0, 0, 0, 0, 0, 0, 0, 0, 0, 0, 0, 0, 0, 0, 0, 0, 0, 0, 0, 0, 0, 0, 0, 0, 0, 0, 0, 0, 0, 0, 0, 0, 0, 0, 0, 0, 0, 0, 0, 0, 0, 0, 0, 0, 0, 0, 0, 0, 0, 0, 0, 0, 0, 0, 0, 0, 0, 0, 0, 0, 0, 0, 0, 0, 0, 0, 0, 0, 0, 0, 0, 0, 0, 0, 0, 0, 0, 0, 0, 0, 0, 0, 0, 0, 0, 0, 0, 0, 0, 0, 0, 0, 0, 0, 0, 0, 0, 0, 0, 0, 0, 0, 0, 0, 0, 0, 0, 0, 0, 0, 0, 0, 0, 0, 0, 0, 0, 0, 0, 0, 0, 0, 0, 0, 0, 0, 0, 0, 0, 0, 0, 0, 0, 0, 0, 0, 0, 0, 0, 0, 0, 0, 0, 0, 0, 0, 0, 0, 0, 0, 0, 0, 0, 0, 0, 0, 0, 0, 0, 0, 0, 0, 0, 0, 0, 0, 0, 0, 0, 0, 0, 0, 0, 0, 0, 0, 0, 0, 0, 0, 0, 0, 0, 0, 0, 0, 0, 0, 0, 0, 0, 0, 0, 0, 0, 0, 0, 0, 0, 0, 0, 0, 0, 0, 0, 0, 0, 0, 0, 0, 0, 0, 0, 0, 0, 0, 0, 0, 0, 0, 0, 0, 0, 0, 0, 0, 0, 0, 0, 0, 0, 0, 0, 0, 0, 0, 0, 0, 0, 0, 0, 0, 0, 0, 0, 0, 0, 0, 0, 0, 0, 0, 0, 0, 0, 0, 0, 0, 0, 0, 0, 0, 0, 0, 0, 0, 0, 0, 0, 0, 0, 0, 0, 0, 0, 0, 0, 0, 0, 0, 0, 0, 0, 0, 0, 0, 0, 0, 0, 0, 0, 0, 0, 0, 0, 0, 0, 0, 0, 0, 0, 0, 0, 0, 0, 0, 0, 0, 0, 0, 0, 0, 0, 0, 0, 0, 0, 0, 0, 0, 0, 0, 0, 0, 0, 0, 1, 0, 0, 0, 0, 0, 0, 0, 0, 0, 0, 0, 0, 0, 0, 0, 0, 0, 0, 0, 0, 0, 0, 0, 0, 0, 0, 0, 0, 0, 0, 0, 0, 0, 0, 0, 0, 0, 0, 0, 0, 0, 0, 0, 0, 0, 0, 0, 0, 0, 0, 0, 0, 0, 0, 0, 0, 0, 0, 0, 0, 0, 0, 0, 0, 0, 0, 0, 0, 0, 0, 0, 0, 0, 0, 0, 0, 0, 0, 0, 0, 0, 0, 0, 0, 0, 0, 0, 0, 0, 0, 0, 0, 0, 0, 0, 0, 0, 0, 0, 0, 0, 0, 0, 0, 0, 0, 0, 0, 0, 0, 2, 0, 0, 0, 0, 0, 0, 0, 0, 0, 0, 0, 0, 0, 0, 0, 0, 0, 0, 0, 0, 0, 0, 0, 0, 0, 0, 0, 0, 0, 0, 0, 0, 0, 0, 0, 0, 0, 0, 0, 0, 0, 0, 0, 0, 0, 0, 0, 0, 0, 0, 0, 0, 0, 0, 0, 0, 0, 0, 0, 0, 0, 0, 0, 0, 0, 0, 0, 0, 0, 0, 0, 0, 0, 0, 0, 0, 0, 0, 0, 0, 0, 0, 0, 0, 0, 0, 0, 0, 0, 0, 0, 0, 0, 0, 0, 0, 0, 0, 0, 0, 0, 0, 0, 0, 0, 0, 0, 0, 0, 0, 0, 0, 0, 0, 0, 0, 0, 0, 0, 0, 0, 0, 0, 0, 0, 0, 0, 0, 0, 0, 0, 0, 0, 0, 0, 0, 0, 0, 0, 0, 0, 0, 0, 0, 0, 0, 0, 0, 0, 0, 0, 0, 0, 0, 0, 0, 0, 0, 0, 0, 0, 0, 0, 0, 0, 0, 0, 0, 0, 0, 0, 0, 0, 0, 0, 0, 0, 0, 0, 0, 0, 0, 0, 0, 0, 0, 0, 0, 0, 0, 0, 0, 0, 0, 0, 0, 0, 0, 0, 0, 0, 0, 0, 0, 0, 0, 0, 0, 0, 0, 0, 0, 0, 0, 0, 0, 0, 0, 0, 0, 0, 0, 0, 0, 0, 0, 0, 0, 0, 0, 0, 0, 0, 0, 0, 0, 0, 0, 0, 0, 0, 0, 0, 0, 0, 0, 0, 0, 0, 0, 0, 0, 0, 0, 0, 0, 0, 0, 0, 0, 0, 0, 0, 0, 0, 0, 0, 0, 0, 0, 0, 0, 0, 0, 0, 0, 0, 0, 0, 0, 0, 0, 0, 0, 0, 0, 0, 0, 0, 0, 0, 0, 0, 0, 0, 0, 0, 0, 0, 0, 0, 0, 0, 0, 0, 0, 0, 0, 0, 0, 0, 0, 0, 0, 0, 0, 0, 0, 0, 0, 0, 0, 0, 0, 0, 0, 0, 0, 0, 0, 0, 0, 0, 0, 0, 0, 0, 0, 0, 0, 0, 0, 0, 0, 0, 0, 0, 0, 0, 0, 0, 0, 0, 0, 0, 0, 0, 0, 0, 0, 0, 0, 0, 0, 0, 0, 0, 0, 0, 0, 0, 0, 0, 0, 0, 0, 0, 0, 0, 0, 0, 0, 0, 0, 0, 0, 0, 0, 0, 0, 0, 0, 0, 0, 0, 0, 0, 0, 0, 0, 0, 0, 0, 0, 0, 0, 0, 0, 0, 0, 0, 0, 0, 0, 0, 0, 0, 0, 0, 0, 0, 0, 0, 0, 0, 0, 0, 0, 0, 0, 0, 0, 0, 0, 0, 0, 0, 0, 0, 0, 0, 0, 0, 0, 0, 0, 0, 0, 0, 0, 0, 0, 0, 0, 0, 0, 0, 0, 0, 0, 0, 0, 0, 0, 0, 0, 0, 0, 0, 0, 0, 0, 0, 0, 0, 0, 0, 0, 0, 0, 0, 0, 0, 0, 0, 0, 0, 0, 0, 0, 0, 0, 0, 0, 0, 0, 0, 0, 0, 0, 0, 0, 0, 0, 0, 0, 0, 0, 0, 0, 0, 0, 0, 0, 0, 0, 0, 0, 0, 0, 0, 0, 0, 0, 0, 0, 0, 0, 0, 0, 0, 0, 0, 0, 0, 0, 0, 0, 0, 0, 0, 0, 0, 0, 0, 0, 0, 0, 0, 0, 0, 0, 0, 0, 0, 0, 0, 0, 0, 0, 0, 0, 0, 0, 0, 0, 0, 0, 0, 0, 0, 0, 0, 0, 0, 0, 0, 0, 0, 0, 0, 0, 0, 0, 0, 0, 0, 0, 0, 0, 0, 0, 0, 0, 0, 0, 0, 0, 0, 0, 0, 0, 0, 0, 0, 0, 0, 0, 0, 0, 0, 0, 0, 0, 0, 0, 0, 0, 0, 0, 0, 0, 0, 0, 0, 0, 0, 0, 0, 0, 0, 0, 0, 0, 0, 0, 0, 0, 0, 0, 0, 0, 0, 0, 0, 0, 0, 0, 0, 0, 0, 0, 0, 0, 0, 0, 0, 0, 0, 0, 0, 0, 0, 0, 0, 0, 0, 0, 0, 0, 0, 0, 0, 0, 0, 0, 0, 0, 0, 0, 0, 0, 0, 0, 0, 0, 0, 0, 0, 0, 1, 0, 0, 0, 0, 0, 0, 0, 0, 0, 0, 0, 0, 0, 0, 0, 0, 0, 0, 0, 0, 0, 0, 0, 0, 0, 0, 0, 0, 0, 0, 0, 0, 0, 0, 0, 0, 0, 0, 0, 0, 0, 0, 0, 0, 0, 0, 0, 0, 0, 0, 0, 0, 0, 0, 0, 0, 0, 0, 0, 0, 0, 0, 0, 0, 0, 0, 0, 0, 0, 0, 0, 0, 0, 0, 0, 0, 0, 0, 0, 0, 0, 0, 0, 0, 0, 0, 0, 0, 0, 0, 0, 0, 0, 0, 0, 0, 0, 0, 0, 0, 0, 0, 0, 0, 0, 0, 0, 1, 0, 0, 0, 0, 0, 0, 0, 0, 0, 0, 0, 0, 0, 0, 0, 0, 0, 0, 0, 0, 0, 0, 0, 0, 0, 0, 0, 0, 0, 0, 0, 0, 0, 0, 0, 0, 0, 0, 0, 0, 0, 0, 0, 0, 0, 0, 0, 0, 0, 0, 0, 0, 0, 0, 0, 0, 0, 0, 0, 0, 0, 0, 0, 0, 0, 0, 0, 0, 0, 0, 0, 0, 0, 0, 0, 0, 0, 0, 0, 0, 0, 0, 0, 0, 0, 0, 0, 0, 0, 0, 0, 0, 0, 0, 0, 0, 0, 0, 0, 0, 0, 0, 0, 0, 0, 0, 0, 0, 0, 0, 0, 0, 0, 0, 0, 0, 0, 0, 0, 0, 0, 0, 0, 0, 0, 0, 0, 0, 0, 0, 0, 0, 0, 0, 0, 0, 0, 0, 0, 0, 0, 0, 0, 0, 0, 0, 0, 0, 0, 0, 0, 0, 0, 0, 0, 0, 0, 0, 0, 0, 0, 0, 0, 0, 0, 0, 0, 0, 0, 0, 0, 0, 0, 0, 0, 0, 0, 0, 0, 0, 0, 0, 0, 0, 0, 0, 0, 0, 0, 0, 0, 0, 0, 0, 0, 0, 0, 0, 0, 0, 0, 0, 0, 0, 0, 0, 0, 0, 0, 0, 0, 0, 0, 0, 0, 0, 0, 0, 0, 0, 0, 0, 0, 0, 0, 0, 0, 0, 0, 0, 0, 0, 0, 0, 0, 0, 0, 0, 0, 0, 0, 0, 0, 0, 0, 0, 0, 0, 0, 0, 0, 0, 0, 0, 0, 0, 0, 0, 0, 0, 0, 0, 0, 0, 0, 0, 0, 0, 0, 0, 0, 0, 0, 0, 0, 0, 0, 0, 0, 0, 0, 0, 0, 0, 0, 0, 0, 0, 0, 0, 0, 0, 0, 0, 0, 0, 0, 0, 0, 0, 0, 0, 0, 0, 0, 0, 0, 0, 0, 0, 0, 0, 0, 0, 0, 0, 0, 0, 0, 0, 0, 0, 0, 0, 0, 0, 0, 0, 0, 0, 0, 0, 0, 0, 0, 0, 0, 0, 0, 0, 0, 0, 0, 0, 0, 0, 0, 0, 0, 0, 0, 0, 0, 0, 0, 0, 0, 0, 0, 0, 0, 0, 0, 0, 0, 0, 0, 0, 0, 0, 0, 0, 0, 0, 0, 0, 0, 0, 0, 0, 0, 0, 0, 0, 0, 0, 0, 0, 0, 0, 0, 0, 0, 0, 0, 0, 0, 0, 0, 0, 0, 0, 0, 0, 0, 0, 0, 0, 0, 0, 0, 0, 0, 0, 0, 0, 0, 0, 0, 0, 0, 0, 0, 0, 0, 0, 0, 0, 0, 0, 0, 0, 0, 0, 0, 0, 0, 0, 0, 0, 0, 0, 0, 0, 0, 0, 0, 0, 0, 0, 0, 0, 0, 0, 0, 0, 0, 0, 0, 0, 0, 0, 0, 2, 0, 1, 0]\n"
     ]
    }
   ],
   "source": [
    "test_bow = bow_encoding(test_words, vocabulary)\n",
    "print(test_bow)"
   ]
  },
  {
   "cell_type": "code",
   "execution_count": 40,
   "metadata": {},
   "outputs": [
    {
     "data": {
      "text/plain": [
       "5000"
      ]
     },
     "execution_count": 40,
     "metadata": {},
     "output_type": "execute_result"
    }
   ],
   "source": [
    "len(test_bow)"
   ]
  },
  {
   "cell_type": "markdown",
   "metadata": {},
   "source": [
    "So now we know how to construct a bag of words encoding of a user provided review, how to we send it to our endpoint? First, we need to start the endpoint back up."
   ]
  },
  {
   "cell_type": "code",
   "execution_count": 41,
   "metadata": {},
   "outputs": [
    {
     "name": "stdout",
     "output_type": "stream",
     "text": [
      "--------------------------------------------------------------------------------------!"
     ]
    }
   ],
   "source": [
    "xgb_predictor = xgb.deploy(initial_instance_count = 1, instance_type = 'ml.m4.xlarge')"
   ]
  },
  {
   "cell_type": "markdown",
   "metadata": {},
   "source": [
    "At this point we could just do the same thing that we did earlier when we tested our deployed model and send `test_bow` to our endpoint using the `xgb_predictor` object. However, when we eventually construct our Lambda function we won't have access to this object, so how do we call a SageMaker endpoint?\n",
    "\n",
    "It turns out that Python functions that are used in Lambda have access to another Amazon library called `boto3`. This library provides an API for working with Amazon services, including SageMaker. To start with, we need to get a handle to the SageMaker runtime."
   ]
  },
  {
   "cell_type": "code",
   "execution_count": 42,
   "metadata": {},
   "outputs": [],
   "source": [
    "import boto3\n",
    "\n",
    "runtime = boto3.Session().client('sagemaker-runtime')"
   ]
  },
  {
   "cell_type": "markdown",
   "metadata": {},
   "source": [
    "And now that we have access to the SageMaker runtime, we can ask it to make use of (invoke) an endpoint that has already been created. However, we need to provide SageMaker with the name of the deployed endpoint. To find this out we can print it out using the `xgb_predictor` object."
   ]
  },
  {
   "cell_type": "code",
   "execution_count": 43,
   "metadata": {},
   "outputs": [
    {
     "data": {
      "text/plain": [
       "'xgboost-2019-06-11-18-06-44-593'"
      ]
     },
     "execution_count": 43,
     "metadata": {},
     "output_type": "execute_result"
    }
   ],
   "source": [
    "xgb_predictor.endpoint"
   ]
  },
  {
   "cell_type": "markdown",
   "metadata": {},
   "source": [
    "Using the SageMaker runtime and the name of our endpoint, we can invoke the endpoint and send it the `test_bow` data."
   ]
  },
  {
   "cell_type": "code",
   "execution_count": 44,
   "metadata": {},
   "outputs": [
    {
     "ename": "ParamValidationError",
     "evalue": "Parameter validation failed:\nInvalid type for parameter Body, value: [0, 0, 0, 0, 0, 0, 0, 0, 0, 0, 0, 0, 0, 0, 0, 0, 0, 0, 0, 0, 0, 0, 0, 0, 0, 0, 0, 0, 0, 0, 0, 0, 0, 0, 0, 0, 0, 0, 0, 0, 0, 0, 0, 0, 0, 0, 0, 0, 0, 0, 0, 0, 0, 0, 0, 0, 0, 0, 0, 0, 0, 0, 0, 0, 0, 0, 0, 0, 0, 0, 0, 0, 0, 0, 0, 0, 0, 0, 0, 0, 0, 0, 0, 0, 0, 0, 0, 0, 0, 0, 0, 0, 0, 0, 0, 0, 0, 0, 0, 0, 0, 0, 0, 0, 0, 0, 0, 0, 0, 0, 0, 0, 0, 0, 0, 0, 0, 0, 0, 0, 0, 0, 0, 0, 0, 0, 0, 0, 0, 0, 0, 0, 0, 0, 0, 0, 0, 0, 0, 0, 0, 0, 0, 0, 0, 0, 0, 0, 0, 0, 0, 0, 0, 0, 0, 0, 0, 0, 0, 0, 0, 0, 0, 0, 0, 0, 0, 0, 0, 0, 0, 0, 0, 0, 0, 0, 0, 0, 0, 0, 0, 0, 0, 0, 0, 0, 0, 0, 0, 0, 0, 0, 0, 0, 0, 0, 0, 0, 0, 0, 0, 0, 0, 0, 0, 0, 0, 0, 0, 0, 0, 0, 0, 0, 0, 0, 0, 0, 0, 0, 0, 0, 0, 0, 0, 0, 1, 0, 0, 0, 0, 0, 0, 0, 0, 0, 0, 0, 0, 0, 0, 0, 0, 0, 0, 0, 0, 0, 0, 0, 0, 0, 0, 0, 0, 0, 1, 0, 0, 0, 0, 0, 0, 0, 0, 0, 0, 0, 0, 0, 0, 0, 0, 0, 0, 0, 0, 0, 0, 0, 0, 0, 0, 0, 0, 0, 0, 0, 0, 0, 0, 0, 0, 0, 0, 0, 0, 0, 0, 0, 0, 0, 0, 0, 0, 0, 0, 0, 0, 0, 0, 0, 0, 0, 0, 0, 0, 0, 0, 0, 0, 0, 0, 0, 0, 0, 0, 0, 0, 0, 0, 0, 0, 0, 0, 0, 0, 0, 0, 0, 0, 0, 0, 0, 0, 0, 0, 0, 0, 0, 0, 0, 0, 0, 0, 0, 0, 0, 0, 0, 0, 0, 0, 0, 0, 0, 0, 0, 0, 0, 0, 0, 0, 0, 0, 0, 0, 0, 0, 0, 0, 0, 0, 0, 0, 0, 0, 0, 0, 0, 0, 0, 0, 0, 0, 0, 0, 0, 0, 0, 0, 0, 0, 0, 0, 0, 0, 0, 0, 0, 0, 0, 0, 0, 0, 0, 0, 0, 0, 0, 0, 0, 0, 0, 0, 0, 0, 0, 0, 0, 0, 0, 0, 0, 0, 0, 0, 0, 0, 0, 0, 0, 0, 0, 0, 0, 0, 0, 0, 0, 0, 0, 0, 0, 0, 0, 0, 0, 0, 0, 0, 0, 0, 0, 0, 0, 0, 0, 0, 0, 0, 0, 0, 0, 0, 0, 0, 0, 0, 0, 0, 0, 0, 0, 0, 0, 0, 0, 0, 0, 0, 0, 0, 0, 0, 0, 0, 0, 0, 0, 0, 0, 0, 0, 0, 0, 0, 0, 0, 0, 0, 0, 0, 0, 0, 0, 0, 0, 0, 0, 0, 0, 0, 0, 0, 0, 0, 0, 0, 0, 0, 0, 0, 0, 0, 0, 0, 0, 0, 0, 0, 0, 0, 0, 0, 0, 0, 0, 0, 0, 0, 0, 0, 0, 0, 0, 0, 0, 0, 0, 0, 0, 0, 0, 0, 0, 0, 0, 0, 0, 0, 0, 0, 0, 0, 0, 0, 0, 0, 0, 0, 0, 0, 0, 0, 0, 0, 0, 0, 0, 0, 0, 0, 0, 0, 0, 0, 0, 0, 0, 0, 0, 0, 0, 0, 0, 0, 0, 0, 0, 0, 0, 0, 0, 0, 0, 0, 0, 0, 0, 0, 0, 0, 0, 0, 0, 0, 0, 0, 0, 0, 0, 0, 0, 0, 0, 1, 0, 0, 0, 0, 0, 0, 0, 0, 0, 0, 0, 0, 0, 0, 0, 0, 0, 0, 0, 0, 0, 0, 0, 0, 0, 0, 0, 0, 0, 0, 0, 0, 0, 0, 0, 0, 0, 0, 0, 0, 0, 0, 0, 0, 0, 0, 0, 0, 0, 0, 0, 0, 0, 0, 0, 0, 0, 0, 0, 0, 0, 0, 0, 0, 0, 0, 0, 0, 0, 0, 0, 0, 0, 0, 0, 0, 0, 0, 0, 0, 0, 0, 0, 0, 0, 0, 0, 0, 0, 0, 0, 0, 0, 0, 0, 0, 0, 0, 0, 0, 0, 0, 0, 0, 0, 0, 0, 0, 0, 0, 0, 0, 0, 0, 0, 0, 0, 0, 0, 0, 0, 0, 0, 0, 0, 0, 0, 0, 0, 0, 0, 0, 0, 0, 0, 0, 0, 0, 0, 0, 0, 0, 0, 0, 0, 0, 0, 0, 0, 0, 0, 0, 0, 0, 0, 0, 0, 0, 0, 0, 0, 0, 0, 0, 0, 0, 0, 0, 0, 0, 0, 0, 0, 0, 0, 0, 0, 0, 0, 0, 0, 0, 0, 0, 0, 0, 0, 0, 0, 0, 0, 0, 0, 0, 0, 0, 0, 0, 0, 0, 0, 0, 0, 0, 0, 0, 0, 0, 0, 0, 0, 0, 0, 0, 0, 0, 0, 0, 0, 0, 0, 0, 0, 0, 0, 0, 0, 0, 0, 0, 0, 0, 0, 0, 0, 0, 0, 0, 0, 0, 0, 0, 0, 0, 0, 0, 0, 0, 0, 0, 0, 0, 0, 1, 0, 0, 0, 0, 0, 0, 0, 0, 0, 0, 0, 0, 0, 0, 0, 0, 0, 0, 0, 0, 0, 0, 0, 0, 0, 0, 0, 0, 0, 0, 0, 0, 0, 0, 0, 0, 0, 0, 0, 0, 0, 0, 0, 0, 0, 0, 0, 0, 0, 0, 0, 0, 0, 0, 0, 0, 0, 0, 0, 0, 0, 0, 0, 0, 0, 0, 0, 0, 0, 0, 0, 0, 0, 0, 0, 0, 0, 0, 0, 0, 0, 0, 0, 0, 0, 0, 1, 0, 0, 0, 0, 0, 0, 0, 0, 0, 0, 0, 0, 0, 0, 0, 0, 0, 0, 0, 0, 0, 0, 0, 0, 0, 0, 0, 0, 0, 0, 0, 0, 0, 0, 0, 0, 0, 0, 0, 0, 0, 0, 0, 0, 0, 0, 0, 0, 0, 0, 0, 0, 0, 0, 0, 0, 0, 0, 0, 0, 0, 0, 0, 0, 0, 0, 0, 0, 0, 0, 0, 0, 0, 0, 0, 0, 0, 0, 0, 0, 0, 0, 0, 0, 0, 0, 0, 0, 0, 0, 0, 0, 0, 0, 0, 0, 0, 0, 0, 0, 0, 0, 0, 0, 0, 0, 0, 0, 0, 0, 0, 0, 0, 0, 0, 0, 0, 0, 0, 0, 0, 0, 0, 0, 0, 0, 0, 0, 0, 0, 0, 0, 0, 0, 0, 0, 0, 0, 0, 0, 0, 0, 0, 0, 0, 0, 0, 0, 0, 0, 0, 0, 0, 0, 0, 0, 0, 0, 0, 0, 0, 0, 0, 0, 0, 0, 0, 0, 0, 0, 0, 0, 0, 0, 0, 0, 0, 0, 0, 0, 0, 0, 0, 0, 0, 0, 0, 0, 0, 0, 0, 0, 0, 0, 0, 0, 0, 0, 0, 0, 0, 0, 0, 0, 0, 0, 0, 0, 0, 0, 0, 0, 0, 0, 0, 0, 0, 0, 0, 0, 0, 0, 0, 0, 0, 0, 0, 0, 0, 0, 0, 0, 0, 0, 0, 0, 0, 0, 0, 0, 0, 0, 0, 0, 0, 0, 0, 0, 0, 0, 0, 0, 1, 0, 0, 0, 0, 0, 0, 0, 0, 0, 0, 0, 0, 0, 0, 0, 0, 0, 0, 0, 0, 0, 0, 0, 0, 0, 0, 0, 0, 0, 0, 0, 0, 0, 0, 0, 0, 0, 0, 0, 0, 0, 0, 0, 0, 0, 0, 0, 0, 0, 0, 0, 0, 0, 0, 0, 1, 0, 0, 0, 0, 0, 0, 0, 0, 0, 0, 0, 0, 0, 0, 0, 0, 0, 0, 0, 0, 0, 0, 0, 0, 0, 0, 0, 0, 0, 0, 0, 0, 0, 0, 0, 0, 0, 0, 0, 0, 0, 0, 0, 0, 0, 0, 0, 0, 0, 0, 0, 0, 0, 0, 0, 0, 0, 0, 0, 0, 0, 0, 0, 0, 0, 0, 0, 0, 0, 0, 0, 0, 0, 0, 0, 0, 0, 0, 0, 0, 0, 0, 0, 0, 0, 0, 0, 0, 0, 0, 0, 0, 0, 0, 0, 0, 0, 0, 0, 0, 0, 0, 0, 0, 0, 0, 0, 0, 0, 0, 0, 0, 0, 0, 0, 0, 0, 0, 0, 0, 0, 0, 0, 0, 0, 0, 0, 0, 0, 0, 0, 0, 0, 0, 0, 0, 0, 0, 0, 0, 0, 0, 0, 0, 0, 0, 0, 0, 0, 0, 0, 0, 0, 0, 0, 0, 0, 0, 0, 0, 0, 0, 0, 0, 0, 0, 0, 0, 0, 0, 0, 0, 0, 0, 0, 0, 0, 0, 0, 0, 0, 0, 0, 0, 0, 0, 0, 0, 0, 0, 0, 0, 0, 0, 0, 0, 0, 0, 0, 0, 0, 0, 0, 0, 0, 0, 0, 0, 0, 0, 0, 0, 0, 0, 0, 0, 0, 0, 0, 0, 0, 0, 0, 0, 0, 0, 0, 0, 0, 0, 0, 0, 0, 0, 0, 0, 0, 0, 0, 0, 0, 0, 0, 0, 0, 0, 0, 0, 0, 0, 0, 0, 0, 0, 0, 0, 0, 0, 0, 0, 0, 0, 0, 0, 0, 0, 0, 0, 0, 0, 0, 0, 0, 0, 0, 0, 0, 0, 0, 0, 0, 0, 0, 0, 0, 0, 0, 0, 0, 0, 0, 0, 0, 0, 0, 0, 0, 0, 0, 0, 0, 0, 0, 0, 0, 0, 0, 0, 0, 0, 0, 0, 0, 0, 0, 0, 0, 0, 0, 0, 0, 0, 0, 0, 0, 0, 0, 0, 0, 0, 0, 0, 0, 0, 0, 0, 0, 0, 0, 0, 0, 0, 0, 0, 0, 0, 0, 0, 0, 0, 0, 0, 0, 0, 0, 0, 0, 0, 0, 0, 0, 0, 0, 0, 0, 0, 0, 0, 0, 0, 0, 0, 0, 0, 0, 0, 0, 0, 0, 0, 0, 0, 0, 0, 0, 0, 0, 0, 0, 0, 0, 0, 0, 0, 0, 0, 0, 0, 0, 0, 0, 0, 0, 0, 0, 0, 0, 0, 0, 0, 0, 0, 0, 0, 0, 0, 0, 0, 0, 0, 0, 0, 0, 0, 0, 0, 0, 0, 0, 0, 0, 0, 0, 0, 0, 0, 0, 0, 0, 0, 0, 0, 0, 0, 0, 0, 0, 0, 0, 0, 0, 0, 0, 0, 0, 0, 0, 0, 0, 0, 0, 0, 0, 0, 0, 0, 0, 0, 0, 0, 0, 0, 0, 0, 0, 0, 0, 0, 0, 0, 0, 0, 0, 0, 0, 0, 0, 0, 0, 0, 0, 0, 0, 0, 0, 0, 0, 0, 0, 0, 0, 0, 0, 0, 0, 0, 0, 0, 0, 0, 0, 0, 0, 0, 0, 0, 0, 0, 0, 0, 0, 0, 0, 0, 0, 0, 0, 0, 0, 0, 0, 0, 0, 0, 0, 0, 0, 0, 0, 0, 0, 0, 0, 0, 0, 0, 0, 0, 0, 0, 0, 0, 0, 0, 0, 0, 0, 0, 0, 0, 0, 0, 0, 0, 0, 0, 0, 0, 0, 0, 0, 0, 0, 0, 0, 0, 0, 0, 0, 0, 0, 0, 0, 0, 0, 0, 0, 0, 0, 0, 0, 0, 0, 0, 0, 0, 0, 0, 0, 0, 0, 0, 0, 0, 0, 0, 0, 0, 0, 0, 0, 0, 0, 0, 0, 0, 0, 0, 0, 0, 0, 0, 0, 0, 0, 0, 0, 0, 0, 0, 0, 0, 0, 0, 0, 0, 0, 0, 0, 0, 0, 0, 0, 0, 0, 0, 0, 0, 0, 0, 0, 0, 0, 0, 0, 0, 0, 0, 0, 0, 0, 0, 0, 0, 0, 0, 0, 0, 0, 0, 0, 0, 0, 0, 0, 0, 0, 0, 0, 0, 0, 1, 0, 0, 0, 0, 0, 0, 0, 0, 0, 0, 0, 0, 0, 0, 0, 0, 0, 0, 0, 0, 0, 0, 0, 0, 0, 0, 0, 0, 0, 0, 0, 0, 0, 0, 0, 0, 0, 0, 0, 0, 0, 0, 0, 0, 0, 0, 0, 0, 0, 0, 0, 0, 0, 0, 0, 0, 0, 0, 0, 0, 0, 0, 0, 0, 0, 0, 0, 0, 0, 0, 0, 0, 0, 0, 1, 0, 0, 0, 0, 0, 0, 0, 0, 0, 0, 0, 0, 0, 0, 0, 0, 0, 0, 0, 0, 1, 0, 0, 1, 0, 0, 0, 0, 0, 0, 0, 0, 0, 0, 0, 0, 0, 0, 0, 0, 0, 0, 0, 0, 0, 0, 0, 0, 0, 0, 0, 0, 0, 0, 0, 0, 0, 0, 0, 0, 0, 0, 0, 0, 0, 0, 0, 0, 0, 0, 0, 0, 0, 0, 0, 0, 0, 0, 0, 0, 0, 0, 0, 0, 0, 0, 0, 0, 0, 0, 0, 0, 0, 0, 0, 0, 0, 0, 0, 0, 0, 0, 0, 0, 0, 0, 0, 0, 0, 0, 0, 0, 0, 0, 0, 0, 0, 0, 0, 0, 0, 0, 0, 0, 0, 0, 0, 0, 0, 0, 0, 0, 0, 0, 0, 0, 0, 0, 0, 0, 0, 0, 0, 0, 0, 0, 0, 0, 0, 0, 0, 0, 0, 0, 0, 0, 0, 0, 0, 0, 0, 0, 0, 0, 0, 0, 0, 0, 0, 0, 0, 0, 0, 0, 0, 0, 0, 0, 0, 0, 0, 0, 0, 0, 0, 0, 0, 0, 0, 0, 0, 0, 0, 0, 0, 0, 0, 0, 0, 0, 0, 0, 0, 0, 0, 0, 0, 0, 0, 0, 0, 0, 0, 0, 0, 0, 0, 0, 0, 0, 0, 0, 0, 0, 0, 0, 0, 0, 0, 0, 0, 0, 0, 0, 0, 0, 0, 0, 0, 0, 0, 0, 0, 0, 0, 0, 0, 0, 0, 0, 0, 0, 0, 0, 0, 0, 0, 0, 0, 0, 0, 0, 0, 0, 0, 0, 0, 0, 0, 0, 0, 0, 0, 0, 0, 0, 0, 0, 0, 0, 0, 0, 0, 0, 0, 0, 0, 0, 0, 0, 0, 0, 0, 0, 0, 0, 0, 0, 0, 0, 0, 0, 0, 0, 0, 0, 0, 0, 0, 0, 0, 0, 0, 0, 0, 0, 0, 0, 0, 0, 0, 0, 0, 0, 0, 0, 0, 0, 0, 0, 0, 0, 0, 0, 0, 0, 0, 0, 0, 0, 0, 0, 0, 0, 0, 0, 0, 0, 0, 0, 0, 0, 0, 0, 0, 0, 0, 0, 0, 0, 0, 0, 0, 0, 0, 0, 0, 0, 0, 0, 0, 0, 0, 0, 0, 0, 0, 0, 0, 0, 0, 0, 0, 0, 0, 0, 0, 0, 0, 0, 0, 0, 0, 0, 0, 0, 0, 0, 0, 0, 0, 0, 0, 0, 0, 0, 0, 0, 0, 0, 0, 0, 0, 0, 0, 0, 0, 0, 0, 0, 0, 0, 0, 0, 0, 0, 0, 0, 0, 0, 0, 0, 0, 0, 0, 0, 0, 0, 0, 0, 0, 0, 0, 0, 0, 0, 0, 0, 0, 0, 0, 0, 0, 0, 0, 0, 0, 0, 0, 0, 0, 0, 0, 0, 0, 0, 0, 0, 0, 0, 0, 0, 0, 0, 0, 0, 0, 0, 0, 0, 0, 0, 0, 0, 0, 0, 0, 0, 0, 0, 1, 0, 0, 0, 0, 0, 0, 0, 0, 0, 0, 0, 0, 0, 0, 0, 0, 0, 0, 0, 0, 0, 0, 0, 0, 0, 0, 0, 0, 0, 0, 0, 0, 0, 0, 0, 0, 0, 0, 0, 0, 0, 0, 0, 0, 0, 0, 0, 0, 0, 0, 0, 0, 0, 0, 0, 0, 0, 0, 0, 0, 0, 0, 0, 0, 0, 0, 0, 0, 0, 0, 0, 0, 0, 0, 0, 0, 0, 0, 0, 0, 0, 0, 0, 0, 0, 0, 0, 0, 0, 0, 0, 0, 0, 0, 0, 0, 0, 0, 0, 0, 0, 0, 0, 0, 0, 0, 0, 0, 0, 0, 0, 0, 0, 0, 0, 0, 0, 0, 0, 0, 0, 0, 0, 0, 0, 0, 0, 0, 0, 0, 0, 0, 0, 0, 0, 0, 0, 0, 0, 0, 0, 0, 0, 0, 0, 0, 0, 0, 0, 0, 0, 0, 0, 0, 0, 0, 0, 0, 0, 0, 0, 0, 0, 0, 0, 0, 0, 0, 0, 0, 0, 0, 0, 0, 0, 0, 0, 0, 0, 0, 0, 0, 0, 0, 0, 0, 0, 0, 0, 0, 0, 0, 0, 0, 0, 0, 0, 0, 0, 0, 0, 0, 0, 0, 0, 0, 0, 0, 0, 0, 0, 0, 0, 0, 0, 0, 0, 0, 0, 0, 0, 0, 0, 0, 0, 0, 0, 0, 0, 0, 0, 0, 0, 0, 0, 0, 0, 0, 0, 0, 0, 0, 0, 0, 0, 0, 0, 0, 0, 0, 0, 0, 0, 0, 0, 0, 0, 0, 0, 0, 0, 0, 0, 0, 0, 0, 0, 0, 0, 0, 0, 0, 0, 0, 0, 0, 0, 0, 0, 0, 0, 0, 0, 0, 0, 0, 0, 0, 0, 0, 0, 0, 0, 0, 0, 0, 0, 0, 0, 0, 0, 0, 0, 0, 0, 0, 0, 0, 0, 0, 0, 0, 0, 0, 0, 0, 0, 0, 0, 0, 0, 0, 0, 0, 0, 0, 0, 0, 0, 0, 0, 0, 0, 0, 0, 0, 0, 0, 0, 0, 0, 0, 0, 0, 0, 0, 0, 0, 0, 0, 0, 0, 0, 0, 0, 0, 0, 0, 0, 0, 0, 0, 0, 0, 0, 0, 0, 0, 0, 0, 0, 0, 0, 0, 0, 0, 0, 0, 0, 0, 0, 0, 0, 0, 0, 0, 0, 0, 0, 0, 0, 0, 0, 0, 0, 0, 0, 0, 0, 0, 0, 0, 0, 0, 0, 0, 0, 0, 0, 0, 0, 0, 0, 0, 0, 0, 0, 0, 0, 0, 0, 0, 0, 0, 0, 0, 0, 0, 0, 0, 0, 0, 0, 0, 0, 0, 0, 0, 0, 0, 0, 0, 0, 0, 0, 0, 0, 0, 0, 0, 0, 0, 0, 0, 0, 0, 0, 0, 0, 0, 0, 0, 0, 0, 0, 0, 0, 0, 0, 0, 0, 0, 0, 0, 0, 0, 0, 0, 0, 0, 0, 0, 0, 0, 0, 0, 0, 0, 0, 0, 0, 0, 0, 0, 0, 0, 0, 0, 0, 0, 0, 0, 0, 0, 0, 0, 0, 0, 0, 0, 0, 0, 1, 0, 0, 0, 0, 0, 0, 0, 0, 0, 0, 0, 0, 0, 0, 0, 0, 0, 0, 0, 0, 0, 0, 0, 0, 0, 0, 0, 0, 0, 0, 0, 0, 0, 0, 0, 2, 0, 0, 0, 0, 0, 0, 0, 0, 0, 0, 0, 0, 0, 0, 0, 0, 0, 0, 0, 0, 0, 0, 0, 0, 0, 0, 0, 0, 0, 0, 0, 0, 0, 0, 0, 0, 0, 0, 0, 0, 1, 0, 0, 0, 0, 0, 0, 0, 0, 0, 0, 0, 0, 0, 0, 0, 0, 0, 0, 0, 0, 0, 0, 0, 0, 0, 0, 0, 0, 0, 0, 0, 0, 0, 0, 0, 0, 0, 0, 0, 0, 0, 0, 0, 0, 0, 0, 0, 0, 0, 0, 0, 0, 0, 0, 0, 0, 0, 0, 0, 0, 0, 0, 0, 0, 0, 0, 0, 0, 0, 0, 0, 0, 0, 0, 0, 0, 0, 0, 0, 0, 0, 0, 0, 0, 0, 0, 0, 0, 0, 0, 0, 0, 0, 0, 0, 0, 0, 0, 0, 0, 0, 0, 0, 0, 0, 0, 0, 0, 0, 0, 0, 0, 0, 0, 0, 0, 0, 0, 0, 0, 0, 0, 0, 0, 0, 0, 0, 0, 0, 0, 0, 0, 0, 0, 0, 0, 0, 0, 0, 0, 0, 0, 0, 0, 0, 0, 0, 0, 0, 0, 0, 0, 0, 0, 0, 0, 0, 0, 0, 0, 0, 0, 0, 0, 0, 0, 0, 0, 0, 0, 0, 0, 0, 0, 0, 0, 0, 0, 0, 0, 0, 0, 0, 0, 0, 0, 0, 0, 0, 0, 0, 0, 0, 0, 0, 0, 0, 0, 0, 0, 0, 0, 0, 0, 0, 0, 0, 0, 0, 0, 0, 0, 0, 0, 0, 0, 0, 0, 0, 0, 0, 0, 0, 0, 0, 0, 0, 0, 0, 0, 0, 0, 0, 0, 0, 0, 0, 0, 0, 0, 0, 0, 0, 0, 0, 0, 0, 0, 0, 0, 0, 0, 0, 0, 0, 0, 0, 0, 0, 0, 0, 0, 0, 0, 0, 0, 0, 0, 0, 0, 0, 0, 0, 0, 0, 0, 0, 0, 0, 0, 0, 0, 0, 0, 0, 0, 0, 0, 0, 0, 0, 0, 0, 0, 0, 0, 0, 0, 0, 0, 0, 0, 0, 0, 0, 0, 0, 0, 0, 0, 0, 0, 0, 0, 0, 0, 0, 0, 0, 0, 0, 0, 0, 0, 0, 0, 0, 0, 0, 0, 0, 0, 0, 0, 0, 0, 0, 0, 0, 0, 0, 0, 0, 0, 0, 0, 0, 0, 0, 0, 0, 0, 0, 0, 0, 0, 0, 0, 0, 0, 0, 0, 0, 0, 0, 0, 0, 0, 0, 0, 0, 0, 0, 0, 0, 0, 0, 0, 0, 0, 0, 0, 0, 0, 0, 0, 0, 0, 0, 0, 0, 0, 0, 0, 0, 0, 0, 0, 0, 0, 0, 0, 0, 0, 0, 0, 0, 0, 0, 0, 0, 0, 0, 0, 0, 0, 0, 0, 0, 0, 0, 0, 0, 0, 0, 0, 0, 0, 0, 0, 0, 0, 0, 0, 0, 0, 0, 0, 0, 0, 0, 0, 0, 0, 0, 0, 0, 0, 0, 0, 0, 0, 0, 0, 0, 0, 0, 0, 0, 0, 0, 0, 0, 0, 0, 0, 0, 0, 0, 0, 0, 0, 0, 0, 0, 0, 0, 0, 0, 0, 0, 0, 0, 0, 0, 0, 0, 0, 0, 0, 0, 0, 0, 0, 0, 0, 0, 1, 0, 0, 0, 0, 0, 0, 0, 0, 0, 0, 0, 0, 0, 0, 0, 0, 0, 0, 0, 0, 0, 0, 0, 0, 0, 0, 0, 0, 0, 0, 0, 0, 0, 0, 0, 0, 0, 0, 0, 0, 0, 0, 0, 0, 0, 0, 0, 0, 0, 0, 0, 0, 0, 0, 0, 0, 0, 0, 0, 0, 0, 0, 0, 0, 0, 0, 0, 0, 0, 0, 0, 0, 0, 0, 0, 0, 0, 0, 0, 0, 0, 0, 0, 0, 0, 0, 0, 0, 0, 0, 0, 0, 0, 0, 0, 0, 0, 0, 0, 0, 0, 0, 0, 0, 0, 0, 0, 0, 0, 0, 2, 0, 0, 0, 0, 0, 0, 0, 0, 0, 0, 0, 0, 0, 0, 0, 0, 0, 0, 0, 0, 0, 0, 0, 0, 0, 0, 0, 0, 0, 0, 0, 0, 0, 0, 0, 0, 0, 0, 0, 0, 0, 0, 0, 0, 0, 0, 0, 0, 0, 0, 0, 0, 0, 0, 0, 0, 0, 0, 0, 0, 0, 0, 0, 0, 0, 0, 0, 0, 0, 0, 0, 0, 0, 0, 0, 0, 0, 0, 0, 0, 0, 0, 0, 0, 0, 0, 0, 0, 0, 0, 0, 0, 0, 0, 0, 0, 0, 0, 0, 0, 0, 0, 0, 0, 0, 0, 0, 0, 0, 0, 0, 0, 0, 0, 0, 0, 0, 0, 0, 0, 0, 0, 0, 0, 0, 0, 0, 0, 0, 0, 0, 0, 0, 0, 0, 0, 0, 0, 0, 0, 0, 0, 0, 0, 0, 0, 0, 0, 0, 0, 0, 0, 0, 0, 0, 0, 0, 0, 0, 0, 0, 0, 0, 0, 0, 0, 0, 0, 0, 0, 0, 0, 0, 0, 0, 0, 0, 0, 0, 0, 0, 0, 0, 0, 0, 0, 0, 0, 0, 0, 0, 0, 0, 0, 0, 0, 0, 0, 0, 0, 0, 0, 0, 0, 0, 0, 0, 0, 0, 0, 0, 0, 0, 0, 0, 0, 0, 0, 0, 0, 0, 0, 0, 0, 0, 0, 0, 0, 0, 0, 0, 0, 0, 0, 0, 0, 0, 0, 0, 0, 0, 0, 0, 0, 0, 0, 0, 0, 0, 0, 0, 0, 0, 0, 0, 0, 0, 0, 0, 0, 0, 0, 0, 0, 0, 0, 0, 0, 0, 0, 0, 0, 0, 0, 0, 0, 0, 0, 0, 0, 0, 0, 0, 0, 0, 0, 0, 0, 0, 0, 0, 0, 0, 0, 0, 0, 0, 0, 0, 0, 0, 0, 0, 0, 0, 0, 0, 0, 0, 0, 0, 0, 0, 0, 0, 0, 0, 0, 0, 0, 0, 0, 0, 0, 0, 0, 0, 0, 0, 0, 0, 0, 0, 0, 0, 0, 0, 0, 0, 0, 0, 0, 0, 0, 0, 0, 0, 0, 0, 0, 0, 0, 0, 0, 0, 0, 0, 0, 0, 0, 0, 0, 0, 0, 0, 0, 0, 0, 0, 0, 0, 0, 0, 0, 0, 0, 0, 0, 0, 0, 0, 0, 0, 0, 0, 0, 0, 0, 0, 0, 0, 0, 0, 0, 0, 0, 0, 0, 0, 0, 0, 0, 0, 0, 0, 0, 0, 0, 0, 0, 0, 0, 0, 0, 0, 0, 0, 0, 0, 0, 0, 0, 0, 0, 0, 0, 0, 0, 0, 0, 0, 0, 0, 0, 0, 0, 0, 0, 0, 0, 0, 0, 0, 0, 0, 0, 0, 0, 0, 0, 0, 0, 0, 0, 0, 0, 0, 0, 0, 0, 0, 0, 0, 0, 0, 0, 0, 0, 0, 0, 0, 0, 0, 0, 0, 0, 0, 0, 0, 0, 0, 0, 0, 0, 0, 0, 0, 0, 0, 0, 0, 0, 0, 0, 0, 0, 0, 0, 0, 0, 0, 0, 0, 0, 0, 0, 0, 0, 0, 0, 0, 0, 0, 0, 0, 0, 0, 0, 0, 0, 0, 0, 0, 0, 0, 0, 0, 0, 0, 0, 0, 0, 0, 0, 0, 0, 0, 0, 0, 0, 0, 0, 0, 0, 0, 0, 0, 0, 0, 0, 0, 0, 0, 0, 0, 0, 0, 0, 0, 0, 0, 0, 0, 0, 0, 0, 0, 0, 0, 0, 0, 0, 0, 0, 0, 0, 0, 0, 0, 0, 0, 0, 0, 0, 0, 0, 0, 0, 0, 0, 0, 0, 0, 0, 0, 0, 0, 0, 0, 0, 0, 0, 0, 0, 0, 0, 0, 0, 0, 0, 0, 0, 0, 0, 0, 0, 0, 0, 0, 0, 0, 0, 0, 0, 0, 0, 0, 0, 0, 0, 0, 0, 0, 0, 0, 0, 0, 0, 0, 0, 0, 0, 0, 0, 0, 0, 0, 0, 0, 0, 0, 0, 0, 0, 0, 0, 0, 0, 0, 0, 0, 0, 0, 0, 0, 0, 0, 0, 0, 0, 0, 0, 0, 0, 0, 0, 0, 0, 0, 0, 0, 0, 0, 0, 0, 0, 0, 0, 0, 0, 1, 0, 0, 0, 0, 0, 0, 0, 0, 0, 0, 0, 0, 0, 0, 0, 0, 0, 0, 0, 0, 0, 0, 0, 0, 0, 0, 0, 0, 0, 0, 0, 0, 0, 0, 0, 0, 0, 0, 0, 0, 0, 0, 0, 0, 0, 0, 0, 0, 0, 0, 0, 0, 0, 0, 0, 0, 0, 0, 0, 0, 0, 0, 0, 0, 0, 0, 0, 0, 0, 0, 0, 0, 0, 0, 0, 0, 0, 0, 0, 0, 0, 0, 0, 0, 0, 0, 0, 0, 0, 0, 0, 0, 0, 0, 0, 0, 0, 0, 0, 0, 0, 0, 0, 0, 0, 0, 0, 1, 0, 0, 0, 0, 0, 0, 0, 0, 0, 0, 0, 0, 0, 0, 0, 0, 0, 0, 0, 0, 0, 0, 0, 0, 0, 0, 0, 0, 0, 0, 0, 0, 0, 0, 0, 0, 0, 0, 0, 0, 0, 0, 0, 0, 0, 0, 0, 0, 0, 0, 0, 0, 0, 0, 0, 0, 0, 0, 0, 0, 0, 0, 0, 0, 0, 0, 0, 0, 0, 0, 0, 0, 0, 0, 0, 0, 0, 0, 0, 0, 0, 0, 0, 0, 0, 0, 0, 0, 0, 0, 0, 0, 0, 0, 0, 0, 0, 0, 0, 0, 0, 0, 0, 0, 0, 0, 0, 0, 0, 0, 0, 0, 0, 0, 0, 0, 0, 0, 0, 0, 0, 0, 0, 0, 0, 0, 0, 0, 0, 0, 0, 0, 0, 0, 0, 0, 0, 0, 0, 0, 0, 0, 0, 0, 0, 0, 0, 0, 0, 0, 0, 0, 0, 0, 0, 0, 0, 0, 0, 0, 0, 0, 0, 0, 0, 0, 0, 0, 0, 0, 0, 0, 0, 0, 0, 0, 0, 0, 0, 0, 0, 0, 0, 0, 0, 0, 0, 0, 0, 0, 0, 0, 0, 0, 0, 0, 0, 0, 0, 0, 0, 0, 0, 0, 0, 0, 0, 0, 0, 0, 0, 0, 0, 0, 0, 0, 0, 0, 0, 0, 0, 0, 0, 0, 0, 0, 0, 0, 0, 0, 0, 0, 0, 0, 0, 0, 0, 0, 0, 0, 0, 0, 0, 0, 0, 0, 0, 0, 0, 0, 0, 0, 0, 0, 0, 0, 0, 0, 0, 0, 0, 0, 0, 0, 0, 0, 0, 0, 0, 0, 0, 0, 0, 0, 0, 0, 0, 0, 0, 0, 0, 0, 0, 0, 0, 0, 0, 0, 0, 0, 0, 0, 0, 0, 0, 0, 0, 0, 0, 0, 0, 0, 0, 0, 0, 0, 0, 0, 0, 0, 0, 0, 0, 0, 0, 0, 0, 0, 0, 0, 0, 0, 0, 0, 0, 0, 0, 0, 0, 0, 0, 0, 0, 0, 0, 0, 0, 0, 0, 0, 0, 0, 0, 0, 0, 0, 0, 0, 0, 0, 0, 0, 0, 0, 0, 0, 0, 0, 0, 0, 0, 0, 0, 0, 0, 0, 0, 0, 0, 0, 0, 0, 0, 0, 0, 0, 0, 0, 0, 0, 0, 0, 0, 0, 0, 0, 0, 0, 0, 0, 0, 0, 0, 0, 0, 0, 0, 0, 0, 0, 0, 0, 0, 0, 0, 0, 0, 0, 0, 0, 0, 0, 0, 0, 0, 0, 0, 0, 0, 0, 0, 0, 0, 0, 0, 0, 0, 0, 0, 0, 0, 0, 0, 0, 0, 0, 0, 0, 0, 0, 0, 0, 0, 0, 0, 0, 0, 0, 0, 0, 0, 0, 0, 0, 0, 0, 0, 0, 0, 0, 0, 0, 0, 2, 0, 1, 0], type: <class 'list'>, valid types: <class 'bytes'>, <class 'bytearray'>, file-like object",
     "output_type": "error",
     "traceback": [
      "\u001b[0;31m---------------------------------------------------------------------------\u001b[0m",
      "\u001b[0;31mParamValidationError\u001b[0m                      Traceback (most recent call last)",
      "\u001b[0;32m<ipython-input-44-c9ab54ae3a48>\u001b[0m in \u001b[0;36m<module>\u001b[0;34m()\u001b[0m\n\u001b[1;32m      1\u001b[0m response = runtime.invoke_endpoint(EndpointName = xgb_predictor.endpoint, # The name of the endpoint we created\n\u001b[1;32m      2\u001b[0m                                        \u001b[0mContentType\u001b[0m \u001b[0;34m=\u001b[0m \u001b[0;34m'text/csv'\u001b[0m\u001b[0;34m,\u001b[0m                     \u001b[0;31m# The data format that is expected\u001b[0m\u001b[0;34m\u001b[0m\u001b[0m\n\u001b[0;32m----> 3\u001b[0;31m                                        Body = test_bow)\n\u001b[0m",
      "\u001b[0;32m~/anaconda3/envs/python3/lib/python3.6/site-packages/botocore/client.py\u001b[0m in \u001b[0;36m_api_call\u001b[0;34m(self, *args, **kwargs)\u001b[0m\n\u001b[1;32m    355\u001b[0m                     \"%s() only accepts keyword arguments.\" % py_operation_name)\n\u001b[1;32m    356\u001b[0m             \u001b[0;31m# The \"self\" in this scope is referring to the BaseClient.\u001b[0m\u001b[0;34m\u001b[0m\u001b[0;34m\u001b[0m\u001b[0m\n\u001b[0;32m--> 357\u001b[0;31m             \u001b[0;32mreturn\u001b[0m \u001b[0mself\u001b[0m\u001b[0;34m.\u001b[0m\u001b[0m_make_api_call\u001b[0m\u001b[0;34m(\u001b[0m\u001b[0moperation_name\u001b[0m\u001b[0;34m,\u001b[0m \u001b[0mkwargs\u001b[0m\u001b[0;34m)\u001b[0m\u001b[0;34m\u001b[0m\u001b[0m\n\u001b[0m\u001b[1;32m    358\u001b[0m \u001b[0;34m\u001b[0m\u001b[0m\n\u001b[1;32m    359\u001b[0m         \u001b[0m_api_call\u001b[0m\u001b[0;34m.\u001b[0m\u001b[0m__name__\u001b[0m \u001b[0;34m=\u001b[0m \u001b[0mstr\u001b[0m\u001b[0;34m(\u001b[0m\u001b[0mpy_operation_name\u001b[0m\u001b[0;34m)\u001b[0m\u001b[0;34m\u001b[0m\u001b[0m\n",
      "\u001b[0;32m~/anaconda3/envs/python3/lib/python3.6/site-packages/botocore/client.py\u001b[0m in \u001b[0;36m_make_api_call\u001b[0;34m(self, operation_name, api_params)\u001b[0m\n\u001b[1;32m    632\u001b[0m         }\n\u001b[1;32m    633\u001b[0m         request_dict = self._convert_to_request_dict(\n\u001b[0;32m--> 634\u001b[0;31m             api_params, operation_model, context=request_context)\n\u001b[0m\u001b[1;32m    635\u001b[0m \u001b[0;34m\u001b[0m\u001b[0m\n\u001b[1;32m    636\u001b[0m         \u001b[0mservice_id\u001b[0m \u001b[0;34m=\u001b[0m \u001b[0mself\u001b[0m\u001b[0;34m.\u001b[0m\u001b[0m_service_model\u001b[0m\u001b[0;34m.\u001b[0m\u001b[0mservice_id\u001b[0m\u001b[0;34m.\u001b[0m\u001b[0mhyphenize\u001b[0m\u001b[0;34m(\u001b[0m\u001b[0;34m)\u001b[0m\u001b[0;34m\u001b[0m\u001b[0m\n",
      "\u001b[0;32m~/anaconda3/envs/python3/lib/python3.6/site-packages/botocore/client.py\u001b[0m in \u001b[0;36m_convert_to_request_dict\u001b[0;34m(self, api_params, operation_model, context)\u001b[0m\n\u001b[1;32m    680\u001b[0m             api_params, operation_model, context)\n\u001b[1;32m    681\u001b[0m         request_dict = self._serializer.serialize_to_request(\n\u001b[0;32m--> 682\u001b[0;31m             api_params, operation_model)\n\u001b[0m\u001b[1;32m    683\u001b[0m         \u001b[0;32mif\u001b[0m \u001b[0;32mnot\u001b[0m \u001b[0mself\u001b[0m\u001b[0;34m.\u001b[0m\u001b[0m_client_config\u001b[0m\u001b[0;34m.\u001b[0m\u001b[0minject_host_prefix\u001b[0m\u001b[0;34m:\u001b[0m\u001b[0;34m\u001b[0m\u001b[0m\n\u001b[1;32m    684\u001b[0m             \u001b[0mrequest_dict\u001b[0m\u001b[0;34m.\u001b[0m\u001b[0mpop\u001b[0m\u001b[0;34m(\u001b[0m\u001b[0;34m'host_prefix'\u001b[0m\u001b[0;34m,\u001b[0m \u001b[0;32mNone\u001b[0m\u001b[0;34m)\u001b[0m\u001b[0;34m\u001b[0m\u001b[0m\n",
      "\u001b[0;32m~/anaconda3/envs/python3/lib/python3.6/site-packages/botocore/validate.py\u001b[0m in \u001b[0;36mserialize_to_request\u001b[0;34m(self, parameters, operation_model)\u001b[0m\n\u001b[1;32m    295\u001b[0m                                                     operation_model.input_shape)\n\u001b[1;32m    296\u001b[0m             \u001b[0;32mif\u001b[0m \u001b[0mreport\u001b[0m\u001b[0;34m.\u001b[0m\u001b[0mhas_errors\u001b[0m\u001b[0;34m(\u001b[0m\u001b[0;34m)\u001b[0m\u001b[0;34m:\u001b[0m\u001b[0;34m\u001b[0m\u001b[0m\n\u001b[0;32m--> 297\u001b[0;31m                 \u001b[0;32mraise\u001b[0m \u001b[0mParamValidationError\u001b[0m\u001b[0;34m(\u001b[0m\u001b[0mreport\u001b[0m\u001b[0;34m=\u001b[0m\u001b[0mreport\u001b[0m\u001b[0;34m.\u001b[0m\u001b[0mgenerate_report\u001b[0m\u001b[0;34m(\u001b[0m\u001b[0;34m)\u001b[0m\u001b[0;34m)\u001b[0m\u001b[0;34m\u001b[0m\u001b[0m\n\u001b[0m\u001b[1;32m    298\u001b[0m         return self._serializer.serialize_to_request(parameters,\n\u001b[1;32m    299\u001b[0m                                                      operation_model)\n",
      "\u001b[0;31mParamValidationError\u001b[0m: Parameter validation failed:\nInvalid type for parameter Body, value: [0, 0, 0, 0, 0, 0, 0, 0, 0, 0, 0, 0, 0, 0, 0, 0, 0, 0, 0, 0, 0, 0, 0, 0, 0, 0, 0, 0, 0, 0, 0, 0, 0, 0, 0, 0, 0, 0, 0, 0, 0, 0, 0, 0, 0, 0, 0, 0, 0, 0, 0, 0, 0, 0, 0, 0, 0, 0, 0, 0, 0, 0, 0, 0, 0, 0, 0, 0, 0, 0, 0, 0, 0, 0, 0, 0, 0, 0, 0, 0, 0, 0, 0, 0, 0, 0, 0, 0, 0, 0, 0, 0, 0, 0, 0, 0, 0, 0, 0, 0, 0, 0, 0, 0, 0, 0, 0, 0, 0, 0, 0, 0, 0, 0, 0, 0, 0, 0, 0, 0, 0, 0, 0, 0, 0, 0, 0, 0, 0, 0, 0, 0, 0, 0, 0, 0, 0, 0, 0, 0, 0, 0, 0, 0, 0, 0, 0, 0, 0, 0, 0, 0, 0, 0, 0, 0, 0, 0, 0, 0, 0, 0, 0, 0, 0, 0, 0, 0, 0, 0, 0, 0, 0, 0, 0, 0, 0, 0, 0, 0, 0, 0, 0, 0, 0, 0, 0, 0, 0, 0, 0, 0, 0, 0, 0, 0, 0, 0, 0, 0, 0, 0, 0, 0, 0, 0, 0, 0, 0, 0, 0, 0, 0, 0, 0, 0, 0, 0, 0, 0, 0, 0, 0, 0, 0, 0, 1, 0, 0, 0, 0, 0, 0, 0, 0, 0, 0, 0, 0, 0, 0, 0, 0, 0, 0, 0, 0, 0, 0, 0, 0, 0, 0, 0, 0, 0, 1, 0, 0, 0, 0, 0, 0, 0, 0, 0, 0, 0, 0, 0, 0, 0, 0, 0, 0, 0, 0, 0, 0, 0, 0, 0, 0, 0, 0, 0, 0, 0, 0, 0, 0, 0, 0, 0, 0, 0, 0, 0, 0, 0, 0, 0, 0, 0, 0, 0, 0, 0, 0, 0, 0, 0, 0, 0, 0, 0, 0, 0, 0, 0, 0, 0, 0, 0, 0, 0, 0, 0, 0, 0, 0, 0, 0, 0, 0, 0, 0, 0, 0, 0, 0, 0, 0, 0, 0, 0, 0, 0, 0, 0, 0, 0, 0, 0, 0, 0, 0, 0, 0, 0, 0, 0, 0, 0, 0, 0, 0, 0, 0, 0, 0, 0, 0, 0, 0, 0, 0, 0, 0, 0, 0, 0, 0, 0, 0, 0, 0, 0, 0, 0, 0, 0, 0, 0, 0, 0, 0, 0, 0, 0, 0, 0, 0, 0, 0, 0, 0, 0, 0, 0, 0, 0, 0, 0, 0, 0, 0, 0, 0, 0, 0, 0, 0, 0, 0, 0, 0, 0, 0, 0, 0, 0, 0, 0, 0, 0, 0, 0, 0, 0, 0, 0, 0, 0, 0, 0, 0, 0, 0, 0, 0, 0, 0, 0, 0, 0, 0, 0, 0, 0, 0, 0, 0, 0, 0, 0, 0, 0, 0, 0, 0, 0, 0, 0, 0, 0, 0, 0, 0, 0, 0, 0, 0, 0, 0, 0, 0, 0, 0, 0, 0, 0, 0, 0, 0, 0, 0, 0, 0, 0, 0, 0, 0, 0, 0, 0, 0, 0, 0, 0, 0, 0, 0, 0, 0, 0, 0, 0, 0, 0, 0, 0, 0, 0, 0, 0, 0, 0, 0, 0, 0, 0, 0, 0, 0, 0, 0, 0, 0, 0, 0, 0, 0, 0, 0, 0, 0, 0, 0, 0, 0, 0, 0, 0, 0, 0, 0, 0, 0, 0, 0, 0, 0, 0, 0, 0, 0, 0, 0, 0, 0, 0, 0, 0, 0, 0, 0, 0, 0, 0, 0, 0, 0, 0, 0, 0, 0, 0, 0, 0, 0, 0, 0, 0, 0, 0, 0, 0, 0, 0, 0, 0, 0, 0, 0, 0, 0, 0, 0, 0, 0, 0, 0, 0, 0, 0, 0, 0, 0, 0, 0, 0, 0, 0, 0, 0, 0, 0, 0, 0, 0, 0, 0, 0, 0, 0, 1, 0, 0, 0, 0, 0, 0, 0, 0, 0, 0, 0, 0, 0, 0, 0, 0, 0, 0, 0, 0, 0, 0, 0, 0, 0, 0, 0, 0, 0, 0, 0, 0, 0, 0, 0, 0, 0, 0, 0, 0, 0, 0, 0, 0, 0, 0, 0, 0, 0, 0, 0, 0, 0, 0, 0, 0, 0, 0, 0, 0, 0, 0, 0, 0, 0, 0, 0, 0, 0, 0, 0, 0, 0, 0, 0, 0, 0, 0, 0, 0, 0, 0, 0, 0, 0, 0, 0, 0, 0, 0, 0, 0, 0, 0, 0, 0, 0, 0, 0, 0, 0, 0, 0, 0, 0, 0, 0, 0, 0, 0, 0, 0, 0, 0, 0, 0, 0, 0, 0, 0, 0, 0, 0, 0, 0, 0, 0, 0, 0, 0, 0, 0, 0, 0, 0, 0, 0, 0, 0, 0, 0, 0, 0, 0, 0, 0, 0, 0, 0, 0, 0, 0, 0, 0, 0, 0, 0, 0, 0, 0, 0, 0, 0, 0, 0, 0, 0, 0, 0, 0, 0, 0, 0, 0, 0, 0, 0, 0, 0, 0, 0, 0, 0, 0, 0, 0, 0, 0, 0, 0, 0, 0, 0, 0, 0, 0, 0, 0, 0, 0, 0, 0, 0, 0, 0, 0, 0, 0, 0, 0, 0, 0, 0, 0, 0, 0, 0, 0, 0, 0, 0, 0, 0, 0, 0, 0, 0, 0, 0, 0, 0, 0, 0, 0, 0, 0, 0, 0, 0, 0, 0, 0, 0, 0, 0, 0, 0, 0, 0, 0, 0, 0, 0, 1, 0, 0, 0, 0, 0, 0, 0, 0, 0, 0, 0, 0, 0, 0, 0, 0, 0, 0, 0, 0, 0, 0, 0, 0, 0, 0, 0, 0, 0, 0, 0, 0, 0, 0, 0, 0, 0, 0, 0, 0, 0, 0, 0, 0, 0, 0, 0, 0, 0, 0, 0, 0, 0, 0, 0, 0, 0, 0, 0, 0, 0, 0, 0, 0, 0, 0, 0, 0, 0, 0, 0, 0, 0, 0, 0, 0, 0, 0, 0, 0, 0, 0, 0, 0, 0, 0, 1, 0, 0, 0, 0, 0, 0, 0, 0, 0, 0, 0, 0, 0, 0, 0, 0, 0, 0, 0, 0, 0, 0, 0, 0, 0, 0, 0, 0, 0, 0, 0, 0, 0, 0, 0, 0, 0, 0, 0, 0, 0, 0, 0, 0, 0, 0, 0, 0, 0, 0, 0, 0, 0, 0, 0, 0, 0, 0, 0, 0, 0, 0, 0, 0, 0, 0, 0, 0, 0, 0, 0, 0, 0, 0, 0, 0, 0, 0, 0, 0, 0, 0, 0, 0, 0, 0, 0, 0, 0, 0, 0, 0, 0, 0, 0, 0, 0, 0, 0, 0, 0, 0, 0, 0, 0, 0, 0, 0, 0, 0, 0, 0, 0, 0, 0, 0, 0, 0, 0, 0, 0, 0, 0, 0, 0, 0, 0, 0, 0, 0, 0, 0, 0, 0, 0, 0, 0, 0, 0, 0, 0, 0, 0, 0, 0, 0, 0, 0, 0, 0, 0, 0, 0, 0, 0, 0, 0, 0, 0, 0, 0, 0, 0, 0, 0, 0, 0, 0, 0, 0, 0, 0, 0, 0, 0, 0, 0, 0, 0, 0, 0, 0, 0, 0, 0, 0, 0, 0, 0, 0, 0, 0, 0, 0, 0, 0, 0, 0, 0, 0, 0, 0, 0, 0, 0, 0, 0, 0, 0, 0, 0, 0, 0, 0, 0, 0, 0, 0, 0, 0, 0, 0, 0, 0, 0, 0, 0, 0, 0, 0, 0, 0, 0, 0, 0, 0, 0, 0, 0, 0, 0, 0, 0, 0, 0, 0, 0, 0, 0, 0, 0, 0, 1, 0, 0, 0, 0, 0, 0, 0, 0, 0, 0, 0, 0, 0, 0, 0, 0, 0, 0, 0, 0, 0, 0, 0, 0, 0, 0, 0, 0, 0, 0, 0, 0, 0, 0, 0, 0, 0, 0, 0, 0, 0, 0, 0, 0, 0, 0, 0, 0, 0, 0, 0, 0, 0, 0, 0, 1, 0, 0, 0, 0, 0, 0, 0, 0, 0, 0, 0, 0, 0, 0, 0, 0, 0, 0, 0, 0, 0, 0, 0, 0, 0, 0, 0, 0, 0, 0, 0, 0, 0, 0, 0, 0, 0, 0, 0, 0, 0, 0, 0, 0, 0, 0, 0, 0, 0, 0, 0, 0, 0, 0, 0, 0, 0, 0, 0, 0, 0, 0, 0, 0, 0, 0, 0, 0, 0, 0, 0, 0, 0, 0, 0, 0, 0, 0, 0, 0, 0, 0, 0, 0, 0, 0, 0, 0, 0, 0, 0, 0, 0, 0, 0, 0, 0, 0, 0, 0, 0, 0, 0, 0, 0, 0, 0, 0, 0, 0, 0, 0, 0, 0, 0, 0, 0, 0, 0, 0, 0, 0, 0, 0, 0, 0, 0, 0, 0, 0, 0, 0, 0, 0, 0, 0, 0, 0, 0, 0, 0, 0, 0, 0, 0, 0, 0, 0, 0, 0, 0, 0, 0, 0, 0, 0, 0, 0, 0, 0, 0, 0, 0, 0, 0, 0, 0, 0, 0, 0, 0, 0, 0, 0, 0, 0, 0, 0, 0, 0, 0, 0, 0, 0, 0, 0, 0, 0, 0, 0, 0, 0, 0, 0, 0, 0, 0, 0, 0, 0, 0, 0, 0, 0, 0, 0, 0, 0, 0, 0, 0, 0, 0, 0, 0, 0, 0, 0, 0, 0, 0, 0, 0, 0, 0, 0, 0, 0, 0, 0, 0, 0, 0, 0, 0, 0, 0, 0, 0, 0, 0, 0, 0, 0, 0, 0, 0, 0, 0, 0, 0, 0, 0, 0, 0, 0, 0, 0, 0, 0, 0, 0, 0, 0, 0, 0, 0, 0, 0, 0, 0, 0, 0, 0, 0, 0, 0, 0, 0, 0, 0, 0, 0, 0, 0, 0, 0, 0, 0, 0, 0, 0, 0, 0, 0, 0, 0, 0, 0, 0, 0, 0, 0, 0, 0, 0, 0, 0, 0, 0, 0, 0, 0, 0, 0, 0, 0, 0, 0, 0, 0, 0, 0, 0, 0, 0, 0, 0, 0, 0, 0, 0, 0, 0, 0, 0, 0, 0, 0, 0, 0, 0, 0, 0, 0, 0, 0, 0, 0, 0, 0, 0, 0, 0, 0, 0, 0, 0, 0, 0, 0, 0, 0, 0, 0, 0, 0, 0, 0, 0, 0, 0, 0, 0, 0, 0, 0, 0, 0, 0, 0, 0, 0, 0, 0, 0, 0, 0, 0, 0, 0, 0, 0, 0, 0, 0, 0, 0, 0, 0, 0, 0, 0, 0, 0, 0, 0, 0, 0, 0, 0, 0, 0, 0, 0, 0, 0, 0, 0, 0, 0, 0, 0, 0, 0, 0, 0, 0, 0, 0, 0, 0, 0, 0, 0, 0, 0, 0, 0, 0, 0, 0, 0, 0, 0, 0, 0, 0, 0, 0, 0, 0, 0, 0, 0, 0, 0, 0, 0, 0, 0, 0, 0, 0, 0, 0, 0, 0, 0, 0, 0, 0, 0, 0, 0, 0, 0, 0, 0, 0, 0, 0, 0, 0, 0, 0, 0, 0, 0, 0, 0, 0, 0, 0, 0, 0, 0, 0, 0, 0, 0, 0, 0, 0, 0, 0, 0, 0, 0, 0, 0, 0, 0, 0, 0, 0, 0, 0, 0, 0, 0, 0, 0, 0, 0, 0, 0, 0, 0, 0, 0, 0, 0, 0, 0, 0, 0, 0, 0, 0, 0, 0, 0, 0, 0, 0, 0, 0, 0, 0, 0, 0, 0, 0, 0, 0, 0, 0, 0, 0, 0, 0, 0, 0, 0, 0, 0, 0, 0, 0, 0, 0, 0, 0, 0, 0, 0, 0, 0, 0, 0, 0, 0, 0, 0, 0, 0, 0, 0, 0, 0, 0, 0, 0, 0, 0, 0, 0, 0, 0, 0, 0, 0, 0, 0, 0, 0, 0, 0, 0, 0, 0, 0, 0, 0, 0, 0, 0, 0, 0, 0, 0, 0, 0, 0, 0, 0, 0, 0, 0, 0, 0, 0, 0, 0, 0, 0, 0, 0, 0, 0, 0, 0, 0, 0, 0, 0, 0, 0, 0, 0, 0, 0, 0, 0, 0, 0, 0, 0, 0, 0, 0, 0, 0, 0, 0, 0, 0, 0, 0, 0, 0, 0, 0, 0, 0, 0, 0, 0, 0, 0, 1, 0, 0, 0, 0, 0, 0, 0, 0, 0, 0, 0, 0, 0, 0, 0, 0, 0, 0, 0, 0, 0, 0, 0, 0, 0, 0, 0, 0, 0, 0, 0, 0, 0, 0, 0, 0, 0, 0, 0, 0, 0, 0, 0, 0, 0, 0, 0, 0, 0, 0, 0, 0, 0, 0, 0, 0, 0, 0, 0, 0, 0, 0, 0, 0, 0, 0, 0, 0, 0, 0, 0, 0, 0, 0, 1, 0, 0, 0, 0, 0, 0, 0, 0, 0, 0, 0, 0, 0, 0, 0, 0, 0, 0, 0, 0, 1, 0, 0, 1, 0, 0, 0, 0, 0, 0, 0, 0, 0, 0, 0, 0, 0, 0, 0, 0, 0, 0, 0, 0, 0, 0, 0, 0, 0, 0, 0, 0, 0, 0, 0, 0, 0, 0, 0, 0, 0, 0, 0, 0, 0, 0, 0, 0, 0, 0, 0, 0, 0, 0, 0, 0, 0, 0, 0, 0, 0, 0, 0, 0, 0, 0, 0, 0, 0, 0, 0, 0, 0, 0, 0, 0, 0, 0, 0, 0, 0, 0, 0, 0, 0, 0, 0, 0, 0, 0, 0, 0, 0, 0, 0, 0, 0, 0, 0, 0, 0, 0, 0, 0, 0, 0, 0, 0, 0, 0, 0, 0, 0, 0, 0, 0, 0, 0, 0, 0, 0, 0, 0, 0, 0, 0, 0, 0, 0, 0, 0, 0, 0, 0, 0, 0, 0, 0, 0, 0, 0, 0, 0, 0, 0, 0, 0, 0, 0, 0, 0, 0, 0, 0, 0, 0, 0, 0, 0, 0, 0, 0, 0, 0, 0, 0, 0, 0, 0, 0, 0, 0, 0, 0, 0, 0, 0, 0, 0, 0, 0, 0, 0, 0, 0, 0, 0, 0, 0, 0, 0, 0, 0, 0, 0, 0, 0, 0, 0, 0, 0, 0, 0, 0, 0, 0, 0, 0, 0, 0, 0, 0, 0, 0, 0, 0, 0, 0, 0, 0, 0, 0, 0, 0, 0, 0, 0, 0, 0, 0, 0, 0, 0, 0, 0, 0, 0, 0, 0, 0, 0, 0, 0, 0, 0, 0, 0, 0, 0, 0, 0, 0, 0, 0, 0, 0, 0, 0, 0, 0, 0, 0, 0, 0, 0, 0, 0, 0, 0, 0, 0, 0, 0, 0, 0, 0, 0, 0, 0, 0, 0, 0, 0, 0, 0, 0, 0, 0, 0, 0, 0, 0, 0, 0, 0, 0, 0, 0, 0, 0, 0, 0, 0, 0, 0, 0, 0, 0, 0, 0, 0, 0, 0, 0, 0, 0, 0, 0, 0, 0, 0, 0, 0, 0, 0, 0, 0, 0, 0, 0, 0, 0, 0, 0, 0, 0, 0, 0, 0, 0, 0, 0, 0, 0, 0, 0, 0, 0, 0, 0, 0, 0, 0, 0, 0, 0, 0, 0, 0, 0, 0, 0, 0, 0, 0, 0, 0, 0, 0, 0, 0, 0, 0, 0, 0, 0, 0, 0, 0, 0, 0, 0, 0, 0, 0, 0, 0, 0, 0, 0, 0, 0, 0, 0, 0, 0, 0, 0, 0, 0, 0, 0, 0, 0, 0, 0, 0, 0, 0, 0, 0, 0, 0, 0, 0, 0, 0, 0, 0, 0, 0, 0, 0, 0, 0, 0, 0, 0, 0, 0, 0, 0, 0, 0, 0, 0, 0, 0, 0, 0, 0, 0, 0, 0, 0, 0, 0, 0, 0, 0, 0, 0, 0, 0, 0, 0, 0, 0, 0, 0, 0, 0, 0, 0, 0, 0, 0, 0, 0, 0, 1, 0, 0, 0, 0, 0, 0, 0, 0, 0, 0, 0, 0, 0, 0, 0, 0, 0, 0, 0, 0, 0, 0, 0, 0, 0, 0, 0, 0, 0, 0, 0, 0, 0, 0, 0, 0, 0, 0, 0, 0, 0, 0, 0, 0, 0, 0, 0, 0, 0, 0, 0, 0, 0, 0, 0, 0, 0, 0, 0, 0, 0, 0, 0, 0, 0, 0, 0, 0, 0, 0, 0, 0, 0, 0, 0, 0, 0, 0, 0, 0, 0, 0, 0, 0, 0, 0, 0, 0, 0, 0, 0, 0, 0, 0, 0, 0, 0, 0, 0, 0, 0, 0, 0, 0, 0, 0, 0, 0, 0, 0, 0, 0, 0, 0, 0, 0, 0, 0, 0, 0, 0, 0, 0, 0, 0, 0, 0, 0, 0, 0, 0, 0, 0, 0, 0, 0, 0, 0, 0, 0, 0, 0, 0, 0, 0, 0, 0, 0, 0, 0, 0, 0, 0, 0, 0, 0, 0, 0, 0, 0, 0, 0, 0, 0, 0, 0, 0, 0, 0, 0, 0, 0, 0, 0, 0, 0, 0, 0, 0, 0, 0, 0, 0, 0, 0, 0, 0, 0, 0, 0, 0, 0, 0, 0, 0, 0, 0, 0, 0, 0, 0, 0, 0, 0, 0, 0, 0, 0, 0, 0, 0, 0, 0, 0, 0, 0, 0, 0, 0, 0, 0, 0, 0, 0, 0, 0, 0, 0, 0, 0, 0, 0, 0, 0, 0, 0, 0, 0, 0, 0, 0, 0, 0, 0, 0, 0, 0, 0, 0, 0, 0, 0, 0, 0, 0, 0, 0, 0, 0, 0, 0, 0, 0, 0, 0, 0, 0, 0, 0, 0, 0, 0, 0, 0, 0, 0, 0, 0, 0, 0, 0, 0, 0, 0, 0, 0, 0, 0, 0, 0, 0, 0, 0, 0, 0, 0, 0, 0, 0, 0, 0, 0, 0, 0, 0, 0, 0, 0, 0, 0, 0, 0, 0, 0, 0, 0, 0, 0, 0, 0, 0, 0, 0, 0, 0, 0, 0, 0, 0, 0, 0, 0, 0, 0, 0, 0, 0, 0, 0, 0, 0, 0, 0, 0, 0, 0, 0, 0, 0, 0, 0, 0, 0, 0, 0, 0, 0, 0, 0, 0, 0, 0, 0, 0, 0, 0, 0, 0, 0, 0, 0, 0, 0, 0, 0, 0, 0, 0, 0, 0, 0, 0, 0, 0, 0, 0, 0, 0, 0, 0, 0, 0, 0, 0, 0, 0, 0, 0, 0, 0, 0, 0, 0, 0, 0, 0, 0, 0, 0, 0, 0, 0, 0, 0, 0, 0, 0, 0, 0, 0, 0, 0, 0, 0, 0, 0, 0, 0, 0, 0, 0, 0, 0, 0, 0, 0, 0, 0, 0, 0, 0, 0, 0, 0, 0, 0, 0, 0, 0, 0, 0, 0, 0, 0, 0, 0, 0, 0, 0, 0, 0, 0, 0, 0, 0, 0, 0, 0, 0, 0, 0, 0, 0, 0, 0, 0, 0, 0, 0, 0, 0, 0, 0, 0, 0, 0, 0, 0, 0, 0, 0, 0, 0, 0, 0, 0, 0, 0, 0, 0, 0, 0, 0, 0, 0, 0, 0, 0, 0, 0, 0, 0, 1, 0, 0, 0, 0, 0, 0, 0, 0, 0, 0, 0, 0, 0, 0, 0, 0, 0, 0, 0, 0, 0, 0, 0, 0, 0, 0, 0, 0, 0, 0, 0, 0, 0, 0, 0, 2, 0, 0, 0, 0, 0, 0, 0, 0, 0, 0, 0, 0, 0, 0, 0, 0, 0, 0, 0, 0, 0, 0, 0, 0, 0, 0, 0, 0, 0, 0, 0, 0, 0, 0, 0, 0, 0, 0, 0, 0, 1, 0, 0, 0, 0, 0, 0, 0, 0, 0, 0, 0, 0, 0, 0, 0, 0, 0, 0, 0, 0, 0, 0, 0, 0, 0, 0, 0, 0, 0, 0, 0, 0, 0, 0, 0, 0, 0, 0, 0, 0, 0, 0, 0, 0, 0, 0, 0, 0, 0, 0, 0, 0, 0, 0, 0, 0, 0, 0, 0, 0, 0, 0, 0, 0, 0, 0, 0, 0, 0, 0, 0, 0, 0, 0, 0, 0, 0, 0, 0, 0, 0, 0, 0, 0, 0, 0, 0, 0, 0, 0, 0, 0, 0, 0, 0, 0, 0, 0, 0, 0, 0, 0, 0, 0, 0, 0, 0, 0, 0, 0, 0, 0, 0, 0, 0, 0, 0, 0, 0, 0, 0, 0, 0, 0, 0, 0, 0, 0, 0, 0, 0, 0, 0, 0, 0, 0, 0, 0, 0, 0, 0, 0, 0, 0, 0, 0, 0, 0, 0, 0, 0, 0, 0, 0, 0, 0, 0, 0, 0, 0, 0, 0, 0, 0, 0, 0, 0, 0, 0, 0, 0, 0, 0, 0, 0, 0, 0, 0, 0, 0, 0, 0, 0, 0, 0, 0, 0, 0, 0, 0, 0, 0, 0, 0, 0, 0, 0, 0, 0, 0, 0, 0, 0, 0, 0, 0, 0, 0, 0, 0, 0, 0, 0, 0, 0, 0, 0, 0, 0, 0, 0, 0, 0, 0, 0, 0, 0, 0, 0, 0, 0, 0, 0, 0, 0, 0, 0, 0, 0, 0, 0, 0, 0, 0, 0, 0, 0, 0, 0, 0, 0, 0, 0, 0, 0, 0, 0, 0, 0, 0, 0, 0, 0, 0, 0, 0, 0, 0, 0, 0, 0, 0, 0, 0, 0, 0, 0, 0, 0, 0, 0, 0, 0, 0, 0, 0, 0, 0, 0, 0, 0, 0, 0, 0, 0, 0, 0, 0, 0, 0, 0, 0, 0, 0, 0, 0, 0, 0, 0, 0, 0, 0, 0, 0, 0, 0, 0, 0, 0, 0, 0, 0, 0, 0, 0, 0, 0, 0, 0, 0, 0, 0, 0, 0, 0, 0, 0, 0, 0, 0, 0, 0, 0, 0, 0, 0, 0, 0, 0, 0, 0, 0, 0, 0, 0, 0, 0, 0, 0, 0, 0, 0, 0, 0, 0, 0, 0, 0, 0, 0, 0, 0, 0, 0, 0, 0, 0, 0, 0, 0, 0, 0, 0, 0, 0, 0, 0, 0, 0, 0, 0, 0, 0, 0, 0, 0, 0, 0, 0, 0, 0, 0, 0, 0, 0, 0, 0, 0, 0, 0, 0, 0, 0, 0, 0, 0, 0, 0, 0, 0, 0, 0, 0, 0, 0, 0, 0, 0, 0, 0, 0, 0, 0, 0, 0, 0, 0, 0, 0, 0, 0, 0, 0, 0, 0, 0, 0, 0, 0, 0, 0, 0, 0, 0, 0, 0, 0, 0, 0, 0, 0, 0, 0, 0, 0, 0, 0, 0, 0, 0, 0, 0, 0, 0, 0, 0, 0, 0, 0, 0, 0, 0, 0, 0, 0, 0, 0, 0, 0, 0, 0, 0, 0, 0, 0, 0, 0, 1, 0, 0, 0, 0, 0, 0, 0, 0, 0, 0, 0, 0, 0, 0, 0, 0, 0, 0, 0, 0, 0, 0, 0, 0, 0, 0, 0, 0, 0, 0, 0, 0, 0, 0, 0, 0, 0, 0, 0, 0, 0, 0, 0, 0, 0, 0, 0, 0, 0, 0, 0, 0, 0, 0, 0, 0, 0, 0, 0, 0, 0, 0, 0, 0, 0, 0, 0, 0, 0, 0, 0, 0, 0, 0, 0, 0, 0, 0, 0, 0, 0, 0, 0, 0, 0, 0, 0, 0, 0, 0, 0, 0, 0, 0, 0, 0, 0, 0, 0, 0, 0, 0, 0, 0, 0, 0, 0, 0, 0, 0, 2, 0, 0, 0, 0, 0, 0, 0, 0, 0, 0, 0, 0, 0, 0, 0, 0, 0, 0, 0, 0, 0, 0, 0, 0, 0, 0, 0, 0, 0, 0, 0, 0, 0, 0, 0, 0, 0, 0, 0, 0, 0, 0, 0, 0, 0, 0, 0, 0, 0, 0, 0, 0, 0, 0, 0, 0, 0, 0, 0, 0, 0, 0, 0, 0, 0, 0, 0, 0, 0, 0, 0, 0, 0, 0, 0, 0, 0, 0, 0, 0, 0, 0, 0, 0, 0, 0, 0, 0, 0, 0, 0, 0, 0, 0, 0, 0, 0, 0, 0, 0, 0, 0, 0, 0, 0, 0, 0, 0, 0, 0, 0, 0, 0, 0, 0, 0, 0, 0, 0, 0, 0, 0, 0, 0, 0, 0, 0, 0, 0, 0, 0, 0, 0, 0, 0, 0, 0, 0, 0, 0, 0, 0, 0, 0, 0, 0, 0, 0, 0, 0, 0, 0, 0, 0, 0, 0, 0, 0, 0, 0, 0, 0, 0, 0, 0, 0, 0, 0, 0, 0, 0, 0, 0, 0, 0, 0, 0, 0, 0, 0, 0, 0, 0, 0, 0, 0, 0, 0, 0, 0, 0, 0, 0, 0, 0, 0, 0, 0, 0, 0, 0, 0, 0, 0, 0, 0, 0, 0, 0, 0, 0, 0, 0, 0, 0, 0, 0, 0, 0, 0, 0, 0, 0, 0, 0, 0, 0, 0, 0, 0, 0, 0, 0, 0, 0, 0, 0, 0, 0, 0, 0, 0, 0, 0, 0, 0, 0, 0, 0, 0, 0, 0, 0, 0, 0, 0, 0, 0, 0, 0, 0, 0, 0, 0, 0, 0, 0, 0, 0, 0, 0, 0, 0, 0, 0, 0, 0, 0, 0, 0, 0, 0, 0, 0, 0, 0, 0, 0, 0, 0, 0, 0, 0, 0, 0, 0, 0, 0, 0, 0, 0, 0, 0, 0, 0, 0, 0, 0, 0, 0, 0, 0, 0, 0, 0, 0, 0, 0, 0, 0, 0, 0, 0, 0, 0, 0, 0, 0, 0, 0, 0, 0, 0, 0, 0, 0, 0, 0, 0, 0, 0, 0, 0, 0, 0, 0, 0, 0, 0, 0, 0, 0, 0, 0, 0, 0, 0, 0, 0, 0, 0, 0, 0, 0, 0, 0, 0, 0, 0, 0, 0, 0, 0, 0, 0, 0, 0, 0, 0, 0, 0, 0, 0, 0, 0, 0, 0, 0, 0, 0, 0, 0, 0, 0, 0, 0, 0, 0, 0, 0, 0, 0, 0, 0, 0, 0, 0, 0, 0, 0, 0, 0, 0, 0, 0, 0, 0, 0, 0, 0, 0, 0, 0, 0, 0, 0, 0, 0, 0, 0, 0, 0, 0, 0, 0, 0, 0, 0, 0, 0, 0, 0, 0, 0, 0, 0, 0, 0, 0, 0, 0, 0, 0, 0, 0, 0, 0, 0, 0, 0, 0, 0, 0, 0, 0, 0, 0, 0, 0, 0, 0, 0, 0, 0, 0, 0, 0, 0, 0, 0, 0, 0, 0, 0, 0, 0, 0, 0, 0, 0, 0, 0, 0, 0, 0, 0, 0, 0, 0, 0, 0, 0, 0, 0, 0, 0, 0, 0, 0, 0, 0, 0, 0, 0, 0, 0, 0, 0, 0, 0, 0, 0, 0, 0, 0, 0, 0, 0, 0, 0, 0, 0, 0, 0, 0, 0, 0, 0, 0, 0, 0, 0, 0, 0, 0, 0, 0, 0, 0, 0, 0, 0, 0, 0, 0, 0, 0, 0, 0, 0, 0, 0, 0, 0, 0, 0, 0, 0, 0, 0, 0, 0, 0, 0, 0, 0, 0, 0, 0, 0, 0, 0, 0, 0, 0, 0, 0, 0, 0, 0, 0, 0, 0, 0, 0, 0, 0, 0, 0, 0, 0, 0, 0, 0, 0, 0, 0, 0, 0, 0, 0, 0, 0, 0, 0, 0, 0, 0, 0, 0, 0, 0, 0, 0, 0, 0, 0, 0, 0, 0, 0, 0, 0, 0, 0, 0, 0, 0, 0, 0, 0, 0, 0, 0, 0, 0, 0, 0, 0, 0, 0, 0, 0, 0, 0, 0, 0, 0, 0, 0, 0, 0, 0, 0, 0, 0, 0, 0, 0, 0, 0, 0, 0, 0, 0, 0, 0, 0, 0, 0, 0, 0, 0, 0, 0, 0, 0, 0, 0, 0, 1, 0, 0, 0, 0, 0, 0, 0, 0, 0, 0, 0, 0, 0, 0, 0, 0, 0, 0, 0, 0, 0, 0, 0, 0, 0, 0, 0, 0, 0, 0, 0, 0, 0, 0, 0, 0, 0, 0, 0, 0, 0, 0, 0, 0, 0, 0, 0, 0, 0, 0, 0, 0, 0, 0, 0, 0, 0, 0, 0, 0, 0, 0, 0, 0, 0, 0, 0, 0, 0, 0, 0, 0, 0, 0, 0, 0, 0, 0, 0, 0, 0, 0, 0, 0, 0, 0, 0, 0, 0, 0, 0, 0, 0, 0, 0, 0, 0, 0, 0, 0, 0, 0, 0, 0, 0, 0, 0, 1, 0, 0, 0, 0, 0, 0, 0, 0, 0, 0, 0, 0, 0, 0, 0, 0, 0, 0, 0, 0, 0, 0, 0, 0, 0, 0, 0, 0, 0, 0, 0, 0, 0, 0, 0, 0, 0, 0, 0, 0, 0, 0, 0, 0, 0, 0, 0, 0, 0, 0, 0, 0, 0, 0, 0, 0, 0, 0, 0, 0, 0, 0, 0, 0, 0, 0, 0, 0, 0, 0, 0, 0, 0, 0, 0, 0, 0, 0, 0, 0, 0, 0, 0, 0, 0, 0, 0, 0, 0, 0, 0, 0, 0, 0, 0, 0, 0, 0, 0, 0, 0, 0, 0, 0, 0, 0, 0, 0, 0, 0, 0, 0, 0, 0, 0, 0, 0, 0, 0, 0, 0, 0, 0, 0, 0, 0, 0, 0, 0, 0, 0, 0, 0, 0, 0, 0, 0, 0, 0, 0, 0, 0, 0, 0, 0, 0, 0, 0, 0, 0, 0, 0, 0, 0, 0, 0, 0, 0, 0, 0, 0, 0, 0, 0, 0, 0, 0, 0, 0, 0, 0, 0, 0, 0, 0, 0, 0, 0, 0, 0, 0, 0, 0, 0, 0, 0, 0, 0, 0, 0, 0, 0, 0, 0, 0, 0, 0, 0, 0, 0, 0, 0, 0, 0, 0, 0, 0, 0, 0, 0, 0, 0, 0, 0, 0, 0, 0, 0, 0, 0, 0, 0, 0, 0, 0, 0, 0, 0, 0, 0, 0, 0, 0, 0, 0, 0, 0, 0, 0, 0, 0, 0, 0, 0, 0, 0, 0, 0, 0, 0, 0, 0, 0, 0, 0, 0, 0, 0, 0, 0, 0, 0, 0, 0, 0, 0, 0, 0, 0, 0, 0, 0, 0, 0, 0, 0, 0, 0, 0, 0, 0, 0, 0, 0, 0, 0, 0, 0, 0, 0, 0, 0, 0, 0, 0, 0, 0, 0, 0, 0, 0, 0, 0, 0, 0, 0, 0, 0, 0, 0, 0, 0, 0, 0, 0, 0, 0, 0, 0, 0, 0, 0, 0, 0, 0, 0, 0, 0, 0, 0, 0, 0, 0, 0, 0, 0, 0, 0, 0, 0, 0, 0, 0, 0, 0, 0, 0, 0, 0, 0, 0, 0, 0, 0, 0, 0, 0, 0, 0, 0, 0, 0, 0, 0, 0, 0, 0, 0, 0, 0, 0, 0, 0, 0, 0, 0, 0, 0, 0, 0, 0, 0, 0, 0, 0, 0, 0, 0, 0, 0, 0, 0, 0, 0, 0, 0, 0, 0, 0, 0, 0, 0, 0, 0, 0, 0, 0, 0, 0, 0, 0, 0, 0, 0, 0, 0, 0, 0, 0, 0, 0, 0, 0, 0, 0, 0, 0, 0, 0, 0, 0, 0, 0, 0, 0, 0, 0, 0, 0, 0, 0, 0, 0, 0, 0, 0, 0, 0, 0, 0, 0, 0, 0, 0, 0, 0, 0, 0, 0, 0, 0, 0, 0, 2, 0, 1, 0], type: <class 'list'>, valid types: <class 'bytes'>, <class 'bytearray'>, file-like object"
     ]
    }
   ],
   "source": [
    "response = runtime.invoke_endpoint(EndpointName = xgb_predictor.endpoint, # The name of the endpoint we created\n",
    "                                       ContentType = 'text/csv',                     # The data format that is expected\n",
    "                                       Body = test_bow)"
   ]
  },
  {
   "cell_type": "markdown",
   "metadata": {},
   "source": [
    "So why did we get an error?\n",
    "\n",
    "Because we tried to send the endpoint a list of integers but it expected us to send data of type `text/csv`. So, we need to convert it."
   ]
  },
  {
   "cell_type": "code",
   "execution_count": 45,
   "metadata": {},
   "outputs": [],
   "source": [
    "response = runtime.invoke_endpoint(EndpointName = xgb_predictor.endpoint, # The name of the endpoint we created\n",
    "                                       ContentType = 'text/csv',                     # The data format that is expected\n",
    "                                       Body = ','.join([str(val) for val in test_bow]).encode('utf-8'))"
   ]
  },
  {
   "cell_type": "code",
   "execution_count": 46,
   "metadata": {},
   "outputs": [
    {
     "name": "stdout",
     "output_type": "stream",
     "text": [
      "{'ResponseMetadata': {'RequestId': '9b1c8426-0b94-4ff2-a3f0-5d5d9cf07771', 'HTTPStatusCode': 200, 'HTTPHeaders': {'x-amzn-requestid': '9b1c8426-0b94-4ff2-a3f0-5d5d9cf07771', 'x-amzn-invoked-production-variant': 'AllTraffic', 'date': 'Tue, 11 Jun 2019 18:41:13 GMT', 'content-type': 'text/csv; charset=utf-8', 'content-length': '14'}, 'RetryAttempts': 0}, 'ContentType': 'text/csv; charset=utf-8', 'InvokedProductionVariant': 'AllTraffic', 'Body': <botocore.response.StreamingBody object at 0x7f7e47b90e10>}\n"
     ]
    }
   ],
   "source": [
    "print(response)"
   ]
  },
  {
   "cell_type": "markdown",
   "metadata": {},
   "source": [
    "As we can see, the response from our model is a somewhat complicated looking dict that contains a bunch of information. The bit that we are most interested in is `'Body'` object which is a streaming object that we need to `read` in order to make use of."
   ]
  },
  {
   "cell_type": "code",
   "execution_count": 47,
   "metadata": {},
   "outputs": [
    {
     "name": "stdout",
     "output_type": "stream",
     "text": [
      "0.406086862087\n"
     ]
    }
   ],
   "source": [
    "response = response['Body'].read().decode('utf-8')\n",
    "print(response)"
   ]
  },
  {
   "cell_type": "markdown",
   "metadata": {},
   "source": [
    "Now that we know how to process the incoming user data we can start setting up the infrastructure to make our simple web app work. To do this we will make use of two different services. Amazon's Lambda and API Gateway services.\n",
    "\n",
    "Lambda is a service which allows someone to write some relatively simple code and have it executed whenever a chosen trigger occurs. For example, you may want to update a database whenever new data is uploaded to a folder stored on S3.\n",
    "\n",
    "API Gateway is a service that allows you to create HTTP endpoints (url addresses) which are connected to other AWS services. One of the benefits to this is that you get to decide what credentials, if any, are required to access these endpoints.\n",
    "\n",
    "In our case we are going to set up an HTTP endpoint through API Gateway which is open to the public. Then, whenever anyone sends data to our public endpoint we will trigger a Lambda function which will send the input (in our case a review) to our model's endpoint and then return the result."
   ]
  },
  {
   "cell_type": "markdown",
   "metadata": {},
   "source": [
    "### Setting up a Lambda function\n",
    "\n",
    "The first thing we are going to do is set up a Lambda function. This Lambda function will be executed whenever our public API has data sent to it. When it is executed it will receive the data, perform any sort of processing that is required, send the data (the review) to the SageMaker endpoint we've created and then return the result.\n",
    "\n",
    "#### Part A: Create an IAM Role for the Lambda function\n",
    "\n",
    "Since we want the Lambda function to call a SageMaker endpoint, we need to make sure that it has permission to do so. To do this, we will construct a role that we can later give the Lambda function.\n",
    "\n",
    "Using the AWS Console, navigate to the **IAM** page and click on **Roles**. Then, click on **Create role**. Make sure that the **AWS service** is the type of trusted entity selected and choose **Lambda** as the service that will use this role, then click **Next: Permissions**.\n",
    "\n",
    "In the search box type `sagemaker` and select the check box next to the **AmazonSageMakerFullAccess** policy. Then, click on **Next: Review**.\n",
    "\n",
    "Lastly, give this role a name. Make sure you use a name that you will remember later on, for example `LambdaSageMakerRole`. Then, click on **Create role**."
   ]
  },
  {
   "cell_type": "markdown",
   "metadata": {},
   "source": [
    "#### Part B: Create a Lambda function\n",
    "\n",
    "Now it is time to actually create the Lambda function. Remember from earlier that in order to process the user provided input and send it to our endpoint we need to gather two pieces of information:\n",
    "\n",
    " - The name of the endpoint, and\n",
    " - the vocabulary object.\n",
    "\n",
    "We will copy these pieces of information to our Lambda function after we create it.\n",
    "\n",
    "To start, using the AWS Console, navigate to the AWS Lambda page and click on **Create a function**. When you get to the next page, make sure that **Author from scratch** is selected. Now, name your Lambda function, using a name that you will remember later on, for example `sentiment_analysis_xgboost_func`. Make sure that the **Python 3.6** runtime is selected and then choose the role that you created in the previous part. Then, click on **Create Function**.\n",
    "\n",
    "On the next page you will see some information about the Lambda function you've just created. If you scroll down you should see an editor in which you can write the code that will be executed when your Lambda function is triggered. Collecting the code we wrote above to process a single review and adding it to the provided example `lambda_handler` we arrive at the following.\n",
    "\n",
    "```python\n",
    "# We need to use the low-level library to interact with SageMaker since the SageMaker API\n",
    "# is not available natively through Lambda.\n",
    "import boto3\n",
    "\n",
    "# And we need the regular expression library to do some of the data processing\n",
    "import re\n",
    "\n",
    "REPLACE_NO_SPACE = re.compile(\"(\\.)|(\\;)|(\\:)|(\\!)|(\\')|(\\?)|(\\,)|(\\\")|(\\()|(\\))|(\\[)|(\\])\")\n",
    "REPLACE_WITH_SPACE = re.compile(\"(<br\\s*/><br\\s*/>)|(\\-)|(\\/)\")\n",
    "\n",
    "def review_to_words(review):\n",
    "    words = REPLACE_NO_SPACE.sub(\"\", review.lower())\n",
    "    words = REPLACE_WITH_SPACE.sub(\" \", words)\n",
    "    return words\n",
    "    \n",
    "def bow_encoding(words, vocabulary):\n",
    "    bow = [0] * len(vocabulary) # Start by setting the count for each word in the vocabulary to zero.\n",
    "    for word in words.split():  # For each word in the string\n",
    "        if word in vocabulary:  # If the word is one that occurs in the vocabulary, increase its count.\n",
    "            bow[vocabulary[word]] += 1\n",
    "    return bow\n",
    "\n",
    "\n",
    "def lambda_handler(event, context):\n",
    "    \n",
    "    vocab = \"*** ACTUAL VOCABULARY GOES HERE ***\"\n",
    "    \n",
    "    words = review_to_words(event['body'])\n",
    "    bow = bow_encoding(words, vocab)\n",
    "\n",
    "    # The SageMaker runtime is what allows us to invoke the endpoint that we've created.\n",
    "    runtime = boto3.Session().client('sagemaker-runtime')\n",
    "\n",
    "    # Now we use the SageMaker runtime to invoke our endpoint, sending the review we were given\n",
    "    response = runtime.invoke_endpoint(EndpointName = '***ENDPOINT NAME HERE***',# The name of the endpoint we created\n",
    "                                       ContentType = 'text/csv',                 # The data format that is expected\n",
    "                                       Body = ','.join([str(val) for val in bow]).encode('utf-8')) # The actual review\n",
    "\n",
    "    # The response is an HTTP response whose body contains the result of our inference\n",
    "    result = response['Body'].read().decode('utf-8')\n",
    "    \n",
    "    # Round the result so that our web app only gets '1' or '0' as a response.\n",
    "    result = round(float(result))\n",
    "\n",
    "    return {\n",
    "        'statusCode' : 200,\n",
    "        'headers' : { 'Content-Type' : 'text/plain', 'Access-Control-Allow-Origin' : '*' },\n",
    "        'body' : str(result)\n",
    "    }\n",
    "```"
   ]
  },
  {
   "cell_type": "markdown",
   "metadata": {},
   "source": [
    "Once you have copy and pasted the code above into the Lambda code editor, replace the `**ENDPOINT NAME HERE**` portion with the name of the endpoint that we deployed earlier. You can determine the name of the endpoint using the code cell below."
   ]
  },
  {
   "cell_type": "code",
   "execution_count": 48,
   "metadata": {},
   "outputs": [
    {
     "data": {
      "text/plain": [
       "'xgboost-2019-06-11-18-06-44-593'"
      ]
     },
     "execution_count": 48,
     "metadata": {},
     "output_type": "execute_result"
    }
   ],
   "source": [
    "xgb_predictor.endpoint"
   ]
  },
  {
   "cell_type": "markdown",
   "metadata": {},
   "source": [
    "In addition, you will need to copy the vocabulary dict to the appropriate place in the code at the beginning of the `lambda_handler` method. The cell below prints out the vocabulary dict in a way that is easy to copy and paste."
   ]
  },
  {
   "cell_type": "code",
   "execution_count": 49,
   "metadata": {},
   "outputs": [
    {
     "name": "stdout",
     "output_type": "stream",
     "text": [
      "{'man': 2721, 'really': 3556, 'wanted': 4789, 'to': 4507, 'like': 2599, 'these': 4441, 'shows': 3960, 'am': 204, 'for': 1784, 'some': 4061, 'good': 1937, 'television': 4394, 'and': 226, 'providing': 3451, 'but': 636, 'sadly': 3769, 'in': 2257, 'the': 4426, 'guess': 1989, 'when': 4862, 'it': 2366, 'comes': 891, 'cinematic': 818, 'stephen': 4176, 'king': 2479, 'as': 311, 'brilliant': 583, 'kings': 2481, 'writing': 4971, 'is': 2360, 'irony': 2357, 'that': 4424, 'simply': 3986, 'doesnt': 1309, 'well': 4843, 'screen': 3829, 'big': 478, 'or': 3124, 'small': 4033, 'with': 4911, 'few': 1700, 'very': 4723, 'experience': 1580, 'cannot': 670, 'be': 418, 'filmed': 1717, 'same': 3778, 'impact': 2244, 'stories': 4205, 'have': 2052, 'read': 3543, 'many': 2732, 'people': 3221, 'would': 4957, 'disagree': 1269, 'this': 4457, 'im': 2232, 'sure': 4308, 'their': 4431, 'heart': 2064, 'of': 3083, 'hearts': 2066, 'they': 4442, 'admit': 122, 'best': 469, 'story': 4207, 'memory': 2804, 'one': 3107, 'reason': 3557, 'simple': 3983, 'average': 362, 'takes': 4351, 'place': 3282, 'mind': 2849, 'characters': 760, 'he': 2056, 'gives': 1914, 'us': 4690, 'inner': 2292, 'thoughts': 4464, 'emotions': 1461, 'sometimes': 4067, 'unreal': 4676, 'points': 3319, 'view': 4736, 'short': 3946, 'places': 3284, 'where': 4864, 'you': 4986, 'cant': 671, 'put': 3480, 'camera': 659, 'an': 223, 'audience': 352, 'watching': 4815, 'were': 4848, 'left': 2561, 'less': 2575, 'than': 4420, 'half': 2007, 'information': 2288, 'has': 2043, 'access': 83, 'its': 2370, 'not': 3040, 'too': 4522, 'far': 1653, 'stretch': 4221, 'claim': 828, 'becomes': 434, 'character': 758, 'whereas': 4865, 'limited': 2606, 'petty': 3249, 'long': 2644, 'writes': 4970, 'hollywood': 2137, 'will': 4886, 'try': 4600, 'shooting': 3943, 'everything': 1544, 'out': 3141, 'his': 2118, 'word': 4937, 'without': 4913, 'any': 256, 'regard': 3588, 'whether': 4866, 'should': 3951, 'dont': 1324, 'blame': 499, 'filmmakers': 1720, 'trying': 4601, 'incredible': 2269, 'amount': 219, 'talent': 4354, 'pull': 3461, 'off': 3084, 'adaptation': 113, 'works': 4945, 'task': 4368, 'turning': 4608, 'lead': 2545, 'into': 2332, 'gold': 1932, 'oh': 3096, 'better': 472, 'luck': 2681, 'next': 3007, 'time': 4495, 'love': 2669, 'movie': 2926, 'true': 4596, 'master': 2757, 'form': 1798, 'film': 1716, 'been': 438, 'my': 2951, 'opinion': 3118, 'overlooked': 3154, 'favourite': 1673, 'mine': 2853, 'because': 432, 'feel': 1684, 'was': 4805, 'set': 3898, 'all': 187, 'wonderful': 4928, 'existed': 1570, 'lifestyle': 2593, 'dress': 1357, 'way': 4820, 'spoke': 4125, 'ok': 3098, 'might': 2835, 'exaggerated': 1552, 'know': 2489, 'there': 4438, 'occasion': 3073, 'two': 4620, 'men': 2805, 'tried': 4584, 'each': 1395, 'other': 3135, 'insane': 2296, 'stunts': 4246, 'just': 2437, 'felt': 1692, 'history': 2121, 'thats': 4425, 'by': 642, 'appreciated': 280, 'fact': 1621, 'can': 665, 'get': 1899, 'somewhere': 4069, 'on': 3105, 'dvd': 1391, 'only': 3110, 'seen': 3865, 'tv': 4610, 'anyone': 259, 'wanting': 4790, 'life': 2592, 'about': 67, 'period': 3236, 'perfect': 3224, 'favorite': 1671, 'movies': 2927, 'loved': 2670, 'rain': 3506, 'hoffman': 2128, 'tom': 4514, 'cruise': 1071, 'ways': 4822, 'similar': 3978, 'makes': 2716, 'seem': 3861, 'artificial': 306, 'shallow': 3917, 'comparison': 914, 'had': 2003, 'give': 1912, 'bad': 382, 'make': 2713, 'think': 4452, 'didnt': 1242, 'enjoy': 1484, 'laughed': 2532, 'even': 1533, 'questions': 3489, 'so': 4046, 'laughing': 2533, 'saying': 3800, 'what': 4858, 'hell': 2077, 'going': 1931, 'why': 4878, 'someone': 4064, 'do': 1302, 'et': 1526, 'mostly': 2910, 'enjoyed': 1486, 'terrible': 4407, 'effects': 1431, '80s': 59, 'style': 4249, 'nude': 3058, 'scene': 3809, 'battle': 414, 'dialogue': 1234, 'warriors': 4803, 'wind': 4893, 'ride': 3692, 'horses': 2171, 'theres': 4440, 'crappy': 1032, 'model': 2880, 'those': 4460, 'arent': 288, 'supposed': 4306, 'real': 3547, 'trees': 4577, 'are': 285, 'still': 4188, 'understand': 4643, 'guy': 2000, 'find': 1726, 'cave': 727, 'friend': 1835, 'told': 4513, 'me': 2778, 'thought': 4462, 'em': 1452, 'basically': 407, 'liked': 2600, 'ed': 1415, 'wood': 4933, 'films': 1721, 'no': 3020, 'enjoyment': 1488, 'meant': 2784, 'look': 2646, 'at': 331, 'own': 3158, 'hilarious': 2106, 'let': 2579, 'if': 2222, 'action': 100, 'reasons': 3560, 'much': 2934, 'worse': 4951, 'evil': 1548, 'dead': 1132, 'actually': 109, 'though': 4461, 'wasting': 4810, 'your': 4991, 'which': 4867, 'came': 656, 'times': 4497, 'thing': 4450, 'most': 2909, 'friends': 1837, 'around': 297, 'laugh': 2529, 'maybe': 2776, 'bit': 488, 'harsh': 2040, 'rent': 3626, 'youll': 4988, 'see': 3855, 'cia': 814, 'absolute': 71, 'horrible': 2163, 'rip': 3700, 'classic': 835, 'la': 2500, 'woman': 4921, 'who': 4871, 'taken': 4350, 'trained': 4557, 'forced': 1787, 'secret': 3849, 'mission': 2870, 'them': 4432, 'pretty': 3384, 'structure': 4233, 'acting': 99, 'simpson': 3987, 'perhaps': 3235, 'worst': 4952, 'cinema': 816, 'steven': 4182, 'act': 97, 'poor': 3328, 'laughable': 2530, 'ridiculous': 3693, 'unnecessary': 4672, 'car': 680, 'explosions': 1597, 'flying': 1764, 'thru': 4483, 'glass': 1917, 'terrorists': 4414, 'etc': 1527, 'musical': 2947, 'score': 3822, 'resembles': 3646, 'david': 1124, 'michael': 2829, 'hard': 2033, 'kill': 2468, '1990': 24, 'theme': 4433, 'plenty': 3307, 'martial': 2747, 'arts': 310, 'done': 1322, 'low': 2676, 'budget': 610, 'american': 213, 'production': 3419, 'mindless': 2851, 'over': 3148, 'top': 4525, 'never': 3001, 'lets': 2580, 'up': 4683, 'mildly': 2840, 'entertained': 1498, 'star': 4150, 'back': 378, 'early': 1400, '90s': 61, 'certainly': 738, 'doing': 1312, 'soap': 4047, 'skip': 4016, 'check': 777, 'instead': 2307, 'book': 535, 'since': 3990, 'grade': 1951, 'teacher': 4375, 'our': 3139, 'class': 833, 'years': 4979, 'ago': 154, 'every': 1539, '3rd': 47, 'classes': 834, 'past': 3207, '18': 10, 'teaching': 4377, 'supposedly': 4307, 'made': 2697, 'id': 2212, 'able': 66, 'students': 4239, 'excited': 1561, 'we': 4823, 'heard': 2062, 'disney': 1289, 'brought': 600, 'excellent': 1555, 'watched': 4813, 'highest': 2102, 'hopes': 2159, 'went': 4847, 'became': 431, 'more': 2904, 'badly': 383, 'down': 1335, 'stick': 4185, 'strictly': 4223, 'need': 2987, 'change': 749, 'things': 4451, 'sake': 3775, 'from': 1840, 'totally': 4532, 'kept': 2456, 'myself': 2953, 'first': 1736, 'discuss': 1283, 'wasnt': 4807, 'nearly': 2981, 'single': 3996, 'cheated': 775, 'great': 1964, 'created': 1037, 'wondered': 4927, 'did': 1241, 'aunt': 355, 'beast': 422, 'wars': 4804, 'couldnt': 1008, 'hair': 2005, 'red': 3576, 'mrs': 2930, 'proper': 3436, 'witch': 4909, 'outfit': 3144, 'such': 4268, 'clever': 841, 'play': 3296, 'her': 2085, 'name': 2960, 'detail': 1217, 'changed': 750, 'always': 203, 'how': 2181, 'waiting': 4772, 'write': 4967, 'peter': 3247, 'jackson': 2375, 'convince': 983, 'him': 2110, 'take': 4349, 'childhood': 790, 'remember': 3616, 'seeing': 3857, 'thrilling': 4474, 'now': 3054, 'grown': 1984, 'kid': 2464, 'introduce': 2336, 'last': 2521, 'friday': 1834, 'during': 1387, 'fight': 1707, 'giant': 1905, 'spider': 4109, 'sons': 4073, 'hand': 2015, 'took': 4523, 'hold': 2129, 'genuinely': 1892, 'scared': 3805, 'gonna': 1936, 'beat': 423, 'watch': 4811, 'historical': 2119, 'frame': 1815, 'reference': 3582, 'speak': 4094, 'eight': 1436, 'old': 3100, 'under': 4639, 'al': 170, 'oz': 3160, 'especially': 1520, 'boy': 557, 'thief': 4448, 'narrative': 2966, 'sidekick': 3966, 'hero': 2088, 'must': 2950, 'satisfying': 3791, 'imaginative': 2237, 'young': 4989, 'boys': 559, 'definitely': 1162, 'piece': 3272, 'suspect': 4327, 'hes': 2093, 'twelve': 4611, 'son': 4070, 'corny': 997, 'whatever': 4859, 'generation': 1883, 'using': 4698, 'then': 4436, 'barely': 399, 'dimensional': 1253, 'cynical': 1093, 'commented': 900, 'does': 1308, 'princess': 3397, 'demands': 1175, 'himself': 2111, 'repeatedly': 3632, 'struck': 4232, 'equally': 1510, 'while': 4868, 'mechanical': 2788, 'foot': 1781, 'temple': 4398, 'eye': 1611, 'extreme': 1609, 'climax': 849, 'tremendous': 4579, 'final': 1722, 'shot': 3949, 'away': 369, 'stolen': 4195, 'magic': 2703, 'seeking': 3859, 'fun': 1848, 'adventure': 130, 'ben': 463, 'self': 3869, 'centered': 733, 'sadistic': 3768, 'punch': 3466, 'nose': 3037, 'romantic': 3733, 'beginning': 443, 'end': 1468, 'money': 2888, 'ultimately': 4628, 'allows': 192, 'buy': 640, 'happiness': 2031, 'beyond': 476, 'belief': 451, 'little': 2624, 'christmas': 810, 'aint': 163, 'awful': 372, 'waste': 4808, 'making': 2718, 'late': 2523, '70s': 56, 'folks': 1771, 'something': 4066, 'remarkable': 3613, 'example': 1553, 'work': 4940, 'script': 3834, 'mediocre': 2791, 'being': 448, 'choice': 797, '24': 39, 'drama': 1346, 'thanks': 4423, 'direction': 1261, 'fresh': 1833, 'engaging': 1481, 'performances': 3229, 'spot': 4131, 'values': 4710, '50s': 52, 'era': 1513, 'new': 3003, 'york': 4985, 'roll': 3728, 'tone': 4517, 'truly': 4597, 'blues': 519, 'curtis': 1087, 'loosely': 2651, 'based': 404, 'three': 4469, 'bright': 581, 'eyed': 1612, 'black': 493, 'teenage': 4389, 'girl': 1909, 'singers': 3994, 'desperately': 1209, 'escape': 1517, 'plight': 3308, 'world': 4946, 'commercial': 902, 'music': 2946, 'obvious': 3071, 'instant': 2305, 'wealth': 4826, 'success': 4265, 'run': 3755, 'drugs': 1374, 'corruption': 1002, 'fighting': 1709, 'integrity': 2311, 'forth': 1804, 'luckily': 2682, 'evident': 1547, 'almost': 193, 'completely': 922, 'flat': 1748, 'uninspired': 4657, 'rate': 3526, 'helps': 2082, 'lot': 2661, 'smith': 4038, 'sexy': 3911, 'appealing': 272, 'leads': 2548, 'boot': 538, 'fine': 1729, 'also': 199, 'turned': 4606, 'pre': 3365, 'vice': 4727, 'philip': 3252, 'thomas': 4458, 'groups': 1981, 'patient': 3211, 'manager': 2724, 'dog': 1310, 'boyfriend': 558, 'tony': 4521, 'smooth': 4041, 'stone': 4197, 'cold': 872, 'nasty': 2968, 'gangster': 1868, 'funny': 1852, 'poignant': 3315, 'ever': 1538, 'human': 2188, 'spirits': 4115, 'extraordinary': 1607, 'ability': 65, 'effectively': 1430, 'extremely': 1610, 'difficult': 1249, 'odds': 3082, 'veteran': 4724, 'editor': 1423, 'sam': 3777, 'superbly': 4297, 'directorial': 1265, 'debut': 1143, 'bruce': 602, 'cinematography': 820, 'gordon': 1940, 'expert': 1585, 'editing': 1421, 'both': 547, 'flawless': 1751, 'grasp': 1960, 'atmosphere': 333, 'tiny': 4500, 'telling': 4396, 'details': 1219, 'sense': 3877, 'busy': 635, 'pace': 3161, 'impressive': 2253, 'soundtrack': 4085, 'either': 1438, 'jump': 2429, 'feeling': 1685, 'precious': 3366, 'lord': 2652, 'baby': 376, 'unbelievably': 4635, 'fantastic': 1651, 'songs': 4072, 'jones': 2418, 'number': 3060, 'later': 2525, 'covered': 1023, 'clearly': 840, 'song': 4071, 'entire': 1502, 'result': 3660, 'above': 68, 'outstanding': 3147, 'screenplay': 3831, 'whats': 4860, 'said': 3774, 'turn': 4605, 'overall': 3150, 'quality': 3484, 'gory': 1943, 'everyone': 1542, 'lessons': 2578, 'home': 2142, 'forgot': 1796, 'mean': 2779, 'plot': 3309, 'could': 1007, 'written': 4972, 'wait': 4770, 'scary': 3807, 'probably': 3407, 'dolph': 1317, 'nothing': 3047, 'youd': 4987, 'want': 4788, 'expect': 1575, 'here': 2086, 'plays': 3301, 'miserable': 2863, 'cop': 991, 'brother': 598, 'gets': 1900, 'killed': 2469, 'tries': 4585, 'figure': 1711, 'plain': 3286, 'stupid': 4247, 'pointless': 3318, 'stand': 4143, 'reality': 3551, 'paris': 3189, 'company': 910, 'youre': 4992, 'fired': 1735, 'hired': 2117, 'seasons': 3844, 'after': 143, 'show': 3953, 'wouldnt': 4958, 'ego': 1435, 'paint': 3173, 'dry': 1377, 'entertainment': 1500, 'hear': 2061, 'person': 3238, 'say': 3799, 'donald': 1321, 'quit': 3494, 'decent': 1147, 'fame': 1642, 'wrestling': 4966, 'hope': 2155, 'hurt': 2202, 'pathetic': 3210, 'face': 1616, 'anymore': 258, 'sad': 3767, 'ass': 323, 'yourself': 4993, 'negative': 2991, 'mark': 2739, 'deserve': 1199, 'involved': 2346, 'surviving': 4323, 'played': 3297, 'rough': 3741, 'thrown': 4481, 'together': 4511, 'concept': 930, 'rich': 3685, 'paying': 3217, 'family': 1645, 'spend': 4105, 'portrays': 3344, 'drew': 1360, 'typical': 4623, 'image': 2233, 'wealthy': 4827, 'advertising': 132, 'executive': 1567, 'through': 4477, 'girlfriend': 1910, 'leaves': 2556, 'shortly': 3947, 'before': 440, 'shes': 3930, 'she': 3923, 'calls': 654, 'holiday': 2134, 'introduced': 2337, 'father': 1666, 'mother': 2911, 'mystery': 2956, 'rather': 3528, 'allow': 189, 'believe': 454, 'care': 684, 'fear': 1676, 'alone': 194, 'tracks': 4545, 'idea': 2213, 'suggests': 4282, 'meets': 2795, 'living': 2629, 'offers': 3090, 'pretend': 3381, 'fond': 1776, 'memories': 2803, 'angry': 238, 'finds': 1728, 'adult': 125, 'daughter': 1121, 'sister': 4001, 'goes': 1930, 'follow': 1772, 'none': 3028, 'once': 3106, 'reveals': 3673, 'grew': 1972, 'annoyed': 248, 'accepted': 82, 'refuses': 3587, 'along': 195, 'fantasy': 1652, 'suddenly': 4273, 'starts': 4159, 'matter': 2769, 'minutes': 2859, 'guts': 1999, 'complete': 921, 'jerk': 2395, 'throughout': 4478, 'lonely': 2643, 'sympathy': 4343, 'wish': 4904, 'finished': 1733, 'kidding': 2465, 'orders': 3127, 'against': 147, '10': 0, 'released': 3603, 'theaters': 4428, 'blockbuster': 509, 'suspense': 4330, 'wonder': 4926, 'justin': 2440, 'job': 2405, 'expecting': 1578, 'considering': 952, 'pick': 3265, 'night': 3013, 'go': 1924, 'cast': 710, 'highly': 2105, 'recommend': 3571, 'compelled': 915, 'review': 3676, 'feature': 1678, 'means': 2783, 'warning': 4800, 'others': 3136, 'save': 3794, 'episode': 1507, 'morris': 2908, 'animal': 239, 'nature': 2975, 'material': 2766, 'presented': 3376, 'director': 1264, 'fail': 1625, 'use': 4692, '70': 55, 'stock': 4193, 'presentation': 3375, 'given': 1913, 'mentioned': 2811, 'previously': 3388, 'viewers': 4739, 'pregnant': 3369, 'husband': 2204, 'forty': 1807, 'odd': 3080, 'eat': 1411, 'listen': 2619, 'although': 201, 'scenes': 3811, 'inside': 2297, 'track': 4544, 'learn': 2550, 'natural': 2973, 'anything': 260, 'school': 3813, 'remotely': 3623, 'avoid': 363, 'cost': 1003, 'suggest': 4280, 'beautifully': 429, 'photographed': 3258, 'india': 2273, 'kingdom': 2480, 'tiger': 4491, 'technically': 4382, 'space': 4090, 'station': 4164, '3d': 46, 'trust': 4598, 'heroes': 2089, 'used': 4693, 'books': 536, 'library': 2589, 'chance': 747, 'got': 1944, 'sea': 3838, 'humor': 2192, 'documentary': 1307, 'background': 380, 'development': 1225, 'makers': 2715, 'personal': 3240, 'relationship': 3597, 'artist': 307, 'inspiration': 2300, 'chan': 746, 'moving': 2928, 'talented': 4355, 'become': 433, 'joy': 2422, 'millions': 2848, 'children': 792, 'frank': 1821, 'masterpiece': 2759, 'amusing': 221, 'lyrics': 2692, 'competent': 917, 'themes': 4434, 'solid': 4057, 'construction': 960, 'adapted': 114, 'damon': 1101, 'musicals': 2948, 'surprising': 4315, 'numbers': 3061, 'flow': 1762, 'storyline': 4208, 'art': 304, 'joseph': 2419, 'sinatra': 3989, 'needs': 2990, 'cash': 709, 'floating': 1758, 'crap': 1031, 'game': 1864, 'julie': 2428, 'chicago': 785, 'mob': 2879, 'boss': 546, 'player': 3298, 'sky': 4017, 'brando': 566, 'army': 295, 'wins': 4899, 'bet': 470, 'saves': 3796, 'falls': 1640, 'attend': 344, 'service': 3896, 'tells': 4397, 'everybody': 1540, 'lady': 2507, 'lie': 2590, 'course': 1019, 'ends': 1474, 'suffering': 4277, 'include': 2261, 'johnny': 2410, 'silver': 3977, 'robert': 3713, 'leonard': 2572, 'mary': 2751, 'alan': 171, 'leader': 2546, 'ann': 244, 'jean': 2389, 'simmons': 3981, 'sarah': 3785, 'brown': 601, 'famous': 1647, 'award': 366, 'winning': 4898, 'broadway': 592, 'guys': 2001, 'dolls': 1316, 'ill': 2228, 'develop': 1222, 'established': 1524, 'letter': 2581, 'wives': 4918, 'directed': 1259, 'proceedings': 3410, 'successfully': 4267, 'getting': 1901, 'directing': 1260, 'huge': 2185, 'challenging': 744, 'section': 3853, 'title': 4504, 'pet': 3246, 'club': 863, 'uneven': 4649, 'seems': 3864, 'wrong': 4973, 'part': 3193, 'singing': 3995, 'instinct': 2308, 'charm': 767, 'comedy': 890, 'role': 3726, 'several': 3905, 'theatrical': 4430, 'selling': 3873, 'sings': 3997, 'asked': 317, 'opening': 3114, 'closing': 859, 'triumph': 4590, 'subtle': 4260, 'genre': 1888, 'itself': 2371, 'instance': 2304, 'delightful': 1168, 'different': 1248, 'sorry': 4076, 'ive': 2372, 'visually': 4758, 'fascinating': 1658, 'eg': 1434, 'colour': 880, 'absolutely': 72, 'stunning': 4244, 'boring': 543, 'disturbing': 1300, 'wrote': 4974, 'imagine': 2238, 'difference': 1246, 'biggest': 480, 'national': 2970, 'hit': 2122, 'remains': 3611, 'house': 2178, 'exact': 1550, 'opposite': 3123, 'including': 2264, 'reunion': 3669, 'please': 3304, 'fooled': 1780, 'john': 2409, 'mess': 2818, 'root': 3737, 'twice': 4613, 'painful': 3171, 'generous': 1886, 'again': 146, 'demons': 1178, 'vampires': 4712, 'serial': 3889, 'killers': 2471, 'ending': 1471, 'awesome': 371, 'terrific': 4409, 'dark': 1115, 'impressed': 2251, 'stayed': 4167, 'sequence': 3887, 'luke': 2687, 'tortured': 4530, 'destroyed': 1214, 'nice': 3008, 'sacrifice': 3766, 'surprised': 4313, 'rebel': 3561, 'ships': 3935, 'war': 4792, 'super': 4295, 'race': 3499, 'co': 867, 'pilot': 3276, 'wounded': 4961, 'sees': 3866, 'greatest': 1966, 'crime': 1055, 'personally': 3243, 'ground': 1979, 'combat': 882, 'between': 475, 'vs': 4767, 'death': 1141, 'post': 3352, 'slave': 4022, 'memorable': 2802, 'flicks': 1755, 'expected': 1577, 'imdb': 2240, 'fails': 1628, 'entertain': 1497, 'thin': 4449, 'unoriginal': 4673, 'unfortunately': 4654, 'case': 707, 'scenario': 3808, 'playing': 3300, 'strong': 4229, 'feelings': 1686, 'accompanied': 86, 'entertaining': 1499, 'wanna': 4786, 'cry': 1073, 'suffice': 4279, 'tears': 4380, 'due': 1382, 'tragic': 4552, 'wannabe': 4787, 'isnt': 2362, 'high': 2100, 'gabriel': 1859, 'plan': 3287, 'terrifying': 4410, 'assault': 324, 'begin': 442, 'deadly': 1133, 'revenge': 3675, 'start': 4156, 'video': 4733, 'explain': 1586, 'another': 250, 'called': 652, 'elephant': 1444, 'bring': 585, 'compare': 911, 'ask': 316, 'lines': 2612, 'blair': 497, 'project': 3427, 'painfully': 3172, 'realistic': 3550, 'won': 4925, 'willing': 4889, 'side': 3965, 'unlike': 4670, 'cared': 685, 'actions': 101, 'sympathetic': 4342, 'white': 4870, 'honest': 2146, 'cried': 1054, 'beings': 449, 'logic': 2638, 'behind': 447, 'attention': 345, 'emotionally': 1460, 'gripping': 1976, 'haunting': 2051, 'describe': 1194, 'keep': 2449, 'river': 3707, 'right': 3696, 'modern': 2882, 'cannibal': 669, 'tale': 4353, 'follows': 1775, 'journey': 2421, 'spent': 4108, 'field': 1704, '40': 48, 'west': 4852, 'full': 1846, 'gay': 1876, 'jewish': 2401, 'ship': 3934, 'come': 886, 'deep': 1154, 'respect': 3652, 'understanding': 4645, 'author': 359, 'haunted': 2050, 'happened': 2027, 'intimate': 2331, 'connection': 946, 'relationships': 3598, 'yet': 4984, 'constant': 957, 'appreciation': 281, 'pleasure': 3306, 'achieve': 92, 'themselves': 4435, 'compelling': 916, 'subject': 4253, 'study': 4242, 'experiences': 1582, 'faced': 1617, 'morality': 2903, 'nudity': 3059, 'graphic': 1958, 'engaged': 1480, 'local': 2634, 'non': 3027, 'asks': 319, 'types': 4622, 'interested': 2324, 'provides': 3450, 'quiet': 3492, 'revelation': 3674, 'pushed': 3478, 'crew': 1053, 'emotional': 1459, 'age': 148, 'physical': 3262, 'allowed': 190, 'desire': 1205, 'humanity': 2189, 'ones': 3108, 'provide': 3448, 'moments': 2887, 'critical': 1062, 'balance': 387, 'believes': 456, 'decide': 1148, 'stop': 4201, 'shocked': 3939, 'move': 2921, 'queen': 3485, 'mgm': 2828, 'clark': 832, 'worker': 4942, 'ironically': 2356, 'enough': 1491, 'handsome': 2021, 'future': 1856, 'cary': 706, 'grant': 1956, 'overrated': 3156, 'easy': 1410, 'roles': 3727, 'hot': 2174, 'parts': 3199, 'america': 212, 'saw': 3798, 'working': 4944, 'includes': 2263, 'gotten': 1947, 'curious': 1083, 'else': 1448, 'sloppy': 4030, 'dialog': 1232, 'annoying': 249, 'slow': 4031, 'row': 3744, 'partly': 3197, 'pass': 3201, 'realized': 3553, 'passing': 3204, 'episodes': 1508, 'attempt': 340, 'stay': 4166, 'bits': 490, 'god': 1926, 'hurts': 2203, 'head': 2057, 'call': 651, 'bold': 528, 'failed': 1626, 'least': 2554, 'planned': 3290, 'correct': 1000, 'gags': 1862, 'actor': 103, 'writer': 4968, 'known': 2492, 'corrupt': 1001, 'format': 1799, 'harvey': 2042, 'gritty': 1977, 'powerful': 3360, 'police': 3322, 'thriller': 4472, 'mention': 2810, 'italian': 2367, 'cd': 728, 'pulls': 3464, 'plastic': 3294, 'puts': 3481, 'sort': 4077, 'arm': 292, 'touches': 4535, 'causing': 726, 'point': 3316, 'gave': 1875, 'clue': 864, '20': 29, 'exception': 1557, 'rotten': 3740, 'performance': 3228, 'bizarre': 492, 'picture': 3269, 'sound': 4081, 'giving': 1915, 'impression': 2252, 'fourth': 1813, 'copy': 994, 'don': 1320, 'print': 3399, 'impossible': 2249, 'irritating': 2359, 'clint': 850, 'eastwood': 1409, 'westerns': 4854, 'pity': 3281, 'psycho': 3457, 'interest': 2323, 'violent': 4748, 'rest': 3657, 'match': 2762, 'standards': 4145, 'science': 3816, 'scare': 3803, 'original': 3129, 'neither': 2996, 'pseudo': 3454, 'twist': 4617, 'kills': 2474, 'disease': 1285, 'minor': 2857, 'government': 1948, 'conspiracy': 956, 'angle': 236, 'protagonist': 3441, 'scripted': 3835, 'subplots': 4256, 'convoluted': 987, '45': 50, 'minute': 2858, 'worth': 4953, 'legendary': 2565, 'rob': 3710, 'roy': 3745, 'battles': 415, 'frequently': 1832, 'compared': 912, 'despite': 1211, 'primarily': 3393, 'fictional': 1703, 'choose': 799, '13': 4, 'century': 736, 'william': 4887, 'wallace': 4782, 'noted': 3045, 'larger': 2519, 'across': 96, 'ordinary': 3128, 'revolves': 3682, 'lives': 2628, 'scottish': 3825, 'wife': 4884, 'begins': 444, 'fellow': 1691, 'hunting': 2201, 'wishes': 4906, 'improve': 2254, 'thousand': 4465, 'noble': 3021, 'order': 3126, 'market': 2740, 'missing': 2869, 'conflict': 939, 'sleazy': 4023, 'factor': 1622, 'seeks': 3860, 'involve': 2345, 'false': 1641, 'rival': 3706, 'duke': 1383, 'whom': 4875, 'charismatic': 763, 'intelligent': 2314, 'whose': 4877, 'albeit': 173, 'irish': 2353, 'adding': 117, 'viewer': 4738, 'proud': 3444, 'loving': 2675, 'loyal': 2679, 'accused': 91, 'tim': 4494, 'major': 2711, 'surely': 4309, 'villains': 4745, 'ruthless': 3764, 'business': 633, 'women': 4923, 'otherwise': 3137, 'constantly': 958, 'unaware': 4632, 'fathers': 1667, 'identity': 2217, 'hardly': 2036, 'horrendous': 2162, 'murder': 2939, 'rape': 3521, 'aside': 315, 'betty': 474, 'child': 789, 'resulting': 3661, 'suicide': 4283, 'arrogant': 303, 'eventually': 1537, 'essentially': 1523, 'believable': 453, 'depicting': 1184, 'passionate': 3206, 'question': 3487, 'presence': 3373, 'passion': 3205, 'within': 4912, 'marriage': 2743, 'pair': 3176, 'beautiful': 428, 'expressions': 1603, 'possibly': 3351, 'jessica': 2398, 'lacking': 2504, 'actress': 105, 'brings': 587, 'courage': 1018, 'dignity': 1252, 'brutally': 604, 'raped': 3522, 'disgusting': 1286, 'looks': 2649, 'spoken': 4126, 'filled': 1715, 'pride': 3391, 'grace': 1950, 'showed': 3956, 'reveal': 3670, 'pain': 3170, 'intended': 2315, 'learns': 2553, 'further': 1853, 'features': 1680, 'scenery': 3810, 'costumes': 1006, 'appropriate': 283, 'grand': 1953, 'particularly': 3195, 'sword': 4340, 'captivating': 675, 'featuring': 1681, 'tense': 4403, 'adorable': 124, 'heroine': 2091, 'turns': 4609, 'runs': 3757, 'closed': 854, 'doors': 1329, 'naked': 2959, 'truth': 4599, 'caught': 722, 'plots': 3310, 'supporting': 4304, 'provided': 3449, 'setting': 3900, 'diamond': 1236, 'tea': 4373, 'cute': 1090, 'wonderfully': 4929, 'accident': 84, 'refreshing': 3586, 'clown': 862, 'release': 3602, 'gem': 1877, 'continues': 971, 'remain': 3609, 'buried': 624, 'segments': 3868, 'promising': 3433, 'followed': 1773, 'described': 1195, 'middle': 2833, 'miscast': 2862, 'soldier': 4053, 'blue': 518, 'traveling': 4568, 'reach': 3536, 'safety': 3772, 'miss': 2866, 'inappropriate': 2259, 'four': 1812, 'words': 4938, 'opens': 3115, 'mouth': 2920, 'walked': 4776, '1970s': 17, 'jack': 2373, 'nicholson': 3011, 'zero': 4996, 'third': 4455, 'involves': 2348, 'gratuitous': 1961, 'slaughter': 4021, 'indian': 2274, 'village': 4743, 'obviously': 3072, 'overdone': 3152, 'lay': 2542, 'anti': 254, 'propaganda': 3435, 'outrageous': 3145, 'contrived': 976, 'recommended': 3572, 'comment': 898, 'heres': 2087, 'liberal': 2588, 'nonsense': 3030, 'political': 3324, 'site': 4005, 'culture': 1079, 'differences': 1247, 'running': 3756, 'important': 2247, 'keaton': 2448, 'actors': 104, 'serious': 3891, 'couple': 1016, 'president': 3378, 'uses': 4697, 'power': 3359, 'private': 3404, 'media': 2789, 'mentally': 2809, 'hitler': 2124, 'via': 4726, 'bullets': 621, 'traditional': 4550, 'methods': 2825, 'help': 2079, 'march': 2734, 'holding': 2130, 'hands': 2020, 'sounds': 4084, 'explicit': 1591, 'usa': 4691, 'center': 732, 'embarrassing': 1454, 'prime': 3395, 'freedom': 1828, 'channel': 753, 'large': 2517, 'amounts': 220, 'exciting': 1563, 'turner': 4607, 'recently': 3567, 'intense': 2316, 'looked': 2647, 'cheesy': 781, 'capturing': 679, 'particular': 3194, 'hated': 2047, 'talked': 4359, 'usually': 4700, 'plus': 3311, 'cartoon': 704, 'girls': 1911, 'interesting': 2325, 'hamilton': 2012, 'perry': 3237, 'superman': 4301, 'jamie': 2379, 'may': 2775, 'aged': 149, 'theatre': 4429, 'door': 1328, 'incredibly': 2270, 'conventional': 979, 'loud': 2664, 'tired': 4501, 'coming': 896, 'youve': 4995, 'tough': 4537, 'originality': 3130, 'sucked': 4270, 'endure': 1475, 'needed': 2988, 'shoot': 3942, 'shots': 3950, 'emotion': 1458, 'cover': 1022, 'gun': 1996, 'warrior': 4802, 'brand': 565, 'loaded': 2632, 'stuff': 4243, 'however': 2183, 'consider': 949, 'numerous': 3062, 'close': 853, 'ups': 4686, 'pants': 3182, 'colors': 879, 'drag': 1342, 'standing': 4146, 'occasionally': 3075, 'touching': 4536, 'cousin': 1021, 'likes': 2602, 'message': 2819, 'convey': 982, 'shall': 3916, 'yes': 4982, 'someones': 4065, 'brief': 579, 'fancy': 1649, 'standard': 4144, 'moves': 2925, 'chuck': 812, 'flick': 1754, 'chase': 769, 'speed': 4103, 'okay': 3099, 'americans': 214, 'moment': 2886, 'born': 544, 'christ': 807, 'meet': 2793, 'earth': 1403, 'fire': 1734, 'jesus': 2399, 'sellers': 3872, 'among': 217, 'anyway': 261, 'suck': 4269, 'chances': 748, 'sheer': 3925, 'disappointed': 1273, 'kirk': 2482, 'cameron': 661, 'creepy': 1052, 'growing': 1983, 'found': 1811, 'decided': 1149, 'reflect': 3584, 'christian': 808, 'career': 686, 'gone': 1935, 'dogs': 1311, 'happy': 2032, 'free': 1827, 'viewing': 4740, 'briefly': 580, 'suppose': 4305, 'town': 4541, 'live': 2625, 'nyc': 3065, 'sit': 4003, 'pages': 3168, 'bible': 477, 'million': 2847, 'manhattan': 2726, 'island': 2361, 'religious': 3608, 'closely': 855, 'bunch': 623, 'honestly': 2147, 'whole': 4873, 'holy': 2140, 'saved': 3795, 'hooked': 2153, 'gotta': 1946, 'gary': 1873, 'excuse': 1564, 'taking': 4352, 'heaven': 2068, 'room': 3735, 'mans': 2730, 'stands': 4147, 'energy': 1478, 'shine': 3931, 'note': 3044, 'creature': 1045, 'unknown': 4668, 'clichéd': 845, 'monster': 2892, 'loose': 2650, 'kids': 2467, 'rubber': 3747, 'suit': 4284, 'days': 1130, 'paul': 3214, 'dull': 1384, 'straight': 4210, 'wont': 4932, 'road': 3709, 'ancient': 225, 'male': 2719, 'independent': 2272, 'professional': 3421, 'portray': 3340, 'second': 3846, 'bought': 552, 'status': 4165, 'joke': 2414, 'resolution': 3649, 'laughably': 2531, 'amateurish': 207, 'dragged': 1343, 'disjointed': 1287, 'cut': 1089, 'series': 3890, 'length': 2569, 'academy': 77, 'nominated': 3025, 'oscars': 3134, 'repeat': 3630, 'daniel': 1111, 'day': 1129, 'lewis': 2586, 'favorites': 1672, 'amazing': 209, 'throws': 4482, 'party': 3200, 'sitting': 4007, 'table': 4346, 'eating': 1413, 'drinking': 1362, 'talking': 4360, 'having': 2054, 'pay': 3216, 'stopped': 4202, 'food': 1778, 'eyes': 1613, 'body': 527, 'control': 977, 'picked': 3266, 'seemed': 3862, 'floor': 1759, 'knew': 2486, 'witnessed': 4915, 'spirit': 4113, 'capture': 676, 'jim': 2402, 'riveting': 3708, 'mixed': 2877, 'fan': 1648, 'pushing': 3479, 'ideas': 2215, 'unbelievable': 4634, 'creative': 1041, 'relief': 3605, 'similarities': 3979, 'tedious': 4387, 'magnificent': 2705, 'comments': 901, 'listed': 2618, 'dirty': 1268, 'harry': 2039, 'glory': 1922, 'female': 1693, 'judge': 2424, 'lack': 2502, 'evidence': 1546, 'coffee': 870, 'shop': 3945, 'encounter': 1466, 'unfortunate': 4653, 'ahead': 159, 'line': 2610, 'sudden': 4272, 'catch': 714, 'breath': 573, 'inspector': 2299, 'sent': 3880, 'nearby': 2980, 'city': 825, 'investigate': 2342, 'murdered': 2940, 'hood': 2151, 'group': 1980, 'thugs': 4484, 'deal': 1135, 'mysterious': 2955, 'superb': 4296, 'photography': 3260, 'premise': 3370, 'stress': 4220, 'chair': 742, 'offer': 3087, 'physically': 3263, 'torture': 4529, 'committed': 905, 'create': 1036, 'uncomfortable': 4637, 'situation': 4008, 'decision': 1151, 'transfer': 4559, 'wants': 4791, 'treat': 4572, 'occasional': 3074, 'serves': 3895, 'remind': 3618, 'central': 735, 'stage': 4139, 'delivers': 1172, 'handle': 2018, 'light': 2595, 'diana': 1237, 'rachel': 3500, 'legend': 2564, 'hour': 2176, 'poem': 3312, 'remembered': 3617, 'picking': 3267, 'building': 615, 'images': 2235, 'soviet': 4089, 'cuba': 1075, 'mood': 2898, 'news': 3005, 'revolution': 3680, 'individual': 2277, 'bitter': 491, 'regret': 3591, 'waited': 4771, 'aging': 153, 'uncle': 4636, 'oil': 3097, 'despair': 1207, 'sole': 4055, 'purpose': 3474, 'map': 2733, 'build': 614, 'plant': 3293, 'decade': 1144, 'footage': 1782, 'titanic': 4503, 'empire': 1464, 'visuals': 4759, 'violence': 4747, 'angles': 237, 'faces': 1618, 'actual': 108, 'focuses': 1768, 'broken': 594, 'reached': 3537, 'answers': 252, 'protagonists': 3442, 'redemption': 3578, 'saga': 3773, 'landscape': 2513, 'appears': 278, 'segment': 3867, 'guide': 1993, 'mere': 2814, 'logical': 2639, 'incomprehensible': 2267, 'invisible': 2344, 'ghosts': 1903, 'appearing': 277, 'dreams': 1355, 'repeated': 3631, 'bear': 420, 'indeed': 2271, 'awe': 370, 'land': 2511, 'treatment': 4574, 'community': 908, 'struggling': 4236, 'progress': 3425, 'often': 3095, 'reminds': 3620, 'profound': 3423, 'gods': 1928, 'dream': 1354, 'poster': 3353, 'hints': 2113, 'lost': 2660, 'raw': 3532, 'edge': 1418, 'wild': 4885, 'explosion': 1596, 'pure': 3471, 'scientific': 3817, '20th': 38, 'closest': 857, 'ex': 1549, 'china': 795, 'radio': 3504, 'proved': 3446, 'answer': 251, 'albert': 174, 'dozen': 1338, 'leading': 2547, 'scientists': 3819, 'villain': 4744, 'intent': 2318, 'stealing': 4171, 'machines': 2694, 'notable': 3041, 'cases': 708, 'dealing': 1136, 'comedies': 889, 'nobody': 3022, 'cliff': 847, 'secrets': 3852, 'theory': 4437, 'russell': 3761, 'christopher': 811, 'successful': 4266, 'ten': 4399, 'spoof': 4127, 'surprise': 4312, 'walter': 4784, 'matthau': 2771, 'lemmon': 2567, 'careers': 687, 'capable': 672, 'gifted': 1907, 'normally': 3034, 'comic': 893, 'fortune': 1806, 'shed': 3924, 'criminal': 1057, 'happens': 2029, 'sweet': 4336, 'catherine': 719, 'ryan': 3765, 'professor': 3422, 'named': 2961, 'james': 2378, 'robbins': 3712, 'attracted': 349, 'lacks': 2505, 'mental': 2808, 'equipment': 1511, 'lou': 2663, 'gene': 1879, 'apparently': 270, 'genius': 1887, 'open': 3112, 'romance': 3732, 'spoil': 4121, 'bodies': 526, 'constructed': 959, 'rocket': 3721, 'nation': 2969, 'charming': 768, 'normal': 3033, 'masterpieces': 2760, 'mr': 2929, 'youth': 4994, 'honor': 2150, 'fiction': 1702, 'fans': 1650, 'destruction': 1216, 'civilization': 827, 'thousands': 4466, 'carrying': 701, 'mad': 2696, 'max': 2774, 'travel': 4567, 'distant': 1295, 'special': 4097, 'tend': 4400, 'board': 522, 'sequel': 3885, 'worked': 4941, 'chosen': 805, 'thumbs': 4485, 'productions': 3420, '1980': 20, 'da': 1094, 'looking': 2648, 'except': 1556, 'scott': 3824, 'kim': 2475, 'alright': 198, 'bare': 398, 'usual': 4699, 'cowboy': 1025, 'wayne': 4821, 'brothers': 599, 'kissing': 2484, 'missed': 2867, 'rating': 3529, 'doubt': 1332, 'unless': 4669, 'generally': 1881, 'cheap': 774, 'horror': 2168, 'type': 4621, 'disappointment': 1275, 'main': 2707, 'flaw': 1749, 'explaining': 1588, 'creatures': 1046, 'explained': 1587, 'parents': 3188, 'managed': 2723, 'survivor': 4324, 'stays': 4169, 'near': 2979, 'opportunity': 3121, 'leave': 2555, 'cross': 1066, 'incident': 2260, 'public': 3460, 'fall': 1637, 'trite': 4589, 'personalities': 3241, 'heavy': 2070, 'smile': 4036, 'hey': 2095, 'sell': 3871, 'sappy': 3784, 'royal': 3746, 'shakespeare': 3915, 'jaw': 2384, 'dropping': 1371, 'appalling': 268, 'responsible': 3656, 'disaster': 1276, 'slap': 4018, 'possible': 3350, 'required': 3641, 'thinking': 4453, '90': 60, 'trapped': 4564, 'poorly': 3329, 'jokes': 2415, 'weak': 4824, 'faster': 1662, 'bullet': 620, 'quite': 3495, 'nicely': 3009, 'lame': 2510, 'wilson': 4891, 'chemistry': 782, 'office': 3091, 'sex': 3907, 'werent': 4849, 'ended': 1470, 'caring': 691, 'teenagers': 4391, 'rental': 3627, 'predictable': 3367, 'twenty': 4612, 'sidney': 3968, 'lumet': 2688, 'garbo': 1871, 'talks': 4361, 'quest': 3486, 'ron': 3734, 'anne': 246, 'eccentric': 1414, 'brain': 562, 'decides': 1150, 'kind': 2476, 'loves': 2674, 'jail': 2376, 'outside': 3146, 'striking': 4226, 'attempted': 341, 'dating': 1120, 'lisa': 2616, 'carrie': 697, 'fisher': 1739, 'jane': 2380, 'happen': 2026, 'problem': 3408, 'survive': 4321, 'intriguing': 2335, 'uninteresting': 4660, 'guest': 1992, 'stars': 4155, 'attempts': 343, 'halfway': 2008, 'statement': 4162, 'exist': 1569, 'bored': 541, 'easily': 1406, 'viewed': 4737, 'misses': 2868, 'stranger': 4213, 'hasnt': 2044, '1984': 23, '25': 40, 'stinker': 4191, 'suffer': 4275, 'shocking': 3940, 'revealed': 3671, 'threat': 4467, 'slight': 4027, 'raising': 3509, 'voices': 4763, 'anybody': 257, 'faith': 1633, 'vast': 4716, 'mansion': 2731, 'older': 3101, 'womans': 4922, 'fit': 1740, 'pieces': 3273, 'menacing': 2807, 'advance': 127, 'hanging': 2023, 'faithful': 1634, 'butler': 637, 'serving': 3897, 'explanation': 1590, 'walks': 4780, 'arms': 294, 'forward': 1808, 'seat': 3845, 'tension': 4404, 'bland': 500, 'shines': 3932, 'struggle': 4234, 'manages': 2725, 'surprises': 4314, 'twists': 4619, 'indie': 2276, 'manage': 2722, 'magical': 2704, 'attraction': 350, 'sub': 4252, 'par': 3184, 'week': 4837, 'convinced': 984, 'double': 1331, 'exotic': 1574, 'hong': 2149, 'kong': 2494, 'satisfy': 3790, 'throw': 4479, 'window': 4894, 'racist': 3503, 'social': 4049, 'stereotypes': 4179, 'department': 1182, 'wrap': 4963, 'connected': 945, 'problems': 3409, 'french': 1830, 'accents': 79, 'lousy': 2667, 'weapon': 4828, 'bride': 577, 'nonetheless': 3029, 'watchable': 4812, 'greedy': 1969, 'british': 589, 'lesbian': 2573, 'chick': 786, 'hate': 2046, 'spoilers': 4124, 'reading': 3544, 'utterly': 4702, 'list': 2617, 'credits': 1050, '1950s': 14, 'familiar': 1643, 'names': 2963, 'year': 4978, 'acts': 107, 'various': 4715, 'actresses': 106, 'producers': 3416, 'fashioned': 1660, 'farce': 1654, 'issue': 2364, 'magazine': 2701, 'feels': 1687, 'gift': 1906, 'sally': 3776, 'americas': 215, 'awards': 367, 'sun': 4292, 'sets': 3899, 'fears': 1677, 'contrary': 974, 'genuine': 1891, 'thrill': 4471, 'adam': 111, 'adams': 112, 'absence': 70, 'soon': 4074, 'instantly': 2306, 'trip': 4588, 'unseen': 4678, 'paranoia': 3186, 'taste': 4369, 'baker': 385, 'specifically': 4100, 'goldberg': 1933, 'support': 4303, '15': 7, 'six': 4010, 'months': 2897, 'maggie': 2702, 'visit': 4755, 'doubts': 1333, 'moved': 2922, 'aforementioned': 139, 'hidden': 2096, 'member': 2800, 'paid': 3169, '12': 3, 'command': 897, 'decisions': 1152, 'says': 3801, 'whos': 4876, 'anderson': 227, 'kevin': 2457, 'dinner': 1254, 'theater': 4427, 'jr': 2423, 'earlier': 1399, 'presents': 3377, 'current': 1084, 'somehow': 4063, 'steps': 4177, 'trick': 4582, 'washington': 4806, 'bridge': 578, 'longer': 2645, 'shake': 3914, 'rid': 3690, 'promised': 3431, 'hamlet': 2013, 'producer': 3415, 'promise': 3430, 'florida': 1761, 'front': 1841, 'amongst': 218, 'fat': 1663, 'craven': 1034, 'leaving': 2557, 'elizabeth': 1445, 'ensemble': 1492, 'montana': 2895, 'rise': 3702, 'desperate': 1208, 'finally': 1724, 'succeed': 4262, 'settle': 3902, 'lovable': 2668, 'reads': 3545, 'stomach': 4196, 'laughter': 2535, 'demand': 1174, 'deliver': 1169, 'crafted': 1029, 'draw': 1349, 'value': 4709, 'source': 4086, 'bela': 450, 'lugosi': 2686, 'appeared': 276, 'studios': 4241, '1940s': 13, 'corpse': 999, 'scientist': 3818, 'reporter': 3636, 'doctor': 1304, 'discover': 1279, 'deaths': 1142, 'following': 1774, 'morning': 2906, 'report': 3635, 'murders': 2943, 'drops': 1372, 'afterwards': 145, 'spooky': 4128, 'sleep': 4024, 'college': 875, 'jenny': 2393, 'morgan': 2905, 'distinct': 1296, 'blood': 512, 'jeremy': 2394, 'london': 2641, 'descent': 1193, 'madness': 2698, 'aware': 368, 'clumsy': 866, 'drink': 1361, 'raise': 3507, 'voice': 4761, 'shirt': 3937, 'thinks': 4454, 'cardboard': 682, 'box': 555, 'toy': 4542, 'prize': 3405, 'bargain': 400, 'bin': 483, 'rose': 3739, 'grow': 1982, 'shoes': 3941, 'delivered': 1170, 'held': 2074, 'wooden': 4934, 'stiff': 4187, 'knows': 2493, 'confused': 941, 'depth': 1190, 'believed': 455, 'huh': 2187, 'thus': 4486, 'blonde': 511, 'un': 4630, 'mentions': 2813, 'attack': 337, 'reviewer': 3677, 'potential': 3355, 'issues': 2365, 'raised': 3508, 'air': 164, 'victim': 4729, 'received': 3564, 'dear': 1140, 'fake': 1635, 'makeup': 2717, 'psychological': 3458, 'slasher': 4020, 'element': 1442, 'epic': 1506, 'drunk': 1375, 'likewise': 2603, 'cinematographer': 819, 'strange': 4211, 'hitchcock': 2123, 'silly': 3976, 'noir': 3023, 'previous': 3387, 'reviewers': 3678, 'trash': 4565, 'lights': 2597, 'express': 1600, 'intention': 2319, 'afraid': 140, 'laughs': 2534, 'tales': 4357, 'enjoyable': 1485, 'frightening': 1839, 'rubbish': 3748, 'continue': 969, 'admire': 121, 'lee': 2559, 'relatively': 3600, 'aspect': 321, 'civil': 826, 'lees': 2560, 'creates': 1038, 'hits': 2125, 'closer': 856, 'comfortable': 892, 'lover': 2672, 'deeply': 1156, 'ie': 2221, 'horrific': 2166, 'exploration': 1593, 'greater': 1965, 'popular': 3333, 'grey': 1973, 'clear': 839, 'represents': 3639, 'jake': 2377, 'examples': 1554, 'stretched': 4222, 'limits': 2607, 'birth': 486, 'environment': 1505, 'breathtaking': 574, 'european': 1530, 'asian': 314, 'north': 3036, 'western': 4853, 'ice': 2210, 'storm': 4206, 'paced': 3162, 'apparent': 269, 'sign': 3970, 'direct': 1258, 'singer': 3993, 'lovers': 2673, '60s': 54, 'havent': 2053, 'exceptionally': 1559, 'forces': 1788, 'novel': 3052, 'todays': 4509, 'simplistic': 3985, 'manipulative': 2727, 'moral': 2902, 'dramas': 1347, 'force': 1786, 'agree': 155, 'capital': 673, 'punishment': 3467, 'underrated': 4642, 'chilling': 794, 'charisma': 762, 'hide': 2097, 'blake': 498, 'add': 115, 'whatsoever': 4861, 'train': 4556, 'wreck': 4965, 'latter': 2528, 'historically': 2120, 'included': 2262, 'thirty': 4456, 'majority': 2712, 'level': 2584, 'aimed': 162, 'drawn': 1351, 'drug': 1373, 'stooges': 4200, 'effort': 1432, 'worthwhile': 4955, 'sexuality': 3909, 'rare': 3523, 'led': 2558, 'vote': 4766, 'amateur': 206, 'errors': 1516, 'yeah': 4977, 'general': 1880, 'meaning': 2780, 'aspects': 322, 'danny': 1112, 'wendy': 4846, 'seconds': 3848, 'hotel': 2175, 'version': 4720, 'heck': 2071, 'lloyd': 2630, 'unfunny': 4655, 'jeff': 2390, 'moore': 2901, 'arthur': 305, 'warm': 4794, 'tear': 4379, 'oscar': 3133, 'nomination': 3026, 'drunken': 1376, 'cars': 702, 'dollars': 1315, 'society': 4050, 'susan': 4326, 'spoiled': 4122, 'linda': 2609, 'waitress': 4773, 'steals': 4172, 'birthday': 487, 'funniest': 1851, '50': 51, 'sir': 4000, 'acid': 95, 'behavior': 446, 'covers': 1024, 'martin': 2748, 'demented': 1176, 'grandmother': 1955, 'steve': 4181, 'died': 1244, 'forgettable': 1794, 'dig': 1250, 'tap': 4364, 'bands': 392, 'sorts': 4078, 'brian': 576, 'massacre': 2754, 'directions': 1262, 'seven': 3903, 'ad': 110, 'tight': 4492, 'fights': 1710, 'band': 391, 'slightly': 4029, 'easier': 1405, 'testament': 4417, 'path': 3209, 'rock': 3720, 'season': 3843, 'considered': 951, 'gray': 1963, 'listening': 2620, 'tell': 4395, 'dangerous': 1110, 'cares': 690, 'bill': 481, 'campbell': 663, 'circumstances': 822, 'subplot': 4255, 'joe': 2407, 'decades': 1145, 'jerry': 2396, 'homage': 2141, 'lesser': 2576, 'andy': 230, 'dies': 1245, 'mountains': 2918, 'ready': 3546, '1999': 27, 'opinions': 3119, 'innocence': 2293, 'individuals': 2278, 'australian': 357, 'lies': 2591, 'merits': 2817, 'persons': 3244, 'levels': 2585, 'depiction': 1185, 'technical': 4381, 'today': 4508, 'common': 906, 'lesson': 2577, 'streep': 4215, 'thick': 4447, 'shouldnt': 3952, 'pat': 3208, 'interpretation': 2328, 'japanese': 2382, 'stereotype': 4178, 'jay': 2386, 'account': 89, 'handful': 2017, 'motion': 2913, 'animation': 242, 'replaced': 3634, 'teeth': 4393, 'terror': 4412, 'boat': 523, 'sheriff': 3929, 'eaten': 1412, 'crying': 1074, 'builds': 617, 'complexity': 924, 'cliche': 843, 'locations': 2636, 'hbo': 2055, 'notion': 3050, 'treats': 4575, 'dawson': 1128, 'associated': 327, 'display': 1291, 'certain': 737, 'formula': 1802, 'sadness': 3770, 'killer': 2470, 'misery': 2865, 'africa': 141, 'south': 4087, 'forbidden': 1785, 'facial': 1619, 'de': 1131, 'france': 1816, 'spends': 4107, 'dance': 1103, 'bed': 436, 'attitudes': 347, 'animals': 240, 'break': 569, 'rules': 3754, 'breaks': 571, 'artistic': 308, 'directors': 1266, 'designed': 1203, 'shock': 3938, 'elements': 1443, 'effect': 1428, 'met': 2822, 'liking': 2604, 'judging': 2425, 'skill': 4013, 'initially': 2291, 'maker': 2714, 'pretentious': 3383, 'virtually': 4751, 'currently': 1085, 'props': 3439, 'prior': 3400, 'sucks': 4271, 'ham': 2011, 'unconvincing': 4638, 'immediately': 2242, 'techniques': 4384, 'priceless': 3390, 'gore': 1941, 'shown': 3959, 'already': 197, 'graphics': 1959, 'beaten': 424, 'rights': 3697, 'produce': 3413, 'ninja': 3018, 'naturally': 2974, 'started': 4157, 'talk': 4358, 're': 3535, 'fairly': 1631, 'threw': 4470, 'tends': 4402, 'darker': 1116, 'terms': 4406, 'suits': 4287, 'complain': 919, 'quickly': 3491, 'rangers': 3517, 'besides': 468, 'realize': 3552, 'ignore': 2224, 'countless': 1012, 'glad': 1916, 'encounters': 1467, 'stated': 4161, 'infamous': 2284, 'sticks': 4186, 'sight': 3969, 'somewhat': 4068, 'enemies': 1476, 'fortunately': 1805, 'share': 3920, 'creators': 1044, 'execution': 1566, 'flawed': 1750, 'forgotten': 1797, 'cat': 713, 'mouse': 2919, 'spike': 4111, 'peace': 3219, 'weird': 4841, 'buddy': 609, 'edited': 1420, 'disc': 1278, 'collection': 874, '14': 6, 'dad': 1095, 'sunday': 4293, 'silence': 3974, 'broad': 590, 'events': 1536, 'broke': 593, 'significant': 3972, 'key': 2458, 'devoted': 1231, 'wolf': 4920, 'pack': 3165, 'players': 3299, 'insight': 2298, 'foreign': 1790, 'escaped': 1518, 'russian': 3762, 'realism': 3549, 'portrayed': 3342, 'criticism': 1063, 'code': 869, 'park': 3190, 'titles': 4506, 'lawrence': 2539, 'narration': 2965, 'george': 1893, 'lucas': 2680, 'combination': 883, 'removed': 3624, 'fare': 1655, 'ralph': 3510, 'bakshi': 386, 'brilliantly': 584, 'conceived': 929, 'shape': 3919, 'duo': 1386, 'bumbling': 622, 'hilariously': 2107, 'foul': 1810, 'superhero': 4299, 'nightmares': 3015, 'context': 968, 'ought': 3138, 'therefore': 4439, 'screening': 3830, 'language': 2516, 'vhs': 4725, 'henry': 2084, 'tradition': 4549, 'hysterical': 2208, 'catches': 715, 'lots': 2662, 'lazy': 2543, 'cats': 721, 'sleeping': 4025, 'enjoying': 1487, 'theyre': 4445, 'satisfied': 3789, 'gag': 1861, 'pan': 3180, 'funnier': 1850, 'dumb': 1385, 'lol': 2640, 'win': 4892, 'expectations': 1576, 'pleasantly': 3303, 'lived': 2626, 'likable': 2598, 'die': 1243, 'explains': 1589, '80': 58, 'happening': 2028, 'depicted': 1183, 'favor': 1670, 'bother': 548, 'remake': 3612, 'wall': 4781, 'test': 4416, 'corner': 996, 'gas': 1874, 'until': 4680, 'typically': 4624, 'developed': 1223, 'hopefully': 2157, 'entirely': 1503, 'muslim': 2949, 'scares': 3806, 'contain': 962, 'produced': 3414, 'rarely': 3524, 'popcorn': 3331, 'buff': 611, 'price': 3389, 'alternate': 200, 'knowing': 2490, 'wasted': 4809, 'efforts': 1433, 'hoped': 2156, 'alex': 179, 'priest': 3392, 'meeting': 2794, 'wake': 4774, 'matters': 2770, 'involving': 2349, 'towards': 4540, 'nights': 3016, 'claims': 830, 'sin': 3988, 'dying': 1393, 'church': 813, 'allowing': 191, 'transformation': 4560, 'authority': 360, 'terribly': 4408, 'dramatic': 1348, 'walking': 4779, 'response': 3654, 'couples': 1017, 'grab': 1949, 'quick': 3490, 'vision': 4754, 'experienced': 1581, 'minded': 2850, 'failing': 1627, '2002': 32, 'approach': 282, '1996': 26, 'figures': 1713, 'camp': 662, 'description': 1197, 'basic': 406, 'planet': 3289, 'surprisingly': 4316, 'extent': 1605, 'notice': 3048, 'prefer': 3368, 'younger': 4990, 'yellow': 4981, 'childrens': 793, 'develops': 1226, 'wears': 4832, 'survival': 4320, 'marvelous': 2750, 'mild': 2839, 'parker': 3191, 'industry': 2280, 'politics': 3326, 'sci': 3815, 'fi': 1701, 'troubled': 4593, 'cuts': 1091, 'firstly': 1737, 'genres': 1889, 'satire': 3788, 'blunt': 520, 'intelligence': 2313, 'festival': 1697, 'lane': 2515, 'flash': 1745, 'learned': 2551, 'dated': 1119, 'studio': 4240, 'broadcast': 591, 'process': 3412, 'determined': 1221, 'caused': 724, 'ghost': 1902, 'workers': 4943, 'smart': 4035, 'amitabh': 216, 'akshay': 169, 'dubbed': 1379, 'illness': 2230, 'bollywood': 530, 'visual': 4757, 'flaws': 1752, 'phone': 3255, 'leg': 2562, 'loses': 2657, 'multi': 2935, 'flop': 1760, 'hours': 2177, '35': 45, 'appreciate': 279, 'sandler': 3781, 'citizen': 824, 'thoroughly': 4459, 'territory': 4411, 'sold': 4052, 'purchase': 3469, 'mainly': 2708, 'seriously': 3892, 'dare': 1113, 'combined': 885, 'amanda': 205, 'contains': 964, 'innocent': 2294, 'guilty': 1995, 'according': 88, 'fred': 1825, 'convincing': 985, 'trial': 4580, 'granted': 1957, 'killing': 2472, 'unlikely': 4671, 'guilt': 1994, 'possibility': 3349, 'initial': 2290, 'discovery': 1282, 'acted': 98, 'accent': 78, 'ears': 1402, 'regardless': 3590, 'portrayal': 3341, 'ring': 3698, 'horribly': 2164, 'knowledge': 2491, 'press': 3379, 'directly': 1263, 'legal': 2563, 'system': 4345, 'contemporary': 965, 'exactly': 1551, 'pit': 3278, 'continuity': 972, 'pacing': 3163, 'sequences': 3888, 'cg': 739, '2004': 34, 'animated': 241, 'wandering': 4785, 'sink': 3999, 'mirror': 2861, 'herself': 2092, 'throat': 4476, 'driver': 1366, 'introduction': 2339, 'blade': 495, 'vampire': 4711, 'hunter': 2199, 'jackie': 2374, 'suspend': 4329, 'disbelief': 1277, 'awake': 365, 'trek': 4578, 'consistent': 953, 'bottom': 551, 'slowly': 4032, 'speaking': 4095, 'homer': 2144, 'exceptional': 1558, 'staying': 4168, 'fair': 1630, 'fast': 1661, 'crazy': 1035, 'properly': 3437, 'cards': 683, 'fly': 1763, 'strength': 4219, 'hundreds': 2196, 'feet': 1688, 'helicopter': 2076, 'round': 3742, 'bo': 521, 'staff': 4138, 'nor': 3032, 'choreography': 802, 'proof': 3434, 'comics': 895, 'recent': 3566, 'stunt': 4245, 'powers': 3361, 'emma': 1457, 'noticed': 3049, 'holes': 2133, 'hoping': 2160, 'timothy': 4499, 'bond': 532, 'deserved': 1200, 'humour': 2194, 'dalton': 1098, 'teach': 4374, 'law': 2538, 'hint': 2112, 'accurate': 90, 'strongly': 4231, 'reminded': 3619, 'featured': 1679, 'ii': 2226, 'speaks': 4096, 'showcase': 3954, 'styles': 4250, 'anime': 243, 'aka': 168, 'starring': 4154, 'belongs': 460, 'treated': 4573, 'frankly': 1823, 'understood': 4647, 'tons': 4520, 'twisted': 4618, 'occur': 3076, 'losing': 2658, 'translation': 4562, 'lighting': 2596, 'random': 3514, 'oddly': 3081, 'fell': 1690, 'asleep': 320, 'yelling': 4980, 'randomly': 3515, 'object': 3066, 'album': 175, 'preview': 3386, 'midnight': 2834, 'rated': 3527, 'buck': 605, 'jon': 2416, 'voight': 4764, 'texas': 4418, 'dressed': 1358, 'pulled': 3462, 'stole': 4194, 'empty': 1465, 'apartment': 265, 'sick': 3963, 'barry': 401, 'forest': 1791, 'search': 3841, 'beauty': 430, 'cell': 730, 'simplicity': 3984, 'network': 3000, 'samurai': 3779, 'consistently': 954, 'shadow': 3912, 'invasion': 2340, 'facts': 1624, 'irrelevant': 2358, 'addition': 118, 'qualities': 3483, 'alice': 182, 'ages': 152, 'lovely': 2671, 'atrocious': 335, 'lately': 2524, 'increasingly': 2268, 'religion': 3607, 'mel': 2796, 'guessing': 1991, 'conservative': 948, 'reviews': 3679, 'praise': 3364, 'carry': 700, 'weight': 4840, 'stronger': 4230, 'philosophical': 3253, 'choices': 798, 'driving': 1368, 'fallen': 1638, 'dancer': 1104, 'wicked': 4879, 'chases': 771, 'hitting': 2126, 'handed': 2016, 'nowadays': 3055, 'ah': 158, 'trouble': 4592, 'reaching': 3539, 'button': 639, 'drivel': 1364, 'warn': 4797, 'forgive': 1795, 'recall': 3562, 'bore': 540, 'resemblance': 3645, 'trailer': 4554, 'symbolism': 4341, 'nostalgia': 3038, 'garbage': 1870, 'jazz': 2387, 'bonus': 534, 'league': 2549, 'shelf': 3926, 'ned': 2986, 'kelly': 2452, 'hearted': 2065, 'viewings': 4741, 'underlying': 4641, 'proves': 3447, 'necessarily': 2983, 'variety': 4714, 'unique': 4662, 'regarding': 3589, 'focus': 1766, 'discovered': 1280, 'gang': 1867, 'explored': 1595, 'understandable': 4644, 'accept': 80, 'inspired': 2301, 'largely': 2518, 'solely': 4056, 'upper': 4685, 'military': 2844, 'schools': 3814, 'parent': 3187, 'lower': 2677, 'country': 1014, 'earl': 1398, '1960s': 15, 'former': 1800, 'summer': 4291, 'event': 1535, 'heads': 2059, 'achieved': 93, 'cinemas': 817, 'glorious': 1921, 'fate': 1665, 'undoubtedly': 4648, 'succeeded': 4263, 'comparing': 913, 'britain': 588, 'represented': 3638, 'state': 4160, 'trilogy': 4586, 'furthermore': 1854, 'somebody': 4062, 'sisters': 4002, 'twins': 4616, 'interaction': 2322, 'influence': 2286, 'purchased': 3470, 'concerning': 933, 'contrast': 975, 'ho': 2127, 'attitude': 346, 'screaming': 3827, 'everywhere': 1545, 'soldiers': 4054, 'mistakes': 2873, 'return': 3665, 'crimes': 1056, '60': 53, 'horrors': 2169, 'snl': 4044, 'step': 4175, 'planning': 3291, 'prove': 3445, 'kate': 2446, 'ashley': 313, 'angels': 234, '30': 42, 'knife': 2487, 'executed': 1565, 'conversation': 980, 'summary': 4290, 'audiences': 353, 'miserably': 2864, 'clichés': 846, 'gangsters': 1869, 'african': 142, 'careful': 688, 'mix': 2876, 'headed': 2058, 'extra': 1606, 'resident': 3647, 'medical': 2790, 'student': 4238, 'married': 2744, 'practice': 3363, 'greatly': 1967, 'doctors': 1305, 'dennis': 1179, 'cooper': 990, 'astaire': 330, 'blend': 504, 'slapstick': 4019, 'witty': 4917, 'inventive': 2341, 'starting': 4158, 'sing': 3992, 'ginger': 1908, 'rogers': 3725, 'eric': 1514, 'wise': 4903, 'gentle': 1890, 'keeping': 2450, 'females': 1694, 'controversial': 978, 'jeffrey': 2391, 'mainstream': 2709, 'gruesome': 1986, 'finale': 1723, 'walken': 4777, 'expensive': 1579, 'exploitation': 1592, 'began': 441, 'oliver': 3102, 'relate': 3593, 'arrived': 301, 'golden': 1934, 'silent': 3975, 'appeal': 271, 'team': 4378, 'practically': 3362, 'reminiscent': 3621, 'nuts': 3064, 'goofy': 1939, 'comedic': 888, 'cheese': 780, 'routine': 3743, 'lacked': 2503, 'wit': 4908, 'timing': 4498, 'frustrated': 1842, 'woods': 4935, 'ruined': 3751, 'bird': 484, 'chris': 806, 'anna': 245, 'balls': 390, 'bathroom': 412, 'sexual': 3908, 'excessive': 1560, 'pot': 3354, 'disappointing': 1274, 'endless': 1473, 'stevens': 4183, 'dean': 1139, 'authentic': 358, 'states': 4163, 'perform': 3227, 'global': 1920, 'superior': 4300, 'celebrity': 729, 'merit': 2816, 'meaningless': 2782, 'canadian': 667, 'shut': 3961, 'spanish': 4092, 'subtitles': 4259, 'audio': 354, 'rocky': 3723, 'survived': 4322, 'finish': 1732, 'riding': 3695, 'roman': 3731, 'signs': 3973, 'latin': 2527, 'greed': 1968, 'blows': 517, 'kiss': 2483, 'idiot': 2218, 'renting': 3629, 'explore': 1594, 'research': 3644, 'store': 4204, 'curiosity': 1082, 'warned': 4798, 'sitcom': 4004, 'helped': 2080, 'toilet': 4512, 'machine': 2693, 'iraq': 2351, 'heroic': 2090, 'complex': 923, 'creating': 1039, 'affect': 136, 'fulci': 1845, 'dawn': 1127, 'letting': 2583, 'titled': 4505, 'uk': 4626, 'zombie': 4997, 'flesh': 1753, 'vague': 4705, 'dubbing': 1380, 'unintentionally': 4659, 'birds': 485, 'apes': 267, 'topless': 4527, 'shark': 3921, 'zombies': 4998, 'ripped': 3701, 'five': 1743, 'nine': 3017, 'struggles': 4235, 'attacks': 339, 'roger': 3724, 'device': 1227, 'cult': 1077, 'fifteen': 1706, 'ludicrous': 2685, 'credit': 1049, 'scale': 3802, 'overly': 3155, 'sentimental': 3882, 'website': 4834, 'checking': 778, 'improvement': 2256, 'smoke': 4039, 'feed': 1683, 'basement': 405, 'tied': 4489, 'smoking': 4040, 'street': 4216, 'lying': 2690, 'ruin': 3750, 'advice': 133, 'lips': 2615, 'berlin': 467, 'present': 3374, 'ruth': 3763, 'members': 2801, 'maria': 2736, 'lena': 2568, 'travels': 4569, 'germany': 1898, 'spoiler': 4123, 'alert': 178, 'nowhere': 3056, 'nazi': 2977, 'officers': 3093, 'von': 4765, 'europe': 1529, 'severe': 3906, 'occurred': 3077, 'perspective': 3245, 'wwii': 4975, 'forget': 1793, 'shining': 3933, 'belong': 459, 'dances': 1106, 'donna': 1323, 'wearing': 4831, 'hat': 2045, 'idiotic': 2219, 'porn': 3336, 'ran': 3513, 'stuck': 4237, 'turkey': 4604, 'valley': 4707, 'argue': 290, 'urban': 4688, 'commit': 904, 'depicts': 1186, 'drive': 1363, 'calling': 653, 'bud': 607, 'split': 4120, 'waves': 4819, 'returns': 3668, 'mom': 2885, 'accomplished': 87, 'necessary': 2984, 'showing': 3958, 'wes': 4851, 'bull': 619, 'kicked': 2461, 'wedding': 4836, 'legs': 2566, 'conclusion': 936, 'putting': 3482, 'whilst': 4869, 'walker': 4778, 'sat': 3786, 'bone': 533, 'con': 928, 'fighter': 1708, 'progresses': 3426, 'blah': 496, 'ridden': 3691, 'equivalent': 1512, 'drawing': 1350, 'repetitive': 3633, 'mill': 2845, 'fully': 1847, 'deserves': 1201, 'weve': 4856, 'suspenseful': 4331, 'halloween': 2010, 'lawyer': 2541, 'assigned': 325, 'deceased': 1146, 'reasonably': 3559, 'funeral': 1849, 'safe': 3771, 'commercials': 903, 'mundane': 2938, 'garden': 1872, 'admittedly': 123, 'writers': 4969, 'principal': 3398, 'accidentally': 85, 'placed': 3283, 'stereotypical': 4180, 'billy': 482, 'realizes': 3554, 'woody': 4936, 'situations': 4009, 'vehicle': 4718, 'dancing': 1107, 'skills': 4014, 'upon': 4684, 'craig': 1030, 'touch': 4533, 'essential': 1522, 'worthy': 4956, 'recognition': 3568, 'sequels': 3886, '1990s': 25, '17': 9, 'subsequent': 4257, 'melodramatic': 2798, 'melodrama': 2797, 'intensity': 2317, 'exists': 1573, 'affair': 135, 'homeless': 2143, 'glover': 1923, 'succeeds': 4264, 'truck': 4595, 'forever': 1792, 'deals': 1137, 'thank': 4421, 'rented': 3628, 'waters': 4817, 'pink': 3277, 'surreal': 4317, 'color': 877, 'craft': 1028, 'utter': 4701, 'inevitably': 2283, 'tonight': 4519, 'moody': 2899, 'darkness': 1117, 'intentionally': 2320, 'medium': 2792, 'deeper': 1155, 'mature': 2773, 'reaction': 3541, 'felix': 1689, 'cruel': 1070, 'personality': 3242, 'worried': 4949, 'antics': 255, 'push': 3477, 'lynch': 2691, 'spiritual': 4116, 'jennifer': 2392, 'ya': 4976, 'buildings': 616, 'reynolds': 3684, '30s': 44, 'ladies': 2506, 'bette': 471, 'davis': 1126, 'joan': 2404, 'purely': 3472, 'mass': 2753, 'teen': 4388, 'touched': 4534, 'overwhelming': 3157, 'intrigue': 2333, 'searching': 3842, 'soul': 4079, 'watches': 4814, 'content': 966, 'tape': 4365, 'georges': 1894, 'widow': 4883, 'patrick': 3213, 'afternoon': 144, 'amazed': 208, 'ian': 2209, 'appear': 273, 'flashbacks': 1747, 'falling': 1639, 'arrives': 302, 'friendship': 1838, 'blow': 514, 'plans': 3292, 'term': 4405, 'cringe': 1059, 'wonders': 4931, 'leslie': 2574, 'program': 3424, 'attractive': 351, 'neighborhood': 2993, 'total': 4531, 'van': 4713, 'water': 4816, 'chicks': 787, 'hunt': 2198, 'laid': 2508, 'cultural': 1078, 'communist': 907, 'psychotic': 3459, 'murderer': 2941, 'needless': 2989, 'seemingly': 3863, 'motivation': 2914, 'inept': 2281, 'mile': 2842, 'superficial': 4298, 'redeeming': 3577, 'incompetent': 2266, 'court': 1020, 'returned': 3666, 'victims': 4730, 'interview': 2329, 'benefit': 465, 'wing': 4896, '1972': 18, '1983': 22, 'exposed': 1598, 'mistress': 2874, 'sexually': 3910, 'catholic': 720, 'education': 1424, 'month': 2896, 'kay': 2447, 'prison': 3401, 'casting': 711, 'filming': 1718, 'travesty': 4570, 'pop': 3330, 'eager': 1396, 'bears': 421, 'deliberately': 1166, 'seek': 3858, 'category': 718, 'derek': 1192, 'clothes': 860, 'wore': 4939, 'mexico': 2827, 'houses': 2180, 'fashion': 1659, 'walk': 4775, 'cool': 989, 'dracula': 1341, 'naive': 2958, 'charles': 764, 'demon': 1177, 'visits': 4756, 'sinister': 3998, 'whale': 4857, 'tour': 4538, 'obscure': 3068, 'twin': 4615, 'cities': 823, 'hence': 2083, 'wondering': 4930, 'brady': 561, 'join': 2412, 'shy': 3962, 'brooklyn': 595, 'fix': 1744, 'notch': 3043, 'performing': 3233, 'kennedy': 2454, 'chief': 788, 'originally': 3131, 'mickey': 2831, 'chain': 741, 'criminals': 1058, 'finest': 1730, 'england': 1482, 'knock': 2488, 'holds': 2131, 'quote': 3496, 'jimmy': 2403, 'defined': 1160, 'throwing': 4480, 'daughters': 1122, 'sincere': 3991, 'handled': 2019, 'perfectly': 3226, 'solve': 4060, 'beliefs': 452, 'universe': 4666, 'channels': 754, 'bush': 632, 'views': 4742, 'classics': 837, 'subtlety': 4261, 'cops': 993, 'richard': 3686, 'population': 3335, 'hundred': 2195, 'computer': 927, 'aired': 165, 'yesterday': 4983, 'gorgeous': 1942, 'absurd': 73, 'apart': 264, 'remarks': 3615, 'topic': 4526, 'strangely': 4212, 'kudos': 2497, 'english': 1483, 'cheating': 776, 'threatening': 4468, 'robbery': 3711, 'crush': 1072, 'crack': 1027, 'unusual': 4681, 'butt': 638, 'load': 2631, 'alas': 172, 'damn': 1100, 'shame': 3918, 'enjoys': 1489, 'calm': 655, 'rabbit': 3498, 'warren': 4801, 'danger': 1109, 'stewart': 4184, 'miles': 2843, 'fbi': 1675, 'airplane': 166, 'bomb': 531, 'indians': 2275, 'estate': 1525, 'gain': 1863, 'nazis': 2978, 'robinson': 3716, 'edgar': 1417, 'batman': 413, 'appearance': 274, 'voiced': 4762, 'alfred': 181, 'adventures': 131, 'opposed': 3122, 'effective': 1429, 'changing': 752, 'mysteries': 2954, 'spring': 4134, 'regular': 3592, 'opera': 3116, 'neat': 2982, 'dressing': 1359, 'poverty': 3357, 'keeps': 2451, 'size': 4012, 'range': 3516, 'chinese': 796, '2000': 30, 'web': 4833, 'breaking': 570, 'positive': 3346, 'analysis': 224, 'nevertheless': 3002, 'obsessed': 3069, 'burns': 628, 'meanwhile': 2785, 'hospital': 2172, 'depression': 1189, 'disappear': 1270, 'pays': 3218, 'smaller': 4034, 'francis': 1818, 'native': 2972, 'unwatchable': 4682, 'devoid': 1230, 'lowest': 2678, 'cutting': 1092, 'unforgettable': 4652, 'creator': 1043, 'cartoons': 705, 'charlie': 765, 'burt': 629, 'jaws': 2385, 'leo': 2571, 'asking': 318, 'bloody': 513, 'dr': 1340, 'guns': 1998, 'lively': 2627, 'spectacular': 4101, 'lucy': 2684, 'victor': 4731, 'victoria': 4732, 'critics': 1064, 'focused': 1767, 'pleased': 3305, 'candy': 668, 'factory': 1623, 'innovative': 2295, 'ball': 388, 'ultimate': 4627, 'captured': 677, 'anger': 235, 'rolled': 3729, 'icon': 2211, 'endearing': 1469, 'fed': 1682, 'thrillers': 4473, 'basis': 408, 'humans': 2190, 'fault': 1668, 'curse': 1086, 'stilted': 4190, 'cameo': 657, 'dave': 1123, 'surfing': 4311, 'korean': 2495, 'tricks': 4583, 'affected': 137, 'gradually': 1952, 'realizing': 3555, '1st': 28, '2nd': 41, 'showdown': 3955, 'embarrassed': 1453, 'san': 3780, 'finger': 1731, 'rule': 3753, 'junk': 2436, 'whenever': 4863, 'enemy': 1477, 'parallel': 3185, 'altogether': 202, 'describes': 1196, 'suffers': 4278, 'desired': 1206, 'expressed': 1601, 'rooms': 3736, 'alcoholic': 177, 'alive': 186, 'core': 995, 'dealt': 1138, 'portraying': 3343, 'brad': 560, 'streets': 4217, 'training': 4558, 'weeks': 4839, 'peoples': 3222, 'families': 1644, 'clean': 838, 'happily': 2030, 'losers': 2656, 'string': 4227, 'restaurant': 3658, 'rising': 3703, 'combine': 884, 'added': 116, 'existence': 1571, 'base': 402, 'text': 4419, 'drags': 1345, 'detailed': 1218, 'costume': 1005, 'design': 1202, 'below': 462, 'karen': 2444, 'performed': 3230, 'disappoint': 1272, 'ruins': 3752, 'unpredictable': 4675, 'pictures': 3270, 'upset': 4687, '100': 1, 'dollar': 1314, 'matrix': 2767, 'manner': 2729, 'everyday': 1541, 'depressed': 1187, 'ourselves': 3140, 'los': 2653, 'angeles': 233, 'hart': 2041, 'judy': 2426, 'nelson': 2997, 'taylor': 4372, 'gender': 1878, 'acceptable': 81, 'onto': 3111, 'friendly': 1836, 'harder': 2035, 'fay': 1674, 'trade': 4547, 'versions': 4721, 'essence': 1521, 'mtv': 2933, 'wow': 4962, 'ashamed': 312, 'ramones': 3512, 'serve': 3893, 'zone': 4999, 'adults': 126, 'punk': 3468, 'humorous': 2193, 'dick': 1239, 'miller': 2846, 'mid': 2832, 'changes': 751, 'interviews': 2330, 'equal': 1509, 'saving': 3797, 'letters': 2582, 'pops': 3332, 'spin': 4112, 'wells': 4845, 'scope': 3821, 'attacked': 338, 'futuristic': 1857, 'masters': 2761, 'chooses': 800, 'inspiring': 2302, 'giallo': 1904, 'filmmaker': 1719, 'receives': 3565, 'shell': 3927, 'suspects': 4328, 'suspicious': 4332, 'agent': 150, 'strikes': 4225, 'journalist': 2420, 'investigation': 2343, 'damage': 1099, 'basketball': 409, 'arrested': 298, 'occurs': 3078, 'driven': 1365, 'pitt': 3280, 'starred': 4153, 'norman': 3035, 'served': 3894, 'degree': 1164, 'witness': 4914, 'directs': 1267, 'offered': 3088, 'position': 3345, 'university': 4667, 'literally': 2622, 'passed': 3202, 'vicious': 4728, 'complicated': 925, 'intellectual': 2312, 'bourne': 554, 'prequel': 3372, 'matt': 2768, 'jason': 2383, 'installment': 2303, 'adds': 119, 'surrounding': 4319, 'agents': 151, 'attached': 336, 'fascinated': 1657, 'becoming': 435, 'navy': 2976, 'dynamic': 1394, 'financial': 1725, 'ideal': 2214, 'prince': 3396, 'characterization': 759, 'understated': 4646, 'slightest': 4028, 'ms': 2931, 'richardson': 3688, 'delight': 1167, 'nervous': 2999, 'marry': 2745, 'namely': 2962, 'emily': 1456, 'spain': 4091, 'protect': 3443, 'abuse': 74, 'carol': 693, 'consequences': 947, 'snow': 4045, 'poetic': 3313, 'surface': 4310, 'brutal': 603, 'neil': 2995, 'simon': 3982, 'freak': 1824, 'jobs': 2406, 'sports': 4130, 'neighbors': 2994, 'lucky': 2683, 'bringing': 586, 'newly': 3004, 'hadnt': 2004, 'hed': 2072, 'owner': 3159, 'steal': 4170, 'armed': 293, 'bank': 394, 'folk': 1770, 'grim': 1974, 'goodness': 1938, 'extras': 1608, 'masterful': 2758, '16': 8, 'restored': 3659, 'desert': 1198, 'tame': 4363, 'noise': 3024, 'daring': 1114, 'wide': 4880, 'staged': 4140, 'plane': 3288, 'moon': 2900, 'developing': 1224, 'videos': 4734, 'robot': 3717, 'wound': 4960, 'costs': 1004, 'opened': 3113, 'hall': 2009, 'warming': 4795, 'abysmal': 76, 'fox': 1814, 'commentary': 899, 'racism': 3502, 'rural': 3758, 'nightmare': 3014, 'southern': 4088, 'offensive': 3086, 'babe': 375, 'reed': 3580, 'louise': 2666, 'guard': 1988, '1980s': 21, 'tragedy': 4551, 'farm': 1656, 'shoots': 3944, 'passes': 3203, 'arnold': 296, 'picks': 3268, 'grandfather': 1954, 'familys': 1646, 'glenn': 1918, 'anywhere': 263, 'buying': 641, 'horse': 2170, 'freddy': 1826, 'movements': 2924, 'matched': 2763, 'liners': 2611, 'hardcore': 2034, 'fairy': 1632, 'miike': 2837, 'possessed': 3347, 'evening': 1534, 'security': 3854, 'painted': 3174, 'rambo': 3511, 'insult': 2309, 'hip': 2114, 'sharp': 3922, 'destroy': 1213, 'beloved': 461, 'bite': 489, 'portrait': 3339, 'hates': 2048, 'teens': 4392, 'mst3k': 2932, 'avoided': 364, 'climactic': 848, 'burn': 625, 'idiots': 2220, 'blowing': 515, 'illogical': 2231, 'bag': 384, 'cliché': 844, 'embarrassment': 1455, 'horrifying': 2167, 'strip': 4228, 'mall': 2720, 'built': 618, 'mayor': 2777, 'phantom': 3251, 'relies': 3606, 'hiding': 2099, 'area': 286, 'skin': 4015, 'weekend': 4838, 'cabin': 643, 'neighbor': 2992, 'believing': 457, 'primary': 3394, 'goal': 1925, 'contained': 963, 'prisoners': 3403, 'target': 4366, 'barbara': 397, 'orange': 3125, 'bound': 553, 'doc': 1303, 'prisoner': 3402, 'obsession': 3070, 'promises': 3432, 'relative': 3599, 'souls': 4080, 'horrid': 2165, 'depressing': 1188, 'colorful': 878, 'escapes': 1519, 'advantage': 129, 'stan': 4142, 'japan': 2381, 'fish': 1738, 'confusing': 942, 'imagery': 2234, 'downhill': 1336, 'pacino': 3164, 'olivier': 3103, 'areas': 287, 'crowd': 1067, 'literature': 2623, 'surrounded': 4318, 'argument': 291, 'museum': 2945, 'erotic': 1515, 'suitable': 4285, 'caine': 647, 'paulie': 3215, 'isolated': 2363, 'lab': 2501, 'marie': 2737, 'streisand': 4218, 'mistake': 2871, 'hollywoods': 2138, 'welles': 4844, 'overcome': 3151, 'orson': 3132, 'stylish': 4251, 'atmospheric': 334, 'border': 539, 'quirky': 3493, 'devil': 1228, 'mothers': 2912, 'borrowed': 545, 'thankfully': 4422, 'ugly': 4625, 'marketing': 2741, 'teenager': 4390, 'chased': 770, 'splatter': 4118, 'ted': 4386, 'gross': 1978, 'remarkably': 3614, 'chose': 804, 'inevitable': 2282, 'captures': 678, 'ruby': 3749, 'neck': 2985, 'warmth': 4796, 'fonda': 1777, 'concerns': 934, 'tender': 4401, 'concern': 931, 'novels': 3053, 'kinds': 2478, 'countryside': 1015, 'rescue': 3643, 'discussion': 1284, 'endings': 1472, 'fitting': 1742, 'enterprise': 1495, '11': 2, 'hole': 2132, '1930s': 11, 'chaplin': 756, 'comedian': 887, 'bigger': 479, 'laurel': 2537, 'hardy': 2037, 'boxing': 556, 'bang': 393, 'walls': 4783, 'hung': 2197, 'trio': 4587, 'kung': 2498, 'fu': 1844, 'parody': 3192, 'enter': 1494, 'dragon': 1344, 'relatives': 3601, 'defend': 1158, 'artists': 309, 'hudson': 2184, 'suited': 4286, 'delivery': 1173, 'speech': 4102, 'notes': 3046, 'illegal': 2229, 'activities': 102, 'tie': 4488, 'rap': 3520, 'producing': 3417, 'ps': 3453, 'kick': 2460, 'amazingly': 210, 'wacky': 4769, 'worthless': 4954, 'green': 1971, 'screens': 3832, 'relevant': 3604, 'bar': 396, 'measure': 2786, 'models': 2881, 'robots': 3718, 'flies': 1756, 'locked': 2637, 'operation': 3117, 'blank': 501, 'burned': 626, 'wear': 4830, 'switch': 4339, 'julia': 2427, 'daddy': 1096, 'alien': 183, 'officer': 3092, 'concerned': 932, 'toys': 4543, 'spielberg': 4110, 'beating': 425, 'winner': 4897, 'pal': 3177, 'ballet': 389, 'definite': 1161, 'defeat': 1157, 'spread': 4133, 'recognized': 3570, 'ingredients': 2289, 'react': 3540, 'resort': 3650, 'spirited': 4114, 'complaint': 920, 'technique': 4383, 'rank': 3518, 'saturday': 3792, 'german': 1896, 'theyve': 4446, 'useful': 4694, 'importantly': 2248, 'revolutionary': 3681, 'marks': 2742, 'heights': 2073, 'comical': 894, 'brilliance': 582, 'cgi': 740, 'brains': 563, 'offering': 3089, 'hunters': 2200, 'blind': 506, 'desperation': 1210, 'ironic': 2355, 'stargate': 4151, 'hearing': 2063, 'till': 4493, 'atlantis': 332, 'kicking': 2462, 'germans': 1897, 'mitchell': 2875, 'breasts': 572, 'feminist': 1695, 'grave': 1962, 'dancers': 1105, 'fest': 1696, 'distribution': 1298, 'racial': 3501, 'relations': 3596, 'parties': 3196, 'nostalgic': 3039, 'elegant': 1441, 'hook': 2152, 'challenge': 743, 'brave': 567, 'cusack': 1088, 'united': 4664, 'businessman': 634, 'torn': 4528, 'lose': 2654, 'host': 2173, 'dan': 1102, 'elsewhere': 1449, 'heavily': 2069, 'grows': 1985, 'ear': 1397, 'soft': 4051, 'der': 1191, 'chasing': 772, 'counter': 1011, 'niro': 3019, 'kubrick': 2496, 'semi': 3874, 'neo': 2998, 'meaningful': 2781, 'merely': 2815, 'porno': 3337, 'finding': 1727, 'stupidity': 4248, 'mighty': 2836, 'supernatural': 4302, 'bergman': 466, 'mail': 2706, 'page': 3167, 'carl': 692, 'theyll': 4444, 'plague': 3285, 'health': 2060, 'official': 3094, 'widmark': 4882, 'captain': 674, 'douglas': 1334, 'panic': 3181, 'east': 1407, 'edward': 1426, 'extended': 1604, 'highlight': 2103, 'chess': 783, 'lengthy': 2570, 'card': 681, 'peters': 3248, 'cause': 723, 'contact': 961, 'everyones': 1543, 'joey': 2408, 'ritter': 3705, 'sides': 3967, 'unrealistic': 4677, 'learning': 2552, 'signed': 3971, 'godfather': 1927, 'sixties': 4011, 'emphasis': 1463, 'likely': 2601, 'bell': 458, 'frustration': 1843, 'holmes': 2139, 'digital': 1251, 'cox': 1026, 'alongside': 196, 'substance': 4258, 'sneak': 4043, 'available': 361, 'contract': 973, 'ranks': 3519, 'dedicated': 1153, 'performers': 3232, 'performer': 3231, 'spots': 4132, 'agreed': 156, 'crash': 1033, 'advanced': 128, 'landing': 2512, 'allen': 188, 'blacks': 494, 'lion': 2614, 'matches': 2764, 'championship': 745, 'tag': 4348, 'ken': 2453, 'heat': 2067, 'kinda': 2477, 'terry': 4415, 'kane': 2442, 'mike': 2838, 'ape': 266, 'reactions': 3542, 'juvenile': 2441, 'unbearable': 4633, 'le': 2544, 'projects': 3428, 'robin': 3715, 'williams': 4888, 'suggested': 4281, 'intentions': 2321, 'results': 3662, 'fetched': 1698, 'tracy': 4546, 'dreary': 1356, 'ticket': 4487, 'kapoor': 2443, 'michelle': 2830, 'jesse': 2397, 'bob': 524, 'storytelling': 4209, 'elaborate': 1439, 'motivations': 2915, 'condition': 937, 'classical': 836, 'teachers': 4376, 'wouldve': 4959, 'prepared': 3371, 'sounded': 4082, 'delivering': 1171, 'plausible': 3295, 'rushed': 3760, 'franchise': 1817, 'suffered': 4276, 'kenneth': 2455, 'branagh': 564, 'separate': 3883, 'metal': 2823, 'guarantee': 1987, 'unable': 4631, 'lit': 2621, 'cage': 645, 'stops': 4203, 'mistaken': 2872, 'flynn': 1765, 'realise': 3548, 'drives': 1367, 'receive': 3563, 'hopper': 2161, 'location': 2635, 'ellen': 1446, 'underground': 4640, 'experiments': 1584, 'loss': 2659, 'portion': 3338, 'partner': 3198, 'trademark': 4548, 'assume': 328, 'virus': 4752, 'date': 1118, 'references': 3583, 'corporate': 998, 'spy': 4135, 'unfolds': 4651, 'secretly': 3851, 'record': 3573, 'piano': 3264, 'cake': 648, 'savage': 3793, 'reputation': 3640, 'mini': 2854, 'disneys': 1290, 'outcome': 3142, 'recorded': 3574, 'considerable': 950, 'hopeless': 2158, 'messed': 2821, 'whoever': 4872, 'displayed': 1292, '2005': 35, '2007': 37, 'motives': 2916, 'eastern': 1408, 'bleak': 503, 'ridiculously': 3694, 'carries': 699, 'vivid': 4760, 'carter': 703, 'fury': 1855, 'ethan': 1528, 'requires': 3642, 'amy': 222, 'lifetime': 2594, 'achievement': 94, 'larry': 2520, 'doomed': 1327, 'werewolf': 4850, 'colonel': 876, 'nick': 3012, 'italy': 2368, 'generic': 1885, 'sport': 4129, 'method': 2824, 'species': 4098, 'devils': 1229, 'louis': 2665, 'iii': 2227, 'spell': 4104, 'godzilla': 1929, 'scream': 3826, 'itll': 2369, 'bucks': 606, 'talents': 4356, 'childish': 791, 'confidence': 938, 'dentist': 1180, 'johnson': 2411, 'creep': 1051, 'helping': 2081, 'appearances': 275, 'psychiatrist': 3455, 'cameos': 658, 'inferior': 2285, 'eddie': 1416, 'figured': 1712, 'obnoxious': 3067, 'dub': 1378, 'forms': 1801, 'designs': 1204, '1968': 16, 'monsters': 2893, 'castle': 712, 'joined': 2413, 'eve': 1532, 'property': 3438, 'justice': 2438, 'claire': 831, 'danes': 1108, 'vacation': 4704, 'arrive': 300, 'airport': 167, 'confusion': 943, 'respected': 3653, 'hank': 2024, 'husbands': 2205, 'killings': 2473, 'greek': 1970, 'catchy': 717, 'cube': 1076, 'rats': 3531, 'stinks': 4192, 'sensitive': 3879, 'scores': 3823, 'stanley': 4148, 'winters': 4901, 'banned': 395, 'soccer': 4048, 'consists': 955, 'scheme': 3812, 'iran': 2350, 'dislike': 1288, 'toward': 4539, 'fool': 1779, '2003': 33, 'football': 1783, 'drop': 1369, 'movement': 2923, 'alcohol': 176, 'rendition': 3625, 'wizard': 4919, 'stellar': 4174, 'aid': 160, 'disappeared': 1271, 'insulting': 2310, 'sentence': 3881, 'splendid': 4119, 'displays': 1293, 'imagination': 2236, 'reaches': 3538, 'poetry': 3314, 'myers': 2952, 'carpenter': 694, 'pretending': 3382, 'sounding': 4083, 'anthony': 253, 'roberts': 3714, 'minds': 2852, 'union': 4661, 'tongue': 4518, 'cheek': 779, 'purposes': 3475, 'choreographed': 801, 'failure': 1629, 'bothered': 549, 'continued': 970, 'beer': 439, 'wrapped': 4964, 'creation': 1040, 'coach': 868, 'seagal': 3839, 'flight': 1757, 'weapons': 4829, 'performs': 3234, 'ambitious': 211, 'remaining': 3610, 'elvis': 1451, 'focusing': 1769, 'incoherent': 2265, 'strike': 4224, 'importance': 2246, 'abandoned': 62, 'prostitute': 3440, 'alike': 185, 'worry': 4950, 'returning': 3667, 'send': 3875, 'monk': 2889, 'phony': 3256, 'distance': 1294, 'mountain': 2917, 'winter': 4900, 'painting': 3175, 'settings': 3901, 'lake': 2509, 'shelley': 3928, 'philosophy': 3254, 'frankenstein': 1822, 'gothic': 1945, 'prom': 3429, 'unhappy': 4656, 'blond': 510, 'countries': 1013, 'khan': 2459, 'glimpse': 1919, 'monkeys': 2891, 'sum': 4289, 'ignored': 2225, 'international': 2326, 'aids': 161, 'solution': 4059, 'ray': 3533, 'remote': 3622, 'raymond': 3534, 'laura': 2536, 'virgin': 4749, 'burning': 627, 'tree': 4576, 'todd': 4510, 'jumping': 2431, '2006': 36, '13th': 5, 'ha': 2002, 'mexican': 2826, 'newspaper': 3006, 'multiple': 2936, 'arrival': 299, 'mask': 2752, 'pitch': 3279, 'theyd': 4443, 'entry': 1504, 'carried': 698, 'aliens': 184, 'assistant': 326, 'psychic': 3456, 'pamela': 3179, 'enthusiasm': 1501, 'discovers': 1281, 'cable': 644, 'canada': 666, 'unintentional': 4658, 'earned': 1401, 'harris': 2038, 'resist': 3648, 'pearl': 3220, 'seed': 3856, 'troubles': 4594, 'household': 2179, 'advise': 134, 'engage': 1479, 'tommy': 4516, 'hill': 2108, 'winds': 4895, 'cure': 1081, 'buddies': 608, 'hammer': 2014, 'paper': 3183, 'tunes': 4603, 'credible': 1048, 'brenda': 575, 'enormous': 1490, 'cook': 988, 'intrigued': 2334, 'alexander': 180, 'bugs': 613, 'carefully': 689, 'landscapes': 2514, 'staring': 4152, 'defense': 1159, 'revealing': 3672, 'spending': 4106, 'shower': 3957, 'higher': 2101, 'causes': 725, 'offended': 3085, 'ultra': 4629, 'cole': 873, 'detective': 1220, 'powell': 3358, 'ward': 4793, 'spite': 4117, 'fabulous': 1615, 'games': 1865, 'honesty': 2148, 'connect': 944, 'dialogs': 1233, 'abc': 63, 'inane': 2258, 'california': 650, 'pulling': 3463, 'fill': 1714, 'andrew': 228, 'photographer': 3259, 'solo': 4058, 'minimum': 2856, 'diane': 1238, 'crucial': 1068, 'pg': 3250, 'crude': 1069, 'trap': 4563, 'overlook': 3153, 'divorce': 1301, 'clothing': 861, 'womens': 4924, 'scripts': 3836, 'baseball': 403, 'blown': 516, 'st': 4137, 'junior': 2435, 'maintain': 2710, 'per': 3223, 'notorious': 3051, 'awfully': 373, 'valuable': 4708, 'rush': 3759, 'perfection': 3225, 'rings': 3699, 'excitement': 1562, 'distracting': 1297, 'block': 508, 'technology': 4385, 'reel': 3581, 'pleasant': 3302, 'massive': 2756, 'madonna': 2699, 'tiresome': 4502, 'trailers': 4555, 'wisdom': 4902, 'timeless': 4496, 'cleverly': 842, 'retired': 3664, 'molly': 2884, 'enters': 1496, 'meat': 2787, 'hatred': 2049, 'related': 3594, 'eerie': 1427, 'hang': 2022, 'smiling': 4037, 'wet': 4855, 'jumps': 2432, 'hello': 2078, 'popularity': 3334, 'generations': 1884, 'dialogues': 1235, 'monkey': 2890, 'urge': 4689, 'purple': 3473, 'dinosaur': 1255, 'senseless': 3878, 'pile': 3275, 'couldve': 1009, 'omen': 3104, 'catching': 716, 'empathy': 1462, 'awkward': 374, 'paltrow': 3178, 'worn': 4948, 'backdrop': 379, 'kicks': 2463, 'beneath': 464, 'kidnapped': 2466, 'influenced': 2287, 'critic': 1061, 'francisco': 1819, 'twilight': 4614, 'secretary': 3850, 'identify': 2216, 'pie': 3271, 'trail': 4553, 'sean': 3840, 'count': 1010, 'bath': 411, 'rat': 3525, 'vietnam': 4735, 'dude': 1381, 'franco': 1820, 'product': 3418, 'jungle': 2434, 'unpleasant': 4674, 'fatal': 1664, 'stood': 4199, 'frequent': 1831, 'mate': 2765, 'welcome': 4842, 'satan': 3787, 'matthew': 2772, 'karloff': 2445, 'competition': 918, 'ford': 1789, 'sutherland': 4333, 'impress': 2250, 'april': 284, 'concert': 935, 'weakest': 4825, 'patients': 3212, 'contest': 967, 'melting': 2799, 'worlds': 4947, 'educational': 1425, 'lust': 2689, 'christians': 809, 'sunshine': 4294, 'circle': 821, 'pig': 3274, 'wished': 4905, 'fields': 1705, 'foster': 1809, 'latest': 2526, 'stale': 4141, 'sullivan': 4288, 'politically': 3325, 'creativity': 1042, 'virginia': 4750, 'internet': 2327, '40s': 49, 'centers': 734, 'overacting': 3149, '1933': 12, 'shorts': 3948, 'ties': 4490, 'persona': 3239, 'outer': 3143, 'anyways': 262, 'clues': 865, 'dreadful': 1353, 'link': 2613, 'marty': 2749, 'murderous': 2942, 'hype': 2207, 'rex': 3683, 'dinosaurs': 1256, 'risk': 3704, 'resources': 3651, 'homosexual': 2145, 'quotes': 3497, 'attempting': 342, 'cup': 1080, 'lincoln': 2608, 'abraham': 69, 'iron': 2354, 'attorney': 348, 'useless': 4695, 'mentioning': 2812, 'recognize': 3569, 'bat': 410, 'provoking': 3452, 'brazil': 568, 'willis': 4890, 'generated': 1882, 'dropped': 1370, 'exposure': 1599, 'tomatoes': 4515, 'conversations': 981, 'wave': 4818, 'opportunities': 3120, 'hyde': 2206, 'abusive': 75, 'tribute': 4581, 'taught': 4370, 'minimal': 2855, 'charlotte': 766, 'lone': 2642, 'pool': 3327, 'widely': 4881, 'wishing': 4907, 'blob': 507, 'troops': 4591, 'rocks': 3722, 'montage': 2894, 'notably': 3042, 'edition': 1422, 'eva': 1531, 'photo': 3257, '2001': 31, 'campy': 664, 'imitation': 2241, 'lasted': 2522, 'documentaries': 1306, 'potentially': 3356, 'ease': 1404, 'retarded': 3663, 'witches': 4910, 'claimed': 829, 'hire': 2116, 'disturbed': 1299, 'helen': 2075, 'jet': 2400, 'li': 2587, 'tune': 4602, 'coherent': 871, 'similarly': 3980, 'assumed': 329, 'wholly': 4874, 'sid': 3964, 'highlights': 2104, 'slick': 4026, 'trashy': 4566, 'vaguely': 4706, 'moronic': 2907, 'dorothy': 1330, 'involvement': 2347, 'crisis': 1060, 'destiny': 1212, 'dutch': 1389, 'unit': 4663, 'exercise': 1568, 'represent': 3637, 'packed': 3166, 'scooby': 3820, 'doo': 1325, 'experiment': 1583, 'presumably': 3380, 'copies': 992, 'warner': 4799, 'nancy': 2964, 'ocean': 3079, 'draws': 1352, 'buffs': 612, 'possibilities': 3348, 'unsettling': 4679, 'convincingly': 986, 'flashback': 1746, 'reduced': 3579, 'specific': 4099, 'ratings': 3530, 'fits': 1741, '75': 57, 'guessed': 1990, 'jumped': 2430, 'reasonable': 3558, 'spare': 4093, 'boredom': 542, 'cameras': 660, 'fx': 1858, 'immensely': 2243, 'vincent': 4746, 'deaf': 1134, 'improved': 2255, 'laws': 2540, 'bottle': 550, 'cinderella': 815, 'thrills': 4475, 'hal': 2006, 'secondly': 3847, 'swim': 4337, 'clip': 851, 'hanks': 2025, 'rolling': 3730, 'menace': 2806, 'tall': 4362, 'shirley': 3936, 'daily': 1097, 'chorus': 803, 'nations': 2971, 'visible': 4753, 'stones': 4198, 'snake': 4042, 'conflicts': 940, 'subjects': 4254, 'bay': 416, 'user': 4696, 'fever': 1699, 'faults': 1669, 'mixture': 2878, 'september': 3884, 'nuclear': 3057, 'definition': 1163, 'australia': 356, 'survivors': 4325, 'charge': 761, 'unexpected': 4650, 'hippie': 2115, 'blew': 505, 'stiller': 4189, 'agrees': 157, 'selfish': 3870, 'ensues': 1493, 'hop': 2154, 'celluloid': 731, 'murphy': 2944, 'tarzan': 4367, 'domestic': 1318, 'downright': 1337, 'rick': 3689, 'mummy': 2937, 'recording': 3575, 'eyre': 1614, 'rochester': 3719, 'closet': 858, 'online': 3109, 'nail': 2957, 'seventies': 3904, 'eighties': 1437, 'boom': 537, 'chest': 784, 'kitchen': 2485, 'rage': 3505, 'versus': 4722, 'screenwriter': 3833, 'bus': 631, 'formulaic': 1803, 'vegas': 4717, 'macy': 2695, 'synopsis': 4344, 'loser': 2655, 'companion': 909, 'heston': 2094, 'jealous': 2388, 'beach': 419, 'photos': 3261, 'freeman': 1829, 'richards': 3687, 'davies': 1125, 'afford': 138, 'ireland': 2352, 'narrator': 2967, '3000': 43, 'terrorist': 4413, 'reflection': 3585, 'stanwyck': 4149, '1973': 19, 'questionable': 3488, 'columbo': 881, 'vulnerable': 4768, 'angela': 232, 'andrews': 229, 'clips': 852, 'backgrounds': 381, 'modesty': 2883, 'dozens': 1339, 'brooks': 596, 'ignorant': 2223, 'masses': 2755, 'tad': 4347, 'swear': 4334, 'scrooge': 3837, 'dickens': 1240, 'expression': 1602, 'nonsensical': 3031, 'transition': 4561, 'carrey': 696, 'angel': 231, 'credibility': 1047, 'thoughtful': 4463, 'abilities': 64, 'universal': 4665, 'pursuit': 3476, 'caliber': 649, 'sue': 4274, 'humble': 2191, 'hills': 2109, 'prevent': 3385, 'arguably': 289, 'proceeds': 3411, 'beatty': 427, 'existent': 1572, 'loads': 2633, 'uwe': 4703, 'boll': 529, 'burton': 630, 'gandhi': 1866, 'brosnan': 597, 'annie': 247, 'hugh': 2186, 'justify': 2439, 'shadows': 3913, 'june': 2433, 'sits': 4006, 'blatant': 502, 'square': 4136, 'dvds': 1392, 'dust': 1388, 'wed': 4835, 'carradine': 695, 'facing': 1620, 'chapter': 757, 'mars': 2746, 'strangers': 4214, 'jonathan': 2417, 'swedish': 4335, 'santa': 3783, 'sends': 3876, 'doll': 1313, 'mafia': 2700, 'behave': 445, 'bbc': 417, 'screams': 3828, 'nurse': 3063, 'domino': 1319, 'elderly': 1440, 'composed': 926, 'chaos': 755, 'pro': 3406, 'destroying': 1215, 'lily': 2605, 'imagined': 2239, 'mann': 2728, 'tooth': 4524, 'edie': 1419, 'steel': 4173, 'gadget': 1860, 'introduces': 2338, 'bettie': 473, 'mario': 2738, 'gundam': 1997, 'hollow': 2135, 'holly': 2136, 'messages': 2820, 'taxi': 4371, 'relation': 3595, 'howard': 2182, 'inducing': 2279, 'margaret': 2735, 'implausible': 2245, 'roots': 3738, 'treasure': 4571, 'swimming': 4338, 'falk': 1636, 'pulp': 3465, 'beats': 426, 'elm': 1447, 'witnesses': 4916, 'dire': 1257, 'nicholas': 3010, 'sophisticated': 4075, 'pointed': 3317, 'kurt': 2499, 'denzel': 1181, 'duty': 1390, 'grinch': 1975, 'vengeance': 4719, 'bobby': 525, 'bacall': 377, 'bedroom': 437, 'adequate': 120, 'hideous': 2098, 'scarecrow': 3804, 'doom': 1326, 'crocodile': 1065, 'sandra': 3782, 'gerard': 1895, 'cagney': 646, 'miracle': 2860, 'del': 1165, 'elvira': 1450, 'mildred': 2841, 'che': 773, 'responsibility': 3655, 'polished': 3323, 'polanski': 3321, 'pokemon': 3320}\n"
     ]
    }
   ],
   "source": [
    "print(str(vocabulary))"
   ]
  },
  {
   "cell_type": "markdown",
   "metadata": {},
   "source": [
    "Once you have added the endpoint name to the Lambda function, click on **Save**. Your Lambda function is now up and running. Next we need to create a way for our web app to execute the Lambda function."
   ]
  },
  {
   "cell_type": "markdown",
   "metadata": {},
   "source": [
    "### Setting up API Gateway\n",
    "\n",
    "Now that our Lambda function is set up, it is time to create a new API using API Gateway that will trigger the Lambda function we have just created.\n",
    "\n",
    "Using AWS Console, navigate to **Amazon API Gateway** and then click on **Get started**.\n",
    "\n",
    "On the next page, make sure that **New API** is selected and give the new api a name, for example, `sentiment_analysis_web_app`. Then, click on **Create API**.\n",
    "\n",
    "Now we have created an API, however it doesn't currently do anything. What we want it to do is to trigger the Lambda function that we created earlier.\n",
    "\n",
    "Select the **Actions** dropdown menu and click **Create Method**. A new blank method will be created, select its dropdown menu and select **POST**, then click on the check mark beside it.\n",
    "\n",
    "For the integration point, make sure that **Lambda Function** is selected and click on the **Use Lambda Proxy integration**. This option makes sure that the data that is sent to the API is then sent directly to the Lambda function with no processing. It also means that the return value must be a proper response object as it will also not be processed by API Gateway.\n",
    "\n",
    "Type the name of the Lambda function you created earlier into the **Lambda Function** text entry box and then click on **Save**. Click on **OK** in the pop-up box that then appears, giving permission to API Gateway to invoke the Lambda function you created.\n",
    "\n",
    "The last step in creating the API Gateway is to select the **Actions** dropdown and click on **Deploy API**. You will need to create a new Deployment stage and name it anything you like, for example `prod`.\n",
    "\n",
    "You have now successfully set up a public API to access your SageMaker model. Make sure to copy or write down the URL provided to invoke your newly created public API as this will be needed in the next step. This URL can be found at the top of the page, highlighted in blue next to the text **Invoke URL**."
   ]
  },
  {
   "cell_type": "markdown",
   "metadata": {},
   "source": [
    "## Step 7: Deploying our web app\n",
    "\n",
    "Now that we have a publicly available API, we can start using it in a web app. For our purposes, we have provided a simple static html file which can make use of the public api you created earlier.\n",
    "\n",
    "In the `website` folder there should be a file called `index.html`. Download the file to your computer and open that file up in a text editor of your choice. There should be a line which contains **\\*\\*REPLACE WITH PUBLIC API URL\\*\\***. Replace this string with the url that you wrote down in the last step and then save the file.\n",
    "\n",
    "Now, if you open `index.html` on your local computer, your browser will behave as a local web server and you can use the provided site to interact with your SageMaker model.\n",
    "\n",
    "If you'd like to go further, you can host this html file anywhere you'd like, for example using github or hosting a static site on Amazon's S3. Once you have done this you can share the link with anyone you'd like and have them play with it too!\n",
    "\n",
    "> **Important Note** In order for the web app to communicate with the SageMaker endpoint, the endpoint has to actually be deployed and running. This means that you are paying for it. Make sure that the endpoint is running when you want to use the web app but that you shut it down when you don't need it, otherwise you will end up with a surprisingly large AWS bill."
   ]
  },
  {
   "cell_type": "markdown",
   "metadata": {},
   "source": [
    "### Delete the endpoint\n",
    "\n",
    "Remember to always shut down your endpoint if you are no longer using it. You are charged for the length of time that the endpoint is running so if you forget and leave it on you could end up with an unexpectedly large bill."
   ]
  },
  {
   "cell_type": "code",
   "execution_count": 50,
   "metadata": {},
   "outputs": [],
   "source": [
    "xgb_predictor.delete_endpoint()"
   ]
  },
  {
   "cell_type": "markdown",
   "metadata": {},
   "source": [
    "## Optional: Clean up\n",
    "\n",
    "The default notebook instance on SageMaker doesn't have a lot of excess disk space available. As you continue to complete and execute notebooks you will eventually fill up this disk space, leading to errors which can be difficult to diagnose. Once you are completely finished using a notebook it is a good idea to remove the files that you created along the way. Of course, you can do this from the terminal or from the notebook hub if you would like. The cell below contains some commands to clean up the created files from within the notebook."
   ]
  },
  {
   "cell_type": "code",
   "execution_count": 51,
   "metadata": {},
   "outputs": [],
   "source": [
    "# First we will remove all of the files contained in the data_dir directory\n",
    "!rm $data_dir/*\n",
    "\n",
    "# And then we delete the directory itself\n",
    "!rmdir $data_dir\n",
    "\n",
    "# Similarly we remove the files in the cache_dir directory and the directory itself\n",
    "!rm $cache_dir/*\n",
    "!rmdir $cache_dir"
   ]
  },
  {
   "cell_type": "code",
   "execution_count": null,
   "metadata": {},
   "outputs": [],
   "source": []
  }
 ],
 "metadata": {
  "kernelspec": {
   "display_name": "conda_python3",
   "language": "python",
   "name": "conda_python3"
  },
  "language_info": {
   "codemirror_mode": {
    "name": "ipython",
    "version": 3
   },
   "file_extension": ".py",
   "mimetype": "text/x-python",
   "name": "python",
   "nbconvert_exporter": "python",
   "pygments_lexer": "ipython3",
   "version": "3.6.5"
  }
 },
 "nbformat": 4,
 "nbformat_minor": 2
}
