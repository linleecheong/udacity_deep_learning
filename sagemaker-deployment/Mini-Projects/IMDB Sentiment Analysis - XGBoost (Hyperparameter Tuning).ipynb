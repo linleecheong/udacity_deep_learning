{
 "cells": [
  {
   "cell_type": "markdown",
   "metadata": {},
   "source": [
    "# Sentiment Analysis\n",
    "\n",
    "## Using XGBoost in SageMaker\n",
    "\n",
    "_Deep Learning Nanodegree Program | Deployment_\n",
    "\n",
    "---\n",
    "\n",
    "In this example of using Amazon's SageMaker service we will construct a random tree model to predict the sentiment of a movie review. You may have seen a version of this example in a pervious lesson although it would have been done using the sklearn package. Instead, we will be using the XGBoost package as it is provided to us by Amazon.\n",
    "\n",
    "## Instructions\n",
    "\n",
    "Some template code has already been provided for you, and you will need to implement additional functionality to successfully complete this notebook. You will not need to modify the included code beyond what is requested. Sections that begin with '**TODO**' in the header indicate that you need to complete or implement some portion within them. Instructions will be provided for each section and the specifics of the implementation are marked in the code block with a `# TODO: ...` comment. Please be sure to read the instructions carefully!\n",
    "\n",
    "In addition to implementing code, there will be questions for you to answer which relate to the task and your implementation. Each section where you will answer a question is preceded by a '**Question:**' header. Carefully read each question and provide your answer below the '**Answer:**' header by editing the Markdown cell.\n",
    "\n",
    "> **Note**: Code and Markdown cells can be executed using the **Shift+Enter** keyboard shortcut. In addition, a cell can be edited by typically clicking it (double-click for Markdown cells) or by pressing **Enter** while it is highlighted."
   ]
  },
  {
   "cell_type": "markdown",
   "metadata": {},
   "source": [
    "## Step 1: Downloading the data\n",
    "\n",
    "The dataset we are going to use is very popular among researchers in Natural Language Processing, usually referred to as the [IMDb dataset](http://ai.stanford.edu/~amaas/data/sentiment/). It consists of movie reviews from the website [imdb.com](http://www.imdb.com/), each labeled as either '**pos**itive', if the reviewer enjoyed the film, or '**neg**ative' otherwise.\n",
    "\n",
    "> Maas, Andrew L., et al. [Learning Word Vectors for Sentiment Analysis](http://ai.stanford.edu/~amaas/data/sentiment/). In _Proceedings of the 49th Annual Meeting of the Association for Computational Linguistics: Human Language Technologies_. Association for Computational Linguistics, 2011.\n",
    "\n",
    "We begin by using some Jupyter Notebook magic to download and extract the dataset."
   ]
  },
  {
   "cell_type": "code",
   "execution_count": 1,
   "metadata": {},
   "outputs": [
    {
     "name": "stdout",
     "output_type": "stream",
     "text": [
      "mkdir: cannot create directory ‘../data’: File exists\n",
      "--2019-06-12 03:13:11--  http://ai.stanford.edu/~amaas/data/sentiment/aclImdb_v1.tar.gz\n",
      "Resolving ai.stanford.edu (ai.stanford.edu)... 171.64.68.10\n",
      "Connecting to ai.stanford.edu (ai.stanford.edu)|171.64.68.10|:80... connected.\n",
      "HTTP request sent, awaiting response... 200 OK\n",
      "Length: 84125825 (80M) [application/x-gzip]\n",
      "Saving to: ‘../data/aclImdb_v1.tar.gz’\n",
      "\n",
      "../data/aclImdb_v1. 100%[===================>]  80.23M  44.3MB/s    in 1.8s    \n",
      "\n",
      "2019-06-12 03:13:13 (44.3 MB/s) - ‘../data/aclImdb_v1.tar.gz’ saved [84125825/84125825]\n",
      "\n"
     ]
    }
   ],
   "source": [
    "%mkdir ../data\n",
    "!wget -O ../data/aclImdb_v1.tar.gz http://ai.stanford.edu/~amaas/data/sentiment/aclImdb_v1.tar.gz\n",
    "!tar -zxf ../data/aclImdb_v1.tar.gz -C ../data"
   ]
  },
  {
   "cell_type": "markdown",
   "metadata": {},
   "source": [
    "## Step 2: Preparing the data\n",
    "\n",
    "The data we have downloaded is split into various files, each of which contains a single review. It will be much easier going forward if we combine these individual files into two large files, one for training and one for testing."
   ]
  },
  {
   "cell_type": "code",
   "execution_count": 1,
   "metadata": {},
   "outputs": [],
   "source": [
    "import os\n",
    "import glob\n",
    "\n",
    "def read_imdb_data(data_dir='../data/aclImdb'):\n",
    "    data = {}\n",
    "    labels = {}\n",
    "    \n",
    "    for data_type in ['train', 'test']:\n",
    "        data[data_type] = {}\n",
    "        labels[data_type] = {}\n",
    "        \n",
    "        for sentiment in ['pos', 'neg']:\n",
    "            data[data_type][sentiment] = []\n",
    "            labels[data_type][sentiment] = []\n",
    "            \n",
    "            path = os.path.join(data_dir, data_type, sentiment, '*.txt')\n",
    "            files = glob.glob(path)\n",
    "            \n",
    "            for f in files:\n",
    "                with open(f) as review:\n",
    "                    data[data_type][sentiment].append(review.read())\n",
    "                    # Here we represent a positive review by '1' and a negative review by '0'\n",
    "                    labels[data_type][sentiment].append(1 if sentiment == 'pos' else 0)\n",
    "                    \n",
    "            assert len(data[data_type][sentiment]) == len(labels[data_type][sentiment]), \\\n",
    "                    \"{}/{} data size does not match labels size\".format(data_type, sentiment)\n",
    "                \n",
    "    return data, labels"
   ]
  },
  {
   "cell_type": "code",
   "execution_count": 2,
   "metadata": {},
   "outputs": [
    {
     "name": "stdout",
     "output_type": "stream",
     "text": [
      "IMDB reviews: train = 12500 pos / 12500 neg, test = 12500 pos / 12500 neg\n"
     ]
    }
   ],
   "source": [
    "data, labels = read_imdb_data()\n",
    "print(\"IMDB reviews: train = {} pos / {} neg, test = {} pos / {} neg\".format(\n",
    "            len(data['train']['pos']), len(data['train']['neg']),\n",
    "            len(data['test']['pos']), len(data['test']['neg'])))"
   ]
  },
  {
   "cell_type": "code",
   "execution_count": 3,
   "metadata": {},
   "outputs": [],
   "source": [
    "from sklearn.utils import shuffle\n",
    "\n",
    "def prepare_imdb_data(data, labels):\n",
    "    \"\"\"Prepare training and test sets from IMDb movie reviews.\"\"\"\n",
    "    \n",
    "    #Combine positive and negative reviews and labels\n",
    "    data_train = data['train']['pos'] + data['train']['neg']\n",
    "    data_test = data['test']['pos'] + data['test']['neg']\n",
    "    labels_train = labels['train']['pos'] + labels['train']['neg']\n",
    "    labels_test = labels['test']['pos'] + labels['test']['neg']\n",
    "    \n",
    "    #Shuffle reviews and corresponding labels within training and test sets\n",
    "    data_train, labels_train = shuffle(data_train, labels_train)\n",
    "    data_test, labels_test = shuffle(data_test, labels_test)\n",
    "    \n",
    "    # Return a unified training data, test data, training labels, test labets\n",
    "    return data_train, data_test, labels_train, labels_test"
   ]
  },
  {
   "cell_type": "code",
   "execution_count": 4,
   "metadata": {},
   "outputs": [
    {
     "name": "stdout",
     "output_type": "stream",
     "text": [
      "IMDb reviews (combined): train = 25000, test = 25000\n"
     ]
    }
   ],
   "source": [
    "train_X, test_X, train_y, test_y = prepare_imdb_data(data, labels)\n",
    "print(\"IMDb reviews (combined): train = {}, test = {}\".format(len(train_X), len(test_X)))"
   ]
  },
  {
   "cell_type": "code",
   "execution_count": 5,
   "metadata": {},
   "outputs": [
    {
     "data": {
      "text/plain": [
       "\"Using footage pillaged from Planet of Dinosaurs this shot on video (except for the stolen footage) concerns a bunch of people shot into space who land on a dinosaur planet that is...don't wait for it, is really earth. Its a five minute sketch stretched to 90 minutes. Slightly better than Chickboxer (another in the Bad Movie Police series)-having a nostalgic home movie feel coupled with good stolen effects, this movie is still an impossible slog to get through. I'm left to ponder the question are we becoming so uncreative that we're now pillaging old movies not only for plot but also for mismatched footage? Clearly low budget producers are getting so desperate they really will give us anything to take our money\""
      ]
     },
     "execution_count": 5,
     "metadata": {},
     "output_type": "execute_result"
    }
   ],
   "source": [
    "train_X[100]"
   ]
  },
  {
   "cell_type": "markdown",
   "metadata": {},
   "source": [
    "## Step 3: Processing the data\n",
    "\n",
    "Now that we have our training and testing datasets merged and ready to use, we need to start processing the raw data into something that will be useable by our machine learning algorithm. To begin with, we remove any html formatting that may appear in the reviews and perform some standard natural language processing in order to homogenize the data."
   ]
  },
  {
   "cell_type": "code",
   "execution_count": 6,
   "metadata": {},
   "outputs": [
    {
     "name": "stdout",
     "output_type": "stream",
     "text": [
      "[nltk_data] Downloading package stopwords to\n",
      "[nltk_data]     /home/ec2-user/nltk_data...\n",
      "[nltk_data]   Package stopwords is already up-to-date!\n"
     ]
    }
   ],
   "source": [
    "import nltk\n",
    "nltk.download(\"stopwords\")\n",
    "from nltk.corpus import stopwords\n",
    "from nltk.stem.porter import *\n",
    "stemmer = PorterStemmer()"
   ]
  },
  {
   "cell_type": "code",
   "execution_count": 7,
   "metadata": {},
   "outputs": [],
   "source": [
    "import re\n",
    "from bs4 import BeautifulSoup\n",
    "\n",
    "def review_to_words(review):\n",
    "    text = BeautifulSoup(review, \"html.parser\").get_text() # Remove HTML tags\n",
    "    text = re.sub(r\"[^a-zA-Z0-9]\", \" \", text.lower()) # Convert to lower case\n",
    "    words = text.split() # Split string into words\n",
    "    words = [w for w in words if w not in stopwords.words(\"english\")] # Remove stopwords\n",
    "    words = [PorterStemmer().stem(w) for w in words] # stem\n",
    "    \n",
    "    return words"
   ]
  },
  {
   "cell_type": "code",
   "execution_count": 8,
   "metadata": {},
   "outputs": [],
   "source": [
    "import pickle\n",
    "\n",
    "cache_dir = os.path.join(\"../cache\", \"sentiment_analysis\")  # where to store cache files\n",
    "os.makedirs(cache_dir, exist_ok=True)  # ensure cache directory exists\n",
    "\n",
    "def preprocess_data(data_train, data_test, labels_train, labels_test,\n",
    "                    cache_dir=cache_dir, cache_file=\"preprocessed_data.pkl\"):\n",
    "    \"\"\"Convert each review to words; read from cache if available.\"\"\"\n",
    "\n",
    "    # If cache_file is not None, try to read from it first\n",
    "    cache_data = None\n",
    "    if cache_file is not None:\n",
    "        try:\n",
    "            with open(os.path.join(cache_dir, cache_file), \"rb\") as f:\n",
    "                cache_data = pickle.load(f)\n",
    "            print(\"Read preprocessed data from cache file:\", cache_file)\n",
    "        except:\n",
    "            pass  # unable to read from cache, but that's okay\n",
    "    \n",
    "    # If cache is missing, then do the heavy lifting\n",
    "    if cache_data is None:\n",
    "        # Preprocess training and test data to obtain words for each review\n",
    "        #words_train = list(map(review_to_words, data_train))\n",
    "        #words_test = list(map(review_to_words, data_test))\n",
    "        words_train = [review_to_words(review) for review in data_train]\n",
    "        words_test = [review_to_words(review) for review in data_test]\n",
    "        \n",
    "        # Write to cache file for future runs\n",
    "        if cache_file is not None:\n",
    "            cache_data = dict(words_train=words_train, words_test=words_test,\n",
    "                              labels_train=labels_train, labels_test=labels_test)\n",
    "            with open(os.path.join(cache_dir, cache_file), \"wb\") as f:\n",
    "                pickle.dump(cache_data, f)\n",
    "            print(\"Wrote preprocessed data to cache file:\", cache_file)\n",
    "    else:\n",
    "        # Unpack data loaded from cache file\n",
    "        words_train, words_test, labels_train, labels_test = (cache_data['words_train'],\n",
    "                cache_data['words_test'], cache_data['labels_train'], cache_data['labels_test'])\n",
    "    \n",
    "    return words_train, words_test, labels_train, labels_test"
   ]
  },
  {
   "cell_type": "code",
   "execution_count": 9,
   "metadata": {},
   "outputs": [
    {
     "name": "stdout",
     "output_type": "stream",
     "text": [
      "Read preprocessed data from cache file: preprocessed_data.pkl\n"
     ]
    }
   ],
   "source": [
    "# Preprocess data\n",
    "train_X, test_X, train_y, test_y = preprocess_data(train_X, test_X, train_y, test_y)"
   ]
  },
  {
   "cell_type": "markdown",
   "metadata": {},
   "source": [
    "### Extract Bag-of-Words features\n",
    "\n",
    "For the model we will be implementing, rather than using the reviews directly, we are going to transform each review into a Bag-of-Words feature representation. Keep in mind that 'in the wild' we will only have access to the training set so our transformer can only use the training set to construct a representation."
   ]
  },
  {
   "cell_type": "code",
   "execution_count": 10,
   "metadata": {},
   "outputs": [],
   "source": [
    "import numpy as np\n",
    "from sklearn.feature_extraction.text import CountVectorizer\n",
    "from sklearn.externals import joblib\n",
    "# joblib is an enhanced version of pickle that is more efficient for storing NumPy arrays\n",
    "\n",
    "def extract_BoW_features(words_train, words_test, vocabulary_size=5000,\n",
    "                         cache_dir=cache_dir, cache_file=\"bow_features.pkl\"):\n",
    "    \"\"\"Extract Bag-of-Words for a given set of documents, already preprocessed into words.\"\"\"\n",
    "    \n",
    "    # If cache_file is not None, try to read from it first\n",
    "    cache_data = None\n",
    "    if cache_file is not None:\n",
    "        try:\n",
    "            with open(os.path.join(cache_dir, cache_file), \"rb\") as f:\n",
    "                cache_data = joblib.load(f)\n",
    "            print(\"Read features from cache file:\", cache_file)\n",
    "        except:\n",
    "            pass  # unable to read from cache, but that's okay\n",
    "    \n",
    "    # If cache is missing, then do the heavy lifting\n",
    "    if cache_data is None:\n",
    "        # Fit a vectorizer to training documents and use it to transform them\n",
    "        # NOTE: Training documents have already been preprocessed and tokenized into words;\n",
    "        #       pass in dummy functions to skip those steps, e.g. preprocessor=lambda x: x\n",
    "        vectorizer = CountVectorizer(max_features=vocabulary_size,\n",
    "                preprocessor=lambda x: x, tokenizer=lambda x: x)  # already preprocessed\n",
    "        features_train = vectorizer.fit_transform(words_train).toarray()\n",
    "\n",
    "        # Apply the same vectorizer to transform the test documents (ignore unknown words)\n",
    "        features_test = vectorizer.transform(words_test).toarray()\n",
    "        \n",
    "        # NOTE: Remember to convert the features using .toarray() for a compact representation\n",
    "        \n",
    "        # Write to cache file for future runs (store vocabulary as well)\n",
    "        if cache_file is not None:\n",
    "            vocabulary = vectorizer.vocabulary_\n",
    "            cache_data = dict(features_train=features_train, features_test=features_test,\n",
    "                             vocabulary=vocabulary)\n",
    "            with open(os.path.join(cache_dir, cache_file), \"wb\") as f:\n",
    "                joblib.dump(cache_data, f)\n",
    "            print(\"Wrote features to cache file:\", cache_file)\n",
    "    else:\n",
    "        # Unpack data loaded from cache file\n",
    "        features_train, features_test, vocabulary = (cache_data['features_train'],\n",
    "                cache_data['features_test'], cache_data['vocabulary'])\n",
    "    \n",
    "    # Return both the extracted features as well as the vocabulary\n",
    "    return features_train, features_test, vocabulary"
   ]
  },
  {
   "cell_type": "code",
   "execution_count": 11,
   "metadata": {},
   "outputs": [
    {
     "name": "stdout",
     "output_type": "stream",
     "text": [
      "Read features from cache file: bow_features.pkl\n"
     ]
    }
   ],
   "source": [
    "# Extract Bag of Words features for both training and test datasets\n",
    "train_X, test_X, vocabulary = extract_BoW_features(train_X, test_X)"
   ]
  },
  {
   "cell_type": "markdown",
   "metadata": {},
   "source": [
    "## Step 4: Classification using XGBoost\n",
    "\n",
    "Now that we have created the feature representation of our training (and testing) data, it is time to start setting up and using the XGBoost classifier provided by SageMaker.\n",
    "\n",
    "### Writing the dataset\n",
    "\n",
    "The XGBoost classifier that we will be using requires the dataset to be written to a file and stored using Amazon S3. To do this, we will start by splitting the training dataset into two parts, the data we will train the model with and a validation set. Then, we will write those datasets to a file and upload the files to S3. In addition, we will write the test set input to a file and upload the file to S3. This is so that we can use SageMakers Batch Transform functionality to test our model once we've fit it."
   ]
  },
  {
   "cell_type": "code",
   "execution_count": 12,
   "metadata": {},
   "outputs": [],
   "source": [
    "import pandas as pd\n",
    "\n",
    "val_X = pd.DataFrame(train_X[:10000])\n",
    "train_X = pd.DataFrame(train_X[10000:])\n",
    "\n",
    "val_y = pd.DataFrame(train_y[:10000])\n",
    "train_y = pd.DataFrame(train_y[10000:])\n",
    "\n",
    "test_y = pd.DataFrame(test_y)\n",
    "test_X = pd.DataFrame(test_X)"
   ]
  },
  {
   "cell_type": "markdown",
   "metadata": {},
   "source": [
    "The documentation for the XGBoost algorithm in SageMaker requires that the saved datasets should contain no headers or index and that for the training and validation data, the label should occur first for each sample.\n",
    "\n",
    "For more information about this and other algorithms, the SageMaker developer documentation can be found on __[Amazon's website.](https://docs.aws.amazon.com/sagemaker/latest/dg/)__"
   ]
  },
  {
   "cell_type": "code",
   "execution_count": 13,
   "metadata": {},
   "outputs": [],
   "source": [
    "# First we make sure that the local directory in which we'd like to store the training and validation csv files exists.\n",
    "data_dir = '../data/xgboost'\n",
    "if not os.path.exists(data_dir):\n",
    "    os.makedirs(data_dir)"
   ]
  },
  {
   "cell_type": "code",
   "execution_count": 17,
   "metadata": {},
   "outputs": [],
   "source": [
    "# First, save the test data to test.csv in the data_dir directory. Note that we do not save the associated ground truth\n",
    "# labels, instead we will use them later to compare with our model output.\n",
    "\n",
    "pd.concat([test_y, test_X], axis=1).to_csv(os.path.join(data_dir, 'test.csv'), header=False, index=False)\n",
    "pd.concat([val_y, val_X], axis=1).to_csv(os.path.join(data_dir, 'validation.csv'), header=False, index=False)\n",
    "pd.concat([train_y, train_X], axis=1).to_csv(os.path.join(data_dir, 'train.csv'), header=False, index=False)"
   ]
  },
  {
   "cell_type": "code",
   "execution_count": 18,
   "metadata": {},
   "outputs": [],
   "source": [
    "# To save a bit of memory we can set text_X, train_X, val_X, train_y and val_y to None.\n",
    "\n",
    "train_X = val_X = train_y = val_y = None"
   ]
  },
  {
   "cell_type": "markdown",
   "metadata": {},
   "source": [
    "### Uploading Training / Validation files to S3\n",
    "\n",
    "Amazon's S3 service allows us to store files that can be access by both the built-in training models such as the XGBoost model we will be using as well as custom models such as the one we will see a little later.\n",
    "\n",
    "For this, and most other tasks we will be doing using SageMaker, there are two methods we could use. The first is to use the low level functionality of SageMaker which requires knowing each of the objects involved in the SageMaker environment. The second is to use the high level functionality in which certain choices have been made on the user's behalf. The low level approach benefits from allowing the user a great deal of flexibility while the high level approach makes development much quicker. For our purposes we will opt to use the high level approach although using the low-level approach is certainly an option.\n",
    "\n",
    "Recall the method `upload_data()` which is a member of object representing our current SageMaker session. What this method does is upload the data to the default bucket (which is created if it does not exist) into the path described by the key_prefix variable. To see this for yourself, once you have uploaded the data files, go to the S3 console and look to see where the files have been uploaded.\n",
    "\n",
    "For additional resources, see the __[SageMaker API documentation](http://sagemaker.readthedocs.io/en/latest/)__ and in addition the __[SageMaker Developer Guide.](https://docs.aws.amazon.com/sagemaker/latest/dg/)__"
   ]
  },
  {
   "cell_type": "code",
   "execution_count": 19,
   "metadata": {},
   "outputs": [],
   "source": [
    "import sagemaker\n",
    "\n",
    "session = sagemaker.Session() # Store the current SageMaker session\n",
    "\n",
    "# S3 prefix (which folder will we use)\n",
    "prefix = 'sentiment-xgboost'\n",
    "\n",
    "test_location = session.upload_data(os.path.join(data_dir, 'test.csv'), key_prefix=prefix)\n",
    "val_location = session.upload_data(os.path.join(data_dir, 'validation.csv'), key_prefix=prefix)\n",
    "train_location = session.upload_data(os.path.join(data_dir, 'train.csv'), key_prefix=prefix)"
   ]
  },
  {
   "cell_type": "markdown",
   "metadata": {},
   "source": [
    "### (TODO) Creating a hypertuned XGBoost model\n",
    "\n",
    "Now that the data has been uploaded it is time to create the XGBoost model. As in the Boston Housing notebook, the first step is to create an estimator object which will be used as the *base* of your hyperparameter tuning job."
   ]
  },
  {
   "cell_type": "code",
   "execution_count": 20,
   "metadata": {},
   "outputs": [],
   "source": [
    "from sagemaker import get_execution_role\n",
    "\n",
    "# Our current execution role is require when creating the model as the training\n",
    "# and inference code will need to access the model artifacts.\n",
    "role = get_execution_role()"
   ]
  },
  {
   "cell_type": "code",
   "execution_count": 21,
   "metadata": {},
   "outputs": [],
   "source": [
    "# We need to retrieve the location of the container which is provided by Amazon for using XGBoost.\n",
    "# As a matter of convenience, the training and inference code both use the same container.\n",
    "from sagemaker.amazon.amazon_estimator import get_image_uri\n",
    "\n",
    "container = get_image_uri(session.boto_region_name, 'xgboost')"
   ]
  },
  {
   "cell_type": "code",
   "execution_count": 22,
   "metadata": {},
   "outputs": [],
   "source": [
    "# TODO: Create a SageMaker estimator using the container location determined in the previous cell.\n",
    "#       It is recommended that you use a single training instance of type ml.m4.xlarge. It is also\n",
    "#       recommended that you use 's3://{}/{}/output'.format(session.default_bucket(), prefix) as the\n",
    "#       output path.\n",
    "\n",
    "xgb = sagemaker.estimator.Estimator(\n",
    "    container,\n",
    "    role,\n",
    "    train_instance_count=1,\n",
    "    train_instance_type='ml.m4.xlarge',\n",
    "    output_path='s3://{}/{}/output'.format(session.default_bucket(), prefix),\n",
    "    sagemaker_session=session\n",
    ")\n",
    "\n",
    "# TODO: Set the XGBoost hyperparameters in the xgb object. Don't forget that in this case we have a binary\n",
    "#       label so we should be using the 'binary:logistic' objective.\n",
    "xgb.set_hyperparameters(\n",
    "    max_depth=6,\n",
    "    eta=0.2,\n",
    "    gamma=4,\n",
    "    min_child_weight=6,\n",
    "    subsample=0.8,\n",
    "    objective='binary:logistic',\n",
    "    early_stopping_rounds=10,\n",
    "    num_round=200\n",
    ")\n",
    "\n"
   ]
  },
  {
   "cell_type": "markdown",
   "metadata": {},
   "source": [
    "### (TODO) Create the hyperparameter tuner\n",
    "\n",
    "Now that the base estimator has been set up we need to construct a hyperparameter tuner object which we will use to request SageMaker construct a hyperparameter tuning job.\n",
    "\n",
    "**Note:** Training a single sentiment analysis XGBoost model takes longer than training a Boston Housing XGBoost model so if you don't want the hyperparameter tuning job to take too long, make sure to not set the total number of models (jobs) too high."
   ]
  },
  {
   "cell_type": "code",
   "execution_count": 23,
   "metadata": {},
   "outputs": [],
   "source": [
    "# First, make sure to import the relevant objects used to construct the tuner\n",
    "from sagemaker.tuner import IntegerParameter, ContinuousParameter, HyperparameterTuner\n",
    "\n",
    "# TODO: Create the hyperparameter tuner object\n",
    "\n",
    "xgb_hyperparameter_tuner = HyperparameterTuner(\n",
    "    estimator=xgb,\n",
    "    objective_metric_name='validation:rmse',\n",
    "    objective_type='Minimize',\n",
    "    max_jobs=6,\n",
    "    max_parallel_jobs=3,\n",
    "    hyperparameter_ranges={\n",
    "        'max_depth':IntegerParameter(3, 10),\n",
    "        'eta':ContinuousParameter(0.05, 0.5),\n",
    "        'min_child_weight':IntegerParameter(2, 8),\n",
    "        'subsample':ContinuousParameter(0.5, 0.9),\n",
    "        'gamma':ContinuousParameter(0, 10)\n",
    "    })"
   ]
  },
  {
   "cell_type": "markdown",
   "metadata": {},
   "source": [
    "### Fit the hyperparameter tuner\n",
    "\n",
    "Now that the hyperparameter tuner object has been constructed, it is time to fit the various models and find the best performing model."
   ]
  },
  {
   "cell_type": "code",
   "execution_count": 24,
   "metadata": {},
   "outputs": [],
   "source": [
    "s3_input_train = sagemaker.s3_input(s3_data=train_location, content_type='csv')\n",
    "s3_input_validation = sagemaker.s3_input(s3_data=val_location, content_type='csv')"
   ]
  },
  {
   "cell_type": "code",
   "execution_count": 25,
   "metadata": {},
   "outputs": [],
   "source": [
    "xgb_hyperparameter_tuner.fit({'train': s3_input_train, 'validation': s3_input_validation})"
   ]
  },
  {
   "cell_type": "markdown",
   "metadata": {},
   "source": [
    "Remember that the tuning job is constructed and run in the background so if we want to see the progress of our training job we need to call the `wait()` method."
   ]
  },
  {
   "cell_type": "code",
   "execution_count": 26,
   "metadata": {},
   "outputs": [
    {
     "name": "stdout",
     "output_type": "stream",
     "text": [
      ".....................................................................................................................................................................................................................................................!\n"
     ]
    }
   ],
   "source": [
    "xgb_hyperparameter_tuner.wait()"
   ]
  },
  {
   "cell_type": "markdown",
   "metadata": {},
   "source": [
    "### (TODO) Testing the model\n",
    "\n",
    "Now that we've run our hyperparameter tuning job, it's time to see how well the best performing model actually performs. To do this we will use SageMaker's Batch Transform functionality. Batch Transform is a convenient way to perform inference on a large dataset in a way that is not realtime. That is, we don't necessarily need to use our model's results immediately and instead we can peform inference on a large number of samples. An example of this in industry might be peforming an end of month report. This method of inference can also be useful to us as it means to can perform inference on our entire test set. \n",
    "\n",
    "Remember that in order to create a transformer object to perform the batch transform job, we need a trained estimator object. We can do that using the `attach()` method, creating an estimator object which is attached to the best trained job."
   ]
  },
  {
   "cell_type": "code",
   "execution_count": 27,
   "metadata": {},
   "outputs": [
    {
     "name": "stdout",
     "output_type": "stream",
     "text": [
      "2019-06-12 14:01:38 Starting - Preparing the instances for training\n",
      "2019-06-12 14:01:38 Downloading - Downloading input data\n",
      "2019-06-12 14:01:38 Training - Training image download completed. Training in progress.\n",
      "2019-06-12 14:01:38 Uploading - Uploading generated training model\n",
      "2019-06-12 14:01:38 Completed - Training job completed\u001b[31mArguments: train\u001b[0m\n",
      "\u001b[31m[2019-06-12:13:53:59:INFO] Running standalone xgboost training.\u001b[0m\n",
      "\u001b[31m[2019-06-12:13:53:59:INFO] Setting up HPO optimized metric to be : rmse\u001b[0m\n",
      "\u001b[31m[2019-06-12:13:53:59:INFO] File size need to be processed in the node: 238.47mb. Available memory size in the node: 8455.67mb\u001b[0m\n",
      "\u001b[31m[2019-06-12:13:53:59:INFO] Determined delimiter of CSV input is ','\u001b[0m\n",
      "\u001b[31m[13:53:59] S3DistributionType set as FullyReplicated\u001b[0m\n",
      "\u001b[31m[13:54:01] 15000x5000 matrix with 75000000 entries loaded from /opt/ml/input/data/train?format=csv&label_column=0&delimiter=,\u001b[0m\n",
      "\u001b[31m[2019-06-12:13:54:01:INFO] Determined delimiter of CSV input is ','\u001b[0m\n",
      "\u001b[31m[13:54:01] S3DistributionType set as FullyReplicated\u001b[0m\n",
      "\u001b[31m[13:54:02] 10000x5000 matrix with 50000000 entries loaded from /opt/ml/input/data/validation?format=csv&label_column=0&delimiter=,\u001b[0m\n",
      "\u001b[31m[13:54:06] src/tree/updater_prune.cc:74: tree pruning end, 1 roots, 96 extra nodes, 44 pruned nodes, max_depth=8\u001b[0m\n",
      "\u001b[31m[0]#011train-rmse:0.476224#011validation-rmse:0.478217\u001b[0m\n",
      "\u001b[31mMultiple eval metrics have been passed: 'validation-rmse' will be used for early stopping.\n",
      "\u001b[0m\n",
      "\u001b[31mWill train until validation-rmse hasn't improved in 10 rounds.\u001b[0m\n",
      "\u001b[31m[13:54:08] src/tree/updater_prune.cc:74: tree pruning end, 1 roots, 88 extra nodes, 50 pruned nodes, max_depth=8\u001b[0m\n",
      "\u001b[31m[1]#011train-rmse:0.45839#011validation-rmse:0.462311\u001b[0m\n",
      "\u001b[31m[13:54:11] src/tree/updater_prune.cc:74: tree pruning end, 1 roots, 86 extra nodes, 34 pruned nodes, max_depth=8\u001b[0m\n",
      "\u001b[31m[2]#011train-rmse:0.444731#011validation-rmse:0.45007\u001b[0m\n",
      "\u001b[31m[13:54:13] src/tree/updater_prune.cc:74: tree pruning end, 1 roots, 74 extra nodes, 26 pruned nodes, max_depth=8\u001b[0m\n",
      "\u001b[31m[3]#011train-rmse:0.434071#011validation-rmse:0.440457\u001b[0m\n",
      "\u001b[31m[13:54:15] src/tree/updater_prune.cc:74: tree pruning end, 1 roots, 84 extra nodes, 54 pruned nodes, max_depth=8\u001b[0m\n",
      "\u001b[31m[4]#011train-rmse:0.425204#011validation-rmse:0.432849\u001b[0m\n",
      "\u001b[31m[13:54:17] src/tree/updater_prune.cc:74: tree pruning end, 1 roots, 66 extra nodes, 24 pruned nodes, max_depth=8\u001b[0m\n",
      "\u001b[31m[5]#011train-rmse:0.417492#011validation-rmse:0.425781\u001b[0m\n",
      "\u001b[31m[13:54:19] src/tree/updater_prune.cc:74: tree pruning end, 1 roots, 60 extra nodes, 24 pruned nodes, max_depth=8\u001b[0m\n",
      "\u001b[31m[6]#011train-rmse:0.410668#011validation-rmse:0.419704\u001b[0m\n",
      "\u001b[31m[13:54:21] src/tree/updater_prune.cc:74: tree pruning end, 1 roots, 58 extra nodes, 34 pruned nodes, max_depth=8\u001b[0m\n",
      "\u001b[31m[7]#011train-rmse:0.404201#011validation-rmse:0.41451\u001b[0m\n",
      "\u001b[31m[13:54:23] src/tree/updater_prune.cc:74: tree pruning end, 1 roots, 80 extra nodes, 32 pruned nodes, max_depth=8\u001b[0m\n",
      "\u001b[31m[8]#011train-rmse:0.398502#011validation-rmse:0.410029\u001b[0m\n",
      "\u001b[31m[13:54:25] src/tree/updater_prune.cc:74: tree pruning end, 1 roots, 50 extra nodes, 42 pruned nodes, max_depth=8\u001b[0m\n",
      "\u001b[31m[9]#011train-rmse:0.393785#011validation-rmse:0.406033\u001b[0m\n",
      "\u001b[31m[13:54:27] src/tree/updater_prune.cc:74: tree pruning end, 1 roots, 82 extra nodes, 36 pruned nodes, max_depth=8\u001b[0m\n",
      "\u001b[31m[10]#011train-rmse:0.38857#011validation-rmse:0.402245\u001b[0m\n",
      "\u001b[31m[13:54:29] src/tree/updater_prune.cc:74: tree pruning end, 1 roots, 74 extra nodes, 34 pruned nodes, max_depth=8\u001b[0m\n",
      "\u001b[31m[11]#011train-rmse:0.383638#011validation-rmse:0.398684\u001b[0m\n",
      "\u001b[31m[13:54:30] src/tree/updater_prune.cc:74: tree pruning end, 1 roots, 56 extra nodes, 34 pruned nodes, max_depth=8\u001b[0m\n",
      "\u001b[31m[12]#011train-rmse:0.379456#011validation-rmse:0.395491\u001b[0m\n",
      "\u001b[31m[13:54:32] src/tree/updater_prune.cc:74: tree pruning end, 1 roots, 50 extra nodes, 40 pruned nodes, max_depth=8\u001b[0m\n",
      "\u001b[31m[13]#011train-rmse:0.375841#011validation-rmse:0.392683\u001b[0m\n",
      "\u001b[31m[13:54:34] src/tree/updater_prune.cc:74: tree pruning end, 1 roots, 44 extra nodes, 38 pruned nodes, max_depth=8\u001b[0m\n",
      "\u001b[31m[14]#011train-rmse:0.372478#011validation-rmse:0.38984\u001b[0m\n",
      "\u001b[31m[13:54:36] src/tree/updater_prune.cc:74: tree pruning end, 1 roots, 52 extra nodes, 30 pruned nodes, max_depth=8\u001b[0m\n",
      "\u001b[31m[15]#011train-rmse:0.368932#011validation-rmse:0.387105\u001b[0m\n",
      "\u001b[31m[13:54:38] src/tree/updater_prune.cc:74: tree pruning end, 1 roots, 72 extra nodes, 32 pruned nodes, max_depth=8\u001b[0m\n",
      "\u001b[31m[16]#011train-rmse:0.365437#011validation-rmse:0.384738\u001b[0m\n",
      "\u001b[31m[13:54:40] src/tree/updater_prune.cc:74: tree pruning end, 1 roots, 60 extra nodes, 38 pruned nodes, max_depth=8\u001b[0m\n",
      "\u001b[31m[17]#011train-rmse:0.361956#011validation-rmse:0.382145\u001b[0m\n",
      "\u001b[31m[13:54:42] src/tree/updater_prune.cc:74: tree pruning end, 1 roots, 46 extra nodes, 20 pruned nodes, max_depth=8\u001b[0m\n",
      "\u001b[31m[18]#011train-rmse:0.359124#011validation-rmse:0.379816\u001b[0m\n",
      "\u001b[31m[13:54:44] src/tree/updater_prune.cc:74: tree pruning end, 1 roots, 56 extra nodes, 36 pruned nodes, max_depth=8\u001b[0m\n",
      "\u001b[31m[19]#011train-rmse:0.356381#011validation-rmse:0.377671\u001b[0m\n",
      "\u001b[31m[13:54:46] src/tree/updater_prune.cc:74: tree pruning end, 1 roots, 34 extra nodes, 22 pruned nodes, max_depth=8\u001b[0m\n",
      "\u001b[31m[20]#011train-rmse:0.35391#011validation-rmse:0.376001\u001b[0m\n",
      "\u001b[31m[13:54:48] src/tree/updater_prune.cc:74: tree pruning end, 1 roots, 62 extra nodes, 34 pruned nodes, max_depth=8\u001b[0m\n",
      "\u001b[31m[21]#011train-rmse:0.351013#011validation-rmse:0.373911\u001b[0m\n",
      "\u001b[31m[13:54:50] src/tree/updater_prune.cc:74: tree pruning end, 1 roots, 38 extra nodes, 44 pruned nodes, max_depth=8\u001b[0m\n",
      "\u001b[31m[22]#011train-rmse:0.348821#011validation-rmse:0.371927\u001b[0m\n",
      "\u001b[31m[13:54:52] src/tree/updater_prune.cc:74: tree pruning end, 1 roots, 44 extra nodes, 44 pruned nodes, max_depth=8\u001b[0m\n",
      "\u001b[31m[23]#011train-rmse:0.346489#011validation-rmse:0.37023\u001b[0m\n",
      "\u001b[31m[13:54:54] src/tree/updater_prune.cc:74: tree pruning end, 1 roots, 64 extra nodes, 50 pruned nodes, max_depth=8\u001b[0m\n",
      "\u001b[31m[24]#011train-rmse:0.343534#011validation-rmse:0.368562\u001b[0m\n",
      "\u001b[31m[13:54:56] src/tree/updater_prune.cc:74: tree pruning end, 1 roots, 38 extra nodes, 28 pruned nodes, max_depth=8\u001b[0m\n",
      "\u001b[31m[25]#011train-rmse:0.341372#011validation-rmse:0.367111\u001b[0m\n",
      "\u001b[31m[13:54:58] src/tree/updater_prune.cc:74: tree pruning end, 1 roots, 64 extra nodes, 34 pruned nodes, max_depth=8\u001b[0m\n",
      "\u001b[31m[26]#011train-rmse:0.338784#011validation-rmse:0.365605\u001b[0m\n",
      "\u001b[31m[13:55:00] src/tree/updater_prune.cc:74: tree pruning end, 1 roots, 46 extra nodes, 26 pruned nodes, max_depth=8\u001b[0m\n",
      "\u001b[31m[27]#011train-rmse:0.336797#011validation-rmse:0.364108\u001b[0m\n",
      "\u001b[31m[13:55:02] src/tree/updater_prune.cc:74: tree pruning end, 1 roots, 42 extra nodes, 46 pruned nodes, max_depth=8\u001b[0m\n",
      "\u001b[31m[28]#011train-rmse:0.334727#011validation-rmse:0.362837\u001b[0m\n",
      "\u001b[31m[13:55:04] src/tree/updater_prune.cc:74: tree pruning end, 1 roots, 52 extra nodes, 28 pruned nodes, max_depth=8\u001b[0m\n",
      "\u001b[31m[29]#011train-rmse:0.332787#011validation-rmse:0.361532\u001b[0m\n",
      "\u001b[31m[13:55:06] src/tree/updater_prune.cc:74: tree pruning end, 1 roots, 28 extra nodes, 44 pruned nodes, max_depth=8\u001b[0m\n",
      "\u001b[31m[30]#011train-rmse:0.3313#011validation-rmse:0.360209\u001b[0m\n",
      "\u001b[31m[13:55:08] src/tree/updater_prune.cc:74: tree pruning end, 1 roots, 36 extra nodes, 36 pruned nodes, max_depth=8\u001b[0m\n",
      "\u001b[31m[31]#011train-rmse:0.329566#011validation-rmse:0.359007\u001b[0m\n",
      "\u001b[31m[13:55:10] src/tree/updater_prune.cc:74: tree pruning end, 1 roots, 46 extra nodes, 44 pruned nodes, max_depth=8\u001b[0m\n",
      "\u001b[31m[32]#011train-rmse:0.327743#011validation-rmse:0.357628\u001b[0m\n",
      "\u001b[31m[13:55:12] src/tree/updater_prune.cc:74: tree pruning end, 1 roots, 34 extra nodes, 38 pruned nodes, max_depth=8\u001b[0m\n",
      "\u001b[31m[33]#011train-rmse:0.326268#011validation-rmse:0.35665\u001b[0m\n",
      "\u001b[31m[13:55:14] src/tree/updater_prune.cc:74: tree pruning end, 1 roots, 48 extra nodes, 40 pruned nodes, max_depth=8\u001b[0m\n",
      "\u001b[31m[34]#011train-rmse:0.324167#011validation-rmse:0.355298\u001b[0m\n",
      "\u001b[31m[13:55:16] src/tree/updater_prune.cc:74: tree pruning end, 1 roots, 32 extra nodes, 24 pruned nodes, max_depth=8\u001b[0m\n",
      "\u001b[31m[35]#011train-rmse:0.322929#011validation-rmse:0.354567\u001b[0m\n",
      "\u001b[31m[13:55:18] src/tree/updater_prune.cc:74: tree pruning end, 1 roots, 62 extra nodes, 30 pruned nodes, max_depth=8\u001b[0m\n",
      "\u001b[31m[36]#011train-rmse:0.320953#011validation-rmse:0.353552\u001b[0m\n",
      "\u001b[31m[13:55:20] src/tree/updater_prune.cc:74: tree pruning end, 1 roots, 42 extra nodes, 20 pruned nodes, max_depth=8\u001b[0m\n",
      "\u001b[31m[37]#011train-rmse:0.319276#011validation-rmse:0.352808\u001b[0m\n",
      "\u001b[31m[13:55:22] src/tree/updater_prune.cc:74: tree pruning end, 1 roots, 36 extra nodes, 34 pruned nodes, max_depth=8\u001b[0m\n",
      "\u001b[31m[38]#011train-rmse:0.31794#011validation-rmse:0.351772\u001b[0m\n",
      "\u001b[31m[13:55:24] src/tree/updater_prune.cc:74: tree pruning end, 1 roots, 26 extra nodes, 36 pruned nodes, max_depth=8\u001b[0m\n",
      "\u001b[31m[39]#011train-rmse:0.31666#011validation-rmse:0.350706\u001b[0m\n",
      "\u001b[31m[13:55:26] src/tree/updater_prune.cc:74: tree pruning end, 1 roots, 38 extra nodes, 48 pruned nodes, max_depth=8\u001b[0m\n",
      "\u001b[31m[40]#011train-rmse:0.315306#011validation-rmse:0.3497\u001b[0m\n",
      "\u001b[31m[13:55:28] src/tree/updater_prune.cc:74: tree pruning end, 1 roots, 18 extra nodes, 24 pruned nodes, max_depth=8\u001b[0m\n",
      "\u001b[31m[41]#011train-rmse:0.314391#011validation-rmse:0.348789\u001b[0m\n",
      "\u001b[31m[13:55:30] src/tree/updater_prune.cc:74: tree pruning end, 1 roots, 30 extra nodes, 42 pruned nodes, max_depth=8\u001b[0m\n",
      "\u001b[31m[42]#011train-rmse:0.313189#011validation-rmse:0.348092\u001b[0m\n",
      "\u001b[31m[13:55:32] src/tree/updater_prune.cc:74: tree pruning end, 1 roots, 66 extra nodes, 44 pruned nodes, max_depth=8\u001b[0m\n",
      "\u001b[31m[43]#011train-rmse:0.311243#011validation-rmse:0.347051\u001b[0m\n",
      "\u001b[31m[13:55:34] src/tree/updater_prune.cc:74: tree pruning end, 1 roots, 40 extra nodes, 18 pruned nodes, max_depth=8\u001b[0m\n",
      "\u001b[31m[44]#011train-rmse:0.309986#011validation-rmse:0.346178\u001b[0m\n",
      "\u001b[31m[13:55:36] src/tree/updater_prune.cc:74: tree pruning end, 1 roots, 26 extra nodes, 20 pruned nodes, max_depth=8\u001b[0m\n",
      "\u001b[31m[45]#011train-rmse:0.308884#011validation-rmse:0.345404\u001b[0m\n",
      "\u001b[31m[13:55:38] src/tree/updater_prune.cc:74: tree pruning end, 1 roots, 46 extra nodes, 48 pruned nodes, max_depth=8\u001b[0m\n",
      "\u001b[31m[46]#011train-rmse:0.307467#011validation-rmse:0.344741\u001b[0m\n",
      "\u001b[31m[13:55:40] src/tree/updater_prune.cc:74: tree pruning end, 1 roots, 34 extra nodes, 38 pruned nodes, max_depth=8\u001b[0m\n",
      "\u001b[31m[47]#011train-rmse:0.30638#011validation-rmse:0.344316\u001b[0m\n",
      "\u001b[31m[13:55:42] src/tree/updater_prune.cc:74: tree pruning end, 1 roots, 68 extra nodes, 22 pruned nodes, max_depth=8\u001b[0m\n",
      "\u001b[31m[48]#011train-rmse:0.304446#011validation-rmse:0.343466\u001b[0m\n",
      "\u001b[31m[13:55:44] src/tree/updater_prune.cc:74: tree pruning end, 1 roots, 26 extra nodes, 20 pruned nodes, max_depth=8\u001b[0m\n",
      "\u001b[31m[49]#011train-rmse:0.303396#011validation-rmse:0.342793\u001b[0m\n",
      "\u001b[31m[13:55:46] src/tree/updater_prune.cc:74: tree pruning end, 1 roots, 24 extra nodes, 38 pruned nodes, max_depth=8\u001b[0m\n",
      "\u001b[31m[50]#011train-rmse:0.302635#011validation-rmse:0.342251\u001b[0m\n",
      "\u001b[31m[13:55:48] src/tree/updater_prune.cc:74: tree pruning end, 1 roots, 28 extra nodes, 26 pruned nodes, max_depth=8\u001b[0m\n",
      "\u001b[31m[51]#011train-rmse:0.301675#011validation-rmse:0.341561\u001b[0m\n",
      "\u001b[31m[13:55:50] src/tree/updater_prune.cc:74: tree pruning end, 1 roots, 32 extra nodes, 34 pruned nodes, max_depth=8\u001b[0m\n",
      "\u001b[31m[52]#011train-rmse:0.300581#011validation-rmse:0.341243\u001b[0m\n",
      "\u001b[31m[13:55:52] src/tree/updater_prune.cc:74: tree pruning end, 1 roots, 28 extra nodes, 32 pruned nodes, max_depth=8\u001b[0m\n",
      "\u001b[31m[53]#011train-rmse:0.299616#011validation-rmse:0.340552\u001b[0m\n",
      "\u001b[31m[13:55:54] src/tree/updater_prune.cc:74: tree pruning end, 1 roots, 32 extra nodes, 32 pruned nodes, max_depth=8\u001b[0m\n",
      "\u001b[31m[54]#011train-rmse:0.298615#011validation-rmse:0.340234\u001b[0m\n",
      "\u001b[31m[13:55:56] src/tree/updater_prune.cc:74: tree pruning end, 1 roots, 22 extra nodes, 20 pruned nodes, max_depth=8\u001b[0m\n",
      "\u001b[31m[55]#011train-rmse:0.297801#011validation-rmse:0.339708\u001b[0m\n",
      "\u001b[31m[13:55:58] src/tree/updater_prune.cc:74: tree pruning end, 1 roots, 38 extra nodes, 38 pruned nodes, max_depth=8\u001b[0m\n",
      "\u001b[31m[56]#011train-rmse:0.296614#011validation-rmse:0.339021\u001b[0m\n",
      "\u001b[31m[13:55:59] src/tree/updater_prune.cc:74: tree pruning end, 1 roots, 34 extra nodes, 36 pruned nodes, max_depth=8\u001b[0m\n",
      "\u001b[31m[57]#011train-rmse:0.295683#011validation-rmse:0.338357\u001b[0m\n",
      "\u001b[31m[13:56:01] src/tree/updater_prune.cc:74: tree pruning end, 1 roots, 40 extra nodes, 34 pruned nodes, max_depth=8\u001b[0m\n",
      "\u001b[31m[58]#011train-rmse:0.294651#011validation-rmse:0.337891\u001b[0m\n",
      "\u001b[31m[13:56:03] src/tree/updater_prune.cc:74: tree pruning end, 1 roots, 30 extra nodes, 22 pruned nodes, max_depth=8\u001b[0m\n",
      "\u001b[31m[59]#011train-rmse:0.293779#011validation-rmse:0.337284\u001b[0m\n",
      "\u001b[31m[13:56:05] src/tree/updater_prune.cc:74: tree pruning end, 1 roots, 24 extra nodes, 24 pruned nodes, max_depth=8\u001b[0m\n",
      "\u001b[31m[60]#011train-rmse:0.293054#011validation-rmse:0.33695\u001b[0m\n",
      "\u001b[31m[13:56:07] src/tree/updater_prune.cc:74: tree pruning end, 1 roots, 24 extra nodes, 38 pruned nodes, max_depth=8\u001b[0m\n",
      "\u001b[31m[61]#011train-rmse:0.292213#011validation-rmse:0.336141\u001b[0m\n",
      "\u001b[31m[13:56:09] src/tree/updater_prune.cc:74: tree pruning end, 1 roots, 44 extra nodes, 34 pruned nodes, max_depth=8\u001b[0m\n",
      "\u001b[31m[62]#011train-rmse:0.291047#011validation-rmse:0.335538\u001b[0m\n",
      "\u001b[31m[13:56:11] src/tree/updater_prune.cc:74: tree pruning end, 1 roots, 26 extra nodes, 32 pruned nodes, max_depth=8\u001b[0m\n",
      "\u001b[31m[63]#011train-rmse:0.290193#011validation-rmse:0.335071\u001b[0m\n",
      "\u001b[31m[13:56:13] src/tree/updater_prune.cc:74: tree pruning end, 1 roots, 26 extra nodes, 30 pruned nodes, max_depth=8\u001b[0m\n",
      "\u001b[31m[64]#011train-rmse:0.28943#011validation-rmse:0.33456\u001b[0m\n",
      "\u001b[31m[13:56:15] src/tree/updater_prune.cc:74: tree pruning end, 1 roots, 26 extra nodes, 26 pruned nodes, max_depth=8\u001b[0m\n",
      "\u001b[31m[65]#011train-rmse:0.288665#011validation-rmse:0.334051\u001b[0m\n",
      "\u001b[31m[13:56:17] src/tree/updater_prune.cc:74: tree pruning end, 1 roots, 30 extra nodes, 38 pruned nodes, max_depth=8\u001b[0m\n",
      "\u001b[31m[66]#011train-rmse:0.287869#011validation-rmse:0.33364\u001b[0m\n",
      "\u001b[31m[13:56:19] src/tree/updater_prune.cc:74: tree pruning end, 1 roots, 22 extra nodes, 24 pruned nodes, max_depth=8\u001b[0m\n",
      "\u001b[31m[67]#011train-rmse:0.287073#011validation-rmse:0.333162\u001b[0m\n",
      "\u001b[31m[13:56:21] src/tree/updater_prune.cc:74: tree pruning end, 1 roots, 22 extra nodes, 26 pruned nodes, max_depth=8\u001b[0m\n",
      "\u001b[31m[68]#011train-rmse:0.286363#011validation-rmse:0.332831\u001b[0m\n",
      "\u001b[31m[13:56:23] src/tree/updater_prune.cc:74: tree pruning end, 1 roots, 28 extra nodes, 24 pruned nodes, max_depth=8\u001b[0m\n",
      "\u001b[31m[69]#011train-rmse:0.285544#011validation-rmse:0.332483\u001b[0m\n",
      "\u001b[31m[13:56:25] src/tree/updater_prune.cc:74: tree pruning end, 1 roots, 30 extra nodes, 28 pruned nodes, max_depth=8\u001b[0m\n",
      "\u001b[31m[70]#011train-rmse:0.284554#011validation-rmse:0.332091\u001b[0m\n",
      "\u001b[31m[13:56:27] src/tree/updater_prune.cc:74: tree pruning end, 1 roots, 20 extra nodes, 20 pruned nodes, max_depth=8\u001b[0m\n",
      "\u001b[31m[71]#011train-rmse:0.283976#011validation-rmse:0.331717\u001b[0m\n",
      "\u001b[31m[13:56:29] src/tree/updater_prune.cc:74: tree pruning end, 1 roots, 22 extra nodes, 18 pruned nodes, max_depth=8\u001b[0m\n",
      "\u001b[31m[72]#011train-rmse:0.283386#011validation-rmse:0.331234\u001b[0m\n",
      "\u001b[31m[13:56:31] src/tree/updater_prune.cc:74: tree pruning end, 1 roots, 26 extra nodes, 46 pruned nodes, max_depth=8\u001b[0m\n",
      "\u001b[31m[73]#011train-rmse:0.282685#011validation-rmse:0.330939\u001b[0m\n",
      "\u001b[31m[13:56:33] src/tree/updater_prune.cc:74: tree pruning end, 1 roots, 18 extra nodes, 42 pruned nodes, max_depth=8\u001b[0m\n",
      "\u001b[31m[74]#011train-rmse:0.282093#011validation-rmse:0.330641\u001b[0m\n",
      "\u001b[31m[13:56:35] src/tree/updater_prune.cc:74: tree pruning end, 1 roots, 26 extra nodes, 16 pruned nodes, max_depth=8\u001b[0m\n",
      "\u001b[31m[75]#011train-rmse:0.281347#011validation-rmse:0.330261\u001b[0m\n",
      "\u001b[31m[13:56:37] src/tree/updater_prune.cc:74: tree pruning end, 1 roots, 20 extra nodes, 34 pruned nodes, max_depth=8\u001b[0m\n",
      "\u001b[31m[76]#011train-rmse:0.28078#011validation-rmse:0.329999\u001b[0m\n",
      "\u001b[31m[13:56:39] src/tree/updater_prune.cc:74: tree pruning end, 1 roots, 26 extra nodes, 20 pruned nodes, max_depth=8\u001b[0m\n",
      "\u001b[31m[77]#011train-rmse:0.280142#011validation-rmse:0.32983\u001b[0m\n",
      "\u001b[31m[13:56:41] src/tree/updater_prune.cc:74: tree pruning end, 1 roots, 20 extra nodes, 26 pruned nodes, max_depth=8\u001b[0m\n",
      "\u001b[31m[78]#011train-rmse:0.279632#011validation-rmse:0.329405\u001b[0m\n",
      "\u001b[31m[13:56:43] src/tree/updater_prune.cc:74: tree pruning end, 1 roots, 32 extra nodes, 30 pruned nodes, max_depth=8\u001b[0m\n",
      "\u001b[31m[79]#011train-rmse:0.278771#011validation-rmse:0.329097\u001b[0m\n",
      "\u001b[31m[13:56:45] src/tree/updater_prune.cc:74: tree pruning end, 1 roots, 38 extra nodes, 44 pruned nodes, max_depth=8\u001b[0m\n",
      "\u001b[31m[80]#011train-rmse:0.277835#011validation-rmse:0.328798\u001b[0m\n",
      "\u001b[31m[13:56:47] src/tree/updater_prune.cc:74: tree pruning end, 1 roots, 28 extra nodes, 36 pruned nodes, max_depth=8\u001b[0m\n",
      "\u001b[31m[81]#011train-rmse:0.277093#011validation-rmse:0.328365\u001b[0m\n",
      "\u001b[31m[13:56:49] src/tree/updater_prune.cc:74: tree pruning end, 1 roots, 22 extra nodes, 16 pruned nodes, max_depth=8\u001b[0m\n",
      "\u001b[31m[82]#011train-rmse:0.276566#011validation-rmse:0.327869\u001b[0m\n",
      "\u001b[31m[13:56:51] src/tree/updater_prune.cc:74: tree pruning end, 1 roots, 26 extra nodes, 34 pruned nodes, max_depth=8\u001b[0m\n",
      "\u001b[31m[83]#011train-rmse:0.275843#011validation-rmse:0.327563\u001b[0m\n",
      "\u001b[31m[13:56:53] src/tree/updater_prune.cc:74: tree pruning end, 1 roots, 34 extra nodes, 36 pruned nodes, max_depth=8\u001b[0m\n",
      "\u001b[31m[84]#011train-rmse:0.274934#011validation-rmse:0.32735\u001b[0m\n",
      "\u001b[31m[13:56:55] src/tree/updater_prune.cc:74: tree pruning end, 1 roots, 38 extra nodes, 70 pruned nodes, max_depth=8\u001b[0m\n",
      "\u001b[31m[85]#011train-rmse:0.27399#011validation-rmse:0.327057\u001b[0m\n",
      "\u001b[31m[13:56:57] src/tree/updater_prune.cc:74: tree pruning end, 1 roots, 32 extra nodes, 22 pruned nodes, max_depth=8\u001b[0m\n",
      "\u001b[31m[86]#011train-rmse:0.273299#011validation-rmse:0.326648\u001b[0m\n",
      "\u001b[31m[13:56:59] src/tree/updater_prune.cc:74: tree pruning end, 1 roots, 16 extra nodes, 16 pruned nodes, max_depth=8\u001b[0m\n",
      "\u001b[31m[87]#011train-rmse:0.272913#011validation-rmse:0.326258\u001b[0m\n",
      "\u001b[31m[13:57:01] src/tree/updater_prune.cc:74: tree pruning end, 1 roots, 26 extra nodes, 16 pruned nodes, max_depth=8\u001b[0m\n",
      "\u001b[31m[88]#011train-rmse:0.272226#011validation-rmse:0.325941\u001b[0m\n",
      "\u001b[31m[13:57:03] src/tree/updater_prune.cc:74: tree pruning end, 1 roots, 16 extra nodes, 16 pruned nodes, max_depth=8\u001b[0m\n",
      "\u001b[31m[89]#011train-rmse:0.271874#011validation-rmse:0.32554\u001b[0m\n",
      "\u001b[31m[13:57:05] src/tree/updater_prune.cc:74: tree pruning end, 1 roots, 26 extra nodes, 26 pruned nodes, max_depth=8\u001b[0m\n",
      "\u001b[31m[90]#011train-rmse:0.271376#011validation-rmse:0.325192\u001b[0m\n",
      "\u001b[31m[13:57:07] src/tree/updater_prune.cc:74: tree pruning end, 1 roots, 20 extra nodes, 22 pruned nodes, max_depth=8\u001b[0m\n",
      "\u001b[31m[91]#011train-rmse:0.270937#011validation-rmse:0.324865\u001b[0m\n",
      "\u001b[31m[13:57:09] src/tree/updater_prune.cc:74: tree pruning end, 1 roots, 18 extra nodes, 30 pruned nodes, max_depth=8\u001b[0m\n",
      "\u001b[31m[92]#011train-rmse:0.270503#011validation-rmse:0.324496\u001b[0m\n",
      "\u001b[31m[13:57:11] src/tree/updater_prune.cc:74: tree pruning end, 1 roots, 16 extra nodes, 32 pruned nodes, max_depth=8\u001b[0m\n",
      "\u001b[31m[93]#011train-rmse:0.270141#011validation-rmse:0.324205\u001b[0m\n",
      "\u001b[31m[13:57:13] src/tree/updater_prune.cc:74: tree pruning end, 1 roots, 16 extra nodes, 14 pruned nodes, max_depth=8\u001b[0m\n",
      "\u001b[31m[94]#011train-rmse:0.269756#011validation-rmse:0.323872\u001b[0m\n",
      "\u001b[31m[13:57:15] src/tree/updater_prune.cc:74: tree pruning end, 1 roots, 30 extra nodes, 50 pruned nodes, max_depth=8\u001b[0m\n",
      "\u001b[31m[95]#011train-rmse:0.269038#011validation-rmse:0.323676\u001b[0m\n",
      "\u001b[31m[13:57:17] src/tree/updater_prune.cc:74: tree pruning end, 1 roots, 24 extra nodes, 30 pruned nodes, max_depth=8\u001b[0m\n",
      "\u001b[31m[96]#011train-rmse:0.268434#011validation-rmse:0.323454\u001b[0m\n",
      "\u001b[31m[13:57:19] src/tree/updater_prune.cc:74: tree pruning end, 1 roots, 16 extra nodes, 30 pruned nodes, max_depth=8\u001b[0m\n",
      "\u001b[31m[97]#011train-rmse:0.268057#011validation-rmse:0.323366\u001b[0m\n",
      "\u001b[31m[13:57:21] src/tree/updater_prune.cc:74: tree pruning end, 1 roots, 38 extra nodes, 30 pruned nodes, max_depth=8\u001b[0m\n",
      "\u001b[31m[98]#011train-rmse:0.26718#011validation-rmse:0.322923\u001b[0m\n",
      "\u001b[31m[13:57:23] src/tree/updater_prune.cc:74: tree pruning end, 1 roots, 20 extra nodes, 16 pruned nodes, max_depth=8\u001b[0m\n",
      "\u001b[31m[99]#011train-rmse:0.266641#011validation-rmse:0.322638\u001b[0m\n",
      "\u001b[31m[13:57:25] src/tree/updater_prune.cc:74: tree pruning end, 1 roots, 44 extra nodes, 38 pruned nodes, max_depth=8\u001b[0m\n",
      "\u001b[31m[100]#011train-rmse:0.265483#011validation-rmse:0.322398\u001b[0m\n",
      "\u001b[31m[13:57:27] src/tree/updater_prune.cc:74: tree pruning end, 1 roots, 18 extra nodes, 30 pruned nodes, max_depth=8\u001b[0m\n",
      "\u001b[31m[101]#011train-rmse:0.265105#011validation-rmse:0.322041\u001b[0m\n",
      "\u001b[31m[13:57:29] src/tree/updater_prune.cc:74: tree pruning end, 1 roots, 16 extra nodes, 14 pruned nodes, max_depth=8\u001b[0m\n",
      "\u001b[31m[102]#011train-rmse:0.264719#011validation-rmse:0.32191\u001b[0m\n",
      "\u001b[31m[13:57:30] src/tree/updater_prune.cc:74: tree pruning end, 1 roots, 32 extra nodes, 44 pruned nodes, max_depth=8\u001b[0m\n",
      "\u001b[31m[103]#011train-rmse:0.264077#011validation-rmse:0.321736\u001b[0m\n",
      "\u001b[31m[13:57:32] src/tree/updater_prune.cc:74: tree pruning end, 1 roots, 20 extra nodes, 28 pruned nodes, max_depth=8\u001b[0m\n",
      "\u001b[31m[104]#011train-rmse:0.263652#011validation-rmse:0.321556\u001b[0m\n",
      "\u001b[31m[13:57:34] src/tree/updater_prune.cc:74: tree pruning end, 1 roots, 16 extra nodes, 4 pruned nodes, max_depth=8\u001b[0m\n",
      "\u001b[31m[105]#011train-rmse:0.263272#011validation-rmse:0.32149\u001b[0m\n",
      "\u001b[31m[13:57:36] src/tree/updater_prune.cc:74: tree pruning end, 1 roots, 20 extra nodes, 24 pruned nodes, max_depth=8\u001b[0m\n",
      "\u001b[31m[106]#011train-rmse:0.262875#011validation-rmse:0.321409\u001b[0m\n",
      "\u001b[31m[13:57:38] src/tree/updater_prune.cc:74: tree pruning end, 1 roots, 22 extra nodes, 24 pruned nodes, max_depth=8\u001b[0m\n",
      "\u001b[31m[107]#011train-rmse:0.26234#011validation-rmse:0.321231\u001b[0m\n",
      "\u001b[31m[13:57:40] src/tree/updater_prune.cc:74: tree pruning end, 1 roots, 20 extra nodes, 22 pruned nodes, max_depth=8\u001b[0m\n",
      "\u001b[31m[108]#011train-rmse:0.2619#011validation-rmse:0.320948\u001b[0m\n",
      "\u001b[31m[13:57:42] src/tree/updater_prune.cc:74: tree pruning end, 1 roots, 16 extra nodes, 12 pruned nodes, max_depth=8\u001b[0m\n",
      "\u001b[31m[109]#011train-rmse:0.261561#011validation-rmse:0.320819\u001b[0m\n",
      "\u001b[31m[13:57:44] src/tree/updater_prune.cc:74: tree pruning end, 1 roots, 20 extra nodes, 16 pruned nodes, max_depth=8\u001b[0m\n",
      "\u001b[31m[110]#011train-rmse:0.261112#011validation-rmse:0.320536\u001b[0m\n",
      "\u001b[31m[13:57:46] src/tree/updater_prune.cc:74: tree pruning end, 1 roots, 20 extra nodes, 28 pruned nodes, max_depth=8\u001b[0m\n",
      "\u001b[31m[111]#011train-rmse:0.260761#011validation-rmse:0.320351\u001b[0m\n",
      "\u001b[31m[13:57:48] src/tree/updater_prune.cc:74: tree pruning end, 1 roots, 20 extra nodes, 20 pruned nodes, max_depth=8\u001b[0m\n",
      "\u001b[31m[112]#011train-rmse:0.260293#011validation-rmse:0.320212\u001b[0m\n",
      "\u001b[31m[13:57:50] src/tree/updater_prune.cc:74: tree pruning end, 1 roots, 16 extra nodes, 8 pruned nodes, max_depth=8\u001b[0m\n",
      "\u001b[31m[113]#011train-rmse:0.259911#011validation-rmse:0.319981\u001b[0m\n",
      "\u001b[31m[13:57:52] src/tree/updater_prune.cc:74: tree pruning end, 1 roots, 32 extra nodes, 38 pruned nodes, max_depth=8\u001b[0m\n",
      "\u001b[31m[114]#011train-rmse:0.259243#011validation-rmse:0.319548\u001b[0m\n",
      "\u001b[31m[13:57:54] src/tree/updater_prune.cc:74: tree pruning end, 1 roots, 18 extra nodes, 20 pruned nodes, max_depth=8\u001b[0m\n",
      "\u001b[31m[115]#011train-rmse:0.258817#011validation-rmse:0.319329\u001b[0m\n",
      "\u001b[31m[13:57:56] src/tree/updater_prune.cc:74: tree pruning end, 1 roots, 22 extra nodes, 30 pruned nodes, max_depth=8\u001b[0m\n",
      "\u001b[31m[116]#011train-rmse:0.258391#011validation-rmse:0.319007\u001b[0m\n",
      "\u001b[31m[13:57:58] src/tree/updater_prune.cc:74: tree pruning end, 1 roots, 16 extra nodes, 8 pruned nodes, max_depth=8\u001b[0m\n",
      "\u001b[31m[117]#011train-rmse:0.258032#011validation-rmse:0.318814\u001b[0m\n",
      "\u001b[31m[13:58:00] src/tree/updater_prune.cc:74: tree pruning end, 1 roots, 16 extra nodes, 26 pruned nodes, max_depth=8\u001b[0m\n",
      "\u001b[31m[118]#011train-rmse:0.257704#011validation-rmse:0.318713\u001b[0m\n",
      "\u001b[31m[13:58:02] src/tree/updater_prune.cc:74: tree pruning end, 1 roots, 16 extra nodes, 16 pruned nodes, max_depth=8\u001b[0m\n",
      "\u001b[31m[119]#011train-rmse:0.257378#011validation-rmse:0.318451\u001b[0m\n",
      "\u001b[31m[13:58:04] src/tree/updater_prune.cc:74: tree pruning end, 1 roots, 22 extra nodes, 36 pruned nodes, max_depth=8\u001b[0m\n",
      "\u001b[31m[120]#011train-rmse:0.256821#011validation-rmse:0.318447\u001b[0m\n",
      "\u001b[31m[13:58:06] src/tree/updater_prune.cc:74: tree pruning end, 1 roots, 22 extra nodes, 32 pruned nodes, max_depth=8\u001b[0m\n",
      "\u001b[31m[121]#011train-rmse:0.256374#011validation-rmse:0.318215\u001b[0m\n",
      "\u001b[31m[13:58:08] src/tree/updater_prune.cc:74: tree pruning end, 1 roots, 16 extra nodes, 32 pruned nodes, max_depth=8\u001b[0m\n",
      "\u001b[31m[122]#011train-rmse:0.256131#011validation-rmse:0.318049\u001b[0m\n",
      "\u001b[31m[13:58:10] src/tree/updater_prune.cc:74: tree pruning end, 1 roots, 16 extra nodes, 4 pruned nodes, max_depth=8\u001b[0m\n",
      "\u001b[31m[123]#011train-rmse:0.255814#011validation-rmse:0.31783\u001b[0m\n",
      "\u001b[31m[13:58:12] src/tree/updater_prune.cc:74: tree pruning end, 1 roots, 24 extra nodes, 44 pruned nodes, max_depth=8\u001b[0m\n",
      "\u001b[31m[124]#011train-rmse:0.255329#011validation-rmse:0.317605\u001b[0m\n",
      "\u001b[31m[13:58:14] src/tree/updater_prune.cc:74: tree pruning end, 1 roots, 20 extra nodes, 38 pruned nodes, max_depth=8\u001b[0m\n",
      "\u001b[31m[125]#011train-rmse:0.25497#011validation-rmse:0.317475\u001b[0m\n",
      "\u001b[31m[13:58:16] src/tree/updater_prune.cc:74: tree pruning end, 1 roots, 16 extra nodes, 38 pruned nodes, max_depth=8\u001b[0m\n",
      "\u001b[31m[126]#011train-rmse:0.254701#011validation-rmse:0.31722\u001b[0m\n",
      "\u001b[31m[13:58:18] src/tree/updater_prune.cc:74: tree pruning end, 1 roots, 30 extra nodes, 54 pruned nodes, max_depth=8\u001b[0m\n",
      "\u001b[31m[127]#011train-rmse:0.254013#011validation-rmse:0.317007\u001b[0m\n",
      "\u001b[31m[13:58:20] src/tree/updater_prune.cc:74: tree pruning end, 1 roots, 16 extra nodes, 30 pruned nodes, max_depth=8\u001b[0m\n",
      "\u001b[31m[128]#011train-rmse:0.253711#011validation-rmse:0.316941\u001b[0m\n",
      "\u001b[31m[13:58:22] src/tree/updater_prune.cc:74: tree pruning end, 1 roots, 26 extra nodes, 20 pruned nodes, max_depth=8\u001b[0m\n",
      "\u001b[31m[129]#011train-rmse:0.253148#011validation-rmse:0.316802\u001b[0m\n",
      "\u001b[31m[13:58:24] src/tree/updater_prune.cc:74: tree pruning end, 1 roots, 32 extra nodes, 40 pruned nodes, max_depth=8\u001b[0m\n",
      "\u001b[31m[130]#011train-rmse:0.252391#011validation-rmse:0.316758\u001b[0m\n",
      "\u001b[31m[13:58:26] src/tree/updater_prune.cc:74: tree pruning end, 1 roots, 20 extra nodes, 20 pruned nodes, max_depth=8\u001b[0m\n",
      "\u001b[31m[131]#011train-rmse:0.252079#011validation-rmse:0.316715\u001b[0m\n",
      "\u001b[31m[13:58:28] src/tree/updater_prune.cc:74: tree pruning end, 1 roots, 18 extra nodes, 30 pruned nodes, max_depth=8\u001b[0m\n",
      "\u001b[31m[132]#011train-rmse:0.251705#011validation-rmse:0.316395\u001b[0m\n",
      "\u001b[31m[13:58:30] src/tree/updater_prune.cc:74: tree pruning end, 1 roots, 16 extra nodes, 32 pruned nodes, max_depth=8\u001b[0m\n",
      "\u001b[31m[133]#011train-rmse:0.251401#011validation-rmse:0.316262\u001b[0m\n",
      "\u001b[31m[13:58:32] src/tree/updater_prune.cc:74: tree pruning end, 1 roots, 16 extra nodes, 16 pruned nodes, max_depth=8\u001b[0m\n",
      "\u001b[31m[134]#011train-rmse:0.251075#011validation-rmse:0.316148\u001b[0m\n",
      "\u001b[31m[13:58:34] src/tree/updater_prune.cc:74: tree pruning end, 1 roots, 20 extra nodes, 18 pruned nodes, max_depth=8\u001b[0m\n",
      "\u001b[31m[135]#011train-rmse:0.250694#011validation-rmse:0.315952\u001b[0m\n",
      "\u001b[31m[13:58:36] src/tree/updater_prune.cc:74: tree pruning end, 1 roots, 16 extra nodes, 18 pruned nodes, max_depth=8\u001b[0m\n",
      "\u001b[31m[136]#011train-rmse:0.250407#011validation-rmse:0.315698\u001b[0m\n",
      "\u001b[31m[13:58:38] src/tree/updater_prune.cc:74: tree pruning end, 1 roots, 22 extra nodes, 42 pruned nodes, max_depth=8\u001b[0m\n",
      "\u001b[31m[137]#011train-rmse:0.249958#011validation-rmse:0.315608\u001b[0m\n",
      "\u001b[31m[13:58:39] src/tree/updater_prune.cc:74: tree pruning end, 1 roots, 40 extra nodes, 26 pruned nodes, max_depth=8\u001b[0m\n",
      "\u001b[31m[138]#011train-rmse:0.249118#011validation-rmse:0.31548\u001b[0m\n",
      "\u001b[31m[13:58:41] src/tree/updater_prune.cc:74: tree pruning end, 1 roots, 42 extra nodes, 32 pruned nodes, max_depth=8\u001b[0m\n",
      "\u001b[31m[139]#011train-rmse:0.248219#011validation-rmse:0.315313\u001b[0m\n",
      "\u001b[31m[13:58:43] src/tree/updater_prune.cc:74: tree pruning end, 1 roots, 20 extra nodes, 30 pruned nodes, max_depth=8\u001b[0m\n",
      "\u001b[31m[140]#011train-rmse:0.247836#011validation-rmse:0.314968\u001b[0m\n",
      "\u001b[31m[13:58:45] src/tree/updater_prune.cc:74: tree pruning end, 1 roots, 22 extra nodes, 36 pruned nodes, max_depth=8\u001b[0m\n",
      "\u001b[31m[141]#011train-rmse:0.247421#011validation-rmse:0.314745\u001b[0m\n",
      "\u001b[31m[13:58:47] src/tree/updater_prune.cc:74: tree pruning end, 1 roots, 18 extra nodes, 34 pruned nodes, max_depth=8\u001b[0m\n",
      "\u001b[31m[142]#011train-rmse:0.246994#011validation-rmse:0.314715\u001b[0m\n",
      "\u001b[31m[13:58:49] src/tree/updater_prune.cc:74: tree pruning end, 1 roots, 16 extra nodes, 26 pruned nodes, max_depth=8\u001b[0m\n",
      "\u001b[31m[143]#011train-rmse:0.246718#011validation-rmse:0.314606\u001b[0m\n",
      "\u001b[31m[13:58:51] src/tree/updater_prune.cc:74: tree pruning end, 1 roots, 22 extra nodes, 28 pruned nodes, max_depth=8\u001b[0m\n",
      "\u001b[31m[144]#011train-rmse:0.246316#011validation-rmse:0.314417\u001b[0m\n",
      "\u001b[31m[13:58:53] src/tree/updater_prune.cc:74: tree pruning end, 1 roots, 22 extra nodes, 48 pruned nodes, max_depth=8\u001b[0m\n",
      "\u001b[31m[145]#011train-rmse:0.245743#011validation-rmse:0.314262\u001b[0m\n",
      "\u001b[31m[13:58:55] src/tree/updater_prune.cc:74: tree pruning end, 1 roots, 16 extra nodes, 20 pruned nodes, max_depth=8\u001b[0m\n",
      "\u001b[31m[146]#011train-rmse:0.245443#011validation-rmse:0.313885\u001b[0m\n",
      "\u001b[31m[13:58:57] src/tree/updater_prune.cc:74: tree pruning end, 1 roots, 24 extra nodes, 52 pruned nodes, max_depth=8\u001b[0m\n",
      "\u001b[31m[147]#011train-rmse:0.24507#011validation-rmse:0.313772\u001b[0m\n",
      "\u001b[31m[13:58:59] src/tree/updater_prune.cc:74: tree pruning end, 1 roots, 30 extra nodes, 40 pruned nodes, max_depth=8\u001b[0m\n",
      "\u001b[31m[148]#011train-rmse:0.244475#011validation-rmse:0.313702\u001b[0m\n",
      "\u001b[31m[13:59:01] src/tree/updater_prune.cc:74: tree pruning end, 1 roots, 32 extra nodes, 34 pruned nodes, max_depth=8\u001b[0m\n",
      "\u001b[31m[149]#011train-rmse:0.243733#011validation-rmse:0.313439\u001b[0m\n",
      "\u001b[31m[13:59:03] src/tree/updater_prune.cc:74: tree pruning end, 1 roots, 26 extra nodes, 26 pruned nodes, max_depth=8\u001b[0m\n",
      "\u001b[31m[150]#011train-rmse:0.243274#011validation-rmse:0.313152\u001b[0m\n",
      "\u001b[31m[13:59:05] src/tree/updater_prune.cc:74: tree pruning end, 1 roots, 16 extra nodes, 52 pruned nodes, max_depth=8\u001b[0m\n",
      "\u001b[31m[151]#011train-rmse:0.243004#011validation-rmse:0.312924\u001b[0m\n",
      "\u001b[31m[13:59:07] src/tree/updater_prune.cc:74: tree pruning end, 1 roots, 20 extra nodes, 16 pruned nodes, max_depth=8\u001b[0m\n",
      "\u001b[31m[152]#011train-rmse:0.242664#011validation-rmse:0.312774\u001b[0m\n",
      "\u001b[31m[13:59:09] src/tree/updater_prune.cc:74: tree pruning end, 1 roots, 14 extra nodes, 18 pruned nodes, max_depth=7\u001b[0m\n",
      "\u001b[31m[153]#011train-rmse:0.242465#011validation-rmse:0.312793\u001b[0m\n",
      "\u001b[31m[13:59:11] src/tree/updater_prune.cc:74: tree pruning end, 1 roots, 16 extra nodes, 46 pruned nodes, max_depth=8\u001b[0m\n",
      "\u001b[31m[154]#011train-rmse:0.242176#011validation-rmse:0.312781\u001b[0m\n",
      "\u001b[31m[13:59:13] src/tree/updater_prune.cc:74: tree pruning end, 1 roots, 16 extra nodes, 26 pruned nodes, max_depth=8\u001b[0m\n",
      "\u001b[31m[155]#011train-rmse:0.241889#011validation-rmse:0.312473\u001b[0m\n",
      "\u001b[31m[13:59:15] src/tree/updater_prune.cc:74: tree pruning end, 1 roots, 26 extra nodes, 20 pruned nodes, max_depth=8\u001b[0m\n",
      "\u001b[31m[156]#011train-rmse:0.241447#011validation-rmse:0.312434\u001b[0m\n",
      "\u001b[31m[13:59:17] src/tree/updater_prune.cc:74: tree pruning end, 1 roots, 18 extra nodes, 32 pruned nodes, max_depth=8\u001b[0m\n",
      "\u001b[31m[157]#011train-rmse:0.241155#011validation-rmse:0.312313\u001b[0m\n",
      "\u001b[31m[13:59:19] src/tree/updater_prune.cc:74: tree pruning end, 1 roots, 16 extra nodes, 20 pruned nodes, max_depth=8\u001b[0m\n",
      "\u001b[31m[158]#011train-rmse:0.240927#011validation-rmse:0.312296\u001b[0m\n",
      "\u001b[31m[13:59:21] src/tree/updater_prune.cc:74: tree pruning end, 1 roots, 18 extra nodes, 14 pruned nodes, max_depth=8\u001b[0m\n",
      "\u001b[31m[159]#011train-rmse:0.240646#011validation-rmse:0.31203\u001b[0m\n",
      "\u001b[31m[13:59:23] src/tree/updater_prune.cc:74: tree pruning end, 1 roots, 12 extra nodes, 18 pruned nodes, max_depth=6\u001b[0m\n",
      "\u001b[31m[160]#011train-rmse:0.240464#011validation-rmse:0.311841\u001b[0m\n",
      "\u001b[31m[13:59:25] src/tree/updater_prune.cc:74: tree pruning end, 1 roots, 20 extra nodes, 26 pruned nodes, max_depth=8\u001b[0m\n",
      "\u001b[31m[161]#011train-rmse:0.240173#011validation-rmse:0.311812\u001b[0m\n",
      "\u001b[31m[13:59:27] src/tree/updater_prune.cc:74: tree pruning end, 1 roots, 16 extra nodes, 16 pruned nodes, max_depth=8\u001b[0m\n",
      "\u001b[31m[162]#011train-rmse:0.239917#011validation-rmse:0.311747\u001b[0m\n",
      "\u001b[31m[13:59:29] src/tree/updater_prune.cc:74: tree pruning end, 1 roots, 16 extra nodes, 12 pruned nodes, max_depth=8\u001b[0m\n",
      "\u001b[31m[163]#011train-rmse:0.239705#011validation-rmse:0.311673\u001b[0m\n",
      "\u001b[31m[13:59:31] src/tree/updater_prune.cc:74: tree pruning end, 1 roots, 24 extra nodes, 48 pruned nodes, max_depth=8\u001b[0m\n",
      "\u001b[31m[164]#011train-rmse:0.239246#011validation-rmse:0.311658\u001b[0m\n",
      "\u001b[31m[13:59:33] src/tree/updater_prune.cc:74: tree pruning end, 1 roots, 18 extra nodes, 22 pruned nodes, max_depth=8\u001b[0m\n",
      "\u001b[31m[165]#011train-rmse:0.238946#011validation-rmse:0.311676\u001b[0m\n",
      "\u001b[31m[13:59:35] src/tree/updater_prune.cc:74: tree pruning end, 1 roots, 16 extra nodes, 10 pruned nodes, max_depth=8\u001b[0m\n",
      "\u001b[31m[166]#011train-rmse:0.238697#011validation-rmse:0.311597\u001b[0m\n",
      "\u001b[31m[13:59:37] src/tree/updater_prune.cc:74: tree pruning end, 1 roots, 16 extra nodes, 32 pruned nodes, max_depth=8\u001b[0m\n",
      "\u001b[31m[167]#011train-rmse:0.238432#011validation-rmse:0.311453\u001b[0m\n",
      "\u001b[31m[13:59:39] src/tree/updater_prune.cc:74: tree pruning end, 1 roots, 16 extra nodes, 26 pruned nodes, max_depth=8\u001b[0m\n",
      "\u001b[31m[168]#011train-rmse:0.238189#011validation-rmse:0.311347\u001b[0m\n",
      "\u001b[31m[13:59:41] src/tree/updater_prune.cc:74: tree pruning end, 1 roots, 18 extra nodes, 26 pruned nodes, max_depth=8\u001b[0m\n",
      "\u001b[31m[169]#011train-rmse:0.237947#011validation-rmse:0.311245\u001b[0m\n",
      "\u001b[31m[13:59:43] src/tree/updater_prune.cc:74: tree pruning end, 1 roots, 16 extra nodes, 12 pruned nodes, max_depth=8\u001b[0m\n",
      "\u001b[31m[170]#011train-rmse:0.237677#011validation-rmse:0.311106\u001b[0m\n",
      "\u001b[31m[13:59:45] src/tree/updater_prune.cc:74: tree pruning end, 1 roots, 14 extra nodes, 14 pruned nodes, max_depth=7\u001b[0m\n",
      "\u001b[31m[171]#011train-rmse:0.237505#011validation-rmse:0.311107\u001b[0m\n",
      "\u001b[31m[13:59:47] src/tree/updater_prune.cc:74: tree pruning end, 1 roots, 16 extra nodes, 34 pruned nodes, max_depth=8\u001b[0m\n",
      "\u001b[31m[172]#011train-rmse:0.237261#011validation-rmse:0.311077\u001b[0m\n",
      "\u001b[31m[13:59:49] src/tree/updater_prune.cc:74: tree pruning end, 1 roots, 4 extra nodes, 28 pruned nodes, max_depth=2\u001b[0m\n",
      "\u001b[31m[173]#011train-rmse:0.23718#011validation-rmse:0.311083\u001b[0m\n",
      "\u001b[31m[13:59:51] src/tree/updater_prune.cc:74: tree pruning end, 1 roots, 16 extra nodes, 20 pruned nodes, max_depth=8\u001b[0m\n",
      "\u001b[31m[174]#011train-rmse:0.236919#011validation-rmse:0.311\u001b[0m\n",
      "\u001b[31m[13:59:53] src/tree/updater_prune.cc:74: tree pruning end, 1 roots, 16 extra nodes, 36 pruned nodes, max_depth=8\u001b[0m\n",
      "\u001b[31m[175]#011train-rmse:0.236603#011validation-rmse:0.310796\u001b[0m\n",
      "\u001b[31m[13:59:55] src/tree/updater_prune.cc:74: tree pruning end, 1 roots, 8 extra nodes, 32 pruned nodes, max_depth=4\u001b[0m\n",
      "\u001b[31m[176]#011train-rmse:0.236523#011validation-rmse:0.310691\u001b[0m\n",
      "\u001b[31m[13:59:56] src/tree/updater_prune.cc:74: tree pruning end, 1 roots, 14 extra nodes, 16 pruned nodes, max_depth=6\u001b[0m\n",
      "\u001b[31m[177]#011train-rmse:0.236299#011validation-rmse:0.310642\u001b[0m\n",
      "\u001b[31m[13:59:58] src/tree/updater_prune.cc:74: tree pruning end, 1 roots, 18 extra nodes, 22 pruned nodes, max_depth=8\u001b[0m\n",
      "\u001b[31m[178]#011train-rmse:0.236025#011validation-rmse:0.310709\u001b[0m\n",
      "\u001b[31m[14:00:00] src/tree/updater_prune.cc:74: tree pruning end, 1 roots, 16 extra nodes, 8 pruned nodes, max_depth=8\u001b[0m\n",
      "\u001b[31m[179]#011train-rmse:0.235751#011validation-rmse:0.310707\u001b[0m\n",
      "\u001b[31m[14:00:02] src/tree/updater_prune.cc:74: tree pruning end, 1 roots, 18 extra nodes, 28 pruned nodes, max_depth=8\u001b[0m\n",
      "\u001b[31m[180]#011train-rmse:0.235434#011validation-rmse:0.310597\u001b[0m\n",
      "\u001b[31m[14:00:04] src/tree/updater_prune.cc:74: tree pruning end, 1 roots, 8 extra nodes, 28 pruned nodes, max_depth=4\u001b[0m\n",
      "\u001b[31m[181]#011train-rmse:0.235326#011validation-rmse:0.310501\u001b[0m\n",
      "\u001b[31m[14:00:06] src/tree/updater_prune.cc:74: tree pruning end, 1 roots, 18 extra nodes, 20 pruned nodes, max_depth=8\u001b[0m\n",
      "\u001b[31m[182]#011train-rmse:0.235013#011validation-rmse:0.310501\u001b[0m\n",
      "\u001b[31m[14:00:08] src/tree/updater_prune.cc:74: tree pruning end, 1 roots, 16 extra nodes, 16 pruned nodes, max_depth=8\u001b[0m\n",
      "\u001b[31m[183]#011train-rmse:0.234759#011validation-rmse:0.310384\u001b[0m\n",
      "\u001b[31m[14:00:10] src/tree/updater_prune.cc:74: tree pruning end, 1 roots, 14 extra nodes, 20 pruned nodes, max_depth=7\u001b[0m\n",
      "\u001b[31m[184]#011train-rmse:0.234584#011validation-rmse:0.310453\u001b[0m\n",
      "\u001b[31m[14:00:12] src/tree/updater_prune.cc:74: tree pruning end, 1 roots, 12 extra nodes, 16 pruned nodes, max_depth=6\u001b[0m\n",
      "\u001b[31m[185]#011train-rmse:0.234431#011validation-rmse:0.310472\u001b[0m\n",
      "\u001b[31m[14:00:14] src/tree/updater_prune.cc:74: tree pruning end, 1 roots, 4 extra nodes, 22 pruned nodes, max_depth=2\u001b[0m\n",
      "\u001b[31m[186]#011train-rmse:0.23437#011validation-rmse:0.310517\u001b[0m\n",
      "\u001b[31m[14:00:16] src/tree/updater_prune.cc:74: tree pruning end, 1 roots, 16 extra nodes, 20 pruned nodes, max_depth=8\u001b[0m\n",
      "\u001b[31m[187]#011train-rmse:0.234128#011validation-rmse:0.310378\u001b[0m\n",
      "\u001b[31m[14:00:18] src/tree/updater_prune.cc:74: tree pruning end, 1 roots, 18 extra nodes, 18 pruned nodes, max_depth=8\u001b[0m\n",
      "\u001b[31m[188]#011train-rmse:0.233827#011validation-rmse:0.310302\u001b[0m\n",
      "\u001b[31m[14:00:20] src/tree/updater_prune.cc:74: tree pruning end, 1 roots, 14 extra nodes, 22 pruned nodes, max_depth=7\u001b[0m\n",
      "\u001b[31m[189]#011train-rmse:0.233593#011validation-rmse:0.31037\u001b[0m\n",
      "\u001b[31m[14:00:22] src/tree/updater_prune.cc:74: tree pruning end, 1 roots, 14 extra nodes, 28 pruned nodes, max_depth=7\u001b[0m\n",
      "\u001b[31m[190]#011train-rmse:0.233419#011validation-rmse:0.310314\u001b[0m\n",
      "\u001b[31m[14:00:24] src/tree/updater_prune.cc:74: tree pruning end, 1 roots, 18 extra nodes, 14 pruned nodes, max_depth=8\u001b[0m\n",
      "\u001b[31m[191]#011train-rmse:0.233161#011validation-rmse:0.310343\u001b[0m\n",
      "\u001b[31m[14:00:26] src/tree/updater_prune.cc:74: tree pruning end, 1 roots, 0 extra nodes, 34 pruned nodes, max_depth=0\u001b[0m\n",
      "\u001b[31m[192]#011train-rmse:0.233161#011validation-rmse:0.310342\u001b[0m\n",
      "\u001b[31m[14:00:28] src/tree/updater_prune.cc:74: tree pruning end, 1 roots, 10 extra nodes, 36 pruned nodes, max_depth=4\u001b[0m\n",
      "\u001b[31m[193]#011train-rmse:0.23299#011validation-rmse:0.310351\u001b[0m\n",
      "\u001b[31m[14:00:30] src/tree/updater_prune.cc:74: tree pruning end, 1 roots, 22 extra nodes, 26 pruned nodes, max_depth=8\u001b[0m\n",
      "\u001b[31m[194]#011train-rmse:0.232597#011validation-rmse:0.310478\u001b[0m\n",
      "\u001b[31m[14:00:32] src/tree/updater_prune.cc:74: tree pruning end, 1 roots, 20 extra nodes, 34 pruned nodes, max_depth=8\u001b[0m\n",
      "\u001b[31m[195]#011train-rmse:0.232288#011validation-rmse:0.310348\u001b[0m\n",
      "\u001b[31m[14:00:34] src/tree/updater_prune.cc:74: tree pruning end, 1 roots, 16 extra nodes, 18 pruned nodes, max_depth=8\u001b[0m\n",
      "\u001b[31m[196]#011train-rmse:0.23203#011validation-rmse:0.310237\u001b[0m\n",
      "\u001b[31m[14:00:36] src/tree/updater_prune.cc:74: tree pruning end, 1 roots, 22 extra nodes, 38 pruned nodes, max_depth=8\u001b[0m\n",
      "\u001b[31m[197]#011train-rmse:0.231647#011validation-rmse:0.310158\u001b[0m\n",
      "\u001b[31m[14:00:38] src/tree/updater_prune.cc:74: tree pruning end, 1 roots, 22 extra nodes, 44 pruned nodes, max_depth=8\u001b[0m\n",
      "\u001b[31m[198]#011train-rmse:0.231317#011validation-rmse:0.309928\u001b[0m\n",
      "\u001b[31m[14:00:40] src/tree/updater_prune.cc:74: tree pruning end, 1 roots, 16 extra nodes, 36 pruned nodes, max_depth=8\u001b[0m\n",
      "\u001b[31m[199]#011train-rmse:0.231078#011validation-rmse:0.309878\u001b[0m\n",
      "Billable seconds: 500\n"
     ]
    }
   ],
   "source": [
    "# TODO: Create a new estimator object attached to the best training job found during hyperparameter tuning\n",
    "\n",
    "xgb_attached = sagemaker.estimator.Estimator.attach(xgb_hyperparameter_tuner.best_training_job())\n"
   ]
  },
  {
   "cell_type": "markdown",
   "metadata": {},
   "source": [
    "Now that we have an estimator object attached to the correct training job, we can proceed as we normally would and create a transformer object."
   ]
  },
  {
   "cell_type": "code",
   "execution_count": 28,
   "metadata": {},
   "outputs": [],
   "source": [
    "# TODO: Create a transformer object from the attached estimator. Using an instance count of 1 and an instance type of ml.m4.xlarge\n",
    "#       should be more than enough.\n",
    "\n",
    "xgb_transformer = xgb_attached.transformer(instance_count=1, instance_type='ml.m4.xlarge')"
   ]
  },
  {
   "cell_type": "markdown",
   "metadata": {},
   "source": [
    "Next we actually perform the transform job. When doing so we need to make sure to specify the type of data we are sending so that it is serialized correctly in the background. In our case we are providing our model with csv data so we specify `text/csv`. Also, if the test data that we have provided is too large to process all at once then we need to specify how the data file should be split up. Since each line is a single entry in our data set we tell SageMaker that it can split the input on each line."
   ]
  },
  {
   "cell_type": "code",
   "execution_count": 34,
   "metadata": {},
   "outputs": [],
   "source": [
    "# TODO: Start the transform job. Make sure to specify the content type and the split type of the test data.\n",
    "xgb_transformer.transform(test_location, content_type='text/csv', split_type='Line')"
   ]
  },
  {
   "cell_type": "markdown",
   "metadata": {},
   "source": [
    "Currently the transform job is running but it is doing so in the background. Since we wish to wait until the transform job is done and we would like a bit of feedback we can run the `wait()` method."
   ]
  },
  {
   "cell_type": "code",
   "execution_count": 32,
   "metadata": {},
   "outputs": [],
   "source": [
    "pd.DataFrame(test_X).to_csv(os.path.join(data_dir, 'test.csv'), header=False, index=False)\n",
    "test_location = session.upload_data(os.path.join(data_dir, 'test.csv'), key_prefix=prefix)"
   ]
  },
  {
   "cell_type": "code",
   "execution_count": 35,
   "metadata": {},
   "outputs": [
    {
     "name": "stdout",
     "output_type": "stream",
     "text": [
      "...............................................!\n"
     ]
    }
   ],
   "source": [
    "xgb_transformer.wait()"
   ]
  },
  {
   "cell_type": "markdown",
   "metadata": {},
   "source": [
    "Now the transform job has executed and the result, the estimated sentiment of each review, has been saved on S3. Since we would rather work on this file locally we can perform a bit of notebook magic to copy the file to the `data_dir`."
   ]
  },
  {
   "cell_type": "code",
   "execution_count": null,
   "metadata": {},
   "outputs": [],
   "source": [
    "!aws s3 cp --recursive $xgb_transformer.output_path $data_dir"
   ]
  },
  {
   "cell_type": "markdown",
   "metadata": {},
   "source": [
    "The last step is now to read in the output from our model, convert the output to something a little more usable, in this case we want the sentiment to be either `1` (positive) or `0` (negative), and then compare to the ground truth labels."
   ]
  },
  {
   "cell_type": "code",
   "execution_count": null,
   "metadata": {},
   "outputs": [],
   "source": [
    "predictions = pd.read_csv(os.path.join(data_dir, 'test.csv.out'), header=None)\n",
    "predictions = [round(num) for num in predictions.squeeze().values]"
   ]
  },
  {
   "cell_type": "code",
   "execution_count": null,
   "metadata": {},
   "outputs": [],
   "source": [
    "from sklearn.metrics import accuracy_score\n",
    "accuracy_score(test_y, predictions)"
   ]
  },
  {
   "cell_type": "markdown",
   "metadata": {},
   "source": [
    "## Optional: Clean up\n",
    "\n",
    "The default notebook instance on SageMaker doesn't have a lot of excess disk space available. As you continue to complete and execute notebooks you will eventually fill up this disk space, leading to errors which can be difficult to diagnose. Once you are completely finished using a notebook it is a good idea to remove the files that you created along the way. Of course, you can do this from the terminal or from the notebook hub if you would like. The cell below contains some commands to clean up the created files from within the notebook."
   ]
  },
  {
   "cell_type": "code",
   "execution_count": null,
   "metadata": {},
   "outputs": [],
   "source": [
    "# First we will remove all of the files contained in the data_dir directory\n",
    "!rm $data_dir/*\n",
    "\n",
    "# And then we delete the directory itself\n",
    "!rmdir $data_dir\n",
    "\n",
    "# Similarly we will remove the files in the cache_dir directory and the directory itself\n",
    "!rm $cache_dir/*\n",
    "!rmdir $cache_dir"
   ]
  },
  {
   "cell_type": "code",
   "execution_count": null,
   "metadata": {},
   "outputs": [],
   "source": []
  }
 ],
 "metadata": {
  "kernelspec": {
   "display_name": "conda_python3",
   "language": "python",
   "name": "conda_python3"
  },
  "language_info": {
   "codemirror_mode": {
    "name": "ipython",
    "version": 3
   },
   "file_extension": ".py",
   "mimetype": "text/x-python",
   "name": "python",
   "nbconvert_exporter": "python",
   "pygments_lexer": "ipython3",
   "version": "3.6.5"
  }
 },
 "nbformat": 4,
 "nbformat_minor": 2
}
